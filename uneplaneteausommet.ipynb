{
 "cells": [
  {
   "cell_type": "code",
   "execution_count": 1,
   "metadata": {
    "collapsed": true
   },
   "outputs": [],
   "source": [
    "import numpy as np\n",
    "import matplotlib.pyplot as plt\n",
    "%matplotlib inline\n",
    "\n",
    "import json\n",
    "import folium"
   ]
  },
  {
   "cell_type": "markdown",
   "metadata": {},
   "source": [
    "# Une planète au sommet\n",
    "\n",
    "Il est difficile de sentir les dimensions réelles du système solaire. Une façon d'en avoir une idée est de construire un modèle réduit du système solaire en plaçant les planètes à des distances respectant les proportions. \n",
    "\n",
    "Si on veut aussi respecter les proportions des diamètres des planètes et du soleil, ont doit alors avoir un très grand terrain plat et vide...  \n",
    "voir ce projet réalisé dans le désert du Névada: [To Scale: The Solar System](https://www.youtube.com/watch?v=zR3Igc3Rhfg) (vidéo youtube).\n",
    "\n",
    "à Grenoble (et en France ?), il n'y a malheureusement pas d'endroit pour faire cela, mais on a des montagnes!\n",
    "\n",
    "La question est donc:  \n",
    "_Peut-on trouver une montagne depuis laquelle on observe 8 (9, ou 10 ?) autre sommets  dont les distances respectent les proportions des rayons des orbites des planètes ??_\n",
    "\n",
    "C'est un joli problème qu'il est possible de résoudre parce que la liste des coordonnées des sommets est disponible (open street map). "
   ]
  },
  {
   "cell_type": "markdown",
   "metadata": {},
   "source": [
    "## Liste des sommets autour de grenoble\n",
    "\n",
    "Les données sont issus de OpenStreetMap. L'outil [overpass-turbo](http://overpass-turbo.eu/) permet de faire très simplement une requête sur la base de donnée en choissisant une zone de recherche. Le sommets sont référencés comme _Peak_.\n",
    "\n",
    "voir la requête utilisée : http://overpass-turbo.eu/s/qCF\n",
    "\n",
    "On obtient un _json_ avec les coordonnées GPS, le nom, l'altitude."
   ]
  },
  {
   "cell_type": "code",
   "execution_count": 2,
   "metadata": {},
   "outputs": [
    {
     "data": {
      "text/plain": [
       "1898"
      ]
     },
     "execution_count": 2,
     "metadata": {},
     "output_type": "execute_result"
    }
   ],
   "source": [
    "with open('./elevation_data/sommets_gre_medium.json') as data_file:\n",
    "    datasommets = json.load(data_file)\n",
    "\n",
    "datasommets = datasommets['elements']\n",
    "\n",
    "len( datasommets )"
   ]
  },
  {
   "cell_type": "code",
   "execution_count": 3,
   "metadata": {
    "collapsed": true,
    "scrolled": false
   },
   "outputs": [],
   "source": [
    "\"\"\" extrait le nom du sommet pour en faire la clé d'un dico\n",
    "    + supprime les doublons et sommet sans nom\n",
    "\"\"\"\n",
    "dicosommets = {}\n",
    "for sommet in datasommets :\n",
    "    if 'name' in sommet['tags']:\n",
    "        name =  sommet['tags']['name']\n",
    "        if name not in dicosommets:\n",
    "            dicosommets[ name ] = sommet"
   ]
  },
  {
   "cell_type": "code",
   "execution_count": 4,
   "metadata": {},
   "outputs": [
    {
     "name": "stdout",
     "output_type": "stream",
     "text": [
      "Tete Entre Deus Sauts,  plan du rey tour telecom,  Croix de la Cochette,  Grande Rochère,  Tête de la Garde,  Pointe des Ratissières,  Aiguille de Savine,  Croix de la Coche,  La Croix de Cassini,  Dôme de Chasseforêt,  Pointe des Aravis,  Tête d'Oréac,  Le Clocher de Planpraz,  Quota 3047,  Cime du Sambuis,  Pointe des Plates des Chamois,  Le Sénépi,  Pointe de la Grande Combe,  Pointe du Demi,  Rocher de la Grande Balme,  Rocher de l'Encoula,  Pic Turbat,  Le Grand Plateau,  Mont Allagrogia,  Mont Brouillard,  Mont Tondu,  Pointe Rasin,  Le Simous,  Punta Melmise,  Cime de Clot Châtel,  Cime du Petit Sauvage,  Sommet des Anges,  Rocher de Combau,  Monte Fraiteve,  Épaule Nord Ouest des Bans,  Relais du Mont du Chat,  Triangle du Tacul,  Pointe des Auges,  Monte Ruetas,  Dôme de Bellefont,  La Grande Sure,  Légette du Mirantin,  Punta Dormillouse,  Aiguille Rousse,  Aiguille du Midi,  Petit Pelvoux,  Ratier,  Mont Grapillon,  Granta Parey,  Le Chenaillet,  Charande,  Brèche Poccard,  Petit Flambeau,  Pic du Dragon,  L'Aiguillon,  Pic du Jaillon,  Aiguille Sans Nom,  Pointe du Lavachet,  Petite Lance du Crozet,  Pic Saint-Michel,  Les Ourgieres,  La Roche Brune,  Le Cimon,  Pic de l'Oullion,  Becca Pouignenta,  Grand Veymont,  Pointe du Grand Vallon,  La Chal,  Pic de Mirebel,  Aiguille Dulong de Rosnay,  Grande Aiguille,  Le Tabor 2389 m,  La Buffe,  Le Roc Noir,  Dôme de la Gandolière,  Pointe Castelnau,  Mont Favre,  Aiguillette des Houches,  Mont Fort du Bœuf,  La Cucumelle\n"
     ]
    }
   ],
   "source": [
    "# Liste de quelque sommets \n",
    "print( ',  '.join( [x for x in dicosommets.keys()][:80] ) )"
   ]
  },
  {
   "cell_type": "code",
   "execution_count": 5,
   "metadata": {},
   "outputs": [
    {
     "name": "stdout",
     "output_type": "stream",
     "text": [
      "Mont Blanc - Monte Bianco (4808m), Monte Bianco di Courmayeur - Mont Blanc de Courmayer (4765m), Rocher de la Tournette (4677m), Petite Bosse (4547m), Grande Bosse (4513m), Mont Maudit (4465m), Picco Luigi Amedeo (4460m), Dôme du Goûter (4304m), Pointe Mieulet (4287m), Pointe Bayeux (4258m)\n"
     ]
    }
   ],
   "source": [
    "# Trié par altitude\n",
    "import re\n",
    "\n",
    "def get_alt( s ):\n",
    "    if 'ele' in s['tags']:\n",
    "        elevation = s['tags']['ele']\n",
    "        elevation = re.sub(\"m\", \"\", elevation)\n",
    "        elevation = re.sub(\",\", \".\", elevation)\n",
    "        return float( elevation )\n",
    "    else: \n",
    "        return 0\n",
    "\n",
    "sort_alt = sorted( dicosommets.items(), key=lambda x: get_alt( x[1] ), reverse=True )\n",
    "\n",
    "print( ', '.join( [ '%s (%im)'%(x[0], get_alt( x[1] )) for x in sort_alt[:10]] ) )"
   ]
  },
  {
   "cell_type": "markdown",
   "metadata": {},
   "source": [
    "## Calcul des distances sur une sphère\n",
    "\n",
    "Un peu de trigonomètrie permet de calculer la distance entre deux points (A, B) sur une sphère (de centre O). On cherche l'angle entre les deux rayons, $\\vec {OA}$ et $\\vec {OB}$, avec le produit scalaire de leurs vecteurs. Voir [le schéma](./images/note_calcul_distance_sphere.pdf)."
   ]
  },
  {
   "cell_type": "code",
   "execution_count": 6,
   "metadata": {
    "collapsed": true
   },
   "outputs": [],
   "source": [
    "R = 6371.009 # km, rayon moyen de la terre\n",
    "\n",
    "def torad( theta ):\n",
    "    return theta * np.pi / 180.0\n",
    "\n",
    "def getdistance_trigo( lat1, lon1, lat2, lon2 ):\n",
    "    lat1, lon1, lat2, lon2 = [ torad(theta) for theta in [lat1, lon1, lat2, lon2] ]\n",
    "    cosTheta =  np.sin( lat1 )*np.sin( lat2 ) + np.cos( lat1 )*np.cos( lat2 )*np.cos( lon2-lon1 )\n",
    "    \n",
    "    cosTheta = np.array( cosTheta )\n",
    "    cosTheta[ cosTheta> 1 ] = 1  # debug .... cas si lat1==lat2 et lon1 == lon2\n",
    "    \n",
    "    theta = np.arccos( cosTheta )\n",
    "    \n",
    "    return theta*R"
   ]
  },
  {
   "cell_type": "markdown",
   "metadata": {},
   "source": [
    "Rq: On retrouve bien l'ancienne définition du mètre: dix millionème (e-7) du quart du méridien terrestre, (mais pas exactement...?) :"
   ]
  },
  {
   "cell_type": "code",
   "execution_count": 7,
   "metadata": {},
   "outputs": [
    {
     "data": {
      "text/plain": [
       "10007.557535177228"
      ]
     },
     "execution_count": 7,
     "metadata": {},
     "output_type": "execute_result"
    }
   ],
   "source": [
    "getdistance_trigo( 0, 0, 90, 90 )"
   ]
  },
  {
   "cell_type": "markdown",
   "metadata": {},
   "source": [
    "Seconde remarque : il existe une formule standard pour cela : [Haversine formula](https://en.wikipedia.org/wiki/Haversine_formula), qui donne le même résultat, mais historiquement utilisée pour limiter les erreurs d'approximations. "
   ]
  },
  {
   "cell_type": "code",
   "execution_count": 8,
   "metadata": {},
   "outputs": [
    {
     "data": {
      "text/plain": [
       "6096.6333950173703"
      ]
     },
     "execution_count": 8,
     "metadata": {},
     "output_type": "execute_result"
    }
   ],
   "source": [
    "# distance Grenoble - New York\n",
    "getdistance_trigo( 45.166672, 5.71667 , 43.2994285, -74.2179326 )"
   ]
  },
  {
   "cell_type": "markdown",
   "metadata": {},
   "source": [
    "# Recherche systématique"
   ]
  },
  {
   "cell_type": "markdown",
   "metadata": {},
   "source": [
    "![schéma sommet - planète ](./images/sch_distance_planet.png)\n",
    "\n",
    "Les étapes du calculs, dans l'ordre:\n",
    "- Un sommet est défini comme centre, c.a.d. le soleil ( ☉ ).\n",
    "- Les distances de tout les sommets depuis ce centre sont calculées (et triée)\n",
    "- Pour une distance donnée (km), on cherche le sommet le plus proche. \n",
    "- Pour un facteur de proportion donnée ( c.a.d. la distance correspondant à la Terre, 🜨 ), on trouve les sommets les plus proches pour chaque planète. \n",
    "- Donc pour un centre 'soleil' et un facteur de proportion donnés, on calcul la somme des erreurs sur toutes les planètes.\n",
    "- Pour un centre 'soleil' donné, le facteur de proportion donnant l'erreur totale minimale est recherchant (en testant tout les sommets proche)\n",
    "\n",
    "- Les sommets autour de Grenoble donnant les plus petites erreurs comme soleil sont recherchés"
   ]
  },
  {
   "cell_type": "markdown",
   "metadata": {},
   "source": [
    "### Test de visibité\n",
    "voir le notebook [is_visible.ipynb](./is_visible.ipynb) qui détail le fonctionnement de la fonction. "
   ]
  },
  {
   "cell_type": "code",
   "execution_count": 9,
   "metadata": {
    "collapsed": true
   },
   "outputs": [],
   "source": [
    "from is_visible import is_visible"
   ]
  },
  {
   "cell_type": "code",
   "execution_count": 166,
   "metadata": {},
   "outputs": [
    {
     "data": {
      "text/plain": [
       "True"
      ]
     },
     "execution_count": 166,
     "metadata": {},
     "output_type": "execute_result"
    }
   ],
   "source": [
    "# - test - \n",
    "A = \"L'Écoutoux\" #'Moucherotte'\n",
    "lonA, latA = dicosommets[A]['lon'], dicosommets[A]['lat']\n",
    "\n",
    "B = \"Aiguille de Quaix\" # \"Pic de l'Étendard\" #\"Saint-Eynard\" #'Mont Rachais'\n",
    "lonB, latB = dicosommets[B]['lon'], dicosommets[B]['lat']\n",
    "\n",
    "is_visible( latA, lonA, latB, lonB )"
   ]
  },
  {
   "cell_type": "markdown",
   "metadata": {},
   "source": [
    "### Recherche à partir d'un centre"
   ]
  },
  {
   "cell_type": "code",
   "execution_count": 13,
   "metadata": {
    "collapsed": true
   },
   "outputs": [],
   "source": [
    "def get_alldistfromcoords( lat_Sol, lon_Sol, visibleonly=True  ):\n",
    "    \"\"\" Calcul toutes les distances des sommets par rapport au point indiqué\n",
    "        lat_Sol, lon_Sol : lattitude et longitude (en deg decimal) du point\n",
    "        \n",
    "        visibleonly : permet de deactiver la recherche de visibilité si False\n",
    "        return: liste nom des sommets, liste des distances - triées\n",
    "    \"\"\"\n",
    "    distancesAuSoleil = {}\n",
    "    for name, sommet in dicosommets.items():\n",
    "        lat, lon = sommet['lat'], sommet['lon']\n",
    "        if not visibleonly or is_visible( lat_Sol, lon_Sol, lat, lon ): \n",
    "            distancesAuSoleil[name] = getdistance_trigo( lat_Sol, lon_Sol, lat, lon )\n",
    "        \n",
    "    sorted_data = sorted( distancesAuSoleil.items(), key=lambda x:x[1] )\n",
    "    sorted_name, sorted_dist = zip( *sorted_data )\n",
    "    \n",
    "    return sorted_name, np.array( sorted_dist )\n",
    "\n",
    "def get_alldistfromsun( soleil ):\n",
    "    \"\"\"  même chose mais avec la clé 'soleil' en entrée\n",
    "    \"\"\"\n",
    "    lat_Sol = dicosommets[soleil]['lat']\n",
    "    lon_Sol = dicosommets[soleil]['lon']\n",
    "\n",
    "    return get_alldistfromcoords( lat_Sol, lon_Sol  )"
   ]
  },
  {
   "cell_type": "code",
   "execution_count": 14,
   "metadata": {
    "collapsed": true
   },
   "outputs": [],
   "source": [
    "def findnearest( sorted_dist, d ):\n",
    "    \"\"\" fonction qui permet de trouver le sommet le plus proche d'une certain distance d\n",
    "        p/r au sommet 'soleil'\n",
    "        return : indice dans la liste\n",
    "    \"\"\"\n",
    "    all_distances  = np.abs( sorted_dist - d ) \n",
    "    return np.argmin( all_distances )\n",
    "\n",
    "# Calcul de l'erreur :\n",
    "def get_error(  sorted_dist, d, i ):\n",
    "    return 100*np.abs( sorted_dist[i] - d ) /( d + sorted_dist[i] )*2\n",
    "\n",
    "# Cherche le plus proche, et retourne l'erreur\n",
    "def find_and_geterror( sorted_dist, d ):\n",
    "    i = findnearest( sorted_dist, d )\n",
    "    return get_error(  sorted_dist, d, i )\n",
    "\n",
    "# Cherche le plus proche, et retourne le nom, l'erreur, et la distance du sommet\n",
    "def findnearest_disp( sorted_name, sorted_dist, d ):\n",
    "    i = findnearest( sorted_dist, d )\n",
    "    error = get_error(  sorted_dist, d, i )\n",
    "    name = sorted_name[i]\n",
    "    \n",
    "    return name, error, sorted_dist[i]"
   ]
  },
  {
   "cell_type": "code",
   "execution_count": 15,
   "metadata": {},
   "outputs": [
    {
     "name": "stdout",
     "output_type": "stream",
     "text": [
      "Le sommet visible à 25.00km du Moucherotte est Petite Lance de Domène avec une erreur de 0.2%\n"
     ]
    }
   ],
   "source": [
    "# - test-\n",
    "soleil = 'Moucherotte' \n",
    "#soleil = 'La Grande Moucherolle' \n",
    "#soleil = 'Grand Veymont'\n",
    "distance_test = 25 # km\n",
    "\n",
    "sorted_name, sorted_dist = get_alldistfromsun( soleil )\n",
    "i = findnearest( sorted_dist,  distance_test )\n",
    "error = get_error( sorted_dist, distance_test, i )\n",
    "\n",
    "print( 'Le sommet visible à %.2fkm du %s est %s avec une erreur de %.1f%%' % (distance_test, soleil, sorted_name[ i  ], error) )"
   ]
  },
  {
   "cell_type": "code",
   "execution_count": 16,
   "metadata": {},
   "outputs": [
    {
     "data": {
      "text/plain": [
       "0.24062613103580685"
      ]
     },
     "execution_count": 16,
     "metadata": {},
     "output_type": "execute_result"
    }
   ],
   "source": [
    "find_and_geterror( sorted_dist, distance_test )"
   ]
  },
  {
   "cell_type": "markdown",
   "metadata": {},
   "source": [
    "### Erreur pour toutes les planètes\n",
    "Rayon des orbites (demi-grand axe) en unité astronomique, c.a.d. la distance Terre-Soleil :"
   ]
  },
  {
   "cell_type": "code",
   "execution_count": 223,
   "metadata": {
    "collapsed": true
   },
   "outputs": [],
   "source": [
    "planetes_noms = ['Mercure', 'Vénus', 'Terre', 'Mars', 'Cérès', 'Jupiter', 'Saturne', 'Uranus', 'Neptune', 'Pluton']\n",
    "planetes_UA = [ 0.38710, 0.72333, 1, 1.52366, 2.7665, 5.20336, 9.53707, 19.1913, 30.0690, 39.4817 ]\n",
    "\n",
    "planets_diameters = {'Cérès': 974 ,\n",
    "                     'Jupiter': 139822,\n",
    "                     'Mars': 6779,\n",
    "                     'Mercure': 4879,\n",
    "                     'Neptune': 49244,\n",
    "                     'Pluton': 2374,\n",
    "                     'Saturne': 116464,\n",
    "                     'Terre': 12742,\n",
    "                     'Uranus': 50724,\n",
    "                     'Vénus': 12104, 'Soleil':1.3914e6} # en km\n",
    "orbite_terre = 149.6e6 # km"
   ]
  },
  {
   "cell_type": "code",
   "execution_count": 228,
   "metadata": {
    "collapsed": true
   },
   "outputs": [],
   "source": [
    "def get_planet_size( planet, d_Terre ):\n",
    "    \"\"\" Calcul le diamètre des planètes  en centimètre\n",
    "        d_Terre est la distance soleil-terre du modèle en kilomètre\n",
    "    \"\"\"\n",
    "    return planets_diameters[planet] * d_Terre/orbite_terre * 1e5  # en cm"
   ]
  },
  {
   "cell_type": "code",
   "execution_count": 229,
   "metadata": {},
   "outputs": [
    {
     "data": {
      "text/plain": [
       "1.4990588235294116"
      ]
     },
     "execution_count": 229,
     "metadata": {},
     "output_type": "execute_result"
    }
   ],
   "source": [
    "get_planet_size( 'Terre', 0.176 )"
   ]
  },
  {
   "cell_type": "code",
   "execution_count": 230,
   "metadata": {
    "collapsed": true
   },
   "outputs": [],
   "source": [
    "def get_errorsum( sorted_dist, d_Terre ):\n",
    "    \"\"\" Calcul la somme des erreurs pour toutes les planètes, avec un facteur de conversion donnee\n",
    "        d_Terre (km) est la distance équivalent à l'orbite terrestre (1UA)\n",
    "    \"\"\"\n",
    "    errors = [ find_and_geterror( sorted_dist, d_UA * d_Terre ) for d_UA in  planetes_UA ]\n",
    "    return sum( errors )"
   ]
  },
  {
   "cell_type": "code",
   "execution_count": 231,
   "metadata": {},
   "outputs": [
    {
     "data": {
      "image/png": "[encoded data removed]",
      "text/plain": [
       "<matplotlib.figure.Figure at 0x7f8f83d44a20>"
      ]
     },
     "metadata": {},
     "output_type": "display_data"
    }
   ],
   "source": [
    "# - test -\n",
    "soleil = 'Moucherotte' \n",
    "soleil = \"L'Écoutoux\"\n",
    "#soleil = 'Grand Veymont'\n",
    "\n",
    "sorted_name, sorted_dist = get_alldistfromsun( soleil )\n",
    "\n",
    "d_span = sorted_dist[1:60]\n",
    "error_span = [ get_errorsum( sorted_dist,  d ) for d in d_span ]\n",
    "\n",
    "plt.plot( d_span, error_span, '.:'  );\n",
    "plt.xlabel('d_Terre (km)'); plt.ylabel('somme des erreurs'); plt.title('☉: %s'%soleil);"
   ]
  },
  {
   "cell_type": "code",
   "execution_count": 232,
   "metadata": {
    "collapsed": true
   },
   "outputs": [],
   "source": [
    "def get_best_d( soleil ):\n",
    "    \"\"\" Recherche (brute) du meilleur facteur de proportion pour un soleil donné\n",
    "    \"\"\"\n",
    "    sorted_name, sorted_dist = get_alldistfromsun( soleil )\n",
    "\n",
    "    d_span = sorted_dist[1:60]\n",
    "    error_span = np.array([ get_errorsum( sorted_dist,  d ) for d in d_span ])\n",
    "    \n",
    "    i_min =  np.argmin( error_span )\n",
    "    \n",
    "    return d_span[ i_min ], error_span[ i_min ]"
   ]
  },
  {
   "cell_type": "code",
   "execution_count": 233,
   "metadata": {},
   "outputs": [
    {
     "data": {
      "text/plain": [
       "(4.2827838267894576, 64.298173242231172)"
      ]
     },
     "execution_count": 233,
     "metadata": {},
     "output_type": "execute_result"
    }
   ],
   "source": [
    "get_best_d( soleil )"
   ]
  },
  {
   "cell_type": "markdown",
   "metadata": {},
   "source": [
    "# Recherche du 'soleil'"
   ]
  },
  {
   "cell_type": "markdown",
   "metadata": {},
   "source": [
    "## Sommets les plus proches de Grenoble\n",
    "\n",
    "On cherche un endroit autour de Grenoble. Les sommets sont donc testés, dans l'ordre, en commançant par le plus proche. "
   ]
  },
  {
   "cell_type": "code",
   "execution_count": 234,
   "metadata": {
    "collapsed": true
   },
   "outputs": [],
   "source": [
    "# position de Grenoble\n",
    "lat_Gre, lon_Gre = 45.166672, 5.71667 \n",
    "\n",
    "# liste ordonnée des distances :\n",
    "name_nearGre, dist_nearGre = get_alldistfromcoords( lat_Gre, lon_Gre , visibleonly=False )"
   ]
  },
  {
   "cell_type": "code",
   "execution_count": 28,
   "metadata": {},
   "outputs": [
    {
     "name": "stdout",
     "output_type": "stream",
     "text": [
      "Mont Jalla (4.19 km), Mont Rachais (5.91 km), Les 3 Pucelles (6.03 km), Mollard Gargot (6.30 km), Moucherotte (6.42 km), Le Fournet (6.58 km), Les Quatre Seigneurs (7.05 km), Le Néron (7.58 km), Bellevue (8.41 km), Saint-Eynard (8.53 km)\n"
     ]
    }
   ],
   "source": [
    "print ( ', '.join( [ '%s (%.2f km)'%x for x in zip( name_nearGre, dist_nearGre ) ][:10]) )"
   ]
  },
  {
   "cell_type": "code",
   "execution_count": 48,
   "metadata": {
    "collapsed": true
   },
   "outputs": [],
   "source": [
    "from IPython.display import clear_output\n",
    "\n",
    "def affiche_scores( tableau ):\n",
    "    clear_output()\n",
    "    for soleil, d_and_error in tableau[:10]:\n",
    "        d_Terre_opti, error = d_and_error\n",
    "        print( '{0:>35}: {1:3.2f}    erreur cumulée={2:7.1f}%'.format(soleil, d_Terre_opti, error ) )"
   ]
  },
  {
   "cell_type": "markdown",
   "metadata": {},
   "source": [
    "### Calcul pour les sommets proche de Grenoble:"
   ]
  },
  {
   "cell_type": "code",
   "execution_count": 70,
   "metadata": {},
   "outputs": [
    {
     "name": "stdout",
     "output_type": "stream",
     "text": [
      "                Croix de Chamrousse: 2.19    erreur cumulée=   40.9%\n",
      "                       Saint-Eynard: 3.96    erreur cumulée=   42.1%\n",
      "                  Rochers de l'Ours: 2.63    erreur cumulée=   62.3%\n",
      "                         L'Écoutoux: 4.28    erreur cumulée=   64.3%\n",
      "                 Rochers de Chalves: 3.36    erreur cumulée=   66.9%\n",
      "                           La Buffe: 3.24    erreur cumulée=   76.3%\n",
      "                       Grand Eulier: 3.02    erreur cumulée=   79.7%\n",
      "                   Pic Saint-Michel: 4.26    erreur cumulée=   84.6%\n",
      "                           La Pinéa: 3.91    erreur cumulée=   90.5%\n",
      "                      Roc Cornafion: 4.00    erreur cumulée=   97.1%\n",
      "done N= 40\n"
     ]
    }
   ],
   "source": [
    "N = 40\n",
    "tableau_scores = []\n",
    "for soleil in name_nearGre[:N] :\n",
    "    tableau_scores.append( (soleil, get_best_d( soleil )) )\n",
    "    tableau_scores.sort( key=lambda x:x[1][1] )\n",
    "\n",
    "    affiche_scores( tableau_scores )\n",
    "    \n",
    "print('done N=', N)"
   ]
  },
  {
   "cell_type": "markdown",
   "metadata": {},
   "source": [
    "## Pour un sommet en particulier\n",
    "Maintenant, en choisisant un sommet pour le 'soleil', on peut lister les autres sommets correspondant aux planètes :"
   ]
  },
  {
   "cell_type": "code",
   "execution_count": 260,
   "metadata": {},
   "outputs": [
    {
     "name": "stdout",
     "output_type": "stream",
     "text": [
      "Croix de Chamrousse\n"
     ]
    }
   ],
   "source": [
    "# Choisir un soleil : \n",
    "k = 0\n",
    "soleil = tableau_scores[k][0]\n",
    "print( soleil )"
   ]
  },
  {
   "cell_type": "code",
   "execution_count": 261,
   "metadata": {
    "collapsed": true
   },
   "outputs": [],
   "source": [
    "## Calcul : \n",
    "sorted_name, sorted_dist = get_alldistfromsun( soleil )"
   ]
  },
  {
   "cell_type": "markdown",
   "metadata": {},
   "source": [
    "Pour un même soleil il peut avoir plusieurs solution. L'erreur la plus faible n'est pas forcement la mieux. Il peut être plus intéressant d'avoir des sommets plus proche ou bien plus remarquables."
   ]
  },
  {
   "cell_type": "code",
   "execution_count": 262,
   "metadata": {},
   "outputs": [],
   "source": [
    "# Recherche de la meilleur Terre sur les sommets autour du soleil\n",
    "best_Earth = [ (name, d, get_errorsum( sorted_dist,  d )) for name, d in zip(sorted_name, sorted_dist) if name!=soleil ]\n",
    "best_Earth = sorted( best_Earth, key= lambda x:x[2] )"
   ]
  },
  {
   "cell_type": "code",
   "execution_count": 263,
   "metadata": {},
   "outputs": [
    {
     "name": "stdout",
     "output_type": "stream",
     "text": [
      "0 - Petit Van                 2.19km    erreur:40.9%\n",
      "1 - Grand Eulier              1.61km    erreur:48.3%\n",
      "2 - Grand Van                 2.29km    erreur:51.2%\n",
      "3 - Pointe de Jasse Bralard   3.19km    erreur:68.9%\n",
      "4 - Pointe de Vaudaine        2.83km    erreur:90.1%\n",
      "5 - Grand Colon               4.55km    erreur:135.9%\n",
      "6 - Pic de Mirebel            4.63km    erreur:140.8%\n",
      "7 - Montrond                  4.71km    erreur:147.8%\n"
     ]
    }
   ],
   "source": [
    "best_Earth[:8]\n",
    "\n",
    "for i, (name, distance, error) in enumerate( best_Earth[:8] ):\n",
    "    print( i, '- {0:25} {1:2.2f}km    erreur:{2:3.1f}%'.format(name, distance,  error) )"
   ]
  },
  {
   "cell_type": "code",
   "execution_count": 264,
   "metadata": {},
   "outputs": [
    {
     "name": "stdout",
     "output_type": "stream",
     "text": [
      "Soleil : Croix de Chamrousse   diamètre: 2041 cm \n",
      "\n",
      "   Planète  Sommet                                   Erreur(%)   Distance(km)  Diamètre\n",
      "-----------------------------------------------------------------------------------------\n",
      "   Mercure: Rocher de la Perche (2152m)                25.78       0.66          7.2 cm\n",
      "     Vénus: Grand Eulier (2232m)                        1.53       1.61         17.8 cm\n",
      "     Terre: Petit Van (2439m)                           0.00       2.19         18.7 cm\n",
      "      Mars: Pointe de Jasse Bralard (2491m)             4.83       3.19          9.9 cm\n",
      "     Cérès: Grand Galbert (2561m)                       1.97       5.95          1.4 cm\n",
      "   Jupiter: Bellevue (733m)                             3.96      10.97        205.1 cm\n",
      "   Saturne: Les 3 Pucelles (1456m)                      0.42      21.02        170.8 cm\n",
      "    Uranus: Dôme de Neige des Écrins (4015m)            0.43      41.93         74.4 cm\n",
      "   Neptune: Le Trélod (2181m)                           1.63      67.07         72.2 cm\n",
      "    Pluton: Grand Colombier (1534m)                     0.33      86.92          3.5 cm\n"
     ]
    }
   ],
   "source": [
    "# Choisir une Terre :\n",
    "k = 0\n",
    "d_Terre = best_Earth[k][1]\n",
    "\n",
    "# Liste sommet - planète\n",
    "print('Soleil : %s   diamètre: %4.0f cm \\n'% (soleil,  get_planet_size( \"Soleil\", d_Terre ) ) )\n",
    "\n",
    "print( '{0:>10}  {1:40} {2}   {3}  {4}'.format('Planète', 'Sommet',  'Erreur(%)', 'Distance(km)', 'Diamètre') )\n",
    "print( '-----------------------------------------------------------------------------------------' )\n",
    "\n",
    "for i, name in enumerate( planetes_noms ):\n",
    "    d_UA = planetes_UA[i]\n",
    "    pic_proche, erreur, d_reel = findnearest_disp(sorted_name, sorted_dist, d_UA * d_Terre )\n",
    "    \n",
    "    size = get_planet_size( name, d_Terre )\n",
    "    \n",
    "    alt = get_alt( dicosommets[pic_proche] )\n",
    "    pic_name = '%s (%im)'%(pic_proche, alt)\n",
    "    print( '{0:>10}: {1:40} {2:7.2f}    {3:7.2f}     {4:8.1f} cm'.format(name, pic_name,  erreur, d_reel, size) )"
   ]
  },
  {
   "cell_type": "markdown",
   "metadata": {},
   "source": [
    "### Affichage sur une carte\n",
    "\n",
    "Avec le module python `folium`, qui utilise la librairie javascript `leaflet.js` et _openstreetmap_, il est possible d'afficher une carte dans le notebook.\n",
    "\n",
    "http://python-visualization.github.io/folium/  \n",
    "https://github.com/python-visualization/folium"
   ]
  },
  {
   "cell_type": "code",
   "execution_count": 257,
   "metadata": {},
   "outputs": [],
   "source": [
    "# Creation de la carte\n",
    "s = dicosommets[ soleil ]\n",
    "coords_soleil = [   s['lat'], s['lon'] ]\n",
    "\n",
    "solar_map = folium.Map(location=coords_soleil, zoom_start=12, tiles='Stamen Terrain')"
   ]
  },
  {
   "cell_type": "code",
   "execution_count": 258,
   "metadata": {},
   "outputs": [],
   "source": [
    "# Ajout des planètes :\n",
    "for i, n in enumerate( planetes_noms ):\n",
    "    d_UA = planetes_UA[i]\n",
    "    pic_proche, erreur, d_reel = findnearest_disp(sorted_name, sorted_dist, d_UA * d_Terre )\n",
    "    \n",
    "    s = dicosommets[ pic_proche ]\n",
    "    coords = [s['lat'], s['lon']]\n",
    "    \n",
    "    # ligne soleil - planete\n",
    "    lines = [coords_soleil, coords]\n",
    "    folium.features.PolyLine(lines, opacity=0.4, color='black').add_to(solar_map)\n",
    "    \n",
    "    # marker\n",
    "    popuptext = '%s - %s' %(pic_proche, n)\n",
    "    folium.CircleMarker(location=coords, radius=5,  popup=popuptext, \\\n",
    "                    fill_color='blue', color='blue').add_to(solar_map);\n",
    "    \n",
    "# soleil \n",
    "popuptext = 'Soleil: %s' % soleil\n",
    "folium.CircleMarker(location=coords_soleil, radius=7,  popup=popuptext, \\\n",
    "                    fill_color='yellow', color='yellow').add_to(solar_map);"
   ]
  },
  {
   "cell_type": "code",
   "execution_count": 259,
   "metadata": {},
   "outputs": [
    {
     "data": {
      "text/html": [
       "<div style=\"width:100%;\"><div style=\"position:relative;width:100%;height:0;padding-bottom:60%;\"><iframe src=\"data:text/html;charset=utf-8;base64,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\" style=\"position:absolute;width:100%;height:100%;left:0;top:0;border:none !important;\" allowfullscreen webkitallowfullscreen mozallowfullscreen></iframe></div></div>"
      ],
      "text/plain": [
       "<folium.folium.Map at 0x7f8f83dc06d8>"
      ]
     },
     "execution_count": 259,
     "metadata": {},
     "output_type": "execute_result"
    }
   ],
   "source": [
    "# Affiche la carte\n",
    "solar_map"
   ]
  },
  {
   "cell_type": "code",
   "execution_count": 34,
   "metadata": {
    "collapsed": true
   },
   "outputs": [],
   "source": [
    "# enregistre la carte\n",
    "solar_map.save('solar_map.html')"
   ]
  },
  {
   "cell_type": "markdown",
   "metadata": {},
   "source": [
    "[voir la carte](./solar_map.html)"
   ]
  },
  {
   "cell_type": "markdown",
   "metadata": {},
   "source": [
    "# Pour la suite\n",
    "\n",
    "- [ok] Calcul de l'horizon, pour réduire le nombre de candidats\n",
    "- Taille des planètes et du soleil à l'échelle\n",
    "\n",
    "- recherche non systématique, mais intelligente :  le sommet visible plus loin est le Mont-Blanc, donc ce doit être Neptune ...\n",
    "- Rechercher les seconds, 3ième ... etc minimums  qui peuvent être plus remarquable que le premier...\n",
    "\n",
    "- placement des lunes\n",
    "- Carte avec symboles \n"
   ]
  },
  {
   "cell_type": "code",
   "execution_count": null,
   "metadata": {
    "collapsed": true
   },
   "outputs": [],
   "source": []
  }
 ],
 "metadata": {
  "kernelspec": {
   "display_name": "Python 3",
   "language": "python",
   "name": "python3"
  },
  "language_info": {
   "codemirror_mode": {
    "name": "ipython",
    "version": 3
   },
   "file_extension": ".py",
   "mimetype": "text/x-python",
   "name": "python",
   "nbconvert_exporter": "python",
   "pygments_lexer": "ipython3",
   "version": "3.5.2"
  }
 },
 "nbformat": 4,
 "nbformat_minor": 2
}
