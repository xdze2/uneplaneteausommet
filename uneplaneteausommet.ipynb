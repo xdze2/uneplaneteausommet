{
 "cells": [
  {
   "cell_type": "code",
   "execution_count": 1,
   "metadata": {
    "collapsed": true
   },
   "outputs": [],
   "source": [
    "import numpy as np\n",
    "import matplotlib.pyplot as plt\n",
    "%matplotlib inline\n",
    "\n",
    "import json\n",
    "import folium"
   ]
  },
  {
   "cell_type": "markdown",
   "metadata": {},
   "source": [
    "# Une planète au sommet\n",
    "\n",
    "Il est difficile de sentir les dimensions réelles du système solaire. Une façon d'en avoir une idée est de construire un modèle réduit du système solaire en plaçant les planètes à des distances respectant les proportions. \n",
    "\n",
    "Si on veut aussi respecter les proportions des diamètres des planètes et du soleil, ont doit alors avoir un très grand terrain plat et vide...  \n",
    "voir ce projet réalisé dans le désert du Névada: [To Scale: The Solar System](https://www.youtube.com/watch?v=zR3Igc3Rhfg) (vidéo youtube).\n",
    "\n",
    "à Grenoble (et en France ?), il n'y a malheureusement pas d'endroit pour faire cela, mais on a des montagnes!\n",
    "\n",
    "La question est donc:  \n",
    "_Peut-on trouver une montagne depuis laquelle on observe 8 (9, ou 10 ?) autre sommets  dont les distances respectent les proportions des rayons des orbites des planètes ??_\n",
    "\n",
    "C'est un joli problème qu'il est possible de résoudre parce que la liste des coordonnées des sommets est disponible (open street map). "
   ]
  },
  {
   "cell_type": "markdown",
   "metadata": {},
   "source": [
    "## Liste des sommets autour de grenoble\n",
    "\n",
    "Les données sont issus de OpenStreetMap. L'outil [overpass-turbo](http://overpass-turbo.eu/) permet de faire très simplement une requête sur la base de donnée en choissisant une zone de recherche. Le sommets sont référencés comme _Peak_.\n",
    "\n",
    "voir la requête utilisée : http://overpass-turbo.eu/s/qCF\n",
    "\n",
    "On obtient un _json_ avec les coordonnées GPS, le nom, l'altitude."
   ]
  },
  {
   "cell_type": "code",
   "execution_count": 2,
   "metadata": {},
   "outputs": [
    {
     "data": {
      "text/plain": [
       "1898"
      ]
     },
     "execution_count": 2,
     "metadata": {},
     "output_type": "execute_result"
    }
   ],
   "source": [
    "with open('./elevation_data/sommets_gre_medium.json') as data_file:\n",
    "    datasommets = json.load(data_file)\n",
    "\n",
    "datasommets = datasommets['elements']\n",
    "\n",
    "len( datasommets )"
   ]
  },
  {
   "cell_type": "code",
   "execution_count": 3,
   "metadata": {
    "collapsed": true,
    "scrolled": false
   },
   "outputs": [],
   "source": [
    "\"\"\" extrait le nom du sommet pour en faire la clé d'un dico\n",
    "    + supprime les doublons et sommet sans nom\n",
    "\"\"\"\n",
    "dicosommets = {}\n",
    "for sommet in datasommets :\n",
    "    if 'name' in sommet['tags']:\n",
    "        name =  sommet['tags']['name']\n",
    "        if name not in dicosommets:\n",
    "            dicosommets[ name ] = sommet"
   ]
  },
  {
   "cell_type": "code",
   "execution_count": 4,
   "metadata": {},
   "outputs": [
    {
     "name": "stdout",
     "output_type": "stream",
     "text": [
      "Tete Entre Deus Sauts,  plan du rey tour telecom,  Croix de la Cochette,  Grande Rochère,  Tête de la Garde,  Pointe des Ratissières,  Aiguille de Savine,  Croix de la Coche,  La Croix de Cassini,  Dôme de Chasseforêt,  Pointe des Aravis,  Tête d'Oréac,  Le Clocher de Planpraz,  Quota 3047,  Cime du Sambuis,  Pointe des Plates des Chamois,  Le Sénépi,  Pointe de la Grande Combe,  Pointe du Demi,  Rocher de la Grande Balme,  Rocher de l'Encoula,  Pic Turbat,  Le Grand Plateau,  Mont Allagrogia,  Mont Brouillard,  Mont Tondu,  Pointe Rasin,  Le Simous,  Punta Melmise,  Cime de Clot Châtel,  Cime du Petit Sauvage,  Sommet des Anges,  Rocher de Combau,  Monte Fraiteve,  Épaule Nord Ouest des Bans,  Relais du Mont du Chat,  Triangle du Tacul,  Pointe des Auges,  Monte Ruetas,  Dôme de Bellefont,  La Grande Sure,  Légette du Mirantin,  Punta Dormillouse,  Aiguille Rousse,  Aiguille du Midi,  Petit Pelvoux,  Ratier,  Mont Grapillon,  Granta Parey,  Le Chenaillet,  Charande,  Brèche Poccard,  Petit Flambeau,  Pic du Dragon,  L'Aiguillon,  Pic du Jaillon,  Aiguille Sans Nom,  Pointe du Lavachet,  Petite Lance du Crozet,  Pic Saint-Michel,  Les Ourgieres,  La Roche Brune,  Le Cimon,  Pic de l'Oullion,  Becca Pouignenta,  Grand Veymont,  Pointe du Grand Vallon,  La Chal,  Pic de Mirebel,  Aiguille Dulong de Rosnay,  Grande Aiguille,  Le Tabor 2389 m,  La Buffe,  Le Roc Noir,  Dôme de la Gandolière,  Pointe Castelnau,  Mont Favre,  Aiguillette des Houches,  Mont Fort du Bœuf,  La Cucumelle\n"
     ]
    }
   ],
   "source": [
    "# Liste de quelque sommets \n",
    "print( ',  '.join( [x for x in dicosommets.keys()][:80] ) )"
   ]
  },
  {
   "cell_type": "code",
   "execution_count": 5,
   "metadata": {},
   "outputs": [
    {
     "name": "stdout",
     "output_type": "stream",
     "text": [
      "Mont Blanc - Monte Bianco (4808m), Monte Bianco di Courmayeur - Mont Blanc de Courmayer (4765m), Rocher de la Tournette (4677m), Petite Bosse (4547m), Grande Bosse (4513m), Mont Maudit (4465m), Picco Luigi Amedeo (4460m), Dôme du Goûter (4304m), Pointe Mieulet (4287m), Pointe Bayeux (4258m)\n"
     ]
    }
   ],
   "source": [
    "# Trié par altitude\n",
    "import re\n",
    "\n",
    "def get_alt( s ):\n",
    "    if 'ele' in s['tags']:\n",
    "        elevation = s['tags']['ele']\n",
    "        elevation = re.sub(\"m\", \"\", elevation)\n",
    "        elevation = re.sub(\",\", \".\", elevation)\n",
    "        return float( elevation )\n",
    "    else: \n",
    "        return 0\n",
    "\n",
    "sort_alt = sorted( dicosommets.items(), key=lambda x: get_alt( x[1] ), reverse=True )\n",
    "\n",
    "print( ', '.join( [ '%s (%im)'%(x[0], get_alt( x[1] )) for x in sort_alt[:10]] ) )"
   ]
  },
  {
   "cell_type": "markdown",
   "metadata": {},
   "source": [
    "## Calcul des distances sur une sphère\n",
    "\n",
    "Un peu de trigonomètrie permet de calculer la distance entre deux points (A, B) sur une sphère (de centre O). On cherche l'angle entre les deux rayons, $\\vec {OA}$ et $\\vec {OB}$, avec le produit scalaire de leurs vecteurs. Voir [le schéma](./images/note_calcul_distance_sphere.pdf)."
   ]
  },
  {
   "cell_type": "code",
   "execution_count": 6,
   "metadata": {
    "collapsed": true
   },
   "outputs": [],
   "source": [
    "R = 6371.009 # km, rayon moyen de la terre\n",
    "\n",
    "def torad( theta ):\n",
    "    return theta * np.pi / 180.0\n",
    "\n",
    "def getdistance_trigo( lat1, lon1, lat2, lon2 ):\n",
    "    lat1, lon1, lat2, lon2 = [ torad(theta) for theta in [lat1, lon1, lat2, lon2] ]\n",
    "    cosTheta =  np.sin( lat1 )*np.sin( lat2 ) + np.cos( lat1 )*np.cos( lat2 )*np.cos( lon2-lon1 )\n",
    "    \n",
    "    cosTheta = np.array( cosTheta )\n",
    "    cosTheta[ cosTheta> 1 ] = 1  # debug .... cas si lat1==lat2 et lon1 == lon2\n",
    "    \n",
    "    theta = np.arccos( cosTheta )\n",
    "    \n",
    "    return theta*R"
   ]
  },
  {
   "cell_type": "markdown",
   "metadata": {},
   "source": [
    "Rq: On retrouve bien l'ancienne définition du mètre: dix millionème (e-7) du quart du méridien terrestre, (mais pas exactement...?) :"
   ]
  },
  {
   "cell_type": "code",
   "execution_count": 7,
   "metadata": {},
   "outputs": [
    {
     "data": {
      "text/plain": [
       "10007.557535177228"
      ]
     },
     "execution_count": 7,
     "metadata": {},
     "output_type": "execute_result"
    }
   ],
   "source": [
    "getdistance_trigo( 0, 0, 90, 90 )"
   ]
  },
  {
   "cell_type": "markdown",
   "metadata": {},
   "source": [
    "Seconde remarque : il existe une formule standard pour cela : [Haversine formula](https://en.wikipedia.org/wiki/Haversine_formula), qui donne le même résultat, mais historiquement utilisée pour limiter les erreurs d'approximations. "
   ]
  },
  {
   "cell_type": "code",
   "execution_count": 8,
   "metadata": {},
   "outputs": [
    {
     "data": {
      "text/plain": [
       "6096.6333950173703"
      ]
     },
     "execution_count": 8,
     "metadata": {},
     "output_type": "execute_result"
    }
   ],
   "source": [
    "# distance Grenoble - New York\n",
    "getdistance_trigo( 45.166672, 5.71667 , 43.2994285, -74.2179326 )"
   ]
  },
  {
   "cell_type": "markdown",
   "metadata": {},
   "source": [
    "# Recherche systématique"
   ]
  },
  {
   "cell_type": "markdown",
   "metadata": {},
   "source": [
    "![schéma sommet - planète ](./images/sch_distance_planet.png)\n",
    "\n",
    "Les étapes du calculs, dans l'ordre:\n",
    "- Un sommet est défini comme centre, c.a.d. le soleil ( ☉ ).\n",
    "- Les distances de tout les sommets depuis ce centre sont calculées (et triée)\n",
    "- Pour une distance donnée (km), on cherche le sommet le plus proche. \n",
    "- Pour un facteur de proportion donnée ( c.a.d. la distance correspondant à la Terre, 🜨 ), on trouve les sommets les plus proches pour chaque planète. \n",
    "- Donc pour un centre 'soleil' et un facteur de proportion donnés, on calcul la somme des erreurs sur toutes les planètes.\n",
    "- Pour un centre 'soleil' donné, le facteur de proportion donnant l'erreur totale minimale est recherchant (en testant tout les sommets proche)\n",
    "\n",
    "- Les sommets autour de Grenoble donnant les plus petites erreurs comme soleil sont recherchés"
   ]
  },
  {
   "cell_type": "markdown",
   "metadata": {},
   "source": [
    "### Test du test de visibité :\n",
    "\n",
    "voir le notebook [is_visible.ipynb](./is_visible.ipynb) qui détail le fonctionnement de la fonction. "
   ]
  },
  {
   "cell_type": "code",
   "execution_count": 9,
   "metadata": {
    "collapsed": true
   },
   "outputs": [],
   "source": [
    "from is_visible import is_visible"
   ]
  },
  {
   "cell_type": "code",
   "execution_count": 10,
   "metadata": {
    "collapsed": true
   },
   "outputs": [],
   "source": [
    "A = \"L'Écoutoux\"#'Moucherotte'\n",
    "lonA, latA = dicosommets[A]['lon'], dicosommets[A]['lat']\n",
    "\n",
    "B = \"Aiguille de Quaix\"# \"Pic de l'Étendard\" #\"Saint-Eynard\" #'Mont Rachais'\n",
    "lonB, latB = dicosommets[B]['lon'], dicosommets[B]['lat']"
   ]
  },
  {
   "cell_type": "code",
   "execution_count": 11,
   "metadata": {},
   "outputs": [
    {
     "data": {
      "text/plain": [
       "False"
      ]
     },
     "execution_count": 11,
     "metadata": {},
     "output_type": "execute_result"
    }
   ],
   "source": [
    "is_visible( lonA, latA, lonB, latB )"
   ]
  },
  {
   "cell_type": "code",
   "execution_count": 12,
   "metadata": {},
   "outputs": [
    {
     "name": "stdout",
     "output_type": "stream",
     "text": [
      "5.7578016 45.252951\n"
     ]
    },
    {
     "data": {
      "text/plain": [
       "(5.7205577, 45.2671104)"
      ]
     },
     "execution_count": 12,
     "metadata": {},
     "output_type": "execute_result"
    }
   ],
   "source": [
    "print(lonA, latA)\n",
    "lonB, latB"
   ]
  },
  {
   "cell_type": "markdown",
   "metadata": {},
   "source": [
    "### Recherche à partir d'un centre"
   ]
  },
  {
   "cell_type": "code",
   "execution_count": 13,
   "metadata": {
    "collapsed": true
   },
   "outputs": [],
   "source": [
    "def get_alldistfromcoords( lat_Sol, lon_Sol, visibleonly=True  ):\n",
    "    \"\"\" Calcul toutes les distances des sommets par rapport au point indiqué\n",
    "        lat_Sol, lon_Sol : lattitude et longitude (en deg decimal) du point\n",
    "        return: liste nom des sommets, liste des distances - triées\n",
    "    \"\"\"\n",
    "    distancesAuSoleil = {}\n",
    "    for name, sommet in dicosommets.items():\n",
    "        lat, lon = sommet['lat'], sommet['lon']\n",
    "        if not visibleonly or is_visible( lat_Sol, lon_Sol, lat, lon ): \n",
    "            distancesAuSoleil[name] = getdistance_trigo( lat_Sol, lon_Sol, lat, lon )\n",
    "        \n",
    "    sorted_data = sorted( distancesAuSoleil.items(), key=lambda x:x[1] )\n",
    "    sorted_name, sorted_dist = zip( *sorted_data )\n",
    "    \n",
    "    return sorted_name, np.array( sorted_dist )\n",
    "\n",
    "def get_alldistfromsun( soleil ):\n",
    "    \"\"\"  même chose mais avec la clé 'soleil' en entrée\n",
    "    \"\"\"\n",
    "    lat_Sol = dicosommets[soleil]['lat']\n",
    "    lon_Sol = dicosommets[soleil]['lon']\n",
    "\n",
    "    return get_alldistfromcoords( lat_Sol, lon_Sol  )"
   ]
  },
  {
   "cell_type": "code",
   "execution_count": 14,
   "metadata": {
    "collapsed": true
   },
   "outputs": [],
   "source": [
    "def findnearest( sorted_dist, d ):\n",
    "    \"\"\" fonction qui permet de trouver le sommet le plus proche d'une certain distance d\n",
    "        p/r au sommet 'soleil'\n",
    "        return : indice dans la liste\n",
    "    \"\"\"\n",
    "    all_distances  = np.abs( sorted_dist - d ) \n",
    "    return np.argmin( all_distances )\n",
    "\n",
    "# Calcul de l'erreur :\n",
    "def get_error(  sorted_dist, d, i ):\n",
    "    return 100*np.abs( sorted_dist[i] - d ) /( d + sorted_dist[i] )*2\n",
    "\n",
    "# Cherche le plus proche, et retourne l'erreur\n",
    "def find_and_geterror( sorted_dist, d ):\n",
    "    i = findnearest( sorted_dist, d )\n",
    "    return get_error(  sorted_dist, d, i )\n",
    "\n",
    "# Cherche le plus proche, et retourne le nom, l'erreur, et la distance du sommet\n",
    "def findnearest_disp( sorted_name, sorted_dist, d ):\n",
    "    i = findnearest( sorted_dist, d )\n",
    "    error = get_error(  sorted_dist, d, i )\n",
    "    name = sorted_name[i]\n",
    "    \n",
    "    return name, error, sorted_dist[i]"
   ]
  },
  {
   "cell_type": "code",
   "execution_count": 15,
   "metadata": {},
   "outputs": [
    {
     "name": "stdout",
     "output_type": "stream",
     "text": [
      "Le sommet visible à 25.00km du Moucherotte est Petite Lance de Domène avec une erreur de 0.2%\n"
     ]
    }
   ],
   "source": [
    "# - test-\n",
    "soleil = 'Moucherotte' \n",
    "#soleil = 'La Grande Moucherolle' \n",
    "#soleil = 'Grand Veymont'\n",
    "distance_test = 25 # km\n",
    "\n",
    "sorted_name, sorted_dist = get_alldistfromsun( soleil )\n",
    "i = findnearest( sorted_dist,  distance_test )\n",
    "error = get_error( sorted_dist, distance_test, i )\n",
    "\n",
    "print( 'Le sommet visible à %.2fkm du %s est %s avec une erreur de %.1f%%' % (distance_test, soleil, sorted_name[ i  ], error) )"
   ]
  },
  {
   "cell_type": "code",
   "execution_count": 16,
   "metadata": {},
   "outputs": [
    {
     "data": {
      "text/plain": [
       "0.24062613103580685"
      ]
     },
     "execution_count": 16,
     "metadata": {},
     "output_type": "execute_result"
    }
   ],
   "source": [
    "find_and_geterror( sorted_dist, distance_test )"
   ]
  },
  {
   "cell_type": "code",
   "execution_count": 17,
   "metadata": {},
   "outputs": [
    {
     "name": "stdout",
     "output_type": "stream",
     "text": [
      "329\n"
     ]
    }
   ],
   "source": [
    "print(len(sorted_name ))"
   ]
  },
  {
   "cell_type": "markdown",
   "metadata": {},
   "source": [
    "### Erreur pour toutes les planètes\n",
    "Rayon des orbites (demi-grand axe) en unité astronomique, c.a.d. la distance Terre-Soleil :"
   ]
  },
  {
   "cell_type": "code",
   "execution_count": 18,
   "metadata": {
    "collapsed": true
   },
   "outputs": [],
   "source": [
    "planetes_noms = ['Mercure', 'Vénus', 'Terre', 'Mars', 'Cérès', 'Jupiter', 'Saturne', 'Uranus', 'Neptune', 'Pluton']\n",
    "planetes_UA = [ 0.38710, 0.72333, 1, 1.52366, 2.7665, 5.20336, 9.53707, 19.1913, 30.0690, 39.4817 ]"
   ]
  },
  {
   "cell_type": "code",
   "execution_count": 77,
   "metadata": {
    "collapsed": true
   },
   "outputs": [],
   "source": [
    "def get_errorsum( sorted_dist, d_Terre ):\n",
    "    \"\"\" Calcul la somme des erreurs pour toutes les planètes, avec un facteur de conversion donnee\n",
    "        d_Terre (km) est la distance équivalent à l'orbite terrestre (1UA)\n",
    "    \"\"\"\n",
    "    errors = [ find_and_geterror( sorted_dist, d_UA * d_Terre ) for d_UA in  planetes_UA ]\n",
    "    return sum( errors )"
   ]
  },
  {
   "cell_type": "code",
   "execution_count": 64,
   "metadata": {},
   "outputs": [
    {
     "data": {
      "image/png": "[encoded data removed]",
      "text/plain": [
       "<matplotlib.figure.Figure at 0x7f8fd3b189b0>"
      ]
     },
     "metadata": {},
     "output_type": "display_data"
    }
   ],
   "source": [
    "# - test -\n",
    "soleil = 'Moucherotte' \n",
    "soleil = \"L'Écoutoux\"\n",
    "#soleil = 'Grand Veymont'\n",
    "\n",
    "sorted_name, sorted_dist = get_alldistfromsun( soleil )\n",
    "\n",
    "d_span = sorted_dist[1:60]\n",
    "error_span = [ get_errorsum( sorted_dist,  d ) for d in d_span ]\n",
    "\n",
    "plt.plot( d_span, error_span, '.:'  );\n",
    "plt.xlabel('d_Terre (km)'); plt.ylabel('somme des erreurs'); plt.title('☉: %s'%soleil);"
   ]
  },
  {
   "cell_type": "code",
   "execution_count": 21,
   "metadata": {
    "collapsed": true
   },
   "outputs": [],
   "source": [
    "def get_best_d( soleil ):\n",
    "    \"\"\" Recherche (brute) du meilleur facteur de proportion pour un soleil donné\n",
    "    \"\"\"\n",
    "    sorted_name, sorted_dist = get_alldistfromsun( soleil )\n",
    "\n",
    "    d_span = sorted_dist[1:60]\n",
    "    error_span = np.array([ get_errorsum( sorted_dist,  d ) for d in d_span ])\n",
    "    \n",
    "    i_min =  np.argmin( error_span )\n",
    "    \n",
    "    return d_span[ i_min ], error_span[ i_min ]"
   ]
  },
  {
   "cell_type": "code",
   "execution_count": 22,
   "metadata": {},
   "outputs": [
    {
     "data": {
      "text/plain": [
       "(4.3660637353824905, 52.906691569196958)"
      ]
     },
     "execution_count": 22,
     "metadata": {},
     "output_type": "execute_result"
    }
   ],
   "source": [
    "get_best_d( soleil )"
   ]
  },
  {
   "cell_type": "markdown",
   "metadata": {},
   "source": [
    "# Recherche du 'soleil'"
   ]
  },
  {
   "cell_type": "markdown",
   "metadata": {},
   "source": [
    "## Sommets les plus proches de Grenoble\n",
    "\n",
    "On cherche un endroit autour de Grenoble. Les sommets sont donc testés, dans l'ordre, en commançant par le plus proche. "
   ]
  },
  {
   "cell_type": "code",
   "execution_count": 23,
   "metadata": {
    "collapsed": true
   },
   "outputs": [],
   "source": [
    "# position de Grenoble\n",
    "lat_Gre, lon_Gre = 45.166672, 5.71667 \n",
    "\n",
    "# liste ordonnée des distances :\n",
    "name_nearGre, dist_nearGre = get_alldistfromcoords( lat_Gre, lon_Gre , visibleonly=False )"
   ]
  },
  {
   "cell_type": "code",
   "execution_count": 28,
   "metadata": {},
   "outputs": [
    {
     "name": "stdout",
     "output_type": "stream",
     "text": [
      "Mont Jalla (4.19 km), Mont Rachais (5.91 km), Les 3 Pucelles (6.03 km), Mollard Gargot (6.30 km), Moucherotte (6.42 km), Le Fournet (6.58 km), Les Quatre Seigneurs (7.05 km), Le Néron (7.58 km), Bellevue (8.41 km), Saint-Eynard (8.53 km)\n"
     ]
    }
   ],
   "source": [
    "print ( ', '.join( [ '%s (%.2f km)'%x for x in zip( name_nearGre, dist_nearGre ) ][:10]) )"
   ]
  },
  {
   "cell_type": "code",
   "execution_count": 48,
   "metadata": {
    "collapsed": true
   },
   "outputs": [],
   "source": [
    "from IPython.display import clear_output\n",
    "\n",
    "def affiche_scores( tableau ):\n",
    "    clear_output()\n",
    "    for soleil, d_and_error in tableau[:10]:\n",
    "        d_Terre_opti, error = d_and_error\n",
    "        print( '{0:>35}: {1:3.2f}    erreur cumulée={2:7.1f}%'.format(soleil, d_Terre_opti, error ) )"
   ]
  },
  {
   "cell_type": "markdown",
   "metadata": {},
   "source": [
    "### Calcul pour les sommets proche de Grenoble:"
   ]
  },
  {
   "cell_type": "code",
   "execution_count": 70,
   "metadata": {},
   "outputs": [
    {
     "name": "stdout",
     "output_type": "stream",
     "text": [
      "                Croix de Chamrousse: 2.19    erreur cumulée=   40.9%\n",
      "                       Saint-Eynard: 3.96    erreur cumulée=   42.1%\n",
      "                  Rochers de l'Ours: 2.63    erreur cumulée=   62.3%\n",
      "                         L'Écoutoux: 4.28    erreur cumulée=   64.3%\n",
      "                 Rochers de Chalves: 3.36    erreur cumulée=   66.9%\n",
      "                           La Buffe: 3.24    erreur cumulée=   76.3%\n",
      "                       Grand Eulier: 3.02    erreur cumulée=   79.7%\n",
      "                   Pic Saint-Michel: 4.26    erreur cumulée=   84.6%\n",
      "                           La Pinéa: 3.91    erreur cumulée=   90.5%\n",
      "                      Roc Cornafion: 4.00    erreur cumulée=   97.1%\n",
      "done N= 40\n"
     ]
    }
   ],
   "source": [
    "N = 40\n",
    "tableau_scores = []\n",
    "for soleil in name_nearGre[:N] :\n",
    "    tableau_scores.append( (soleil, get_best_d( soleil )) )\n",
    "    tableau_scores.sort( key=lambda x:x[1][1] )\n",
    "\n",
    "    affiche_scores( tableau_scores )\n",
    "    \n",
    "print('done N=', N)"
   ]
  },
  {
   "cell_type": "markdown",
   "metadata": {},
   "source": [
    "## Pour un sommet en particulier\n",
    "Maintenant, en choisisant un sommet pour le 'soleil', on peut lister les autres sommets correspondant aux planètes :"
   ]
  },
  {
   "cell_type": "code",
   "execution_count": 144,
   "metadata": {},
   "outputs": [
    {
     "name": "stdout",
     "output_type": "stream",
     "text": [
      "Croix de Chamrousse\n"
     ]
    }
   ],
   "source": [
    "k = 0\n",
    "soleil = tableau_scores[k][0]\n",
    "print( soleil )"
   ]
  },
  {
   "cell_type": "code",
   "execution_count": 145,
   "metadata": {
    "collapsed": true
   },
   "outputs": [],
   "source": [
    "## Calcul : \n",
    "sorted_name, sorted_dist = get_alldistfromsun( soleil )"
   ]
  },
  {
   "cell_type": "markdown",
   "metadata": {},
   "source": [
    "Pour un même soleil il peut avoir plusieurs solution. L'erreur la plus faible n'est pas forcement la mieux. Il peut être plus intéressant d'avoir des sommets plus proche ou bien plus remarquables."
   ]
  },
  {
   "cell_type": "code",
   "execution_count": 146,
   "metadata": {},
   "outputs": [],
   "source": [
    "# Recherche de la meilleur Terre sur les sommets autour du soleil\n",
    "best_Earth = [ (name, d, get_errorsum( sorted_dist,  d )) for name, d in zip(sorted_name, sorted_dist) if name!=soleil ]\n",
    "best_Earth = sorted( best_Earth, key= lambda x:x[2] )"
   ]
  },
  {
   "cell_type": "code",
   "execution_count": 161,
   "metadata": {},
   "outputs": [
    {
     "name": "stdout",
     "output_type": "stream",
     "text": [
      "0 - Petit Van                 2.19km    erreur:40.9%\n",
      "1 - Grand Eulier              1.61km    erreur:48.3%\n",
      "2 - Grand Van                 2.29km    erreur:51.2%\n",
      "3 - Pointe de Jasse Bralard   3.19km    erreur:68.9%\n",
      "4 - Pointe de Vaudaine        2.83km    erreur:90.1%\n",
      "5 - Grand Colon               4.55km    erreur:135.9%\n",
      "6 - Pic de Mirebel            4.63km    erreur:140.8%\n",
      "7 - Montrond                  4.71km    erreur:147.8%\n"
     ]
    }
   ],
   "source": [
    "best_Earth[:8]\n",
    "\n",
    "for i, (name, distance, error) in enumerate( best_Earth[:8] ):\n",
    "    print( i, '- {0:25} {1:2.2f}km    erreur:{2:3.1f}%'.format(name, distance,  error) )"
   ]
  },
  {
   "cell_type": "code",
   "execution_count": 152,
   "metadata": {},
   "outputs": [
    {
     "name": "stdout",
     "output_type": "stream",
     "text": [
      "soleil : Croix de Chamrousse \n",
      "\n",
      "   Planète  Sommet                                   Erreur(%)   Distance(km)\n",
      "-----------------------------------------------------------------------------\n",
      "   Mercure: Rocher de la Perche (2152m)                25.78        0.7\n",
      "     Vénus: Grand Eulier (2232m)                        1.53        1.6\n",
      "     Terre: Petit Van (2439m)                           0.00        2.2\n",
      "      Mars: Pointe de Jasse Bralard (2491m)             4.83        3.2\n",
      "     Cérès: Grand Galbert (2561m)                       1.97        6.0\n",
      "   Jupiter: Bellevue (733m)                             3.96       11.0\n",
      "   Saturne: Les 3 Pucelles (1456m)                      0.42       21.0\n",
      "    Uranus: Dôme de Neige des Écrins (4015m)            0.43       41.9\n",
      "   Neptune: Le Trélod (2181m)                           1.63       67.1\n",
      "    Pluton: Grand Colombier (1534m)                     0.33       86.9\n"
     ]
    }
   ],
   "source": [
    "k = 0\n",
    "d_Terre = best_Earth[k][1]\n",
    "\n",
    "# Liste sommet - planète\n",
    "print('soleil : %s \\n'% soleil )\n",
    "\n",
    "print( '{0:>10}  {1:40} {2}   {3}'.format('Planète', 'Sommet',  'Erreur(%)', 'Distance(km)') )\n",
    "print( '-----------------------------------------------------------------------------' )\n",
    "\n",
    "for i, n in enumerate( planetes_noms ):\n",
    "    d_UA = planetes_UA[i]\n",
    "    pic_proche, erreur, d_reel = findnearest_disp(sorted_name, sorted_dist, d_UA * d_Terre )\n",
    "    \n",
    "    alt = get_alt( dicosommets[pic_proche] )\n",
    "    pic_name = '%s (%im)'%(pic_proche, alt)\n",
    "    print( '{0:>10}: {1:40} {2:7.2f}    {3:7.1f}'.format(n, pic_name,  erreur, d_reel) )"
   ]
  },
  {
   "cell_type": "markdown",
   "metadata": {},
   "source": [
    "### Affichage sur une carte\n",
    "\n",
    "Avec le module python `folium`, qui utilise la librairie javascript `leaflet.js` et _openstreetmap_, il est possible d'afficher une carte dans le notebook.\n",
    "\n",
    "http://python-visualization.github.io/folium/  \n",
    "https://github.com/python-visualization/folium"
   ]
  },
  {
   "cell_type": "code",
   "execution_count": 153,
   "metadata": {},
   "outputs": [],
   "source": [
    "# Creation de la carte\n",
    "s = dicosommets[ soleil ]\n",
    "coords_soleil = [   s['lat'], s['lon'] ]\n",
    "\n",
    "solar_map = folium.Map(location=coords_soleil, zoom_start=12, tiles='Stamen Terrain')"
   ]
  },
  {
   "cell_type": "code",
   "execution_count": 154,
   "metadata": {},
   "outputs": [],
   "source": [
    "# Ajout des planètes :\n",
    "for i, n in enumerate( planetes_noms ):\n",
    "    d_UA = planetes_UA[i]\n",
    "    pic_proche, erreur, d_reel = findnearest_disp(sorted_name, sorted_dist, d_UA * d_Terre )\n",
    "    \n",
    "    s = dicosommets[ pic_proche ]\n",
    "    coords = [s['lat'], s['lon']]\n",
    "    \n",
    "    # ligne soleil - planete\n",
    "    lines = [coords_soleil, coords]\n",
    "    folium.features.PolyLine(lines, opacity=0.4, color='black').add_to(solar_map)\n",
    "    \n",
    "    # marker\n",
    "    popuptext = '%s - %s' %(pic_proche, n)\n",
    "    folium.CircleMarker(location=coords, radius=5,  popup=popuptext, \\\n",
    "                    fill_color='blue', color='blue').add_to(solar_map);\n",
    "    \n",
    "# soleil \n",
    "popuptext = 'Soleil: %s' % soleil\n",
    "folium.CircleMarker(location=coords_soleil, radius=7,  popup=popuptext, \\\n",
    "                    fill_color='yellow', color='yellow').add_to(solar_map);"
   ]
  },
  {
   "cell_type": "code",
   "execution_count": 155,
   "metadata": {},
   "outputs": [
    {
     "data": {
      "text/html": [
       "<div style=\"width:100%;\"><div style=\"position:relative;width:100%;height:0;padding-bottom:60%;\"><iframe src=\"data:text/html;charset=utf-8;base64,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\" style=\"position:absolute;width:100%;height:100%;left:0;top:0;border:none !important;\" allowfullscreen webkitallowfullscreen mozallowfullscreen></iframe></div></div>"
      ],
      "text/plain": [
       "<folium.folium.Map at 0x7f8f89a20e10>"
      ]
     },
     "execution_count": 155,
     "metadata": {},
     "output_type": "execute_result"
    }
   ],
   "source": [
    "# Affiche la carte\n",
    "solar_map"
   ]
  },
  {
   "cell_type": "code",
   "execution_count": 34,
   "metadata": {
    "collapsed": true
   },
   "outputs": [],
   "source": [
    "# enregistre la carte\n",
    "solar_map.save('solar_map.html')"
   ]
  },
  {
   "cell_type": "markdown",
   "metadata": {},
   "source": [
    "[voir la carte](./solar_map.html)"
   ]
  },
  {
   "cell_type": "markdown",
   "metadata": {},
   "source": [
    "# Pour la suite\n",
    "\n",
    "- [ok] Calcul de l'horizon, pour réduire le nombre de candidats\n",
    "- Taille des planètes et du soleil à l'échelle\n",
    "\n",
    "- recherche non systématique, mais intelligente :  le sommet visible plus loin est le Mont-Blanc, donc ce doit être Neptune ...\n",
    "- Rechercher les seconds, 3ième ... etc minimums  qui peuvent être plus remarquable que le premier...\n",
    "\n",
    "- placement des lunes\n",
    "- Carte avec symboles \n"
   ]
  },
  {
   "cell_type": "code",
   "execution_count": null,
   "metadata": {
    "collapsed": true
   },
   "outputs": [],
   "source": []
  }
 ],
 "metadata": {
  "kernelspec": {
   "display_name": "Python 3",
   "language": "python",
   "name": "python3"
  },
  "language_info": {
   "codemirror_mode": {
    "name": "ipython",
    "version": 3
   },
   "file_extension": ".py",
   "mimetype": "text/x-python",
   "name": "python",
   "nbconvert_exporter": "python",
   "pygments_lexer": "ipython3",
   "version": "3.5.2"
  }
 },
 "nbformat": 4,
 "nbformat_minor": 2
}
