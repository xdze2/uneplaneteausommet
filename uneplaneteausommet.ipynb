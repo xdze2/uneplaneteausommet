{
 "cells": [
  {
   "cell_type": "code",
   "execution_count": 98,
   "metadata": {
    "collapsed": true
   },
   "outputs": [],
   "source": [
    "import numpy as np\n",
    "import matplotlib.pyplot as plt\n",
    "%matplotlib inline\n",
    "\n",
    "import json\n",
    "import folium"
   ]
  },
  {
   "cell_type": "markdown",
   "metadata": {},
   "source": [
    "# Une planète au sommet\n",
    "\n",
    "Il est difficile de sentir les dimensions réelles du système solaire. Une façon d'en avoir une idée est de construire un modèle réduit du système solaire en plaçant les planètes à des distances respectant les proportions. \n",
    "\n",
    "Si on veut aussi respecter les proportions des diamètres des planètes et du soleil, ont doit alors avoir un très grand terrain plat et vide...  \n",
    "voir ce projet réalisé dans le désert du Névada: [To Scale: The Solar System](https://www.youtube.com/watch?v=zR3Igc3Rhfg) (vidéo youtube).\n",
    "\n",
    "à Grenoble (et en France ?), il n'y a malheureusement pas d'endroit pour faire cela, mais on a des montagnes!\n",
    "\n",
    "La question est donc:  \n",
    "_Peut-on trouver une montagne depuis laquelle on observe 8 (9, ou 10 ?) autre sommets  dont les distances respectent les proportions des rayons des orbites des planètes ??_\n",
    "\n",
    "C'est un joli problème qu'il est possible de résoudre parce que la liste des coordonnées des sommets est disponible (open street map). "
   ]
  },
  {
   "cell_type": "markdown",
   "metadata": {},
   "source": [
    "## Liste des sommets autour de grenoble\n",
    "\n",
    "Les données sont issus de OpenStreetMap. L'outil [overpass-turbo](http://overpass-turbo.eu/) permet de faire très simplement une requête sur la base de donnée en choissisant une zone de recherche. Le sommets sont référencés comme _Peak_.\n",
    "\n",
    "voir la requête utilisée : http://overpass-turbo.eu/s/qCF\n",
    "\n",
    "On obtient un _json_ avec les coordonnées GPS, le nom, l'altitude."
   ]
  },
  {
   "cell_type": "code",
   "execution_count": 5,
   "metadata": {},
   "outputs": [
    {
     "data": {
      "text/plain": [
       "3753"
      ]
     },
     "execution_count": 5,
     "metadata": {},
     "output_type": "execute_result"
    }
   ],
   "source": [
    "with open('sommet_gre_large.json') as data_file:    \n",
    "    datasommets = json.load(data_file)\n",
    "\n",
    "datasommets = datasommets['elements']\n",
    "\n",
    "len( datasommets )"
   ]
  },
  {
   "cell_type": "code",
   "execution_count": 99,
   "metadata": {
    "collapsed": true,
    "scrolled": false
   },
   "outputs": [],
   "source": [
    "\"\"\" extrait le nom du sommet pour en faire la clé d'un dico\n",
    "    + supprime les doublons et sommet sans nom\n",
    "\"\"\"\n",
    "dicosommets = {}\n",
    "for sommet in datasommets :\n",
    "    if 'name' in sommet['tags']:\n",
    "        name =  sommet['tags']['name']\n",
    "        if name not in dicosommets:\n",
    "            dicosommets[ name ] = sommet"
   ]
  },
  {
   "cell_type": "code",
   "execution_count": 105,
   "metadata": {},
   "outputs": [
    {
     "name": "stdout",
     "output_type": "stream",
     "text": [
      "L'Âne,  Cima del Vallonetto,  Roc Roux,  Rocca Blancia,  La Rousette,  Rocher de l'Épiremmont,  Mont-Blanc de Peisey,  La Massour,  Les Suches,  Tête de Lauranoure,  Pointe des Arandelières,  Tête des Filons,  Rocca Praboccia,  Ménil,  Geffriand,  La Cathédrale,  L'Étale,  Monte Tournour,  Punta Croset (o Carlera),  Pointe de Lanserlia\n"
     ]
    }
   ],
   "source": [
    "# Liste de quelque sommets \n",
    "print( ',  '.join( [x for x in dicosommets.keys()][:20] ) )"
   ]
  },
  {
   "cell_type": "code",
   "execution_count": 109,
   "metadata": {},
   "outputs": [
    {
     "name": "stdout",
     "output_type": "stream",
     "text": [
      "Mont Blanc - Monte Bianco (4808m), Monte Bianco di Courmayeur - Mont Blanc de Courmayer (4765m), Rocher de la Tournette (4677m), Petite Bosse (4547m), Grande Bosse (4513m), Mont Maudit (4465m), Picco Luigi Amedeo (4460m), Grand Combin de Grafeneire (4314m), Dôme du Goûter (4304m), Pointe Mieulet (4287m)\n"
     ]
    }
   ],
   "source": [
    "# Trié par altitude\n",
    "import re\n",
    "\n",
    "def get_alt( s ):\n",
    "    if 'ele' in s['tags']:\n",
    "        elevation = s['tags']['ele']\n",
    "        elevation = re.sub(\"m\", \"\", elevation)\n",
    "        elevation = re.sub(\",\", \".\", elevation)\n",
    "        return float( elevation )\n",
    "    else: \n",
    "        return 0\n",
    "\n",
    "sort_alt = sorted( dicosommets.items(), key=lambda x: get_alt( x[1] ), reverse=True )\n",
    "\n",
    "print( ', '.join( [ '%s (%im)'%(x[0], get_alt( x[1] )) for x in sort_alt[:10]] ) )"
   ]
  },
  {
   "cell_type": "markdown",
   "metadata": {},
   "source": [
    "## Calcul des distances sur une sphère\n",
    "\n",
    "Un peu de trigonomètrie permet de calculer la distance entre deux points (A, B) sur une sphère (de centre O). On cherche l'angle entre les deux rayons, $\\vec {OA}$ et $\\vec {OB}$, avec le produit scalaire de leurs vecteurs. Voir [le schéma](note_calcul_distance_sphere.pdf)."
   ]
  },
  {
   "cell_type": "code",
   "execution_count": 121,
   "metadata": {
    "collapsed": true
   },
   "outputs": [],
   "source": [
    "def torad( theta ):\n",
    "    return theta * np.pi / 180.0"
   ]
  },
  {
   "cell_type": "code",
   "execution_count": 122,
   "metadata": {
    "collapsed": true
   },
   "outputs": [],
   "source": [
    "R = 6371.009 # km, rayon moyen de la terre\n",
    "\n",
    "def getdistance_trigo( lat1, lon1, lat2, lon2 ):\n",
    "    lat1, lon1, lat2, lon2 = [ torad(theta) for theta in [lat1, lon1, lat2, lon2] ]\n",
    "    cosTheta =  np.sin( lat1 )*np.sin( lat2 ) + np.cos( lat1 )*np.cos( lat2 )*np.cos( lon2-lon1 )\n",
    "    \n",
    "    cosTheta = np.array( cosTheta )\n",
    "    cosTheta[ cosTheta> 1 ] = 1  # debug .... cas si lat1==lat2 et lon1 == lon2\n",
    "    \n",
    "    theta = np.arccos( cosTheta )\n",
    "    \n",
    "    return theta*R"
   ]
  },
  {
   "cell_type": "markdown",
   "metadata": {},
   "source": [
    "Rq: On retrouve bien l'ancienne définition du mètre: dix millionème (e-7) du quart du méridien terrestre, (mais pas exactement...?) :"
   ]
  },
  {
   "cell_type": "code",
   "execution_count": 119,
   "metadata": {},
   "outputs": [
    {
     "data": {
      "text/plain": [
       "10007.557535177228"
      ]
     },
     "execution_count": 119,
     "metadata": {},
     "output_type": "execute_result"
    }
   ],
   "source": [
    "getdistance_trigo( 0, 0, 90, 90 )"
   ]
  },
  {
   "cell_type": "code",
   "execution_count": 130,
   "metadata": {},
   "outputs": [
    {
     "data": {
      "text/plain": [
       "6096.6333950173703"
      ]
     },
     "execution_count": 130,
     "metadata": {},
     "output_type": "execute_result"
    }
   ],
   "source": [
    "# distance Grenoble - New York\n",
    "getdistance_trigo( 45.166672, 5.71667 , 43.2994285, -74.2179326 )"
   ]
  },
  {
   "cell_type": "markdown",
   "metadata": {},
   "source": [
    "# Recherche systématique"
   ]
  },
  {
   "cell_type": "markdown",
   "metadata": {},
   "source": [
    "![schéma sommet - planète ](sch_distance_planet.png)\n",
    "\n",
    "Les étapes du calculs, dans l'ordre:\n",
    "- Un sommet est défini comme centre, c.a.d. le soleil ( ☉ ).\n",
    "- Les distances de tout les sommets depuis ce centre sont calculées (et triée)\n",
    "- Pour une distance donnée (km), on cherche le sommet le plus proche. \n",
    "- Pour un facteur de proportion donnée ( c.a.d. la distance correspondant à la Terre, 🜨 ), on trouve les sommets les plus proches pour chaque planète. \n",
    "- Donc pour un centre 'soleil' et un facteur de proportion donnés, on calcul la somme des erreurs sur toutes les planètes.\n",
    "- Pour un centre 'soleil' donné, le facteur de proportion donnant l'erreur totale minimale est recherchant (en testant tout les sommets proche)\n",
    "\n",
    "- Les sommets autour de Grenoble donnant les plus petites erreurs comme soleil sont recherchés"
   ]
  },
  {
   "cell_type": "markdown",
   "metadata": {},
   "source": [
    "### Recherche à partir d'un centre"
   ]
  },
  {
   "cell_type": "code",
   "execution_count": 131,
   "metadata": {
    "collapsed": true
   },
   "outputs": [],
   "source": [
    "def get_alldistfromcoords( lat_Sol, lon_Sol  ):\n",
    "    \"\"\" Calcul toutes les distances des sommets par rapport au point indiqué\n",
    "        lat_Sol, lon_Sol : lattitude et longitude (en deg decimal) du point\n",
    "        return: liste nom des sommets, liste des distances - triées\n",
    "    \"\"\"\n",
    "    distancesAuSoleil = {}\n",
    "    for name, sommet in dicosommets.items():\n",
    "        lat, lon = sommet['lat'], sommet['lon']\n",
    "        distancesAuSoleil[name] = getdistance_trigo( lat_Sol, lon_Sol, lat, lon )\n",
    "        \n",
    "    sorted_data = sorted( distancesAuSoleil.items(), key=lambda x:x[1] )\n",
    "    sorted_name, sorted_dist = zip( *sorted_data )\n",
    "    \n",
    "    return sorted_name, np.array( sorted_dist )\n",
    "\n",
    "def get_alldistfromsun( soleil ):\n",
    "    \"\"\"  même chose mais avec la clé 'soleil' en entrée\n",
    "    \"\"\"\n",
    "    lat_Sol = dicosommets[soleil]['lat']\n",
    "    lon_Sol = dicosommets[soleil]['lon']\n",
    "\n",
    "    return get_alldistfromcoords( lat_Sol, lon_Sol  )"
   ]
  },
  {
   "cell_type": "code",
   "execution_count": 136,
   "metadata": {
    "collapsed": true
   },
   "outputs": [],
   "source": [
    "def findnearest( sorted_dist, d ):\n",
    "    \"\"\" fonction qui permet de trouver le sommet le plus proche d'une certain distance d\n",
    "        p/r au sommet 'soleil'\n",
    "        return : indice dans la liste\n",
    "    \"\"\"\n",
    "    all_distances  = np.abs( sorted_dist - d ) \n",
    "    return np.argmin( all_distances )\n",
    "\n",
    "# Calcul de l'erreur :\n",
    "def get_error(  sorted_dist, d, i ):\n",
    "    return 100*np.abs( sorted_dist[i] - d ) /( d + sorted_dist[i] )*2\n",
    "\n",
    "# Cherche le plus proche, et retourne l'erreur\n",
    "def find_and_geterror( sorted_dist, d ):\n",
    "    i = findnearest( sorted_dist, d )\n",
    "    return get_error(  sorted_dist, d, i )\n",
    "\n",
    "# Cherche le plus proche, et retourne le nom, l'erreur, et la distance du sommet\n",
    "def findnearest_disp( sorted_name, sorted_dist, d ):\n",
    "    i = findnearest( sorted_dist, d )\n",
    "    error = get_error(  sorted_dist, d, i )\n",
    "    name = sorted_name[i]\n",
    "    \n",
    "    return name, error, sorted_dist[i]"
   ]
  },
  {
   "cell_type": "code",
   "execution_count": 153,
   "metadata": {},
   "outputs": [
    {
     "name": "stdout",
     "output_type": "stream",
     "text": [
      "Le sommet à 2.80km du Moucherotte est Roche Rousse avec une erreur de 19.9%\n"
     ]
    }
   ],
   "source": [
    "# - test-\n",
    "soleil = 'Moucherotte' \n",
    "#soleil = 'La Grande Moucherolle' \n",
    "#soleil = 'Grand Veymont'\n",
    "distance_test = 2.8 # km\n",
    "\n",
    "sorted_name, sorted_dist = get_alldistfromsun( soleil )\n",
    "i = findnearest( sorted_dist,  distance_test )\n",
    "error = get_error( sorted_dist, distance_test, i )\n",
    "\n",
    "print( 'Le sommet à %.2fkm du %s est %s avec une erreur de %.1f%%' % (distance_test, soleil, sorted_name[ i  ], error) )"
   ]
  },
  {
   "cell_type": "code",
   "execution_count": 154,
   "metadata": {},
   "outputs": [
    {
     "data": {
      "text/plain": [
       "19.876266229644461"
      ]
     },
     "execution_count": 154,
     "metadata": {},
     "output_type": "execute_result"
    }
   ],
   "source": [
    "find_and_geterror( sorted_dist, distance_test )"
   ]
  },
  {
   "cell_type": "markdown",
   "metadata": {},
   "source": [
    "### Erreur pour toutes les planètes\n",
    "Rayon des orbites (demi-grand axe) en unité astronomique, c.a.d. la distance Terre-Soleil :"
   ]
  },
  {
   "cell_type": "code",
   "execution_count": 18,
   "metadata": {
    "collapsed": true
   },
   "outputs": [],
   "source": [
    "planetes_noms = ['Mercure', 'Vénus', 'Terre', 'Mars', 'Cérès', 'Jupiter', 'Saturne', 'Uranus', 'Neptune', 'Pluton']\n",
    "planetes_UA = [ 0.38710, 0.72333, 1, 1.52366, 2.7665, 5.20336, 9.53707, 19.1913, 30.0690, 39.4817 ]"
   ]
  },
  {
   "cell_type": "code",
   "execution_count": 156,
   "metadata": {
    "collapsed": true
   },
   "outputs": [],
   "source": [
    "def get_errorsum( sorted_dist, d_Terre ):\n",
    "    \"\"\" Calcul la somme des erreurs pour toutes les planètes, avec un facteur de conversion donnee\n",
    "        d_Terre (km) est la distance équivalent à l'orbite terrestre (1UA)\n",
    "    \"\"\"\n",
    "    errors = [ find_and_geterror( sorted_dist, d_UA * d_Terre ) for d_UA in  planetes_UA ]\n",
    "    return sum( errors )"
   ]
  },
  {
   "cell_type": "code",
   "execution_count": 162,
   "metadata": {},
   "outputs": [
    {
     "data": {
      "image/png": "[encoded data removed]",
      "text/plain": [
       "<matplotlib.figure.Figure at 0x7f3fca8e7be0>"
      ]
     },
     "metadata": {},
     "output_type": "display_data"
    }
   ],
   "source": [
    "# - test -\n",
    "soleil = 'Grand Veymont'\n",
    "\n",
    "sorted_name, sorted_dist = get_alldistfromsun( soleil )\n",
    "\n",
    "d_span = sorted_dist[1:81]\n",
    "error_span = [ get_errorsum( sorted_dist,  d ) for d in d_span ]\n",
    "\n",
    "plt.plot( d_span, error_span, '.:'  );\n",
    "plt.xlabel('d_Terre (km)'); plt.ylabel('somme des erreurs'); plt.title('☉: %s'%soleil);"
   ]
  },
  {
   "cell_type": "code",
   "execution_count": 166,
   "metadata": {
    "collapsed": true
   },
   "outputs": [],
   "source": [
    "def get_best_d( soleil ):\n",
    "    \"\"\" Recherche (brute) du meilleur facteur de proportion pour un soleil donné\n",
    "    \"\"\"\n",
    "    sorted_name, sorted_dist = get_alldistfromsun( soleil )\n",
    "\n",
    "    d_span = sorted_dist[1:81]\n",
    "    error_span = np.array([ get_errorsum( sorted_dist,  d ) for d in d_span ])\n",
    "    \n",
    "    i_min =  np.argmin( error_span )\n",
    "    \n",
    "    return d_span[ i_min ], error_span[ i_min ]"
   ]
  },
  {
   "cell_type": "code",
   "execution_count": 167,
   "metadata": {},
   "outputs": [
    {
     "data": {
      "text/plain": [
       "(5.851824962565626, 17.201411793511038)"
      ]
     },
     "execution_count": 167,
     "metadata": {},
     "output_type": "execute_result"
    }
   ],
   "source": [
    "get_best_d( soleil )"
   ]
  },
  {
   "cell_type": "markdown",
   "metadata": {},
   "source": [
    "# Recherche du 'soleil'"
   ]
  },
  {
   "cell_type": "markdown",
   "metadata": {},
   "source": [
    "## Sommets les plus proches de Grenoble\n",
    "\n",
    "On cherche un endroit autour de Grenoble. Les sommets sont donc testés, dans l'ordre, en commançant par le plus proche. "
   ]
  },
  {
   "cell_type": "code",
   "execution_count": 168,
   "metadata": {
    "collapsed": true
   },
   "outputs": [],
   "source": [
    "# position de Grenoble\n",
    "lat_Gre, lon_Gre = 45.166672, 5.71667 \n",
    "\n",
    "# liste ordonnée des distances :\n",
    "name_nearGre, dist_nearGre = get_alldistfromcoords( lat_Gre, lon_Gre  )"
   ]
  },
  {
   "cell_type": "code",
   "execution_count": 171,
   "metadata": {},
   "outputs": [
    {
     "name": "stdout",
     "output_type": "stream",
     "text": [
      "Mont Jalla (4.19 km), Mont Rachais (5.91 km), Les 3 Pucelles (6.03 km), Mollard Gargot (6.30 km), Moucherotte (6.42 km), Le Fournet (6.58 km), Les Quatre Seigneurs (7.05 km), Le Néron (7.58 km), Bellevue (8.41 km), Saint-Eynard (8.53 km), Le Quichat (8.57 km), Roche Rousse (8.67 km), Pravena (8.81 km), La Dent du Loup (9.52 km), Charande (9.99 km), Le Cornillon (10.05 km), L'Écoutoux (10.12 km), L'Aiguille (10.45 km), Aiguille de Quaix (11.17 km), Pic Saint-Michel (11.40 km)\n"
     ]
    }
   ],
   "source": [
    "print ( ', '.join( [ '%s (%.2f km)'%x for x in zip( name_nearGre, dist_nearGre ) ][:20]) )"
   ]
  },
  {
   "cell_type": "code",
   "execution_count": 172,
   "metadata": {
    "collapsed": true
   },
   "outputs": [],
   "source": [
    "# Calcul des sommes des erreurs pour les N premiers sommets :\n",
    "N = 100\n",
    "res = [ (soleil, get_best_d( soleil )) for soleil in name_nearGre[:N] ]"
   ]
  },
  {
   "cell_type": "code",
   "execution_count": 173,
   "metadata": {
    "collapsed": true
   },
   "outputs": [],
   "source": [
    "# trie des des sommes des erreurs :\n",
    "res = sorted( res, key=lambda x:x[1][1] )"
   ]
  },
  {
   "cell_type": "code",
   "execution_count": 174,
   "metadata": {},
   "outputs": [
    {
     "name": "stdout",
     "output_type": "stream",
     "text": [
      "                        Pic Couttet: 2.95    erreur cumulée=    1.4%\n",
      "            Grand Pic de Belledonne: 3.40    erreur cumulée=    2.3%\n",
      "                  Le Grand Charnier: 3.39    erreur cumulée=    2.4%\n",
      "                 Pointe de Vaudaine: 3.92    erreur cumulée=    3.1%\n",
      "                      Grand Replomb: 3.96    erreur cumulée=    3.4%\n",
      "             Petite Lance de Domène: 3.88    erreur cumulée=    3.5%\n",
      "                       Grand Eulier: 4.08    erreur cumulée=    3.5%\n",
      "             Grande Lance de Domène: 3.11    erreur cumulée=    3.8%\n",
      "                  Rocher de l'Homme: 3.64    erreur cumulée=    4.1%\n",
      "                    Grande Lauzière: 3.99    erreur cumulée=    4.3%\n",
      "                          Grand Van: 3.66    erreur cumulée=    5.0%\n",
      "                      Sommet Colomb: 2.97    erreur cumulée=    5.0%\n",
      "          Pic Central de Belledonne: 2.91    erreur cumulée=    5.1%\n",
      "             Petite Lance du Crozet: 3.65    erreur cumulée=    5.1%\n",
      "            Pointe de Jasse Bralard: 3.70    erreur cumulée=    5.2%\n",
      "                        Le Galeteau: 4.21    erreur cumulée=    6.2%\n",
      "                Croix de Chamrousse: 4.20    erreur cumulée=    6.3%\n",
      "                        Pic du Loup: 4.09    erreur cumulée=    6.4%\n",
      "               Pic du Grand Doménon: 4.00    erreur cumulée=    6.8%\n",
      "                Les Trois Officiers: 3.51    erreur cumulée=    7.0%\n",
      "                 Pointe de la Sitre: 3.57    erreur cumulée=    7.3%\n",
      "                          Petit Van: 3.89    erreur cumulée=    7.4%\n",
      "                Croix de Belledonne: 3.85    erreur cumulée=    7.7%\n",
      "                     Pic de Mirebel: 4.15    erreur cumulée=    8.0%\n",
      "                      Petit Replomb: 3.93    erreur cumulée=    8.5%\n",
      "                      Grand Sorbier: 2.10    erreur cumulée=    8.6%\n",
      "                         L'Écoutoux: 4.53    erreur cumulée=    8.8%\n",
      "                     Pic de la Fare: 4.63    erreur cumulée=    9.9%\n",
      "            Grande Lance d'Allemont: 3.18    erreur cumulée=   11.3%\n",
      "                   Pic de la Pierre: 2.54    erreur cumulée=   11.4%\n",
      "                       Saint-Eynard: 3.96    erreur cumulée=   13.0%\n",
      "                         Mont Jalla: 4.64    erreur cumulée=   13.8%\n",
      "                     Les 3 Pucelles: 4.54    erreur cumulée=   15.3%\n",
      "                         Le Quichat: 3.41    erreur cumulée=   15.5%\n",
      "                 Rochers de Chalves: 4.15    erreur cumulée=   15.6%\n",
      "                    Dent de Crolles: 4.13    erreur cumulée=   16.0%\n",
      "                           Pravouta: 4.54    erreur cumulée=   17.7%\n",
      "                        Grand Colon: 4.57    erreur cumulée=   17.8%\n",
      "                  Rocher de Lorzier: 4.44    erreur cumulée=   18.9%\n",
      "                       Mont Rachais: 4.28    erreur cumulée=   20.0%\n"
     ]
    }
   ],
   "source": [
    "# Le top 40 :\n",
    "for soleil, d_and_error in res[:40]:\n",
    "    d_Terre_opti, error = d_and_error\n",
    "    print( '{0:>35}: {1:3.2f}    erreur cumulée={2:7.1f}%'.format(soleil, d_Terre_opti, error ) )"
   ]
  },
  {
   "cell_type": "markdown",
   "metadata": {},
   "source": [
    "Maintenant, en choisisant un sommet pour le 'soleil', on peut lister les autres sommets correspondant aux planètes :"
   ]
  },
  {
   "cell_type": "code",
   "execution_count": 175,
   "metadata": {},
   "outputs": [
    {
     "name": "stdout",
     "output_type": "stream",
     "text": [
      "soleil : L'Écoutoux \n",
      "\n",
      "   Planète  Sommet                              Erreur(%)   Distance(km)\n",
      "----------------------------------------------------------------\n",
      "   Mercure: Saint-Eynard (1359m)                   2.94        1.8\n",
      "     Vénus: Aiguille de Quaix (1143m)              1.02        3.3\n",
      "     Terre: Chamechaude (2082m)                    0.00        4.5\n",
      "      Mars: Rochers de Chalves (1845m)             0.33        6.9\n",
      "     Cérès: La Sure (1643m)                        1.34       12.7\n",
      "   Jupiter: Pic de l'apparence (2714m)             0.03       23.6\n",
      "   Saturne: Croix du Nivolet (1547m)               0.03       43.2\n",
      "    Uranus: Cima dei Fourneaux (3207m)             0.01       87.0\n",
      "   Neptune: Punta Cialme (2463m)                   0.04      136.4\n",
      "    Pluton: Corne de Sorebois (2895m)              3.06      173.6\n"
     ]
    }
   ],
   "source": [
    "## Vérif : \n",
    "soleil =  \"Saint-Eynard\" \n",
    "soleil = \"Grand Pic de Belledonne\" \n",
    "soleil = 'Pravouta'\n",
    "soleil = \"L'Écoutoux\"\n",
    "\n",
    "sorted_name, sorted_dist = get_alldistfromsun( soleil )\n",
    "\n",
    "d_Terre, error = get_best_d( soleil )\n",
    "\n",
    "print('soleil : %s \\n'% soleil )\n",
    "\n",
    "print( '{0:>10}  {1:35} {2}   {3}'.format('Planète', 'Sommet',  'Erreur(%)', 'Distance(km)') )\n",
    "print( '----------------------------------------------------------------' )\n",
    "\n",
    "for i, n in enumerate( planetes_noms ):\n",
    "    d_UA = planetes_UA[i]\n",
    "    pic_proche, erreur, d_reel = findnearest_disp(sorted_name, sorted_dist, d_UA * d_Terre )\n",
    "    \n",
    "    alt = get_alt( dicosommets[pic_proche] )\n",
    "    pic_name = '%s (%im)'%(pic_proche, alt)\n",
    "    print( '{0:>10}: {1:35} {2:7.2f}    {3:7.1f}'.format(n, pic_name,  erreur, d_reel) )"
   ]
  },
  {
   "cell_type": "markdown",
   "metadata": {},
   "source": [
    "### Affichage sur une carte\n",
    "\n",
    "Avec le module python `folium`, qui utilise la librairie javascript `leaflet.js` et _openstreetmap_, il est possible d'afficher une carte dans le notebook.\n",
    "\n",
    "http://python-visualization.github.io/folium/  \n",
    "https://github.com/python-visualization/folium"
   ]
  },
  {
   "cell_type": "code",
   "execution_count": 176,
   "metadata": {
    "collapsed": true
   },
   "outputs": [],
   "source": [
    "# Creation de la carte\n",
    "\n",
    "s = dicosommets[ soleil ]\n",
    "coords_soleil = [   s['lat'], s['lon'] ]\n",
    "\n",
    "\n",
    "solar_map = folium.Map(location=coords_soleil, zoom_start=12 \n",
    "                     , tiles='Stamen Terrain')"
   ]
  },
  {
   "cell_type": "code",
   "execution_count": 177,
   "metadata": {
    "collapsed": true
   },
   "outputs": [],
   "source": [
    "# Ajout des planètes :\n",
    "for i, n in enumerate( planetes_noms ):\n",
    "    d_UA = planetes_UA[i]\n",
    "    pic_proche, erreur, d_reel = findnearest_disp(sorted_name, sorted_dist, d_UA * d_Terre )\n",
    "    \n",
    "    s = dicosommets[ pic_proche ]\n",
    "    coords = [s['lat'], s['lon']]\n",
    "    name = '%s - %s' %(pic_proche, n)\n",
    "    \n",
    "    # marker\n",
    "    folium.map.Marker(location=coords, popup=name, \n",
    "         icon=folium.Icon(color='blue', icon_color='white',icon='fa-globe', prefix='fa') ).add_to(solar_map)\n",
    "    \n",
    "    # ligne soleil - planete\n",
    "    lines = [coords_soleil, coords]\n",
    "    folium.features.PolyLine(lines).add_to(solar_map)"
   ]
  },
  {
   "cell_type": "code",
   "execution_count": 178,
   "metadata": {},
   "outputs": [
    {
     "data": {
      "text/html": [
       "<div style=\"width:100%;\"><div style=\"position:relative;width:100%;height:0;padding-bottom:60%;\"><iframe src=\"data:text/html;charset=utf-8;base64,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\" style=\"position:absolute;width:100%;height:100%;left:0;top:0;border:none !important;\" allowfullscreen webkitallowfullscreen mozallowfullscreen></iframe></div></div>"
      ],
      "text/plain": [
       "<folium.folium.Map at 0x7f3fca8c5cc0>"
      ]
     },
     "execution_count": 178,
     "metadata": {},
     "output_type": "execute_result"
    }
   ],
   "source": [
    "# Affiche la carte\n",
    "solar_map"
   ]
  },
  {
   "cell_type": "markdown",
   "metadata": {},
   "source": [
    "# Pour la suite\n",
    "\n",
    "- Calcul de l'horizon, pour réduire le nombre de candidats\n",
    "- Taille des planètes et du soleil à l'échelle\n",
    "\n",
    "- recherche non systématique, mais intelligente :  le sommet visible plus loin est le Mont-Blanc, donc ce doit être Neptune ...\n",
    "- Rechercher les seconds, 3ième ... etc minimums  qui peuvent être plus remarquable que le premier...\n",
    "\n",
    "- placement des lunes\n",
    "- Carte avec symboles \n"
   ]
  },
  {
   "cell_type": "code",
   "execution_count": null,
   "metadata": {
    "collapsed": true
   },
   "outputs": [],
   "source": []
  }
 ],
 "metadata": {
  "kernelspec": {
   "display_name": "Python 3",
   "language": "python",
   "name": "python3"
  },
  "language_info": {
   "codemirror_mode": {
    "name": "ipython",
    "version": 3
   },
   "file_extension": ".py",
   "mimetype": "text/x-python",
   "name": "python",
   "nbconvert_exporter": "python",
   "pygments_lexer": "ipython3",
   "version": "3.5.2"
  }
 },
 "nbformat": 4,
 "nbformat_minor": 2
}
