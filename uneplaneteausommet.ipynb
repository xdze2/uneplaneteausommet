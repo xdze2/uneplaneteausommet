{
 "cells": [
  {
   "cell_type": "code",
   "execution_count": 3,
   "metadata": {
    "collapsed": true
   },
   "outputs": [],
   "source": [
    "import matplotlib.pyplot as plt\n",
    "%matplotlib inline"
   ]
  },
  {
   "cell_type": "code",
   "execution_count": 4,
   "metadata": {
    "collapsed": true
   },
   "outputs": [],
   "source": [
    "import json\n",
    "import numpy as np"
   ]
  },
  {
   "cell_type": "markdown",
   "metadata": {},
   "source": [
    "# Une planète au sommet\n",
    "\n",
    "L'idée est de créer un modèle du système solaire en plaçant les planètes aux sommets des montagnes. C'est la même idée que ce projet réalisé dans le désert du Névada, voir la vidéo [To Scale: The Solar System](https://www.youtube.com/watch?v=zR3Igc3Rhfg).\n",
    "\n",
    "**La question**: Peut-on trouver une combinaison de sommets dont les distances à un sommet particulier (le soleil) sont proportionelles aux rayons des orbites des planètes ?"
   ]
  },
  {
   "cell_type": "markdown",
   "metadata": {},
   "source": [
    "## Liste des sommets autour de grenoble\n",
    "\n",
    "Les données sont issus de OpenStreetMap, avec l'outil [overpass](http://overpass-turbo.eu/). Chercher `Peak`.\n",
    "\n",
    "http://overpass-turbo.eu/s/qCF\n",
    "\n",
    "On obtient un _json_ avec les coordonnées GPS, le nom, l'altitude."
   ]
  },
  {
   "cell_type": "code",
   "execution_count": 5,
   "metadata": {},
   "outputs": [
    {
     "data": {
      "text/plain": [
       "3753"
      ]
     },
     "execution_count": 5,
     "metadata": {},
     "output_type": "execute_result"
    }
   ],
   "source": [
    "with open('sommet_gre_large.json') as data_file:    \n",
    "    datasommets = json.load(data_file)\n",
    "\n",
    "datasommets = datasommets['elements']\n",
    "\n",
    "len( datasommets )"
   ]
  },
  {
   "cell_type": "code",
   "execution_count": 6,
   "metadata": {
    "collapsed": true,
    "scrolled": false
   },
   "outputs": [],
   "source": [
    "\"\"\" extrait le nom du sommet pour en faire la clé d'un dico\n",
    "    + supprime les doublons et sommet sans nom\n",
    "\"\"\"\n",
    "dicosommets = {}\n",
    "for sommet in datasommets :\n",
    "    if 'name' in sommet['tags']:\n",
    "        name =  sommet['tags']['name']\n",
    "        if name not in dicosommets:\n",
    "            dicosommets[ name ] = sommet"
   ]
  },
  {
   "cell_type": "code",
   "execution_count": 7,
   "metadata": {},
   "outputs": [
    {
     "data": {
      "text/plain": [
       "'L\\'Âne,  Cima del Vallonetto,  Roc Roux,  Rocca Blancia,  La Rousette,  Rocher de l\\'Épiremmont,  Mont-Blanc de Peisey,  La Massour,  Les Suches,  Tête de Lauranoure,  Pointe des Arandelières,  Tête des Filons,  Rocca Praboccia,  Ménil,  Geffriand,  La Cathédrale,  L\\'Étale,  Monte Tournour,  Punta Croset (o Carlera),  Pointe de Lanserlia,  Mont Monchette,  Picco Luigi Amedeo,  Pointe Coppi,  Les 3 Croix,  San Giorgio,  Punta del Mezzodì,  Roche des Prés,  Becca di Fos,  Le Suet,  Mont Dolent,  Pic des Chalanches,  Monte Paletto,  Monte Lera,  Bonnet des Cavales,  Le Petit Arc,  Signal du Lauvitel,  Punta Trento,  Clocheret,  Sommet Nord-Ouest de la Roche d\\'Alvau,  Rocca Turi,  punta Rognosa,  Aiguille Michel,  Grande Chenalette,  Cima di Pienasea,  Mont Oreb,  Col de Viraysse,  Pointe du Prélet,  Le Sommet Rouge,  Rocca Ciarva - anticima sud,  Sommet Sud de Sarenne,  Aiguille du Jardin,  Aiguille d\\'Entrèves,  Monte Castlus,  Testa del Gavio,  Aiguille de l\\'Épaisseur,  Aiguille de Praz-Torrent,  Punta Fea Nera,  Entre Piniers,  Mount Cordine,  Aiguille du Bouchet,  Roc du Fond,  Pic Ouest de la Côte Belle,  Sommet du Grand Vallon,  Pointe Gravelotte,  Petit Mont Blanc,  Punta Quattro Sorelle,  Pigne d\\'Arolla,  Crey du Quart,  Pic Bourcet,  Aiguille de Polset,  Cappello d\\'Envie,  Pointe de la Roche Jaille,  Crêt des Tervelles,  La Chal,  Rocher Renard,  Pointe du Vallon,  Pointe de Celse Nière,  Le Conce,  Monte Gran Bernardè,  La Petite Sœur - Sophie,  Mont Margeriaz,  Roccia Frace,  Tête du Coin de l\\'Ours,  Tête Virante,  Pointe des Trois Scies,  Mont Jalla,  Croix de Cibouit,  Pointe Gaspard,  Becca del Merlo,  Tête W des Cos,  Aiguille de Vénosc,  Aiguille de la Grande Sassière,  Pointe Feuillette,  La Mître,  Le Grand Crêt d\\'Eau,  Monte Arpone,  Pic de Crigne,  La Tuile (2294 m),  Les Périades,  Pointe du Bouchet,  Grande Tête de l\\'Obiou,  Tête de Pelvas,  Roc du Sérac,  Cresta Gastaldi,  Punta del Lago Nord,  Pointe de Puvat,  Becca Laugier,  Le Luisin,  Rocca di Cavour,  Le Grand Area,  Rocca dell\\'Aquila,  Testa del Coin,  Croix du Ratier,  Tours Vallée Étroite,  Bric Cassin sud-est,  Le Caneton,  Pic de Coni Borni,  Pointe de la Galoppaz,  Le Grand Arc,  Le Ritord,  Mont Granier,  Truc dei Prati,  Grandes Jorasses/ Pointe Whymper,  Pic Brusalana,  Monte Arzola,  Pointe de Pécé,  Guglia d\\'Arbour,  Le Trélod,  Torre Lavina Nord,  La Gardette,  La Ciarma,  Vers la Tête,  Pointe de la Beccaz,  Le Roignais,  Pointe de l\\'Arbaron,  Pointe de l\\'Echelle,  Monte Cialmetta,  Cima di San Michele,  Pointe Giornivetta,  Monte Oronaye,  Croce di Ferro,  Aiguille Croux,  Punta Costan,  Punta Moucrons,  Passo del Veilet,  Pointe du Montet,  Tête d\\'Albiez-le-Vieux,  Mont Charvais,  L\\'Aupillon,  Tête de la Garde,  Roche Muraz,  Sommet du Soreiller,  Rocce Fourioun,  La Sure,  Pic Nord de la Buffe d\\'en Haut,  Cima di Costa Piana,  Rocca Bianca cima Nord Est,  Monte Piagna,  Le Grand-Coin,  Pic de Mal Cros,  Mont Avril,  Grandes Buffes,  Punta del Ran,  Pointe du Sélé,  Pointe de l\\'Invernet,  Mont des Princes,  Punta Prato di Fiera,  Grande Sûre,  Monte Orsiera punta nord,  Tête de Vachères,  Poype de Bernoud,  Tête de Dormillouse,  Montagne d\\'Entrevernes,  Roc de Touleau,  Monte Ferra,  Clocher des Écrins,  Petit Veymont,  Mont Orel,  Sommet de Prelles,  Bric Arcet,  Serre Chevalier,  Monte Pitre de l\\'Aigle,  Grand Pic de la Meije,  Aiguille d\\'Aujon,  Roccia Viva,  Rocce Meano,  Monte Emilius,  Aiguille de l\\'Eveque,  Tête de Chante-Perdrix,  Punta Gianni,  Pic de la Moulinière,  Piccolo Monte Turlo,  Monte Avic,  Bel Oiseau,  Rocha Chabert,  Cima della finestra di Stroppia,  Mont Joux,  Dent du Pra,  Montagne de Mielandre,  Pointe des Frères Chamois,  Gros Peyron,  Pelvo Chiausis,  Le Gargas 2208 m,  Pointe du Petit Fond Blanc,  Sommet du Tisserand,  L\\'Alpette,  Grande Fourche,  plan du col,  Monte Plu,  Cime du Vallon,  Monte Lera Centrale,  Le Signal,  Tête de Plate Longe,  Tête de Malacoste,  Mont Gerbier,  Petit Mont Collon,  Aiguille d\\'Orny,  Petit Assaly,  La Cucumelle,  Testa dell\\'Autaret,  Mont Guillaume,  Sex Quinaudoz,  Pierra Menta,  Pointe de la Crête du Plan,  Bec Rouge,  Roche Plane,  M. Presa Vecchia,  Pointe Salvador,  Mont Pellat,  Croix de la Cime,  Fau Cuchet,  L\\'Arche,  Truc Blanc,  Punta Gordan,  Triangle du Tacul,  Tête de Gandin,  Montagne de Sous-Dîne,  La Tulle,  Pointe Francesetti,  Punta Cirel,  Pointe de Fresse,  La Grande Combe,  Le Chaperon,  Punta Albaron di Sea,  Pointe Chalonge,  Mollard de la Grande Vache,  Les Reffes,  Roche Château,  Punta di Galisia,  Tré le Mollard,  Monte Meabé,  Crête d\\'Argentière,  Becca France,  Punta Fournà,  Tête du Grenairon,  Gran Testa,  Grande Rousse S,  Roche du Chardonnet,  Tête de Ruburent,  Le Signal du Génie,  Pointe d\\'Ormelune,  La Torretta,  Crêt de Châtillon,  Montagne de Laups Duffre,  Mont Grauson,  Ouille du Midi,  Monte Servin,  Mont Chetif,  L\\'Epée,  Mont Cormet,  Pointe de Chamossière,  Dent du Caïman,  Dôme des Sonnailles,  La Petite Miaz,  Pointe de Chombas,  Roc du Four Magnin,  Aiguille de Barsin,  Cima di Percia S,  Monte Fassolino,  (Les Otanes),  Tour Isabelle,  Cugulet,  Pointe de la Masse,  Grande Lance de Domène,  Aiguille Rouge de Rochefort,  Punta Ciatagnera,  Tête de Louis-Philippe,  Cima la Rossa,  Croix des Bergers,  Monte Scaletta,  L\\'Enclave,  Aiguille Orientale de la Saussaz,  L\\'Evêque,  Monte Corbioun,  Lanche Close,  La Viste,  La Grande Roche,  Pointe de Lapaz,  Pointe de Ronce,  Sommet de Saint-Sagier,  Aiguille de Leschaux,  Brêche de Pacave,  Pointe de Sosay,  Rocher des Lauzes,  Monte Pirchiriano,  Pointe de la Golèse,  Grand Roc,  Crêt du Milieu,  Punta Pratta,  Punta Cialier,  i Brillet,  Roche Courbe,  Bric Turle,  Le Tuba,  Ouille d\\'Arbéron,  Grande Vanne,  Pointe de Peaumont,  Pointe de Balafrasse,  Bec pointu,  Les Pointes Longues,  Mont Tondu,  Tête de la Courbe,  Pointe des Grands Becs,  Le Neyrard,  Roccia Castello,  Rocca Senghi,  Punta Ramière,  Rocca Peroni,  le Pyramides Calcaires,  Tête de Villy,  Roche Paillon,  Il Sigaro,  Grande Aiguille de l\\'Arcelin,  Pic Traverse,  Pierre Avoi 360,  Sex des Granges,  Serre Thibaud,  Pointe Bravais,  2284 m,  Pic de la Varise,  Pointe d\\'Orny,  Punta Tersiva,  Tête Sud du Replat,  Cime de Saurel,  Mont Herban,  L\\'Oreille du Loup 2291 m,  Pic de l\\'Agrenier,  Pic de la Temple,  Pic des Aupillous,  Aiguille de l\\'Encrenaz,  Truc Carlevé,  Grande Lauzière,  Punta Dormillouse,  Charande,  Mont Blegier,  Pointe Nord de la Selle,  Pic Bunard,  Monte Parpaiola,  Pointe Duhamel,  Le Roc Noir,  Le Crêt d\\'Albigny,  Mont de l\\'Étoile,  Aiguille de Chardonnet,  Mont Rogneux 3084,  Pointe du Demi,  La Grande Moucherolle,  Mont Falcon,  Pointe de Labby,  Punta Cornet,  Becca di Monciair,  Pic Moore,  Pointe Castelnau,  Aiguille Sans Nom,  Bric de Rubren,  Index de la Glière,  Bric Boscasso,  Pointe du Nant Cruet,  Tour de Bavon,  Muzan,  Bec Raty centrale,  Tête du Pouget,  Becca del Merlo o di Chamin,  Relais du Mont du Chat,  Tête de la Gipière,  Le Peigne,  Roc des Blanchets,  Sommet de Chatégré,  Pointe des Rougnous,  Corne au Taureau,  Tête du Pas de l\\'Ours,  Le Galeteau,  Aiguille Noire,  Dome du Tsan - Sud,  Mont Broillat,  Cime des Palets,  Dent du Chat,  Grand Colombier,  Montagne de Rachas,  Mont Maudit,  La Breya,  Truc Mortè,  La Dent du Loup,  Bric Cuccettone,  Pelvo d\\'Elva,  Grandes Jorasses/ Pointe Walker,  Gros Martel,  Le Gros Têt,  Tete du Rif de l\\'Are,  Pointe Innomee,  Pointe de Bricolla,  Rocce Rosse,  Tours des Crottes,  Les 3 Pucelles,  Grand Chat,  Pointe des Neyzets,  Monte Belpla,  Mont de la Balme,  Sommet Sud des Bans,  Rocca Pompea,  Monte Cialmassa,  Uja di Mombran Punta Occidentale,  Monte Fraiteve,  Mont Berrio,  Tête de la Platasse,  Piatta De Grevon,  Sommet Jacquette,  Mont Chaberton,  Monte Feuillas,  Monte Lera Antecima Est,  quota 2373,  Grand Roc Noir,  Le Brunet,  Testa di Malmari,  Vanclava,  Monte Rascias,  Choqué di Margrit,  Le Brévent,  Tours de Boverjat,  Le Grand Perron,  Molard de Lavours,  Tete du Bois de Quart,  Roche de la Moutiere,  Monte Cassorso - cima Nord Est,  Monte Genta,  Rochers de la Salla,  La Bourgeoise,  Sommet d\\'Olive,  Punta De La Liére,  Pointe d\\'Escreins,  Monte Lera Orientale,  Pointe Médiane,  Punta Money,  Cugn di Goria,  Monte Vallonasso,  Tête de l\\'Adroit,  Grivola,  La Tour,  L\\'Olan,  Le Gros Crey,  Grande Rousse N,  Pic Saint-Michel,  Monte Midia Soprano,  Rocca Cernauda,  Mont Péaiaux,  Testa di Valnontey,  Roc des Tours,  Aiguille des Arias,  Aiguille Orientale du Soreiller,  Dent Sud de Bertol,  Ouille des Reys,  Épaule Nord Ouest des Bans,  Pointe de L\\'Ouillon,  Petit Bouquetin,  Dos Rond,  Truc de Tsanteleina,  Les Blisiers,  Aiguille de Varan,  Pointe des Arbennes,  Aiguille de Purtscheller,  Bric La Caia,  Punta della Reculaye,  Pointe du Sciallet,  Punta Fiorio,  Aiguille Grive,  Les Trois Aiguilles,  L\\'Arpelin,  Aiguille de Saussure,  Pic de Pied Brun,  Le Pleureur,  Rognosa d\\'Etiache,  Aiguilles Marbrées,  Monte Freide,  Monte Bauveè,  Mont de la Gouille,  Mont Pelvoux Pointe Puiseux,  l\\'Eypiol,  Rocca Albert,  Punta Laval Nord,  Monte Pancherot,  Aiguille du Tour,  Rocca Candelera,  Mont Morion Settentr-,  Becca La Traversière,  La Gratte,  Dôme des Glaciers,  Mont Joigny,  Le Queyrellet,  Le Jandri,  Anticima Punta d\\'Arbella,  Rocca del Forno,  La Blache,  Pointe de l\\'Ifala,  Tête du Château,  Tuas Venezia,  Grand Créton,  Sommet de Barley,  Dent d\\'Emaney,  Monte Morion,  Pointe du Fond Vert,  Rocher Gris,  Tournelon Blanc,  Rocca della Comunetta,  Becca d\\'Aveille,  Punta Loson,  Becca di Viou,  Aiguille de Capdepon,  Brunet,  Roche de Marapa,  Roche Faurio,  Mont Turia,  Monte Ciorneva,  Mont Chevrier,  Pointe de la Sandonière,  Punta di Ondezana,  Pointe du Rocher Blanc,  Roc du Bécoin,  Punta del Cavallo,  Monte Pietraborga,  Bec del Fauset,  Pic de la Sauge,  Cima delle Rossette,  Cima Nonassa,  Pic Arnaudet,  Punta di Ceresole,  Serre Piégu,  Aiguille de l\\'Aigle,  Pic Ouest de Combeynot,  Savoleyres,  Truc del Vento,  Pic de Chabrière,  Le Pécloz,  Pierre Aiguille,  Dent de Cons,  Croix des Enfers,  Tête de Fouran,  Pic de la Pyramide,  Cairn,  Aiguille du Goûter,  Tête Bessone,  Pic d\\'Arsine,  Combin de la Tsessette,  Pointe Chaligne,  Mont Peney,  Rocca Moross,  Mont de la Perrière,  Tête de l\\'Infernet,  Tête centrale des Cos,  Pic des Cabottes,  rocher de Manettaz 1080 m,  Le Pic Haut,  Pointe de la Gorgeat,  La Gardiole de l\\'Alpe,  Tête Nord de la Somme,  Dôme de Vaugelaz,  La Mayt,  Becca de Corbassière,  Sommet du Cugulet,  Tête Coste Belle,  Becco Meridionale della Tribolazione,  Pointe de Pramecou,  Pra Marin,  Pic de Bonvoisin,  Sommet des Anges,  Faux Sommet,  Punta Gialin,  Punta Bassac Nord,  Le Cuchon,  Grenier de Villy,  La Dent du Corbeau,  Rocca Maritano,  Pointe de la Turche,  Punta Barale,  Cima Lusera,  Mont Blanc de Cheilon,  Rocher de Lorzier,  Pointe d\\'Angolon,  Monte San Vittore,  But Sapiau,  Ferrouillet - Pointe Sud,  Punta Galambra,  Mont Chamoux,  Pointe de la Muande,  Grand Sorbier,  Bec d\\'épicoune,  Pointe du Tuet,  Aiguille d\\'Olle,  Auto Vallonasso,  Pic du Dragon,  Pic Nord du Merlet,  Auguille D\\'Artanavaz,  Tour Real,  Dents Blanches Occidentales,  Tête de Maralouches,  Pointe Sisyphe,  L\\'Église de la Tour Sallière,  Point de Combe Bronsin,  Pointe des Verts,  Petit Mont Dragon,  Le Fort,  Couronne de Bréona,  Le Mourjean,  Pic du Rif,  La Petite Turra,  Serre la Grange,  Tête des Verdets,  Montagne de Jocou,  Tête de la Cassille,  Tête du Seigneur,  Sommet de la Trousse,  Cime du Sambuis,  Dent de Moirans,  Mont Clocher,  Tête Nord du Replat,  Monte Paglietta,  Crè Pilone,  Le Pérollier 2183 m,  Tête du Fornelet,  Petit Mont-Fort,  Puyjovent,  Punta Udine,  Le Cuchet,  Pic Blanc du Galibier,  Pointe Xavier Blanc,  Petite pointe de la Galoppaz,  P3614,  Punta de la Crosatie,  Pas de la Tovière,  Grand Cerf,  Bec de l\\'Homme,  Cima del Lupo,  Monte Chandelly,  Puy de la Gagère,  Pointe Perfia,  Cima del Bosco,  Le Moriond,  Tour Choisy,  Mont Sagerou,  Calotte de Rochefort,  Mont Bochor,  La Croix du Roy,  Bonhomme du Tsapi,  Cima di Crosa,  Pic du Thabor,  Les Têtes,  Roche Perfia,  Punta Lausarot,  Pic du Clocher,  Grand Delmas,  Pointe des Sarrasins,  Aiguille de Bocheresse,  Cime de la Jasse,  Pointe Gerboz,  Pointe des Auges,  Monte Sociu,  Punta Welzenbach,  Pic de Peyre Eyraute,  Aiguille de L\\'Amône,  Punta Brendel,  Pierre Plantée,  Pointe d\\'Otemma,  Pointe du Bacheux,  Pointe du Dérochoir,  Roc de Garnesier,  La Poipe,  Pointe Sud de la Grande Felouse,  Bane,  Punta Dante,  Court de Bard,  Croix de Belledonne,  Rocher de Barrabas,  Tête de la Toura,  Le Vay,  Pointe du Baounet,  Punta Clotesse,  Mont Rouge de Peuterey,  Rochers Rouges,  Brèche de Puiseux,  Pic de Séguret,  Mont Belleface,  Bec de la Sasse,  Rocce del Pelvo,  But Saint-Genix,  Berrio Blanc,  Les Grands Moulins,  Cima della Piccola,  Aliet,  Aiguille des Ciseaux,  Roche Bernaude,  Cima Tavorna,  Mont Rond,  Mont Giusalet,  bric Erbules,  Montagne de la Lauze,  Rocher de l’Yret,  Rochers des Enclaves,  Punta Rico,  La Roche Forée,  Grand Lui,  Prachaval,  Tête des Fétoules,  Pointe Thorant,  Pain de Sucre,  Sommet de la Nunda,  Aiguille de la Grande Moendaz,  Arambre,  Roche Brune,  Pointe de la Balme,  Monte Pintas,  Croix de Sainte-Marguerite,  Mont Luisandre,  Tête de Viraysse,  Truc Peyron,  Praroussin,  Mont Grand Pays,  Monte Roletta,  Monte Seguret,  Cima Lubin,  Rocher de l\\'Homme,  Pierre Amion,  Neige de Marie (Punta Maria),  La Rouya,  Mont du Vallon,  Crou de Bleintse,  Pointe Haute de Mary,  Tomba di Matolda,  Roche Veyrand,  Grand Perron des Encombres,  Monte Chersogno,  Pic de la Fourche,  Bec Barmasse,  La Pendine,  Le Petit Brion,  Pointe-de-Peradze,  Monte Ciaslaras,  Téte de Fenétre,  Tête de la Sallaz,  Barre Noire,  Pointe des Boeufs Rouges,  Pointe de Banc Plat,  Briccas,  Pointe de Sous-Dine,  Testa Brusà,  Pointe de Jasse Bralard,  Punta Tre Chiosis,  Le Ferret,  Chamousset,  Crête du Lauzet,  Le Grand Rocher,  Monte Freidour,  Le Grand Galibier,  Tête du Collier,  Cima Chiavesso,  Punta Fiume,  Aiguille du Grand Fond,  Becca d\\'Oren W,  Pointe de Vouilloz,  Tête de Vautisse,  Platary,  Bec de l\\'Orient,  Monte Basso,  Tour du Tignet,  Pointe Swan,  Punta Cargnino,  Roche Aiguë,  Aiguille Centrale d\\'Arves,  Punta Miserino,  Roche Ruinée,  Pic d\\'Asti,  Petit Clocher du Portalet,  Mont Fourchon,  Le Fournet,  Pointe du Domino,  Pointe de la Lentille,  Pic Eccles,  Monte della Tzà - Punta Nord,  Mont Levatel,  La Luette,  Pointe Helbronner,  Pointe de Cupoire,  Monte Nebin (Cima SE),  Le Crachet,  Punta Pousset,  Roche Colombe,  Punta Kurz,  Crest Montu\\',  Roc Rouge / Négresse,  Dent du Ratier,  Monte Crosetta,  Brame Farine,  Aiguille de Coste Rouge,  Pic du Cros,  Pointe des Marmottes Noires,  Brèche de l\\'Irelève,  Auguille De Malatra,  Le Grand Cordonnier,  Rocca Ciarva,  Aiguille Pourrie,  Monte Baron,  Grande Bosse,  Aiguille de la Floria,  Monte Riba del Gias,  Pointe Piaget,  Pointe des Arces,  Clos la Cime,  Monte Chialmo,  Pic de Maloqueste,  Pointe de Pré de Bar,  Becca della Pazienza,  Pic du Génie,  La Dotse,  Le Grand Châtelard,  Bric Severino,  Punta Lunella,  Punta Furchin della Bioula,  Montrond,  Colle Bellacomba,  Tête des Ottans,  P3643,  Les Louèrettes,  Rocca Tovetto,  Rocca del Fasan,  Testa Sula,  Monte Creya,  Monte Viraysse,  Pics de Chamoissière,  Tête du lac Noir,  Pointe du Tsan,  Poggio Tre Croci,  Dôme de Bellefont,  Punta Gias Vej,  Somme Nord des Bans,  Roc Cornafion,  Sommet de la Querlaye,  Pic S des Grandes Lanches,  Pointe de Bertol,  Montseuc,  Aiguille d\\'Août,  La Gran Roccia,  Pointe Marie-Louise,  Anticima Punta Basei,  Tête des Lauzieres,  Pointe des Verres,  Aiguille de Tré-la-Tête Centrale Nord-Ouest,  Monte Calvo,  Le Gicon,  Courcousson,  Mont Saint-Michel,  Punta Novalesa,  Grand Pilier d\\'Angle,  Turge de Peyron,  Aiguilles Rouges d\\'Arolla,  Cresta Moncortil,  Aiguille du Midi des Andrieux,  Col du Cruq des Aiguilles,  Crêt de Pont,  Crête du Fioc,  Torre del Gran San Pietro,  Tête de la Frema,  Testa Missirola,  Petit Perron,  Tête du Tissap,  Pointe de la Vélière,  Punta Serena,  Grand Darray,  Cime de la Valette,  Jambe Route,  Le Fornelet,  Pointe Du Drinc,  Rocca Nera,  Ciarforon,  Aiguille de Tronchey,  Le Fifre,  Le Barle,  Pic du Pelvat,  Pointe du Griffon,  Barrouard,  Cresta Nera,  Le Coiro,  Montagne d\\'Ambel,  Monte Pertusà,  Pointe de Chamois,  Pointe du Creux Noir,  Becca di Montandayné,  Punta Curbasiri,  Tête de Plate Longue,  Flambeau,  Cima Nera,  Pointe de Comberousse,  Monte Albergian,  Aiguille Martin,  Le Grand Coin,  Testa di Liconi,  Tour des Rousses,  Pointe des Pisses,  Le Gros Nol,  Saint-Abdon,  Pointe de la Réchasse,  Mont Vélan,  Punta Ferrand,  Pointe de Côte Belle,  Monte Rosselli,  Mont Arbancié,  Tête de Malacombe,  Pointe de la Saume,  l\\'Arcanier,  Punta del Vallone,  Monte Carlei,  Cima Saler,  Tête des Muets,  Pointe de Tsignana,  Mont Mary,  Pointe de la Bornée,  Sommet de Dormillouse,  Pointe des Arcas,  Le Chaput,  Rochers de brise Tourte,  Pic de la Farnéiréta,  Les Ourgieres,  Punta Sbaron,  Tour du Géant,  Croix du Nivolet,  Aiguille Nord de la Glière,  Mont Glacier,  Punta Fiunira,  La Roualle,  Punta del Mezzogiorno,  La Blanche,  Mont Aiguille,  Le Sirac,  Pic Jean Rostand,  Pointe des Aravis,  Punta Pian Spigo,  Cime Monfret,  Trois Dents du Pelvoux,  Rocca del Gias,  Roc des Hommes,  Pointe de Tsalion,  Tête du Puy,  Punta Bassac Sud,  Punta dell\\'Agnello,  Colletto di Ruata,  Le Tabor 2389 m,  Le Grand Flambeau,  Monte Balmello,  Monte Giron,  Tête des vautes,  Le Mourre Froid,  Dent du Salantin,  Le Petit Agnelin,  Roc des Verdons,  Becca di Giasson,  Bric Mongioia,  Punta Sourela,  Sur Cou,  Truc Lausa,  Pointe des Lacs Verdet,  Bec d\\'la Ciuleri,  Monte Momello,  Mont Fort du Bœuf,  Aiguille des Grands Montets,  Aiguille des Calvaires,  Rocca di Nonna,  Pointe de Rouelletaz,  Pic de la Pierre,  Mont Saron,  Croce di Rifreddo,  Banc Ferrand,  Testa della Sendua,  Pic de Jallouvre,  Roc Diolon,  Aiguille Croche,  Le Nid,  Roche de Jabel,  Dôme de la Gandolière,  Monte Costigliole,  Rocca del Passo,  Fenêtre de la Cassorte,  Punta Tonini,  Diamant des Flammes de Pierre,  Mont Percé,  Becca de Roisan,  Cime du Laro,  Rocca Perabianca,  Pointe De La Pierre,  Piata di Lazin nord,  Punta Rumella,  Aiguille de Laisse,  Aiguille Foch,  Le Gros Grenier,  Rocca Renier,  Le Grand Plateau,  Monte Civrari,  Monte Ciabergia,  Tête du Peyron,  Punta Sciarda,  Costa delle Manze,  Dent des Portes,  Punta di Leppe,  L\\'Arpette,  Ratier,  Pointe de Chevrière,  Aiguille du Pouce,  Clocher de Bertol,  Pointe de la Sambuy,  Aiguille du Plat de la Selle,  Tour de Modane,  La Vuarette,  Le Charmet de l\\'Aiguille,  Aiguille qui Remue,  Punta la Piovosa,  Tête Carrée,  Tête de Balme,  La Selletta,  Roc du Cornillon,  Mont Rachais,  Grand Teté,  Chapelle de la Glière,  Le Petit Taillefer,  Dôme du Monètier,  Pointe de Méan-Martin,  Petite Aiguille Verte,  Becca des Arbiere - Centrale,  Cime du Grand Sauvage,  Col des Aurias,  Tête de Bouchet,  Pic de Gleize,  Bric Rosso,  Monte Castelletto,  Tête de la Gavie,  P3120,  Tête de la Cluse,  Punta Manda Ovest,  Rocca Frigerola,  Pointe Basse de Mary,  Mont Blanc du Tacul,  Bec d\\'la Rama,  Punta del Fort,  Pointe de la Finive,  Grande Rocheuse,  AIguille Occidentale de la Saussaz,  Punta Duc,  Aiguille des Pèlerins - Secteur du Plan,  Légette du Mirantin,  Pic du Jaillon,  Tête Ronde,  Rocher de la Petite Balme,  anticima Sud-Est Auto Vallonasso,  Tête de plate Lombarde,  Monte Cuneo (Moncuni),  Punta Ostanetta,  Mont-Blanc,  Aiguille de l\\'Eboulement,  Punta Tormotta,  Monte Bellagarda,  Cima Leitosa,  La Norma,  Monte Ciarm,  Pointe Isabella,  Cima del Vallone,  Dent de Pleuven,  Punta dell\\'Uja,  Pic de la Ceinture,  Cime de Février,  Attelas,  Monte Français Pelouxe,  Scolagarda,  Aiguille de la Tsa,  Monte Di Poignon,  Dent de Cruet,  Le Râteau - Pic Est,  Becco dell\\'Aquila,  Cime du Coin,  Le Fierloz,  Pic de l\\'apparence,  Pointe du Châtelret,  Mont Rous,  Pointe du Grand Soliet,  crête de Baude,  La Mortice sommet Nord,  La Grande Chible,  Aiguille Saint-Phalle,  Pointe d\\'Areu,  Testa Grisa,  Pointe de la Douche,  Pointe du Frou,  Pic Sud de la Buffe d\\'en haut,  Pics du Casset,  Pointe Chaubert,  Becca di Chardonney Ovest,  Le Métailler,  Pic du Glacier Carré,  Punta dell\\'Adois,  Pointe du Corbier,  Bric Bouchet,  Le Mont,  Punta di Arpisson,  Pic Jocelme,  Pain de sucre du Mont Tondu,  Punta Cornourin,  Cima di Costarossa,  Cime di Gollien,  Pointe de la Mariande,  Tour Salière,  Brèche Poccard,  Pic de Fond Queyras,  Monte Tumolera,  Pointe de Chaurionde,  Grande Roche de la Muzelle,  Anticima del Monte Meabé,  Grande Aiguille,  L\\'Aiguillon,  Monte Freid,  Grandes Jorasses/ Pointe Young,  Frioland,  Rocher Peyron,  La Rousse,  La Grande Chalanche,  Cima di Entrelor,  Tête Noire,  Le Chenaillet,  Belvédère de l\\'Homme de Pierre,  Monte Baret,  Dent du Rocher,  Épaule Sud de la Condamine,  Tour de Chillol,  Punta Merciantaira,  Bec de l\\'Ane,  Punta delle Cavalle,  Pointe Droset,  Punta Nera della Grivola,  Pointe de Penne,  Aiguille de Rochefort,  Le Grand Queyras,  Piccola Ciamarella,  Cima delle Serre,  La Meyna,  Monte Giuep,  Pointe Blanche,  Monte Tivoli,  Aiguille du Midi,  Pic Pierroux,  Carra Saettiva,  Cima Centrale,  Mont Noir de Peuterey,  Tête de la Cabane,  La Grande Balmaz,  Tête de la Payanne,  Tête de l\\'Homme,  Monte Corno,  Aiguille de Sialouze,  Ailefroide Orientale,  Pas de la Cula,  Montgelas,  Monte Terra Nera,  Mont Colombis,  Mourelle,  Bec Costazza,  Pointe des Plates des Chamois,  Mont Joly,  Testa Cordellaz,  Truc Bandiera,  Monte della Tzà - Punta Sud,  Montagne de la Pale,  Le Chatel,  Sommet de Meillarot,  Punta Autaret,  Rocher de Bellevarde,  Monte Banchetta,  Punta Leysser,  Levanna Occidentale,  Monte Colombano,  Monte Sises,  Dent du Villard,  Punta Adami,  La Sengla,  Pic Sans Nom,  Pointes des Fontanelles - Sud,  Bric Content,  Pointe du Tsaté,  L\\'Évêque,  Cime de Lancheton,  Mont Baret,  Mont Mussaillon,  Montagne d\\'Oule,  Pointe de Frébouze,  Punta Di Feluma,  Aiguille Septentrionale,  Aiguille du Vélan,  L\\'Eychauda,  Tête du Grand Mont,  Cime de la Recoude,  Aiguille de Savine,  Pointe de Drône,  Pic du Frêne,  Aiguille du Diable,  Monte Faiè,  Le grand Caire,  Pic Saint-André,  Bric Forcola,  Rochers de l\\'Ours,  Goutaroux,  Punta Bouson,  Mont Vorassay,  Punta Manda Est,  Pic du Fond de Peynin,  Punta Raboi,  Le Rateau d\\'Aussois,  Pointe de Queblette,  Pointe de la Lèvrière,  Les Aiguilles Noires,  Aiguille d\\'Aout,  Punta Cristalliera,  Pic Noir,  Punta Tessonet,  Le Petit Parpaillon,  Grand Pic de Belledonne,  Colle della Bera,  Aiguille de Frères Estiennes,  Monte Faraut,  Pointe de Pémian,  Arête Plate,  Petit-Combin,  Sommet d\\'Assan,  Les Droites,  Les Dames Anglaises,  Mont Kamuniak,  Mont Roup,  Crève-Tête,  Pointe du Fond de Roure,  Le Mais,  Truc del Serro,  Crete de la Taillante,  Pointe Centrale,  Punta Basei,  Roc des Boeufs,  Punta di Bioula,  Corno Bianco,  Tour de Bonne Pierre,  Pic de l\\'Oullion,  Le Petit Peygu,  Aiguille du Moine,  Mont Cindre,  Mont Morbié,  Punta Gardiora,  Aiguille de May,  Petit Golliat,  Aiguille de Quaix,  Punta Gorra,  Dent de Barme,  Aiguille Blanche des Lacs,  Aiguilles Crochues,  Montagne de Cotagne,  Pointe Est de la Condamine,  Mont Brûlé,  Pointe de l\\'Aval,  Punta della Valletta - Vetta scialpinistica,  Rocca Corna,  Gran Roc,  Cima Dorlier,  Mont Morion Centr-,  Pointe de la Sana,  Roche-colombe,  R. Senghio,  Tête des Crêtes,  Testa d\\'Arpy,  La Petite Cournouse,  Le Truc,  Monte Giansana,  Punta della Paletta Nord,  Punta Sulè,  Lancebranlette,  Roc d\\'Arguille,  Pointe du Fréjus,  Cima Sebolet,  Dôme du Goûter,  Aiguille Centrale du Soreiller,  Punta Patrí Nord,  Le Penas,  Tête de Claudel,  Fraysse,  Punta Maurin,  Pic de la Belle Étoile,  Dôme de Chasseforêt,  Croix Léat,  Tête de la Forclaz,  Croix de la Coche,  Monte Furgon,  Roche de Fitta,  Pic de Chabrières,  Monte Gabel,  Pointe d\\'Amont,  Rosa dei Banchi,  Tête de Cassoun,  Pic du Beal Céveilhan,  Pointe de la Diablée,  Tete de Garnesier,  Monte Sette Confini,  Cima Fer,  Grand Pierron,  Monte Rastcias,  Pointe Pers,  Montagne de Chaillol,  Tete de l\\'Homme,  Pic d\\'Escreins,  Crêt des Mouches,  Pointe des Autans,  Serre Cocu,  Sommet de Pierre Blanche,  Bassa Serra Points,  Mont Lachat,  Mont Pelvoux Pointe Durand,  Mont Pelat,  Pic du Clapier du Peyron,  Monte Redessau - Pointe Sud,  La Croix des Têtes,  Punta delle Ujette,  Dent du Signal,  Piton de la Viaclose,  Monte Granero,  Pointe de la Grande Journée,  Le Clocher,  La Tallias,  Roc de Valmeinier,  Il Coronel,  L\\'Ourson,  Pointe de Dran,  Costone di Mezzodì,  Pic du Coup de Sabre,  Monte Cervet,  Pointe de la Ratelière,  L\\'Aiglière,  Monte Rocciavré,  Dômes de Miage - Second dôme,  Pointe des Places,  Punta d\\'Avernet,  Aiguilles de Chabrières,  Pointe du Génévrier,  La Grande Tourne,  Buc de Nubiera,  Punta della Merla,  Pointe Claire,  Mont Labiez,  Pics du Says,  Ouille de Trièves Est,  Monte Ruetas,  Becca des Crottes,  Bric Rutund,  Le Grand Collet,  Punta Pian Paris,  La Serpentine,  Chamechaude,  Pic du Haut Mouriare,  Pointe de la Louïe Blanche,  Mont Orchez,  Mont Baron,  La Plane du Pin,  Monte Serena,  Monte Peyron,  Petite Fourche,  La Tête Noire,  Mont d\\'Armenaz,  Grand Replomb,  tête E des Cos,  Tête de Longet,  Le Grand Mont,  La Prouveyrat,  Testa della Tribolazione,  Mont Charvet,  Bric Castelletto,  Monte Doravidi Nord,  bric delle Bule,  Petites Jorasses,  Dent de Crolles,  Pics de la Font Sancte,  Roc de la Montagnolle,  Punta Tandues,  Crêt du Nû,  Dents de Coste Rouge,  Pointes de Valcorniere - Sud,  Mont Morion Merid-,  Cime du Col Haut,  Aiguilles Rouges du Brouillard,  Pointe du Génépi,  Punta Meleze,  Mont Veyrier,  Monte Torretta del Prete,  Monte Pence,  Becca Ceré,  Pointe des Arlicots,  Quota 3047,  Punta Rossa della Grivola,  Gran Guglia,  Testa Paian,  Petit Replomb,  Pic de Bure,  Pointe du Rascrouset,  Aiguille de Chalais,  Grand Chamousset,  Les Plagnes,  Pointe Sommeiller,  Le Merlu,  Tête du Pré des Saix,  Punta Fornetti,  Pointe du Lamet,  Monte Bruiero,  Roc Ujas,  Tête du Jas des Arres,  Tête de Clotinaille,  Tête de La Draye,  Rochers Cléry,  Mont Clapier,  Aiguillette des Posettes,  Pic de la Grave,  Pointe de la Scia,  Crêta Vella,  Le Perronnet,  Punta Ceresa,  Montagne d\\'Aureille,  Roccio Russo,  Mont Valletta,  Monte Soubeyran,  Monte Granè,  Pointe de Balme Rousse,  plan du rey tour telecom,  Monte Salza,  Crêt de Beauregard,  Gran Pelà,  Le Mounioz,  Le Pouzenc,  Punta le Teste,  Les Rouies,  Monts Rouges,  Monte Bernard,  Monte Giobert,  Le Rochail,  Aiguille Brouillard,  La Servelle,  Punta Nera,  Tête Nord des Fours,  Le Génépi,  Mont Gelé,  Mont Pillon,  Aiguille de Bérard,  Becco di Valsoera,  Aiguille de Tré-la-Tête Orientale,  Monte Redessau - Pointe Nord,  La Mamule,  Punta Girard,  Truc del Cuculo,  Aiguille de la Cabane,  Tête des Raisins,  monte Cauri,  Monte Ruvic,  Tête de Véret,  Becca d\\'Invergnaou,  Monte Cervo,  Cornes de Pié Bérarde,  Punta di Grifone,  Mont Regard,  Becca Chardonney,  Crêt Luisard,  Passage des Vans,  Monte Molaras,  Monte Longia,  Aiguille du Canard,  Pyramide de Laurichard,  Tête du Petit Prarion,  Punta Rocca Nera,  Punta Fertà,  Punta Tricuspide,  Tête de Girardin,  Haute-Luce,  Le Voray,  Becca de Sery,  Pointe Percée,  La Grande Ruine,  Tête de Fonteinte,  Cuttarello,  Le Simous,  Pointe de l\\'Eysinna,  Tête de la Charme,  La Petite Vache,  Croix de Fer,  Tête de Girbault,  Grand Eulier,  Les Aiguilles du Mont,  Pointe Sud des Douves Blanches,  Mont Coburne,  La Tèjere,  Pointe du Chardonnet,  Pointe des Couloureuses,  Tête du Planay,  Mt. Cruzore,  Pointe de la Haie,  Monte Sautron,  Punta Corna,  Cima delle Lobbie,  La Scia,  Tête du Filon,  Ponte des Volnets,  P3150,  Aiguille de Chambeyron,  Le Moutet,  Monte Maniglia,  Rocher de Belchamp,  Tête de la Muraillette,  Punta Murel,  Cima della Roley,  Punta Monpers,  Rocher du Vent,  Punta Mait,  Pointe des Écandies,  Pointe Nord,  Mont de Vorès,  Pointe Carmen,  Aiguille d\\'Estellette,  Mont de L\\'Ane,  Rancou,  l\\'Aiglière,  Pointe de la Botte,  Punta Gugliermina,  Petit Pinier,  Pic du Gazon,  Becca d\\'Oren E,  l\\'Albaron,  Jas des Lièvres,  Pelvas de Chabrière,  Pointe de Charbonnel,  Pic des Eustaches,  Tete Drumianaz,  Petite Lance du Crozet,  Cugno dell\\'Alpet,  Grand Tavé,  Le Faraut,  Les Parias,  Sommet Drouvet,  Dent de Bedina,  Punta Fleurie,  Pointe Gianett,  Punta Lance,  Truc le Creste,  Torrione Lagoscuro,  La Pyramide,  Portalet,  Punta Lusignetto (Punta Karfen),  Monte Bel Tempo,  Tête de Bellard,  Pointe Ronde,  Mont Brouillard,  Rocca la Verde,  Pic E de Combeynot,  Pointe Fournas,  Le Testasson,  Pointe de Banc Fleury,  Tête de Rissace,  Cima Testa Nera,  La Platte,  Aiguille du Belvédère,  Rocher de l\\'Encoula,  Aiguille des Saffres,  Monte Lera Occidentale,  Piccolo Paradiso,  Monte Chaz Dura,  Cima della Crocetta,  Monviso,  Punta Mongiovina,  Aiguille Pierre André,  Becca Tsambenia,  Torre di Sant\\'Andrea,  Rocher rond,  Rocca Rossa,  Petits Perrons,  Monte Arpetta,  Uja di Calcante,  Aiguille Centrale de la Saussaz,  Pointe de Nyon,  Aiguillette d\\'Argentiere,  Aiguille de Roc,  Punta Costabruna,  Mont Mallet,  Pointe d\\'Archeboc,  Crête de la Charmille,  Truc Castellazzo,  Roche Jaille,  Aiguille de la Petite Sassière,  Pointe des Lessières,  Mourre-Froid,  Brèche du Dérochoir,  Pointe de Sans-Bet,  Mont Fort,  Aiguille de Triolet,  Le Pevou,  Ailefroide Pointe Fourastier,  Punta della Gavia,  Punta del Lago Sud,  Corne à Tournier,  Pointe du Dard,  Pointe Noire de Pormenaz,  Becca des Arbiere - Nord,  Pointe du Lingustier,  Monte Baueria,  Rocca Bianca,  Monte Gardiulot,  Punta del Tuf,  Mont de la Guerre,  Rocca Morel,  Ale Lunghe,  Pointe des Mines,  Il Dente,  Tête de Soleil-Bœuf,  Quota 2256,  Chalvet,  Pic des Esparges Fines,  Pointe de Boveire,  Aiguille d\\'Argentière,  Torrione Giuditta,  Mont Grapillon,  Dome de Polset,  Corne de Sorebois,  Monte Ciriunda,  Tête du Grand Pré,  La Torre,  Le Chantonnet,  Le Ratel,  Pointe à Corbeaux,  Punta Chermontane,  Pointe de Ballanfat,  Punta Vergia,  Montagne de Sulens,  Grand Revers,  Pointe de la Bonne Morte,  Monte Jafferau,  Mont Favre,  Le Touret,  Bec du Vallon,  Monte Eighier,  Escalinade,  Punta Barant,  Mont-Gele,  Rocca di Cairi,  Pointe Adolphe Rey,  Clocher de Mâcle,  San Colombano,  Petit Dru,  Tête de Vallon Claous,  Tournelle,  Punta della Luetta o Tzaboc,  Le Peouvou,  Monte Musinè,  Pointe de Bella Cha,  Anticima Punta Leynir,  Mont de la Buffaz,  Le Pinet,  Punta Feniliaz,  Pic Innomee,  La Croix d\\'Aquila,  Signal du Petit Mont Cenis,  Moucherotte,  Tsoume des Boucs,  La Croix de Cassini,  Le Peissièou,  Aiguille de Crete Sèche,  Petite Bosse,  Pic Sud du Merlet,  Aiguille de Criou,  L\\'Aiguille Percée,  Monte Brunello,  Roccia Agnelliera,  Le Rouchon,  Aiguille Inférieure de la Floria,  Le Clocher de Planpraz,  Pic de l\\'Étendard,  La Grande Torche,  Pic du Morgon,  Pointe de la Signora,  Pointe Trifide,  Pic de Clouzis,  Tête de Jacquette,  Doigt de Dieu,  Roc des Rochettes,  Pointe de Longe Côte,  Monte Barbeston,  Cima delle Barre,  Monte Bettone,  Monte Bianco di Courmayeur - Mont Blanc de Courmayer,  Sasseneire,  Bella Comba,  Roche des Agneaux,  Pic duBéal Traversier,  L\\'Etoile,  Bec Grenier,  Grapillon des Merles (ou Aiguille du Fond de la Tourne),  Sommet de l\\'Arête de la Ratelle,  Tête de Siguret,  Pointe de la Fougère,  Punta Uja,  Pointe du Dzonfié,  Aiguille Verte,  Le Chapeau,  Gros Rognon,  Punta Muret,  Dent du Requin,  Sommet de Bataille,  Aiguille des Chamois,  Truc d\\'Ovarda,  Punta Fattiere,  Monte Aiguillette,  Tête de la Graille,  Tête de Platasse,  Punta di Medzove,  Champ du Raz,  Pointe de Valbuche,  Dent Nord de Bertol,  Mont de Cordon,  Le Grand Argentier,  Le Bellachat ou Pointe du Mont du Fût,  Aiguilles Dorées,  Cima Autour,  Monte Arpet,  Punta Capitola,  Pointe de Friolin,  Le Grand Adret,  Tête de la Martelat,  Grande Rochette,  Les Rochères,  Grand Aget,  Punta il Villano,  Combin de Valsorey,  Pic de Charance,  Monts d\\'Ain,  Aiguille des Marmes,  Molard Noir,  anticima,  Pointe de Merdassier,  Pointe de la Grande Combe,  Charajaille,  Uja di Corio,  Serre Pointu,  Punta Razil,  Bec Raty occidentale,  Le Veyou,  Demoiselle Coiffée,  La Palange,  Monte Iverta,  Pointe de Sales,  monte Craviale,  Piquet de Nantes,  Tsa de l\\'Ano,  Aiguille Savoie,  Monte Cappel,  Aiguille Chenavier,  la Vierge,  Dômes de Miage,  Pointe de la Pallaz,  La Petite Buffe,  Pointe Mathews,  Aiguille de Borderan,  Serre le Têtes,  Il Turu,  Roche Charniere,  Grand\\'Uia,  Monte Colombo,  Tour Pointue,  Le Grand Capucin,  Tête des Corridors,  Punta Seras,  Bec di Mea,  Monte Chabrière,  Grande Autane,  Becca du Lac,  Dent de Jalouvre,  Monte Tovo,  Monte Robinet,  Le Grand Charnier,  Monte Bessun,  Mont Paramont,  Peyretier,  Le Chapotet,  Le Cheval Blanc,  La Roche Brune,  Le Cheval Noir,  Pointe de Terre Rouge,  Les Trois Hommes,  Six Blanc,  Becca di Tei,  Grand Golliat,  Mont Froid,  Saint-Apôtre,  Monte Marmottere,  Le Bec Roux,  Le Rissiou,  La Pechta,  Plan de l\\'Aigle,  Bec di Nona,  Monte Rocciasetto,  La Rochaille,  Pointe de Conte Faviel,  Aiguille De Chambave,  Pointes des Fontanelles - Nord,  La Berthe,  Roccia Frontera,  L\\'Hergues,  Rocca d\\'Ambin,  Pointe des Delevrets,  Roc d\\'Argent,  Picco Gamba,  Pointe du Capucin,  Pointe Lachenal,  Tete du Couvercle,  Gran Costa,  Bec di Roci Ruta,  Cima del Carro,  Becca di Gay,  Rocca Turale,  Pointe du Vieux,  Montagne d\\'Outray,  P3460,  Aguille Large,  Le Râteau - Pic Ouest,  Quigouret,  Monte di Ciabriera,  La Pinéa,  Petite Sambuy,  Pointe de la Couennasse,  Torre Lavina Sud,  Punta Chamoussiere,  Pointe du Château,  Monte Orsiera punta sud,  Becca des Lacs,  Vizelle,  La Gugliassa,  Mont Colmet,  Pics des Cavales,  Le Pennas - Le Grand,  L\\'Ambrevetta,  Mollard de Vions,  Roc Blanc,  Petit Rochebrune,  Côte Belle,  Aiguille Joseph Gaillard,  Tête de l\\'Étret,  Pointe-Rousse,  Cime de la Planette,  Le Petit Marchet,  Bonverday,  Monte di Lor,  Colle di Montabone,  Pic Ombière,  Le Gros Ane,  Croix de la Cochette,  Tête de l\\'Aulp,  Tête de la Cula,  Pic de Neige Cordier,  Le Sparveyre,  Mont Dolin,  Pic Lory,  Testa del Ban,  La Tour de L\\'Angle Est,  Pointe Bayeux,  Pointe Madeleine,  Tête Sud de la Somme,  La Tête,  Punta Baldassarre,  Pointes d\\'Aboillon,  Grand Gendarme du Rouget,  Punta Ralfino,  Grande Roche de Thiervoz,  Pointe Barnes,  Champerus,  Mollard de Don,  Pointe des Ratissières,  Pointe de Chauriande,  L\\'Alpet,  Les Jumelles,  Mont Barral,  Tête de Favière,  Dappey du Ritord,  Pointe de Moiry,  Roche Robert,  Tardevant,  Rocher du Guet 1209 m,  La Longeagne,  Le Dôme ou Pié Ferré,  L\\'Écoutoux,  Pointe de la Bajulaz,  Punta delle Guglie,  Tête du Colonney,  Les Plastres,  Mont Flassin,  Monte Soglio,  Aiguille Repiton-Préneuf,  Monte Arià,  Le Drouvet,  Roche de Méaudre,  Monterossino,  Aiguille du Tacul,  Les Suets,  Aiguille Dibona,  Monte Estelletta,  Les Courtes,  Aiguille du Goléon,  Aiguilles Rouges de la Toura,  Gran Serin,  Têtes de Sainte-Marguerite,  Mont Outheran,  Le Grand Doigt,  Tour Tatra,  Pointe des Pichettes,  Monte Giulian,  Aiguille de la Tête Plate,  Le Grand Piton,  Signal du Palet,  Monte Fantono,  Rocca delle Sommette,  Tête du Vuargne,  Punta di Mezzodì,  Monte Gucia,  Le Petit Ferrant,  Aiguille de Manigod,  Sommet de Pourtalas,  Roc des Charmieux,  Aiguillette des Houches,  Pointe de Platé,  Pointe des Angelières,  Pic du Loup,  Piata di Lazin,  Punta del Valaisan,  Pic de Pian,  Sex de Marinda,  Rochers de Leschaux,  Monte Ambin,  Pic de la Grande Valloire,  Signal de l\\'Homme,  Tête de Vermeille,  Pointe du Vallonet,  Praz Véchin,  Tête de l\\'Ours,  Punta delle Plate,  Mont Fleuri,  Grand Queyron,  La Vierge,  Pic de l\\'Aiguille,  L\\'Isolée,  Torre d\\'Ovarda Orientale,  Pic de l\\'Oeilly,  Bric Cassin nord-ovest,  Monte Gioran,  Mont d\\'Arbois,  Monte Appenna,  Monte Genevris,  Pointe de la Grande Sagne,  Pointe des Lauses Noires,  Le Taillefer,  Combin de Corbassière,  Crêt du Poulet,  Pic du Vallon Crouzet,  La Gardiole,  L\\'Ouille Noire,  La Sétaz des Prés,  Monte Pui,  Roche Michel,  Monte Charbonel (Bric Murìe),  Pointe de Balanselmo,  Roche de Mio,  Monte Grosso,  Monveso di Forzo,  La Grande Roche Blanche,  Punta dell\\'Aggia,  Pointe de Grande Combe,  Le Péry,  Becca di Luseney,  Tête de Gaulent,  Corne des Chamois,  Cima Loit,  Punta Fetita,  Punta Founset,  Le Quichat,  Tête-de-la-Nouva,  Rocher de Combau,  Serre des Aiguilles,  Monte Curt,  Tête du Clot,  Cime de Payrassin,  Monte Spera,  Croix du Mont Granier,  Tête des Chanaux,  Le Grand Manti,  Monte Ciabert,  Monte Begino,  Pic Central de Belledonne,  Rocher Badon,  Château Blanc,  Tête de Couleau,  Pic de Rochebrune,  Monte Camoscere,  Croix de Commune,  Roche Rousse (1432),  Col de la boite,  Pointe Richardson,  Pointe des Cerces,  Jumeaux des Écrins,  La Salle,  L\\'Orionde,  Monte Fallere,  Tête de Charrière,  Petit Flambeau,  Tete des Prat Arnaud,  Tête de Lauzon,  Pic de Valsenestre,  Roc della Niera / Tête des Toillies,  La Grande Sure,  L\\'Uja,  Tarsimoure,  Monte Boulliagna,  Le Grand Truc,  Revard,  Rocher de la Grande Balme,  Rochebrune,  Pic des Prés les Fonts,  Bric dell\\'Oliveto,  Sommet Sud-Est de la Roche d\\'Alveau,  Uia di Ciamarella,  Vantacul,  Tête de Praorzel,  Pointe des Frêtes,  Aiguille du Croissant,  Golette de l\\'Oule,  Tête de Colombe,  Aiguille de Blatière,  Croce di Envie - Cima Bracco,  Pointes de Mourti,  Pic de Rochelaire,  Pointe des Marcelettes,  Punta Fortino,  Mont Tailland,  Aiguille de Marcieu,  Rocca la Marchisa,  Aiguille de la Combe,  Pic de Chaudun,  La Mamelle,  Les Dents Rouges,  Punta del Rosset,  Pic Silhouraïs,  Petite Pointe d\\'Orny,  Pointe de Pié Bérarde,  Cime de Caron,  Mont Charvin,  Tête de la Mazelière,  Cime de la Condamine,  Tête de la Petite Part,  Monte Ruissas,  Punta Chalanson,  Punta Prarosso (1497m),  Pointe du Midi,  Le Grand Armet,  Petite Aiguille de la Floria,  Bric Ghinivert,  Pointe de l\\'Ovine,  Le Petit Béchard,  Croce Chabriere,  Ouillon des Arcellins,  La Mortice,  L\\'Esquillère,  Pointe de Cugne,  Lou Terou,  Aiguille de Salenton,  Serre Gros,  Tête des Crêts,  Becca Faudery,  Petite Autane,  Gran Testa di By,  La Pousterle,  Pic Queyrel,  Joug de l\\'Aigle,  Les Ignes,  Nodo della Rayette,  Le Plaret,  Punta Sibolet,  Le Pave,  Cimes de la Barbarate,  Sommet Rond,  Rochers de Plautret,  Croce di San Giuseppe,  Tête de la Lauzière,  Pointe Lépiney,  Cime Noire,  La Buffe,  Pointe Rousse des Chambres,  Petite Aiguille,  Pic du Lauzon,  Pointe des Rochers Charniers,  Becca di Moncorvè,  Monte Tibert,  Mont Lachat de Châtillon,  Punta Valfredda,  Cima Ciantiplagna,  Bec des Rosses,  Rochers du Tru,  Punta Dei Tre Cappuccini,  Punta Violetta,  Quota 2740,  La Tête Dure,  Pic du Grand Doménon,  Punta dell\\'Inferno,  Monte Albrage,  Pointe d\\'Andey,  Sommet de Chateau-Jouant,  Aiguille Occidentale du Soreiller,  Aiguille de Bionnassay,  Dôme de Pramecou,  Becca Conge,  Tête Blanche,  L\\'Ailefroide Centrale,  Rocher d\\'Arclosan,  Bas Morand,  Punta Caprera,  Pic de l\\'Agnelin,  Puy Bernard,  Pointe de l\\'Échelle,  Mont Rafrey,  Tête à l\\'Âne,  Mont du Chat,  Dome des Oudis,  Cima Mares,  Le Janus,  Sommet Nord de Sarenne,  Pointe Est du Grand Fond,  Bec d\\'Arguille,  Pointe d\\'entre les Cols,  Monte Palonetto,  Mitre de l\\'Eveque,  Becca Pouignenta,  Becca di Tos,  Cima degli Ortetti,  Frête de Penaille,  Croix de Chamrousse,  Piton des Italiens,  Rocher de la Petite Tempête,  Piccola Torre,  Costa Ruenda,  Pointe des Blanchets,  Tête de Cialancion,  Becca d\\'Aquelou,  Punta Charrà,  Tête de Chéret,  Grand-Pomerolle,  La Vierge du Vercors,  Monte Doravidi Sud,  Aiguille de Baroz,  Mont Follet,  Sommet de la Cavale,  Pointe des Vignettes,  Punta Acuta,  Mont Blanc du Créon,  Monte Ricordone,  Granta Parey,  Monte Pisonet,  Il Forte,  Pic Clausis,  Pic de la Ponsonnière,  Pointe du Bandon,  Sommet Colomb,  Aroletta Superiore,  Il Roc,  Testa del Rutor,  Beaufort,  Bric la Plata,  Mont Ruan,  Sommet des Clottous,  Roche Emile Pic,  Fontanabran,  Pointe de Bonne Pierre,  Ferrouillet - Pointe Centrale Sud,  Punta de la Mulattiera,  Rocca del Colle,  Monte Gruetta,  Tour Germaine,  Cima delle Monache,  L\\'Arolette,  Monte la Buffa,  Dent des Sex Vernays,  Le Pradou (1388),  La Recula,  Monte Salancia,  Monte Pietralunga,  Cima del Bouc,  Monte Sapei,  Pointe des Genevois,  La Coupa,  Aiguille Rouge,  Tête d\\'Aussois,  Punta Costafiorita,  Les Aurus,  Monte Piutas,  Sommet Bucher,  Montagne de l\\'Alpe de Verdun,  Collet,  Grands Fats,  Punta Foura,  Cima Piana,  Grand Perron,  Le Parquet,  Roc des Pareis,  Punta Raccias,  Aiguille Méridionale d\\'Arves,  Tete de Sereina,  Tête Sud des Fours,  Croce di Sanfront,  La Mait d\\'Amunt,  Pic Central de Vaccivier,  Punta Bessie,  Tête de Merlant,  Pierre Arnoux,  Pointe Guyard,  Bec de l\\'Echaillon,  Rochers de la Bade,  Dôme des Platières,  Le Goraj,  Signal de la Grave,  Punta Falconere,  Punta Tumlet,  Pointe Baretti,  Triangle de l\\'Herse,  Rocca del Nigro,  M. Roccenie,  Mont Belvédère,  Le Collu,  Aiguille de Tré-la-Tête Centrale Sud-Est,  Rocca Jarea,  Sur la Biolle,  Aiguille des Grands Charmoz,  Pointe du Gleyzin,  Pointe de l\\'Aiglière,  Montzard,  Punta Laval Sud,  Pointe du Sifflet,  Arcalod,  Le Môle,  Pointe Rasin,  Aiguilles Crochues/Sommet S,  Pointe d\\'Anterne,  Pointe de Rasis,  Le Grand Bec,  Pointe Gorret,  Corne du Diable,  Le Rocher Blanc,  Monte Ciarmetta,  monte Muretto,  Monte Triplex,  Testa del Paramont,  Monte Russet,  Bec d\\'Oiseau,  Pointe de Bellecombe,  Turge de la Suffie,  Chassoure,  i Muret,  Palanche de la Cretta,  Pic Ségure,  Monte Losetta,  Tête de Ferret,  Pic du Rognolet,  Grand Veymont,  Croix,  Pic de Tenneverge,  Becca di Nona,  Pointe des Arangles,  Testa Delle Goilles,  Punta della Forcola,  Sex Carro,  Monte Pelvo,  Punta del Crot,  Crête de la Pendine,  Roccia Verde,  La Roche-Pourrie,  Crête de la Mayt,  Tete des Ormans,  Corne Rousse,  Punta Lavassey,  Mont de Gébroulaz,  Pic de l\\'Aigle,  Le Pieu,  Bric di Pian,  Sommet Nord,  Tête d\\'Amont,  Crey Aigu,  Panettone (Truc Pane\\'),  Montagne d\\'Aujour,  Grand Galbert,  Monte Pelà,  Tour Jaune de Barabbas,  Becco dell\\'Alpetto,  Punta Rognosa,  Monts Rosets,  Pointe de Perret,  Pic du Mas de la Grave,  Monte Angiolino,  Pic du Lac Blanc,  La Légette,  Monte Tre Denti,  Levanna Centrale,  Pointe du Lavachet,  Monte Pignerol,  La Rebarme,  Rocca Croce Provenzale,  Rochers de Chalves,  La Dent,  Pic Martin Jean,  Râz d\\'Arbey,  Le Grand Jarnalet,  Pic de Foréant,  Punta del Leynir,  Pointe de la Dent,  Pointe Emma,  Tête Moute,  Cime Nebbia,  Le Parrain,  Tête du Serre,  Le Cheval Blanc (Sommet S.O.),  Pied Moutet,  Le Petit Capucin,  Pointe de Talamarche,  Rocher Garaux,  Tourte-Barreaux,  Bric Arpiol,  Torre d\\'Ovarda Occidentale,  Le Cornillon,  Punta Sea Bianca,  Signal du Grand Mont Cenis,  Aiguille de Talèfre,  Tour de La Tza,  Sommet Nord Ouest des Bans,  Pointe des Arsines,  Tête de Louis XVI,  Pointe Centrale Nord,  Cime des Torches,  Pointe du Nielard,  Rocher du Charvet,  Pointe Muratière,  Pic Turbat,  Montagne Pellat,  Li Blanche,  Pointe de l\\'Observatoire,  Mont Bellacha,  Cresta dei Cugni,  Le Gros Béchard,  Le Teurre,  Mont Julioz,  Monte Rubbio,  Pic de Beauvoisin,  Le Cardinal,  Le Grenier de Commune,  Testa di Pertia,  Aiguille de Scolette,  Roc du Mulinet,  Truc San Martino,  Monte Miracolo,  Punta della Croce,  Mont Mirantin,  La Rossa,  Le Gros Ferrant,  Punta Innominata,  Aiguille Pers,  Punta Colomion,  Punta Cerisira,  Le Puy,  Levanna Orientale,  Mont Tournier,  Monte Giovetto,  Gran Becca Blanchen,  Mont Dragon,  Tête à Brion,  Sommet du Prorel,  Trou de l\\'Aiguille,  Grand Colon,  Rocca la Croce,  Pointe de Bellegarde,  Pointes d\\'Ayères Nord,  Monte Blina,  Pic de Roche Noire,  Pic de Beauduis,  Punta Grand Vaudala Nord,  Mel de la Niva,  Les Verdets,  Roche Parnal,  Aiguille du Plan,  Barre des Écrins,  Monte Piutas Nord,  Tete de Crevacol,  Tête du Tronc,  Monte Nebin (Cima NO),  Garde de Bordon,  L\\'Aiguille,  Pic Couttet,  Pointe Lemercier,  La Grande Torchère,  Dôme des Petites Rousses,  Monte Cros,  La Toussière,  La Goenne,  Le Buclon,  Roche Parstire,  La Tour des Ébats,  Becca di Roisan,  Monte Rochisie,  Becca d\\'Aver,  Becca de Fontaney,  Roc Mazilier,  La Golette,  Pointe du Chapeau,  Cime de la Charvie,  La montagnette,  Raye Chevrere,  Beauregard,  Becca Motta,  Rochers de Savine,  Dôme des Nants,  Serre Antoine,  Punta Lucellina,  Les Croix,  Tête Blanche de By,  Mont Fortin,  Madonna,  La Rouelle,  Aiguille d\\'Arpette,  Crêt du Miroir,  Colombier,  Pointes de Chavacour,  Punta Melmise,  Dôme de la Cochette,  Roc de Jany,  Mont Bortsalet,  Aiguille du Grépon,  Punta Roma,  Cima Varengo,  Le Barrioz,  Pic de la Vieille Femme,  Signal du Lamet,  Punta Salliaousa,  Pointe Dzérat,  Mont Jovet,  Becca di Salé,  Monte Doubia,  Pointe Ouest de la Condamine,  Dent de Perroc,  Pointe Jeanne,  Les Aiguillettes de Vaujany,  Le Catogne,  Punta della Battagliola,  Punta Bosconero,  La Mollas,  Puy de Manse,  quota 2358,  Tête du Salude,  Pointe d\\'Orsière,  Punta Cruvin,  Grande Traversière,  Soleil Boeuf,  Pointe de la Sitre,  Tête du Rouget,  Tête des Cibiroles,  Sommet du Ranc des Agnelons,  Pointes de Rougnoux,  Le Marcous,  Punta dell\\'Aquila,  Tete de Bostan,  Têtes de la Pilatte,  Tête des Arpettes,  Pointe du Vallon des Etages,  Costa Piatta Gelata,  Punta Marsè,  Pointe des Aigles,  Rocher des amoureux,  Monte Forciaz,  L\\'Auta,  Mont De L\\'Arpille,  Six Carro,  Ouille Allégra,  Tête de la Marsare,  Tete d\\'Ere,  Le Brion,  Pointe de Thorens,  Pointe des Cavales,  Viso di Vallanta,  Dos de Chambave,  Punta Tempesta,  Le Mollard des Boeufs,  Rocca Anghiovà,  Corbassera,  Dent de Bonavau,  Rocca Sella,  Mont Olivet,  Pointe de la Portiala,  Petit-Pomerolle,  Tête du Petit Jardin,  Saint-Eynard,  Roc Basagne,  La Belle Etoile,  Tête à Turpin,  Roche courbe,  Tougnète 2434,  Mont Pourri,  Punta Rossa di Sea,  La Tour Rouge,  Pic du Rondet,  Pointe Dosia,  Aiguille de la Vanoise,  Jenabran,  Rubata Bo,  Pointe des Sagnes Longues,  La Roche Noire,  Pointe Durier,  La Grimbassa,  Monte le Brune,  Tête du Graou,  Pic de l\\'Herpie,  Saint-Philippe,  Le Piolit,  Punta Nonna,  Pointe Bourdillon,  Monte Roccerè,  Monte Ruine,  La Main de Dieu,  Punta d\\'Arbella,  Pyramide du Tacul,  Sommet de Montsérieux,  Punta Malanotte,  Cima Dronero,  Rocher du Baconnet,  Punta Gastaldi,  Monte Reisasso,  Mont Buet,  Rocher de Grande Tempête,  Monte Rodzo,  Mont Allagrogia,  Monts Telliers,  Viso Mozzo,  Rocher de la Perche,  Punta di Fiutrusa,  Gros Muttet,  Sommet du Guiau,  Pointe d\\'Almet,  Punta Marmottere,  Testa di Garitta Nuova (Gardiola Lunga),  Becca Chardonney inf.,  Aiguille du Saint-Esprit,  Pointe Nérot,  Roche Fleurie,  Pierre Fillola,  Tête du Jarset,  Trident de Faudery,  Pointe de l\\'Enfourant,  Pic Cascavelier,  Pointe de la Pilatte,  Montagne du Charbon,  La Rama,  Tête de Frappier,  Rocca Corna Est,  Dome du Tsan - Centrale,  Reghetta,  La Belle-Etoile,  Monte Rolei,  Tête d\\'Auferrand,  Petit Ruan,  Pointe Sud du Couart Dessus,  Mont Delà,  Pointe d\\'Averne,  Testa del Carolei,  Tête de la Gandolière,  L\\'Homme,  Clochetons Gunneng,  Cima Nord,  Pic de l\\'Homme,  Grandes Jorasses/ Pointe Hélèna,  Aiguille du Fruit,  Les Quatre Seigneurs,  Pointe du Ribon,  Tête de Bunant,  Monte Muretto,  Truc Giulianera,  La Montagnette,  Punta Calabre,  La tour,  Vieux Chaillol,  Greppon Blanc,  Aiguille de la Glière Sud,  Croix de la Lanche,  Pic Wilson,  Monte Bellino,  Pravouta,  Gran Serra,  Clochers de l\\'Alpe,  Aiguille d\\'Olan,  Rocher de Bellevue,  Bric Olivengo,  Pic du Glacier Blanc,  Pic du Malrif,  Cima Longhede,  Pointe de Marcelly,  Cima dei Fourneaux,  Punta Rossa,  Monte Chenaille,  Punta delle Serene,  Le Grand Parpaillon,  Tête des Baumiens,  Porte de Montmélian,  Montagne du Gros Foug,  Cima del Pelvo,  Aiguille de Lanchâtra,  L\\'Albaron,  Aiguille Noire de Peuterey,  Le Grand Séru,  Monte Ciucrin,  Mont Saint-Jacques,  Gros Peyron - cima nordest,  Monte la Ciarm,  Dent d\\'Aurouze,  Croix de Sécheron,  Becca Bianca,  Pointe de Bonneval,  Cime de l\\'Encoula,  Pointe du Vasevay,  Le Palastre,  Mont Thabor,  Le Ranfolly,  Rocca Lunga,  Roche Noire,  Bellevue,  L\\'Ailefroide Occidentale,  Le Prarion,  La Tête de la Mandallaz,  Boussolenc,  Pic Charbonnel,  Aiguille d\\'Entre-Pierroux,  Pic Traversier,  Pic de Panestrel,  Aiguillette de l\\'Étret,  Tête de la Dame,  Punta Bianca,  Mont Gioberney,  Il Pelvo - cima sud,  Combin de Boveire,  Punte di Peraciaval,  Mont Valezan,  Guglia delle Forciolline,  Rocher de la Garde,  Costabella,  Aiguille de Boveire,  Teté Du Curru,  Pointe d\\'Émy,  Rochers de l\\'Évèque,  Bec de Lachat,  Santa Croce,  Mont Touvet,  Mont Ros,  La Cialma,  Mont Bisanne,  Pic de Clapouse,  Dôme de Rochefort,  Monte Cornet,  Cimes de la Cochette,  Mont Céty,  Mont Brun,  Pic Coolidge,  Punta Rabuigne,  Costa Chiggia,  Monte Palon,  Signal des Têtes,  Le Grand Bérard,  Punta Boulian,  Sommet de Bellecôte,  Roc de Viuz,  Punta Pilone,  Dent du Géant,  Grande Lance d\\'Allemont,  Cima Ciarbonet,  Punta Patrí Sud,  Pointe de Vaudaine,  Pic du Sommarel,  Le Petit Roux,  Dents de Maniglia,  Tête des Bréquets,  Roche Rousse,  Dents de Vessona,  Le Pic,  Tavé des Chasseurs,  Les Quatre Têtes,  Tête du Parmelan,  Pic de Disdier,  Aiguille Dulong de Rosnay,  Saulire,  Monte Druina,  Mont Vuache,  Pointe de Malhaubert,  Tête de Clos Lapierre,  Bec des Etagnes,  Pointe des Montagnya,  Dôme de la Lauze,  Aiguille Rouge de Triolet,  Cima delle Manse,  Punta Cornour,  Pic d\\'Artsinol,  La Nonne,  Dent Parrachée,  Pointe des Fours,  Monte Faroma,  Punta Corsica,  Rochers de Belles Ombres,  Petit Môle,  Ciarm del Prete,  Bec Raty orientale,  Tête de la Fontaine,  Monte Di Vertosan,  Grand Pic de la Lauzière,  Croisse Baulet,  Grandes Jorasses/ Pointe Croz,  Pointe de Vouasson,  Truc La Mura,  Pointe Valpellina,  Dôme de Neige des Écrins,  Rochers de la Fornaise,  Pointe de la Fournache,  Sommet de Catinat,  Tsaplana,  Grande Motte,  Punta Malta,  Grivoletta,  Mont de l\\'Arp Vieille,  Pointe du Trapechet,  Pointe de la Selle,  Combin du Meitin,  Punta Rascià,  Punta Croce Rossa,  Bec Gorgia,  Gros Crey,  Cima Ròst,  Mont Collon,  Caïman - Pointe de l\"Épiney,  Cougoir,  Le Laton ou Pic Gazonné,  M. Giornalet,  La Chalanche,  Monte Crestas,  La petite Céüse,  Monte Buch,  Punta dell\\'Asgelas,  Pointe du Four,  Pointe d\\'Ayères Sud,  Tours du Vallon,  Signal de Villard,  Rocca del Col,  Tête de valpelline,  Monte Festa,  Monte Pagliano,  Punta Sili,  Le Râteau - Antécime Est,  Roccia Corba,  Cima Frappier,  Cima Giardonera,  Aiguille de Cédéra,  Pala\\' Rusa\\',  La Tournette,  Pointe de la Grande Arête,  Grun de Saint-Maurice,  Pointe Maximin,  Rocher du Cléton,  Grandes Jorasses/ Pointe Marguerita,  Herbetet,  Tête de la Caborne,  Bosse de Sialouze,  Le Grand Som,  Aiguille du Van,  Tête noire,  Bec de la Montau,  Aiguille de l\\'M,  L\\'Aiguille des Etages,  Pic du Tourond,  Paré de Joux,  Pointe Renod,  Le Pommier Blanc,  Corni del Velan,  Montagne de St Maurice,  Monte Birrone,  Pointe de Rognier,  Petite Tete de Bella Tsa,  Punta della Gardetta,  Aouille Tseuque,  Grande Rochère,  Monte Taou Blanc,  Roche du Lac,  Pointe Mieulet,  Mont de la Coche,  Serre de l\\'Horizon,  Le Morgonnet,  Uia di Mondrone,  Morfreid,  Pic des Souffles,  Petit Van,  l\\'Oumbras,  Pointe des Cirques,  Dome du Tsan - Nord,  Pic de la Greysinière,  Pointe Rousse,  Monte Bocciarda,  Le Petit Séru,  Aiguille de la Charlanon,  Mont Morion,  Levannetta,  Monte Cristetto,  Pic des Scies de Sainte-Anne,  Cima Quattro Denti,  Mont Ouliè,  Charmant Som,  Aiguille de la Gandolière,  Pravena,  Sommet des Monts,  Dôme de la Tour Sallière,  Punta Michelis,  Le Sénépi,  Punta Mulatera,  Tête de Moëde,  Mont de Turgon,  Montagnazza,  Le Quermoz,  Pic Sud des Cavales,  Roc d\\'Alibrandes,  Le Man,  Le Grand Brion,  Mont Dzalou,  Becca Dei Quattro Denti,  Rosablanche,  Becca di Pré d\\'Amont,  Roc du Grand Renard,  Pointe Elisabeteh,  Pointe du Grand Vallon,  Monte Meidassa,  Tête du Parc des Manzes,  Tete d\\'Oriol,  Puy Gris,  Colletto della Lera,  Dôme de l\\'Arpont,  Gran Paradiso,  Monte San Bernardo,  Mont Beauvoir,  La Clochuille,  Pointes des Fontanelles - Centrale,  Cima Bardia,  La Grande Casse,  Tsanteleina,  Tete de Miéjour,  Mont Paillasse,  Mollard Gargot,  Croce di Fana,  Rocca del Montone,  Pointe Marguerite,  Grande Dent de Veisivi,  Le Pierroux,  La Petite Tête Noire,  Monte Morefreddo,  Aiguille des Glaciers,  Belle Combe,  Mont Truc,  Les Parrossaz,  Aiguille Rousse,  Dômes de Miage - Pointe Sud-Ouest,  Punta Venezia,  Pointe de Pastourlet,  Torre d\\'Ovarda Centrale,  Pointe de Chaborgne,  Pic Gény,  Le Bouton de Cornacu,  Quota,  Royou,  Le Grand Parra,  Pointe des Chamois,  Mollard Rond,  Tête du Loup,  Truc Monsagnasco,  Les Grandes Platières,  Pic de Malaure,  Gran Truc,  Montagne des Agneaux,  Pointe de Metz,  Pointe de La Balme,  Cadreghe di Viso,  Petit Sulens,  But de Nève,  Petite Lance de Domène,  Pointe des Avers,  Rochers des Mais,  Tête de la Maye,  Les Clochetons,  Grand Assaly,  Crêt de l\\'Aigle,  Tête de Cuguret,  Château Nardent,  Tête de Balacha,  Le Toit,  Monte Castello,  Costa Fenera,  La Miaz,  Pointe de Tierce,  Aiguille de Toula,  La Chailla,  Pointe Charlet,  Pic des Hts Moulins,  Pointes de Valcorniere - Nord,  Col du Pisonet,  Roche Mantel,  Parias Coupà,  Blanche de Perroc,  Monte Garne,  Dent de Tsalion,  Sommet Central,  Pic de Mirebel,  Denti del Collerin,  Pic de Lauzin,  Le Banc du Peyron,  Monte Pramand,  Truc del Faro,  Aiguille Rouge des Lacs,  Le Grand Ruy,  Mont Grelle,  Pic des Ours,  Gran Rossa,  Aiguille de la Bérangère,  Punta Golai,  Rocher du Corbeley,  Punta Cialancia,  Mont de la Barme,  Punta Freura,  Petit Grapillon,  Punta Toasso Bianco,  Grand Nomenon,  Punta Melchiorre,  Monte Turo,  Testa Bernarda,  La Belle Plinier,  Crête du Chardonnet,  Becca de la Vanette,  Dent du Crocodile,  Les Grands Vans,  Pic des Trois Évêchés,  Petit Renaud,  Aiguille Blanche de Peuterey,  Monte Murai,  Punta Oilletta,  Pic Bayle,  Tours de Notre-Dame,  Dent de Verreu,  Grand Renaud,  Les Oeillasses,  Cîme des Moutières,  Punta d\\'Almiane,  Pointes de Valcorniere - Centrale,  Punta della Valletta,  Flambeau des Écrins,  Le Cimon,  Cresta dei Gurgiun,  Monte Giassiez,  Pointes de Burlan,  Guglia del Nivo,  Pointe de la Foglietta,  Grand Pinier ou Pic Brun,  Monte Teje,  Pointe de l\\'Essort,  Grande Aiguille de la Bérarde,  La Crevasse,  Pic Gaspard,  Bec Charvet,  Monte Arpon,  Chard du Beurre,  Cime de Clot Châtel,  Pic de la Fare,  Rocher de l\\'Aigle,  Rocca Turo,  Pic Nord des Cavales,  Pointe des Rousses,  Bec de la Lya,  Dôme de la Sache,  Pointe de Chardonnière,  Monte Turlo,  Pointe du Vélard,  Tete De Barasson,  Dôme de Puy Salié,  Petite Aiguille de l\\'Arcelin,  Grand Bargy,  Truc Mongrosso,  Tete de l\\'Aupet,  Tête d\\'Oréac,  Pic du Diable,  Punta Tsissetta,  Alpe Pertus,  Croix du Cugulet,  Becca dell\\'Aouille,  Le Marteau,  Le Garabrut,  Pointe des Estaris,  Rocce Founs,  Casses Blanches,  Roche Pertuse,  Roc de l\\'Homme,  Monte Chenaille - Anticima sud,  Tête du Grand Bois,  Prégentil,  Punta Valletta,  Punta Bassac Deré,  Roche Gauthier,  Punta del Grillo,  La Coche,  Monte Vandalino,  Rocciamelone,  Punta Bianca della Grivola,  Tête de l\\'homme,  Punta Guardiol,  Mont Corquet,  Six Jeurs,  Cima del Blave,  La Grande Sœur - Agathe,  Losas,  Monte Plum,  Tête de l\\'Arpentaz,  Croce del col della Resta,  La Bessanèse,  Grande Eperviere,  Monte Orso,  Monte Vaccarezza,  La Peyrouse,  Monte Platasse,  La Ruinette,  Monte Collerin,  Le Massour,  Tête de Paccaly,  Cime du Petit Sauvage,  Rocca Tovo,  Le Néron,  Monte di Bessanetto,  Roc du Preve - Falesia Arrampicata,  Monte Bert,  Pointe de l\\'Aup su Pont,  Petit Bargy,  La Gélinasse,  Aiguille de la Brenva,  Bric Poi,  Monte Pian Real,  Mont Bréquin,  Tresenta,  Rocher de la Tournette,  Roche Bernard,  Vin Vert,  Torrione Mazzucchini,  Pointe Fine,  Pointe de la Fenêtre,  quota 2660,  Testa del Grand Etret,  Monte Unghiasse,  Grand Hoche,  Croce Cargnino,  Tête de Adrechenouns,  Punta Cialme,  Aiguille de Bonalex,  Monte Pezzulano,  Croix de Feuillet,  Rocher d\\'Arguille,  Sommet des Pluis,  Aiguille Doran,  Tête de Paneyron,  Monte Niblè,  Cima Dormillouse,  Visolotto,  Tête d\\'Armancette,  Aiguille de Roselette,  Cul de Pet,  Le Fou,  Pic gardiner,  Aiguillette du Lauzet,  Pointe de l\\'Argentière 3053,  Pic de Coste Vieille,  Punta delle Sengie,  Le Grand Morétan,  Pic Vert,  Pointe de la Pissine,  Tête de l\\'Essylloun,  Monte Cucetto,  Mont de la Blana,  Tête de l\\'écutieux,  Rocca Due Denti,  Punta Selassa,  Grand Van,  Monte Barifreddo,  La Chauvet,  La Tiera,  Aiguille Occidentale de l\\'Oronaye,  Bec de l\\'Aigle,  Mont Crete Sèche,  Roc Neir,  Aiguille de Loriaz,  Becca Chatelet,  Pointe de Chevran,  Tete Entre Deus Sauts,  La Maya (d\\'Arolla),  Tête des Annes,  Roche de la Tome,  Pic de Chauvet,  Monte Cassorso,  l\\'Aouillie,  Becca des Arbiere - Sud,  Punta della Paletta Sud,  Gilly,  Brec de Chambeyron,  Bric la Costa,  Pointe de Verdonaz,  Roc des Arces,  Pointe de la Reyna,  Tour de Prazon,  Triors,  Bocon Damon,  Petite Aiguille des Glaciers,  Tours Rouges de l\\'Aiguille Orientale,  Pointe de la Rochette,  Tête Chevalière,  Pointe de la Golette,  Monte Piegu,  Colle Teina,  Monte Uja,  Pic de Pétarel,  Le Grand Marchet,  Pointe Yeld,  Petit Pelvoux,  Cima delle Vallette,  Le Petit Argentier,  Roche d\\'Etache,  Mont Blanc - Monte Bianco,  Aiguille de la République,  Torre di Sant\\'Orso,  Pointe de l\\'Armélaz,  Teté De La Troche,  Cima Fournier,  Punta Garin,  Monte Cerello,  Vedette,  Punta Leyser,  Petite Dent de Veisivi,  Arête Fabien,  Buc Faraut,  Tête Neyron,  Punta Rasciassa,  Monte Rosso d\\'Ala,  Pic Lombard,  Roche de la Pelle,  Tete des Hommes,  Monte della Ciabra,  Roc Noir de Combeynot,  Clocher de l\\'Étret,  Rocce di Viso,  Cime de Bard,  Cima delle Liste (Punta Gardetta),  Chateau des Dames,  Dents Rousses,  Mont de Rochefort,  Piano Friera,  Tour Noir,  Roc de Pendet,  Pointe du Fond Blanc,  Monte Rosso Di Vertosan,  Aiguille du Fou,  Uja di Bellavarda,  Roche Méane,  Infernet,  Aiguille de la Perséverance,  La Grande Roche du Lauzon,  Pointe du Tougne,  Auguille Des Agroniettes,  Punta Lioy,  Cime Blanche,  Aiguille des 2 Aigles - Secteur du Plan,  Le Grand Serre,  Monte Capretto,  Punta Grand Vaudala Sud,  Les Perrons,  Testa dell\\'Assietta,  Pointe Nord des Lores,  Tête des Etablons,  Char de la Turche,  Punta Budden,  La Lauze,  Colle Bercia,  Croix-d\\'Agy,  Rocca Rosa,  Serre Delègue,  Pointe Nord des Douves Blanches,  Pic Marcel,  Bec de Lièvre,  La Tour Ronde,  Aiguille de Péclet,  Rocca Limburny,  Monte Dondena,  Les Trois Officiers,  Pic de Château Renard,  Le Pélard,  Pic de Céüse,  Le Grand Ferrand,  Grand Dru,  Il Pelvo,  Pointe de Haut Fleury,  Monte Rognoso,  Punta dell\\'Alp,  Roc Lancrenaz,  Petit Som,  Monte Luzera,  Monte Maurel,  Serre de Montue,  Punta Chestassa,  Monte Benetto,  Pic Est de Vaccivier,  Grand Charvia (Mont Gimont),  Crêt Lognan,  Le Haut Bouffet,  Uja di Mombran Punta Orientale,  La Grande Lanche,  Aiguille Noire de Pramecou,  Lance sud de Malissard,  Pic de Bouvières,  Grande Aiguille Rousse,  Pointe Alphonse Favre,  Tour Ponton,  Tete Pierre Muret,  Tete des Maitz,  Pointe de bornand,  Monte Manzol,  Mont Ventefort,  Monte Chirle,  Becca di Verconey,  Pic du Vacivier,  Le Petit Perron,  L\\'Ange Gardien,  Pointe de la Terrasse,  La Petite Moucherolle,  Pic de Parières,  Rocca Patanua,  Tête Pelouse,  Roccia Clostellone,  l\\'Aiguille,  Grand Combin de Grafeneire,  Monte Alpette,  Pan di Zucchero,  Aup de Véran,  Pointe Sud de la Vénasque,  Testa di Cervetto,  Tête de l\\'Hivernet,  Méale,  Mont Clergeon,  Le Trident,  Cime du Grand Vallon,  Aiguille de Beaupré,  Dent d\\'Arclusaz,  Pic du Lac de Combeynot,  Tête de Lapras'"
      ]
     },
     "execution_count": 7,
     "metadata": {},
     "output_type": "execute_result"
    }
   ],
   "source": [
    "# Liste des sommets \n",
    "',  '.join( dicosommets.keys() )"
   ]
  },
  {
   "cell_type": "code",
   "execution_count": 8,
   "metadata": {},
   "outputs": [
    {
     "name": "stdout",
     "output_type": "stream",
     "text": [
      "['Mont Blanc - Monte Bianco', 'Monte Bianco di Courmayeur - Mont Blanc de Courmayer', 'Rocher de la Tournette', 'Petite Bosse', 'Grande Bosse', 'Mont Maudit', 'Picco Luigi Amedeo', 'Grand Combin de Grafeneire', 'Dôme du Goûter', 'Pointe Mieulet']\n"
     ]
    }
   ],
   "source": [
    "# Trié par altitude\n",
    "import re\n",
    "\n",
    "def get_alt( s ):\n",
    "    if 'ele' in s['tags']:\n",
    "        elevation = s['tags']['ele']\n",
    "        elevation = re.sub(\"m\", \"\", elevation)\n",
    "        elevation = re.sub(\",\", \".\", elevation)\n",
    "        return float( elevation )\n",
    "    else: \n",
    "        return 0\n",
    "\n",
    "sort_alt = sorted( dicosommets.items(), key=lambda x: get_alt( x[1] ), reverse=True )\n",
    "\n",
    "print( [x[0] for x in sort_alt[:10]] )"
   ]
  },
  {
   "cell_type": "markdown",
   "metadata": {},
   "source": [
    "## Calcul des distances sur une sphère"
   ]
  },
  {
   "cell_type": "code",
   "execution_count": 9,
   "metadata": {
    "collapsed": true
   },
   "outputs": [],
   "source": [
    "import math as m\n",
    "\n",
    "def torad( theta ):\n",
    "    return theta * m.pi / 180.0"
   ]
  },
  {
   "cell_type": "code",
   "execution_count": 10,
   "metadata": {
    "collapsed": true
   },
   "outputs": [],
   "source": [
    "R = 6371.009 # km, rayon moyen de la terre\n",
    "def getdistance_trigo( lat1, lon1, lat2, lon2 ):\n",
    "    lat1, lon1, lat2, lon2 = [ torad(theta) for theta in [lat1, lon1, lat2, lon2] ]\n",
    "    cosTheta =  m.sin( lat1 )*m.sin( lat2 ) + m.cos( lat1 )*m.cos( lat2 )*m.cos( lon2-lon1 )\n",
    "    \n",
    "    if cosTheta > 1: # cas si lat1==lat2 et lon1 == lon2\n",
    "        theta = 0\n",
    "    else:\n",
    "        theta = m.acos( cosTheta )\n",
    "    \n",
    "    return theta*R"
   ]
  },
  {
   "cell_type": "markdown",
   "metadata": {},
   "source": [
    "Rq: On retrouve bien l'ancienne définition du mètre: dix millionème (e-7) du quart du méridien terrestre:"
   ]
  },
  {
   "cell_type": "code",
   "execution_count": 11,
   "metadata": {},
   "outputs": [
    {
     "data": {
      "text/plain": [
       "10007.557535177228"
      ]
     },
     "execution_count": 11,
     "metadata": {},
     "output_type": "execute_result"
    }
   ],
   "source": [
    "getdistance_trigo( 0, 0, 90, 90 )"
   ]
  },
  {
   "cell_type": "code",
   "execution_count": 12,
   "metadata": {},
   "outputs": [
    {
     "data": {
      "text/plain": [
       "6671.705023451485"
      ]
     },
     "execution_count": 12,
     "metadata": {},
     "output_type": "execute_result"
    }
   ],
   "source": [
    "getdistance_trigo( 45, 0, 45, 90 )"
   ]
  },
  {
   "cell_type": "markdown",
   "metadata": {},
   "source": [
    "## Recherche à partir d'un centre (le soleil)\n",
    "\n",
    "- un sommet est défini comme centre, c.a.d. le soleil\n",
    "- Les distances de tout les sommets depuis ce centre sont calculées\n",
    "\n",
    "- \n"
   ]
  },
  {
   "cell_type": "code",
   "execution_count": 13,
   "metadata": {
    "collapsed": true
   },
   "outputs": [],
   "source": [
    "def get_alldistfromcoords( lat_Sol, lon_Sol  ):\n",
    "    \"\"\" Calcul toutes les distances des sommets par rapport au point indiqué (comme 'soleil')\n",
    "        soleil: str, key du sommet dans dicosommets\n",
    "        return: liste nom des sommets, liste des distances\n",
    "    \"\"\"\n",
    "    distancesAuSoleil = {}\n",
    "    for name, sommet in dicosommets.items():\n",
    "        lat, lon = sommet['lat'], sommet['lon']\n",
    "        distancesAuSoleil[name] = getdistance_trigo( lat_Sol, lon_Sol, lat, lon )\n",
    "        \n",
    "    sorted_data = sorted( distancesAuSoleil.items(), key=lambda x:x[1] )\n",
    "    sorted_name, sorted_dist = zip( *sorted_data )\n",
    "    \n",
    "    return sorted_name, np.array( sorted_dist )\n",
    "\n",
    "def get_alldistfromsun( soleil ):\n",
    "    \"\"\"  La même chose mais avec la clé 'soleil' en entrée\n",
    "    \"\"\"\n",
    "    lat_Sol = dicosommets[soleil]['lat']\n",
    "    lon_Sol = dicosommets[soleil]['lon']\n",
    "\n",
    "    return get_alldistfromcoords( lat_Sol, lon_Sol  )"
   ]
  },
  {
   "cell_type": "code",
   "execution_count": 14,
   "metadata": {
    "collapsed": true
   },
   "outputs": [],
   "source": [
    "def findnearest( sorted_dist, d ):\n",
    "    \"\"\" fonction qui permet de trouver le sommet le plus proche d'une certain distance d\n",
    "        p/r au sommet 'soleil'\n",
    "    \"\"\"\n",
    "    all_distances  = np.abs( sorted_dist - d ) \n",
    "    return np.argmin( all_distances )\n",
    "\n",
    "\n",
    "def get_error(  sorted_dist, d, i ):\n",
    "    return 100*np.abs( sorted_dist[i] - d ) /( d + sorted_dist[i] )*2\n",
    "\n",
    "def find_and_geterror( sorted_dist, d ):\n",
    "    i = findnearest( sorted_dist, d )\n",
    "    return get_error(  sorted_dist, d, i )\n",
    "\n",
    "def findnearest_disp( sorted_name, sorted_dist, d ):\n",
    "    i = findnearest( sorted_dist, d )\n",
    "    error = get_error(  sorted_dist, d, i )\n",
    "    name = sorted_name[i]\n",
    "    \n",
    "    return name, error, sorted_dist[i]"
   ]
  },
  {
   "cell_type": "code",
   "execution_count": 15,
   "metadata": {
    "collapsed": true
   },
   "outputs": [],
   "source": [
    "## test \n",
    "soleil = 'Moucherotte' \n",
    "soleil = 'La Rossa'\n",
    "#soleil = 'La Grande Moucherolle' \n",
    "#soleil = 'Grand Veymont'\n"
   ]
  },
  {
   "cell_type": "code",
   "execution_count": 16,
   "metadata": {},
   "outputs": [
    {
     "name": "stdout",
     "output_type": "stream",
     "text": [
      "Punta Uja\n",
      "0.443742125665\n"
     ]
    }
   ],
   "source": [
    "sorted_name, sorted_dist = get_alldistfromsun( soleil )\n",
    "\n",
    "i = findnearest( sorted_dist,  2 )\n",
    "print( sorted_name[ i  ] )\n",
    "\n",
    "print( get_error( sorted_dist, 2, i ) )"
   ]
  },
  {
   "cell_type": "code",
   "execution_count": 17,
   "metadata": {},
   "outputs": [
    {
     "data": {
      "text/plain": [
       "3.0509918081478644"
      ]
     },
     "execution_count": 17,
     "metadata": {},
     "output_type": "execute_result"
    }
   ],
   "source": [
    "find_and_geterror( sorted_dist, 2.3 )"
   ]
  },
  {
   "cell_type": "markdown",
   "metadata": {},
   "source": [
    "# Avec les planètes\n",
    "\n",
    "rayon des orbites (demi-grand axe) en unité astronomique, c.a.d. la distance Terre-Soleil :"
   ]
  },
  {
   "cell_type": "code",
   "execution_count": 18,
   "metadata": {
    "collapsed": true
   },
   "outputs": [],
   "source": [
    "planetes_noms = ['Mercure', 'Vénus', 'Terre', 'Mars', 'Cérès', 'Jupiter', 'Saturne', 'Uranus', 'Neptune', 'Pluton']\n",
    "planetes_UA = [ 0.38710, 0.72333, 1, 1.52366, 2.7665, 5.20336, 9.53707, 19.1913, 30.0690, 39.4817 ]"
   ]
  },
  {
   "cell_type": "markdown",
   "metadata": {},
   "source": [
    "# Recherche systématique"
   ]
  },
  {
   "cell_type": "code",
   "execution_count": 19,
   "metadata": {
    "collapsed": true
   },
   "outputs": [],
   "source": [
    "def get_errorsum( sorted_dist, d_Terre ):\n",
    "    \"\"\" Calcul la somme des erreurs pour toutes les planètes\n",
    "        d_Terre (km) est la distance équivalent à l'orbite terrestre (1UA)\n",
    "    \"\"\"\n",
    "    errors = [ find_and_geterror( sorted_dist, d_UA * d_Terre ) for d_UA in  planetes_UA ]\n",
    "    return sum( errors )"
   ]
  },
  {
   "cell_type": "code",
   "execution_count": 20,
   "metadata": {
    "collapsed": true
   },
   "outputs": [],
   "source": [
    "soleil = 'La Rossa'\n",
    "\n",
    "sorted_name, sorted_dist = get_alldistfromsun( soleil )\n",
    "\n",
    "d_span = sorted_dist[1:81]\n",
    "error_span = [ get_errorsum( sorted_dist,  d ) for d in d_span ]"
   ]
  },
  {
   "cell_type": "code",
   "execution_count": 21,
   "metadata": {},
   "outputs": [
    {
     "data": {
      "image/png": "[encoded data removed]",
      "text/plain": [
       "<matplotlib.figure.Figure at 0x7f3fccd3a518>"
      ]
     },
     "metadata": {},
     "output_type": "display_data"
    }
   ],
   "source": [
    "plt.plot( d_span, error_span, '.:'  ); plt.xlabel('d_Terre (km)'); plt.ylabel('somme erreur'); plt.title('%s'%soleil);"
   ]
  },
  {
   "cell_type": "code",
   "execution_count": 22,
   "metadata": {
    "collapsed": true
   },
   "outputs": [],
   "source": [
    "def get_best_d( soleil ):\n",
    "    sorted_name, sorted_dist = get_alldistfromsun( soleil )\n",
    "\n",
    "    d_span = sorted_dist[1:81]\n",
    "    error_span = np.array([ get_errorsum( sorted_dist,  d ) for d in d_span ])\n",
    "    \n",
    "    i_min =  np.argmin( error_span )\n",
    "    \n",
    "    \n",
    "    return d_span[ i_min ], error_span[ i_min ]"
   ]
  },
  {
   "cell_type": "code",
   "execution_count": 23,
   "metadata": {},
   "outputs": [
    {
     "data": {
      "text/plain": [
       "(4.0773495689651957, 12.975818250606027)"
      ]
     },
     "execution_count": 23,
     "metadata": {},
     "output_type": "execute_result"
    }
   ],
   "source": [
    "get_best_d( soleil )"
   ]
  },
  {
   "cell_type": "markdown",
   "metadata": {},
   "source": [
    "# Recherche systématique du 'soleil'"
   ]
  },
  {
   "cell_type": "markdown",
   "metadata": {},
   "source": [
    "## Sommets les plus proches de Grenoble"
   ]
  },
  {
   "cell_type": "code",
   "execution_count": 24,
   "metadata": {
    "collapsed": true
   },
   "outputs": [],
   "source": [
    "lat_Gre, lon_Gre = 45.166672, 5.71667 "
   ]
  },
  {
   "cell_type": "code",
   "execution_count": 25,
   "metadata": {
    "collapsed": true
   },
   "outputs": [],
   "source": [
    "name_nearGre, dist_nearGre = get_alldistfromcoords( lat_Gre, lon_Gre  )"
   ]
  },
  {
   "cell_type": "code",
   "execution_count": 26,
   "metadata": {},
   "outputs": [
    {
     "name": "stdout",
     "output_type": "stream",
     "text": [
      "('Mont Jalla', 'Mont Rachais', 'Les 3 Pucelles', 'Mollard Gargot', 'Moucherotte', 'Le Fournet', 'Les Quatre Seigneurs', 'Le Néron', 'Bellevue', 'Saint-Eynard')\n"
     ]
    }
   ],
   "source": [
    "print ( name_nearGre[:10] )"
   ]
  },
  {
   "cell_type": "markdown",
   "metadata": {},
   "source": [
    "## Boucle"
   ]
  },
  {
   "cell_type": "code",
   "execution_count": 27,
   "metadata": {
    "collapsed": true
   },
   "outputs": [],
   "source": [
    "# Calcul :\n",
    "res = [ (soleil, get_best_d( soleil )) for soleil in name_nearGre[:100] ]"
   ]
  },
  {
   "cell_type": "code",
   "execution_count": 28,
   "metadata": {
    "collapsed": true
   },
   "outputs": [],
   "source": [
    "res = sorted( res, key=lambda x:x[1][1] )"
   ]
  },
  {
   "cell_type": "code",
   "execution_count": 29,
   "metadata": {},
   "outputs": [
    {
     "name": "stdout",
     "output_type": "stream",
     "text": [
      "                        Pic Couttet: 2.95    erreur=    1.4\n",
      "            Grand Pic de Belledonne: 3.40    erreur=    2.3\n",
      "                  Le Grand Charnier: 3.39    erreur=    2.4\n",
      "                 Pointe de Vaudaine: 3.92    erreur=    3.1\n",
      "                      Grand Replomb: 3.96    erreur=    3.4\n",
      "             Petite Lance de Domène: 3.88    erreur=    3.5\n",
      "                       Grand Eulier: 4.08    erreur=    3.5\n",
      "             Grande Lance de Domène: 3.11    erreur=    3.8\n",
      "                  Rocher de l'Homme: 3.64    erreur=    4.1\n",
      "                    Grande Lauzière: 3.99    erreur=    4.3\n",
      "                          Grand Van: 3.66    erreur=    5.0\n",
      "                      Sommet Colomb: 2.97    erreur=    5.0\n",
      "          Pic Central de Belledonne: 2.91    erreur=    5.1\n",
      "             Petite Lance du Crozet: 3.65    erreur=    5.1\n",
      "            Pointe de Jasse Bralard: 3.70    erreur=    5.2\n",
      "                        Le Galeteau: 4.21    erreur=    6.2\n",
      "                Croix de Chamrousse: 4.20    erreur=    6.3\n",
      "                        Pic du Loup: 4.09    erreur=    6.4\n",
      "               Pic du Grand Doménon: 4.00    erreur=    6.8\n",
      "                Les Trois Officiers: 3.51    erreur=    7.0\n",
      "                 Pointe de la Sitre: 3.57    erreur=    7.3\n",
      "                          Petit Van: 3.89    erreur=    7.4\n",
      "                Croix de Belledonne: 3.85    erreur=    7.7\n",
      "                     Pic de Mirebel: 4.15    erreur=    8.0\n",
      "                      Petit Replomb: 3.93    erreur=    8.5\n",
      "                      Grand Sorbier: 2.10    erreur=    8.6\n",
      "                         L'Écoutoux: 4.53    erreur=    8.8\n",
      "                     Pic de la Fare: 4.63    erreur=    9.9\n",
      "            Grande Lance d'Allemont: 3.18    erreur=   11.3\n",
      "                   Pic de la Pierre: 2.54    erreur=   11.4\n"
     ]
    }
   ],
   "source": [
    "# Le top 10 :\n",
    "for soleil, d_and_error in res[:30]:\n",
    "    d_Terre_opti, error = d_and_error\n",
    "    print( '{0:>35}: {1:3.2f}    erreur={2:7.1f}'.format(soleil, d_Terre_opti, error ) )"
   ]
  },
  {
   "cell_type": "code",
   "execution_count": 30,
   "metadata": {},
   "outputs": [
    {
     "name": "stdout",
     "output_type": "stream",
     "text": [
      "   Planète  Sommet                              Erreur(%)   Distance(km)\n",
      "----------------------------------------------------------------\n",
      "   Mercure: Saint-Eynard (1359m)                   2.94        1.8\n",
      "     Vénus: Aiguille de Quaix (1143m)              1.02        3.3\n",
      "     Terre: Chamechaude (2082m)                    0.00        4.5\n",
      "      Mars: Rochers de Chalves (1845m)             0.33        6.9\n",
      "     Cérès: La Sure (1643m)                        1.34       12.7\n",
      "   Jupiter: Pic de l'apparence (2714m)             0.03       23.6\n",
      "   Saturne: Croix du Nivolet (1547m)               0.03       43.2\n",
      "    Uranus: Cima dei Fourneaux (3207m)             0.01       87.0\n",
      "   Neptune: Punta Cialme (2463m)                   0.04      136.4\n",
      "    Pluton: Corne de Sorebois (2895m)              3.06      173.6\n"
     ]
    }
   ],
   "source": [
    "## Vérif : \n",
    "soleil = \"L'Écoutoux\" #\"Grand Pic de Belledonne\"\n",
    "sorted_name, sorted_dist = get_alldistfromsun( soleil )\n",
    "\n",
    "d_Terre, error = get_best_d( soleil )\n",
    "\n",
    "print( '{0:>10}  {1:35} {2}   {3}'.format('Planète', 'Sommet',  'Erreur(%)', 'Distance(km)') )\n",
    "print( '----------------------------------------------------------------' )\n",
    "\n",
    "for i, n in enumerate( planetes_noms ):\n",
    "    d_UA = planetes_UA[i]\n",
    "    pic_proche, erreur, d_reel = findnearest_disp(sorted_name, sorted_dist, d_UA * d_Terre )\n",
    "    \n",
    "    alt = get_alt( dicosommets[pic_proche] )\n",
    "    pic_name = '%s (%im)'%(pic_proche, alt)\n",
    "    print( '{0:>10}: {1:35} {2:7.2f}    {3:7.1f}'.format(n, pic_name,  erreur, d_reel) )"
   ]
  },
  {
   "cell_type": "markdown",
   "metadata": {},
   "source": [
    "## construit un GeoJson pour géoPortail\n",
    "\n",
    "http://geojson.org/\n",
    "\n",
    "https://macwright.org/2015/03/23/geojson-second-bite.html#position"
   ]
  },
  {
   "cell_type": "code",
   "execution_count": 31,
   "metadata": {
    "collapsed": true
   },
   "outputs": [],
   "source": [
    "def add_point( coords, name ):\n",
    "    template = {\n",
    "      \"type\": \"Feature\",\n",
    "      \"geometry\": {\n",
    "        \"type\": \"Point\",\n",
    "        \"coordinates\": coords\n",
    "      },\n",
    "      \"properties\": {\n",
    "        \"name\": name\n",
    "      }\n",
    "    }\n",
    "    return template"
   ]
  },
  {
   "cell_type": "code",
   "execution_count": 32,
   "metadata": {
    "collapsed": true
   },
   "outputs": [],
   "source": [
    "data_geo = []\n",
    "for i, n in enumerate( planetes_noms ):\n",
    "    d_UA = planetes_UA[i]\n",
    "    pic_proche, erreur, d_reel = findnearest_disp(sorted_name, sorted_dist, d_UA * d_Terre )\n",
    "    \n",
    "    s = dicosommets[ pic_proche ]\n",
    "    coords = [s['lon'],  s['lat']]\n",
    "    name = '%s - %s' %(pic_proche, n)\n",
    "    data_geo.append(  add_point( coords, name )  )\n",
    "    \n",
    "# add sun\n",
    "s = dicosommets[ soleil ]\n",
    "coords = [  s['lon'], s['lat'] ]\n",
    "name = '%s - %s' %(soleil, 'Soleil')\n",
    "data_geo.append(  add_point( coords, name )  )\n"
   ]
  },
  {
   "cell_type": "code",
   "execution_count": 33,
   "metadata": {},
   "outputs": [
    {
     "data": {
      "text/plain": [
       "[{'geometry': {'coordinates': [5.7606939, 45.2368246], 'type': 'Point'},\n",
       "  'properties': {'name': 'Saint-Eynard - Mercure'},\n",
       "  'type': 'Feature'},\n",
       " {'geometry': {'coordinates': [5.7205577, 45.2671104], 'type': 'Point'},\n",
       "  'properties': {'name': 'Aiguille de Quaix - Vénus'},\n",
       "  'type': 'Feature'},\n",
       " {'geometry': {'coordinates': [5.7881684, 45.2876743], 'type': 'Point'},\n",
       "  'properties': {'name': 'Chamechaude - Terre'},\n",
       "  'type': 'Feature'},\n",
       " {'geometry': {'coordinates': [5.6975877, 45.2981009], 'type': 'Point'},\n",
       "  'properties': {'name': 'Rochers de Chalves - Mars'},\n",
       "  'type': 'Feature'},\n",
       " {'geometry': {'coordinates': [5.5973979, 45.2352344], 'type': 'Point'},\n",
       "  'properties': {'name': 'La Sure - Cérès'},\n",
       "  'type': 'Feature'},\n",
       " {'geometry': {'coordinates': [6.0585091, 45.2401518], 'type': 'Point'},\n",
       "  'properties': {'name': \"Pic de l'apparence - Jupiter\"},\n",
       "  'type': 'Feature'},\n",
       " {'geometry': {'coordinates': [5.9655183, 45.6135574], 'type': 'Point'},\n",
       "  'properties': {'name': 'Croix du Nivolet - Saturne'},\n",
       "  'type': 'Feature'},\n",
       " {'geometry': {'coordinates': [6.8524185, 45.1227706], 'type': 'Point'},\n",
       "  'properties': {'name': 'Cima dei Fourneaux - Uranus'},\n",
       "  'type': 'Feature'},\n",
       " {'geometry': {'coordinates': [7.0339858, 44.4250394], 'type': 'Point'},\n",
       "  'properties': {'name': 'Punta Cialme - Neptune'},\n",
       "  'type': 'Feature'},\n",
       " {'geometry': {'coordinates': [7.5866098, 46.1508701], 'type': 'Point'},\n",
       "  'properties': {'name': 'Corne de Sorebois - Pluton'},\n",
       "  'type': 'Feature'},\n",
       " {'geometry': {'coordinates': [5.7578016, 45.252951], 'type': 'Point'},\n",
       "  'properties': {'name': \"L'Écoutoux - Soleil\"},\n",
       "  'type': 'Feature'}]"
      ]
     },
     "execution_count": 33,
     "metadata": {},
     "output_type": "execute_result"
    }
   ],
   "source": [
    "data_geo"
   ]
  },
  {
   "cell_type": "code",
   "execution_count": 34,
   "metadata": {
    "collapsed": true
   },
   "outputs": [],
   "source": [
    "data_geo_collection = {\"type\":\"FeatureCollection\",  \"features\": data_geo }"
   ]
  },
  {
   "cell_type": "code",
   "execution_count": 35,
   "metadata": {
    "collapsed": true
   },
   "outputs": [],
   "source": [
    "with open('datageo.json', 'w') as outfile:\n",
    "    json.dump(data_geo_collection, outfile)"
   ]
  },
  {
   "cell_type": "markdown",
   "metadata": {},
   "source": [
    "# Pour la suite\n",
    "- taille des planètes et du soleil à l'échelle\n",
    "- Calcul de l'horizon, pour réduire le nombre de candidats\n"
   ]
  },
  {
   "cell_type": "code",
   "execution_count": 36,
   "metadata": {
    "collapsed": true
   },
   "outputs": [],
   "source": [
    "import folium"
   ]
  },
  {
   "cell_type": "code",
   "execution_count": 42,
   "metadata": {},
   "outputs": [],
   "source": [
    "s = dicosommets[ soleil ]\n",
    "coords_soleil = [   s['lat'], s['lon'] ]"
   ]
  },
  {
   "cell_type": "code",
   "execution_count": 56,
   "metadata": {
    "collapsed": true
   },
   "outputs": [],
   "source": [
    "solar_map = folium.Map(location=coords_soleil, zoom_start=12 \n",
    "                     , tiles='Stamen Terrain')"
   ]
  },
  {
   "cell_type": "code",
   "execution_count": 57,
   "metadata": {
    "collapsed": true
   },
   "outputs": [],
   "source": [
    "for i, n in enumerate( planetes_noms ):\n",
    "    d_UA = planetes_UA[i]\n",
    "    pic_proche, erreur, d_reel = findnearest_disp(sorted_name, sorted_dist, d_UA * d_Terre )\n",
    "    \n",
    "    s = dicosommets[ pic_proche ]\n",
    "    coords = [s['lat'], s['lon']]\n",
    "    name = '%s - %s' %(pic_proche, n)\n",
    "    \n",
    "    folium.map.Marker(location=coords, popup=name, \n",
    "         icon=folium.Icon(color='blue', icon_color='white',icon='fa-globe', prefix='fa') ).add_to(solar_map)\n",
    "    \n",
    "    lines = [coords_soleil, coords]\n",
    "    folium.features.PolyLine(lines).add_to(solar_map)"
   ]
  },
  {
   "cell_type": "code",
   "execution_count": 58,
   "metadata": {},
   "outputs": [
    {
     "data": {
      "text/html": [
       "<div style=\"width:100%;\"><div style=\"position:relative;width:100%;height:0;padding-bottom:60%;\"><iframe src=\"data:text/html;charset=utf-8;base64,PCFET0NUWVBFIGh0bWw+CjxoZWFkPiAgICAKICAgIDxtZXRhIGh0dHAtZXF1aXY9ImNvbnRlbnQtdHlwZSIgY29udGVudD0idGV4dC9odG1sOyBjaGFyc2V0PVVURi04IiAvPgogICAgPHNjcmlwdD5MX1BSRUZFUl9DQU5WQVMgPSBmYWxzZTsgTF9OT19UT1VDSCA9IGZhbHNlOyBMX0RJU0FCTEVfM0QgPSBmYWxzZTs8L3NjcmlwdD4KICAgIDxzY3JpcHQgc3JjPSJodHRwczovL3VucGtnLmNvbS9sZWFmbGV0QDEuMC4xL2Rpc3QvbGVhZmxldC5qcyI+PC9zY3JpcHQ+CiAgICA8c2NyaXB0IHNyYz0iaHR0cHM6Ly9hamF4Lmdvb2dsZWFwaXMuY29tL2FqYXgvbGlicy9qcXVlcnkvMS4xMS4xL2pxdWVyeS5taW4uanMiPjwvc2NyaXB0PgogICAgPHNjcmlwdCBzcmM9Imh0dHBzOi8vbWF4Y2RuLmJvb3RzdHJhcGNkbi5jb20vYm9vdHN0cmFwLzMuMi4wL2pzL2Jvb3RzdHJhcC5taW4uanMiPjwvc2NyaXB0PgogICAgPHNjcmlwdCBzcmM9Imh0dHBzOi8vY2RuanMuY2xvdWRmbGFyZS5jb20vYWpheC9saWJzL0xlYWZsZXQuYXdlc29tZS1tYXJrZXJzLzIuMC4yL2xlYWZsZXQuYXdlc29tZS1tYXJrZXJzLmpzIj48L3NjcmlwdD4KICAgIDxzY3JpcHQgc3JjPSJodHRwczovL2NkbmpzLmNsb3VkZmxhcmUuY29tL2FqYXgvbGlicy9sZWFmbGV0Lm1hcmtlcmNsdXN0ZXIvMS4wLjAvbGVhZmxldC5tYXJrZXJjbHVzdGVyLXNyYy5qcyI+PC9zY3JpcHQ+CiAgICA8c2NyaXB0IHNyYz0iaHR0cHM6Ly9jZG5qcy5jbG91ZGZsYXJlLmNvbS9hamF4L2xpYnMvbGVhZmxldC5tYXJrZXJjbHVzdGVyLzEuMC4wL2xlYWZsZXQubWFya2VyY2x1c3Rlci5qcyI+PC9zY3JpcHQ+CiAgICA8bGluayByZWw9InN0eWxlc2hlZXQiIGhyZWY9Imh0dHBzOi8vdW5wa2cuY29tL2xlYWZsZXRAMS4wLjEvZGlzdC9sZWFmbGV0LmNzcyIgLz4KICAgIDxsaW5rIHJlbD0ic3R5bGVzaGVldCIgaHJlZj0iaHR0cHM6Ly9tYXhjZG4uYm9vdHN0cmFwY2RuLmNvbS9ib290c3RyYXAvMy4yLjAvY3NzL2Jvb3RzdHJhcC5taW4uY3NzIiAvPgogICAgPGxpbmsgcmVsPSJzdHlsZXNoZWV0IiBocmVmPSJodHRwczovL21heGNkbi5ib290c3RyYXBjZG4uY29tL2Jvb3RzdHJhcC8zLjIuMC9jc3MvYm9vdHN0cmFwLXRoZW1lLm1pbi5jc3MiIC8+CiAgICA8bGluayByZWw9InN0eWxlc2hlZXQiIGhyZWY9Imh0dHBzOi8vbWF4Y2RuLmJvb3RzdHJhcGNkbi5jb20vZm9udC1hd2Vzb21lLzQuNi4zL2Nzcy9mb250LWF3ZXNvbWUubWluLmNzcyIgLz4KICAgIDxsaW5rIHJlbD0ic3R5bGVzaGVldCIgaHJlZj0iaHR0cHM6Ly9jZG5qcy5jbG91ZGZsYXJlLmNvbS9hamF4L2xpYnMvTGVhZmxldC5hd2Vzb21lLW1hcmtlcnMvMi4wLjIvbGVhZmxldC5hd2Vzb21lLW1hcmtlcnMuY3NzIiAvPgogICAgPGxpbmsgcmVsPSJzdHlsZXNoZWV0IiBocmVmPSJodHRwczovL2NkbmpzLmNsb3VkZmxhcmUuY29tL2FqYXgvbGlicy9sZWFmbGV0Lm1hcmtlcmNsdXN0ZXIvMS4wLjAvTWFya2VyQ2x1c3Rlci5EZWZhdWx0LmNzcyIgLz4KICAgIDxsaW5rIHJlbD0ic3R5bGVzaGVldCIgaHJlZj0iaHR0cHM6Ly9jZG5qcy5jbG91ZGZsYXJlLmNvbS9hamF4L2xpYnMvbGVhZmxldC5tYXJrZXJjbHVzdGVyLzEuMC4wL01hcmtlckNsdXN0ZXIuY3NzIiAvPgogICAgPGxpbmsgcmVsPSJzdHlsZXNoZWV0IiBocmVmPSJodHRwczovL3Jhd2dpdC5jb20vcHl0aG9uLXZpc3VhbGl6YXRpb24vZm9saXVtL21hc3Rlci9mb2xpdW0vdGVtcGxhdGVzL2xlYWZsZXQuYXdlc29tZS5yb3RhdGUuY3NzIiAvPgogICAgPHN0eWxlPmh0bWwsIGJvZHkge3dpZHRoOiAxMDAlO2hlaWdodDogMTAwJTttYXJnaW46IDA7cGFkZGluZzogMDt9PC9zdHlsZT4KICAgIDxzdHlsZT4jbWFwIHtwb3NpdGlvbjphYnNvbHV0ZTt0b3A6MDtib3R0b206MDtyaWdodDowO2xlZnQ6MDt9PC9zdHlsZT4KICAgIAogICAgICAgICAgICA8c3R5bGU+ICNtYXBfZmM1NWI2Y2ZmMjU2NDYyNGEwZmIxZGQ3NDhiZTE5NTUgewogICAgICAgICAgICAgICAgcG9zaXRpb24gOiByZWxhdGl2ZTsKICAgICAgICAgICAgICAgIHdpZHRoIDogMTAwLjAlOwogICAgICAgICAgICAgICAgaGVpZ2h0OiAxMDAuMCU7CiAgICAgICAgICAgICAgICBsZWZ0OiAwLjAlOwogICAgICAgICAgICAgICAgdG9wOiAwLjAlOwogICAgICAgICAgICAgICAgfQogICAgICAgICAgICA8L3N0eWxlPgogICAgICAgIAo8L2hlYWQ+Cjxib2R5PiAgICAKICAgIAogICAgICAgICAgICA8ZGl2IGNsYXNzPSJmb2xpdW0tbWFwIiBpZD0ibWFwX2ZjNTViNmNmZjI1NjQ2MjRhMGZiMWRkNzQ4YmUxOTU1IiA+PC9kaXY+CiAgICAgICAgCjwvYm9keT4KPHNjcmlwdD4gICAgCiAgICAKCiAgICAgICAgICAgIAogICAgICAgICAgICAgICAgdmFyIHNvdXRoV2VzdCA9IEwubGF0TG5nKC05MCwgLTE4MCk7CiAgICAgICAgICAgICAgICB2YXIgbm9ydGhFYXN0ID0gTC5sYXRMbmcoOTAsIDE4MCk7CiAgICAgICAgICAgICAgICB2YXIgYm91bmRzID0gTC5sYXRMbmdCb3VuZHMoc291dGhXZXN0LCBub3J0aEVhc3QpOwogICAgICAgICAgICAKCiAgICAgICAgICAgIHZhciBtYXBfZmM1NWI2Y2ZmMjU2NDYyNGEwZmIxZGQ3NDhiZTE5NTUgPSBMLm1hcCgKICAgICAgICAgICAgICAgICAgICAgICAgICAgICAgICAgICdtYXBfZmM1NWI2Y2ZmMjU2NDYyNGEwZmIxZGQ3NDhiZTE5NTUnLAogICAgICAgICAgICAgICAgICAgICAgICAgICAgICAgICAge2NlbnRlcjogWzQ1LjI1Mjk1MSw1Ljc1NzgwMTZdLAogICAgICAgICAgICAgICAgICAgICAgICAgICAgICAgICAgem9vbTogMTIsCiAgICAgICAgICAgICAgICAgICAgICAgICAgICAgICAgICBtYXhCb3VuZHM6IGJvdW5kcywKICAgICAgICAgICAgICAgICAgICAgICAgICAgICAgICAgIGxheWVyczogW10sCiAgICAgICAgICAgICAgICAgICAgICAgICAgICAgICAgICB3b3JsZENvcHlKdW1wOiBmYWxzZSwKICAgICAgICAgICAgICAgICAgICAgICAgICAgICAgICAgIGNyczogTC5DUlMuRVBTRzM4NTcKICAgICAgICAgICAgICAgICAgICAgICAgICAgICAgICAgfSk7CiAgICAgICAgICAgIAogICAgICAgIAogICAgCiAgICAgICAgICAgIHZhciB0aWxlX2xheWVyX2Y0NDI3OTQ4MDU1MDQ0Njg5ZTFmMzBjYjIwNDM4MzdiID0gTC50aWxlTGF5ZXIoCiAgICAgICAgICAgICAgICAnaHR0cHM6Ly9zdGFtZW4tdGlsZXMte3N9LmEuc3NsLmZhc3RseS5uZXQvdGVycmFpbi97en0ve3h9L3t5fS5qcGcnLAogICAgICAgICAgICAgICAgewogICAgICAgICAgICAgICAgICAgIG1heFpvb206IDE4LAogICAgICAgICAgICAgICAgICAgIG1pblpvb206IDEsCiAgICAgICAgICAgICAgICAgICAgY29udGludW91c1dvcmxkOiBmYWxzZSwKICAgICAgICAgICAgICAgICAgICBub1dyYXA6IGZhbHNlLAogICAgICAgICAgICAgICAgICAgIGF0dHJpYnV0aW9uOiAnTWFwIHRpbGVzIGJ5IDxhIGhyZWY9Imh0dHA6Ly9zdGFtZW4uY29tIj5TdGFtZW4gRGVzaWduPC9hPiwgdW5kZXIgPGEgaHJlZj0iaHR0cDovL2NyZWF0aXZlY29tbW9ucy5vcmcvbGljZW5zZXMvYnkvMy4wIj5DQyBCWSAzLjA8L2E+LiBEYXRhIGJ5IDxhIGhyZWY9Imh0dHA6Ly9vcGVuc3RyZWV0bWFwLm9yZyI+T3BlblN0cmVldE1hcDwvYT4sIHVuZGVyIDxhIGhyZWY9Imh0dHA6Ly9jcmVhdGl2ZWNvbW1vbnMub3JnL2xpY2Vuc2VzL2J5LXNhLzMuMCI+Q0MgQlkgU0E8L2E+LicsCiAgICAgICAgICAgICAgICAgICAgZGV0ZWN0UmV0aW5hOiBmYWxzZQogICAgICAgICAgICAgICAgICAgIH0KICAgICAgICAgICAgICAgICkuYWRkVG8obWFwX2ZjNTViNmNmZjI1NjQ2MjRhMGZiMWRkNzQ4YmUxOTU1KTsKCiAgICAgICAgCiAgICAKCiAgICAgICAgICAgIHZhciBtYXJrZXJfYTdkZDAzNzI0Njc3NDI2ZGJhNjJhZGJkMDVlYjJkMGIgPSBMLm1hcmtlcigKICAgICAgICAgICAgICAgIFs0NS4yMzY4MjQ2LDUuNzYwNjkzOV0sCiAgICAgICAgICAgICAgICB7CiAgICAgICAgICAgICAgICAgICAgaWNvbjogbmV3IEwuSWNvbi5EZWZhdWx0KCkKICAgICAgICAgICAgICAgICAgICB9CiAgICAgICAgICAgICAgICApCiAgICAgICAgICAgICAgICAuYWRkVG8obWFwX2ZjNTViNmNmZjI1NjQ2MjRhMGZiMWRkNzQ4YmUxOTU1KTsKICAgICAgICAgICAgCiAgICAKCiAgICAgICAgICAgICAgICB2YXIgaWNvbl9mYWE1M2Y1NDdiYWI0ZTlkOWI0NGM0OWFmZjA5ZTAzNCA9IEwuQXdlc29tZU1hcmtlcnMuaWNvbih7CiAgICAgICAgICAgICAgICAgICAgaWNvbjogJ2ZhLWdsb2JlJywKICAgICAgICAgICAgICAgICAgICBpY29uQ29sb3I6ICd3aGl0ZScsCiAgICAgICAgICAgICAgICAgICAgbWFya2VyQ29sb3I6ICdibHVlJywKICAgICAgICAgICAgICAgICAgICBwcmVmaXg6ICdmYScsCiAgICAgICAgICAgICAgICAgICAgZXh0cmFDbGFzc2VzOiAnZmEtcm90YXRlLTAnCiAgICAgICAgICAgICAgICAgICAgfSk7CiAgICAgICAgICAgICAgICBtYXJrZXJfYTdkZDAzNzI0Njc3NDI2ZGJhNjJhZGJkMDVlYjJkMGIuc2V0SWNvbihpY29uX2ZhYTUzZjU0N2JhYjRlOWQ5YjQ0YzQ5YWZmMDllMDM0KTsKICAgICAgICAgICAgCiAgICAKICAgICAgICAgICAgdmFyIHBvcHVwXzEzZjUzNzY0YWQ4NDRhY2RhMjBjNTkwOWFhNDUzZTE0ID0gTC5wb3B1cCh7bWF4V2lkdGg6ICczMDAnfSk7CgogICAgICAgICAgICAKICAgICAgICAgICAgICAgIHZhciBodG1sXzMzZGI4NDBhYzM3ODQ5M2JiZjk5YmVmNDUzNGViODM1ID0gJCgnPGRpdiBpZD0iaHRtbF8zM2RiODQwYWMzNzg0OTNiYmY5OWJlZjQ1MzRlYjgzNSIgc3R5bGU9IndpZHRoOiAxMDAuMCU7IGhlaWdodDogMTAwLjAlOyI+U2FpbnQtRXluYXJkIC0gTWVyY3VyZTwvZGl2PicpWzBdOwogICAgICAgICAgICAgICAgcG9wdXBfMTNmNTM3NjRhZDg0NGFjZGEyMGM1OTA5YWE0NTNlMTQuc2V0Q29udGVudChodG1sXzMzZGI4NDBhYzM3ODQ5M2JiZjk5YmVmNDUzNGViODM1KTsKICAgICAgICAgICAgCgogICAgICAgICAgICBtYXJrZXJfYTdkZDAzNzI0Njc3NDI2ZGJhNjJhZGJkMDVlYjJkMGIuYmluZFBvcHVwKHBvcHVwXzEzZjUzNzY0YWQ4NDRhY2RhMjBjNTkwOWFhNDUzZTE0KTsKCiAgICAgICAgICAgIAogICAgICAgIAogICAgCiAgICAgICAgICAgICAgICB2YXIgcG9seV9saW5lX2MxOTE3NmUyZDk3MTQ0NDk5MzA5ZDIwYjYzYjkxYzFiID0gTC5wb2x5bGluZSgKICAgICAgICAgICAgICAgICAgICBbWzQ1LjI1Mjk1MSwgNS43NTc4MDE2XSwgWzQ1LjIzNjgyNDYsIDUuNzYwNjkzOV1dLAogICAgICAgICAgICAgICAgICAgIHsKICAgICAgICAgICAgICAgICAgICAgICAgCiAgICAgICAgICAgICAgICAgICAgICAgIAogICAgICAgICAgICAgICAgICAgICAgICAKICAgICAgICAgICAgICAgICAgICAgICAgfSk7CiAgICAgICAgICAgICAgICBtYXBfZmM1NWI2Y2ZmMjU2NDYyNGEwZmIxZGQ3NDhiZTE5NTUuYWRkTGF5ZXIocG9seV9saW5lX2MxOTE3NmUyZDk3MTQ0NDk5MzA5ZDIwYjYzYjkxYzFiKTsKICAgICAgICAgICAgCiAgICAKCiAgICAgICAgICAgIHZhciBtYXJrZXJfOGM3NDc3ZGFmNWEwNDNlNjljZDk4ODY2ZmU1NmNiYzYgPSBMLm1hcmtlcigKICAgICAgICAgICAgICAgIFs0NS4yNjcxMTA0LDUuNzIwNTU3N10sCiAgICAgICAgICAgICAgICB7CiAgICAgICAgICAgICAgICAgICAgaWNvbjogbmV3IEwuSWNvbi5EZWZhdWx0KCkKICAgICAgICAgICAgICAgICAgICB9CiAgICAgICAgICAgICAgICApCiAgICAgICAgICAgICAgICAuYWRkVG8obWFwX2ZjNTViNmNmZjI1NjQ2MjRhMGZiMWRkNzQ4YmUxOTU1KTsKICAgICAgICAgICAgCiAgICAKCiAgICAgICAgICAgICAgICB2YXIgaWNvbl85NzY4YmM5MzBmMDI0MWU5OTZlYzk5OGZlOTg5YTcwNyA9IEwuQXdlc29tZU1hcmtlcnMuaWNvbih7CiAgICAgICAgICAgICAgICAgICAgaWNvbjogJ2ZhLWdsb2JlJywKICAgICAgICAgICAgICAgICAgICBpY29uQ29sb3I6ICd3aGl0ZScsCiAgICAgICAgICAgICAgICAgICAgbWFya2VyQ29sb3I6ICdibHVlJywKICAgICAgICAgICAgICAgICAgICBwcmVmaXg6ICdmYScsCiAgICAgICAgICAgICAgICAgICAgZXh0cmFDbGFzc2VzOiAnZmEtcm90YXRlLTAnCiAgICAgICAgICAgICAgICAgICAgfSk7CiAgICAgICAgICAgICAgICBtYXJrZXJfOGM3NDc3ZGFmNWEwNDNlNjljZDk4ODY2ZmU1NmNiYzYuc2V0SWNvbihpY29uXzk3NjhiYzkzMGYwMjQxZTk5NmVjOTk4ZmU5ODlhNzA3KTsKICAgICAgICAgICAgCiAgICAKICAgICAgICAgICAgdmFyIHBvcHVwX2U0MjY1ZjM2NGJjNTQ3ZGI4MjE5NDc1MGYyZDhmMWYxID0gTC5wb3B1cCh7bWF4V2lkdGg6ICczMDAnfSk7CgogICAgICAgICAgICAKICAgICAgICAgICAgICAgIHZhciBodG1sX2E2Y2ZhNDJmNGQzNjRhMTFiOTEwNzQxMDU0YjQyY2VjID0gJCgnPGRpdiBpZD0iaHRtbF9hNmNmYTQyZjRkMzY0YTExYjkxMDc0MTA1NGI0MmNlYyIgc3R5bGU9IndpZHRoOiAxMDAuMCU7IGhlaWdodDogMTAwLjAlOyI+QWlndWlsbGUgZGUgUXVhaXggLSBWw6ludXM8L2Rpdj4nKVswXTsKICAgICAgICAgICAgICAgIHBvcHVwX2U0MjY1ZjM2NGJjNTQ3ZGI4MjE5NDc1MGYyZDhmMWYxLnNldENvbnRlbnQoaHRtbF9hNmNmYTQyZjRkMzY0YTExYjkxMDc0MTA1NGI0MmNlYyk7CiAgICAgICAgICAgIAoKICAgICAgICAgICAgbWFya2VyXzhjNzQ3N2RhZjVhMDQzZTY5Y2Q5ODg2NmZlNTZjYmM2LmJpbmRQb3B1cChwb3B1cF9lNDI2NWYzNjRiYzU0N2RiODIxOTQ3NTBmMmQ4ZjFmMSk7CgogICAgICAgICAgICAKICAgICAgICAKICAgIAogICAgICAgICAgICAgICAgdmFyIHBvbHlfbGluZV9lYmM5MzAxMGFjOWQ0OTlhYjViYzU3MDU1YTY2ODYyMiA9IEwucG9seWxpbmUoCiAgICAgICAgICAgICAgICAgICAgW1s0NS4yNTI5NTEsIDUuNzU3ODAxNl0sIFs0NS4yNjcxMTA0LCA1LjcyMDU1NzddXSwKICAgICAgICAgICAgICAgICAgICB7CiAgICAgICAgICAgICAgICAgICAgICAgIAogICAgICAgICAgICAgICAgICAgICAgICAKICAgICAgICAgICAgICAgICAgICAgICAgCiAgICAgICAgICAgICAgICAgICAgICAgIH0pOwogICAgICAgICAgICAgICAgbWFwX2ZjNTViNmNmZjI1NjQ2MjRhMGZiMWRkNzQ4YmUxOTU1LmFkZExheWVyKHBvbHlfbGluZV9lYmM5MzAxMGFjOWQ0OTlhYjViYzU3MDU1YTY2ODYyMik7CiAgICAgICAgICAgIAogICAgCgogICAgICAgICAgICB2YXIgbWFya2VyX2Y2YzIwYzBlZTdmNzQ4MzI4YjYyNDMzOTU0Y2IxY2RmID0gTC5tYXJrZXIoCiAgICAgICAgICAgICAgICBbNDUuMjg3Njc0Myw1Ljc4ODE2ODRdLAogICAgICAgICAgICAgICAgewogICAgICAgICAgICAgICAgICAgIGljb246IG5ldyBMLkljb24uRGVmYXVsdCgpCiAgICAgICAgICAgICAgICAgICAgfQogICAgICAgICAgICAgICAgKQogICAgICAgICAgICAgICAgLmFkZFRvKG1hcF9mYzU1YjZjZmYyNTY0NjI0YTBmYjFkZDc0OGJlMTk1NSk7CiAgICAgICAgICAgIAogICAgCgogICAgICAgICAgICAgICAgdmFyIGljb25fMTJiZmY3MWJjNzA2NGUwYmI5MjZiZjhhY2IyNTcyZWIgPSBMLkF3ZXNvbWVNYXJrZXJzLmljb24oewogICAgICAgICAgICAgICAgICAgIGljb246ICdmYS1nbG9iZScsCiAgICAgICAgICAgICAgICAgICAgaWNvbkNvbG9yOiAnd2hpdGUnLAogICAgICAgICAgICAgICAgICAgIG1hcmtlckNvbG9yOiAnYmx1ZScsCiAgICAgICAgICAgICAgICAgICAgcHJlZml4OiAnZmEnLAogICAgICAgICAgICAgICAgICAgIGV4dHJhQ2xhc3NlczogJ2ZhLXJvdGF0ZS0wJwogICAgICAgICAgICAgICAgICAgIH0pOwogICAgICAgICAgICAgICAgbWFya2VyX2Y2YzIwYzBlZTdmNzQ4MzI4YjYyNDMzOTU0Y2IxY2RmLnNldEljb24oaWNvbl8xMmJmZjcxYmM3MDY0ZTBiYjkyNmJmOGFjYjI1NzJlYik7CiAgICAgICAgICAgIAogICAgCiAgICAgICAgICAgIHZhciBwb3B1cF82OTNmY2QyYWZiYTY0MGJjOTRjMmU1NTE4ZjEzYTYyZiA9IEwucG9wdXAoe21heFdpZHRoOiAnMzAwJ30pOwoKICAgICAgICAgICAgCiAgICAgICAgICAgICAgICB2YXIgaHRtbF82ZGEwM2VmMmQ1ZTg0YmQ5YmZiMzZiZGM5YzA0NDQ5NCA9ICQoJzxkaXYgaWQ9Imh0bWxfNmRhMDNlZjJkNWU4NGJkOWJmYjM2YmRjOWMwNDQ0OTQiIHN0eWxlPSJ3aWR0aDogMTAwLjAlOyBoZWlnaHQ6IDEwMC4wJTsiPkNoYW1lY2hhdWRlIC0gVGVycmU8L2Rpdj4nKVswXTsKICAgICAgICAgICAgICAgIHBvcHVwXzY5M2ZjZDJhZmJhNjQwYmM5NGMyZTU1MThmMTNhNjJmLnNldENvbnRlbnQoaHRtbF82ZGEwM2VmMmQ1ZTg0YmQ5YmZiMzZiZGM5YzA0NDQ5NCk7CiAgICAgICAgICAgIAoKICAgICAgICAgICAgbWFya2VyX2Y2YzIwYzBlZTdmNzQ4MzI4YjYyNDMzOTU0Y2IxY2RmLmJpbmRQb3B1cChwb3B1cF82OTNmY2QyYWZiYTY0MGJjOTRjMmU1NTE4ZjEzYTYyZik7CgogICAgICAgICAgICAKICAgICAgICAKICAgIAogICAgICAgICAgICAgICAgdmFyIHBvbHlfbGluZV8yMTZiMzZjYmQ3YTA0NmJiOGEwM2NiZGQ1MmVjNGM5YiA9IEwucG9seWxpbmUoCiAgICAgICAgICAgICAgICAgICAgW1s0NS4yNTI5NTEsIDUuNzU3ODAxNl0sIFs0NS4yODc2NzQzLCA1Ljc4ODE2ODRdXSwKICAgICAgICAgICAgICAgICAgICB7CiAgICAgICAgICAgICAgICAgICAgICAgIAogICAgICAgICAgICAgICAgICAgICAgICAKICAgICAgICAgICAgICAgICAgICAgICAgCiAgICAgICAgICAgICAgICAgICAgICAgIH0pOwogICAgICAgICAgICAgICAgbWFwX2ZjNTViNmNmZjI1NjQ2MjRhMGZiMWRkNzQ4YmUxOTU1LmFkZExheWVyKHBvbHlfbGluZV8yMTZiMzZjYmQ3YTA0NmJiOGEwM2NiZGQ1MmVjNGM5Yik7CiAgICAgICAgICAgIAogICAgCgogICAgICAgICAgICB2YXIgbWFya2VyXzNiYTQzZjljZTI5ODRhMDhhODY5ZTkwNDBlODc5MWY5ID0gTC5tYXJrZXIoCiAgICAgICAgICAgICAgICBbNDUuMjk4MTAwOSw1LjY5NzU4NzddLAogICAgICAgICAgICAgICAgewogICAgICAgICAgICAgICAgICAgIGljb246IG5ldyBMLkljb24uRGVmYXVsdCgpCiAgICAgICAgICAgICAgICAgICAgfQogICAgICAgICAgICAgICAgKQogICAgICAgICAgICAgICAgLmFkZFRvKG1hcF9mYzU1YjZjZmYyNTY0NjI0YTBmYjFkZDc0OGJlMTk1NSk7CiAgICAgICAgICAgIAogICAgCgogICAgICAgICAgICAgICAgdmFyIGljb25fNjc0OTc5Zjk4ZWViNDNjNzg1OTQ3YTU5ODIxOGViMTAgPSBMLkF3ZXNvbWVNYXJrZXJzLmljb24oewogICAgICAgICAgICAgICAgICAgIGljb246ICdmYS1nbG9iZScsCiAgICAgICAgICAgICAgICAgICAgaWNvbkNvbG9yOiAnd2hpdGUnLAogICAgICAgICAgICAgICAgICAgIG1hcmtlckNvbG9yOiAnYmx1ZScsCiAgICAgICAgICAgICAgICAgICAgcHJlZml4OiAnZmEnLAogICAgICAgICAgICAgICAgICAgIGV4dHJhQ2xhc3NlczogJ2ZhLXJvdGF0ZS0wJwogICAgICAgICAgICAgICAgICAgIH0pOwogICAgICAgICAgICAgICAgbWFya2VyXzNiYTQzZjljZTI5ODRhMDhhODY5ZTkwNDBlODc5MWY5LnNldEljb24oaWNvbl82NzQ5NzlmOThlZWI0M2M3ODU5NDdhNTk4MjE4ZWIxMCk7CiAgICAgICAgICAgIAogICAgCiAgICAgICAgICAgIHZhciBwb3B1cF85ZjE1YjM4YWUwMTA0MDhlODJmYTAzNjRmMWQwNmQ4MCA9IEwucG9wdXAoe21heFdpZHRoOiAnMzAwJ30pOwoKICAgICAgICAgICAgCiAgICAgICAgICAgICAgICB2YXIgaHRtbF85ZDUwMzY1NmRkYWY0N2U3Yjk4NDQzMWQ1MDBmZGNhNiA9ICQoJzxkaXYgaWQ9Imh0bWxfOWQ1MDM2NTZkZGFmNDdlN2I5ODQ0MzFkNTAwZmRjYTYiIHN0eWxlPSJ3aWR0aDogMTAwLjAlOyBoZWlnaHQ6IDEwMC4wJTsiPlJvY2hlcnMgZGUgQ2hhbHZlcyAtIE1hcnM8L2Rpdj4nKVswXTsKICAgICAgICAgICAgICAgIHBvcHVwXzlmMTViMzhhZTAxMDQwOGU4MmZhMDM2NGYxZDA2ZDgwLnNldENvbnRlbnQoaHRtbF85ZDUwMzY1NmRkYWY0N2U3Yjk4NDQzMWQ1MDBmZGNhNik7CiAgICAgICAgICAgIAoKICAgICAgICAgICAgbWFya2VyXzNiYTQzZjljZTI5ODRhMDhhODY5ZTkwNDBlODc5MWY5LmJpbmRQb3B1cChwb3B1cF85ZjE1YjM4YWUwMTA0MDhlODJmYTAzNjRmMWQwNmQ4MCk7CgogICAgICAgICAgICAKICAgICAgICAKICAgIAogICAgICAgICAgICAgICAgdmFyIHBvbHlfbGluZV84M2Y4YzJkNDZjODU0OTYxOThiNDAzYmI2NDNjM2EyNSA9IEwucG9seWxpbmUoCiAgICAgICAgICAgICAgICAgICAgW1s0NS4yNTI5NTEsIDUuNzU3ODAxNl0sIFs0NS4yOTgxMDA5LCA1LjY5NzU4NzddXSwKICAgICAgICAgICAgICAgICAgICB7CiAgICAgICAgICAgICAgICAgICAgICAgIAogICAgICAgICAgICAgICAgICAgICAgICAKICAgICAgICAgICAgICAgICAgICAgICAgCiAgICAgICAgICAgICAgICAgICAgICAgIH0pOwogICAgICAgICAgICAgICAgbWFwX2ZjNTViNmNmZjI1NjQ2MjRhMGZiMWRkNzQ4YmUxOTU1LmFkZExheWVyKHBvbHlfbGluZV84M2Y4YzJkNDZjODU0OTYxOThiNDAzYmI2NDNjM2EyNSk7CiAgICAgICAgICAgIAogICAgCgogICAgICAgICAgICB2YXIgbWFya2VyXzgwYzc1M2VkMTI0ODQxNWJiMGJiMzMwMWNjMTRmYzhkID0gTC5tYXJrZXIoCiAgICAgICAgICAgICAgICBbNDUuMjM1MjM0NCw1LjU5NzM5NzldLAogICAgICAgICAgICAgICAgewogICAgICAgICAgICAgICAgICAgIGljb246IG5ldyBMLkljb24uRGVmYXVsdCgpCiAgICAgICAgICAgICAgICAgICAgfQogICAgICAgICAgICAgICAgKQogICAgICAgICAgICAgICAgLmFkZFRvKG1hcF9mYzU1YjZjZmYyNTY0NjI0YTBmYjFkZDc0OGJlMTk1NSk7CiAgICAgICAgICAgIAogICAgCgogICAgICAgICAgICAgICAgdmFyIGljb25fOGRlMGY1YmMzZDljNGQ2ZDk0Y2ZkYjI1MGYyYTkzNzggPSBMLkF3ZXNvbWVNYXJrZXJzLmljb24oewogICAgICAgICAgICAgICAgICAgIGljb246ICdmYS1nbG9iZScsCiAgICAgICAgICAgICAgICAgICAgaWNvbkNvbG9yOiAnd2hpdGUnLAogICAgICAgICAgICAgICAgICAgIG1hcmtlckNvbG9yOiAnYmx1ZScsCiAgICAgICAgICAgICAgICAgICAgcHJlZml4OiAnZmEnLAogICAgICAgICAgICAgICAgICAgIGV4dHJhQ2xhc3NlczogJ2ZhLXJvdGF0ZS0wJwogICAgICAgICAgICAgICAgICAgIH0pOwogICAgICAgICAgICAgICAgbWFya2VyXzgwYzc1M2VkMTI0ODQxNWJiMGJiMzMwMWNjMTRmYzhkLnNldEljb24oaWNvbl84ZGUwZjViYzNkOWM0ZDZkOTRjZmRiMjUwZjJhOTM3OCk7CiAgICAgICAgICAgIAogICAgCiAgICAgICAgICAgIHZhciBwb3B1cF9iZDliYmEzZjkxYzQ0MGFiYmE5YWI3MGIwZDFiYTgyYyA9IEwucG9wdXAoe21heFdpZHRoOiAnMzAwJ30pOwoKICAgICAgICAgICAgCiAgICAgICAgICAgICAgICB2YXIgaHRtbF9jZDJjNmQ0OTJiZWY0NWM2YTUzZmQ5MjNiMDc3MmZjYiA9ICQoJzxkaXYgaWQ9Imh0bWxfY2QyYzZkNDkyYmVmNDVjNmE1M2ZkOTIzYjA3NzJmY2IiIHN0eWxlPSJ3aWR0aDogMTAwLjAlOyBoZWlnaHQ6IDEwMC4wJTsiPkxhIFN1cmUgLSBDw6lyw6hzPC9kaXY+JylbMF07CiAgICAgICAgICAgICAgICBwb3B1cF9iZDliYmEzZjkxYzQ0MGFiYmE5YWI3MGIwZDFiYTgyYy5zZXRDb250ZW50KGh0bWxfY2QyYzZkNDkyYmVmNDVjNmE1M2ZkOTIzYjA3NzJmY2IpOwogICAgICAgICAgICAKCiAgICAgICAgICAgIG1hcmtlcl84MGM3NTNlZDEyNDg0MTViYjBiYjMzMDFjYzE0ZmM4ZC5iaW5kUG9wdXAocG9wdXBfYmQ5YmJhM2Y5MWM0NDBhYmJhOWFiNzBiMGQxYmE4MmMpOwoKICAgICAgICAgICAgCiAgICAgICAgCiAgICAKICAgICAgICAgICAgICAgIHZhciBwb2x5X2xpbmVfYzEyZjNlY2ZjOTYyNGU3YTg0YzE4OWY0NDI0NWNlNDggPSBMLnBvbHlsaW5lKAogICAgICAgICAgICAgICAgICAgIFtbNDUuMjUyOTUxLCA1Ljc1NzgwMTZdLCBbNDUuMjM1MjM0NCwgNS41OTczOTc5XV0sCiAgICAgICAgICAgICAgICAgICAgewogICAgICAgICAgICAgICAgICAgICAgICAKICAgICAgICAgICAgICAgICAgICAgICAgCiAgICAgICAgICAgICAgICAgICAgICAgIAogICAgICAgICAgICAgICAgICAgICAgICB9KTsKICAgICAgICAgICAgICAgIG1hcF9mYzU1YjZjZmYyNTY0NjI0YTBmYjFkZDc0OGJlMTk1NS5hZGRMYXllcihwb2x5X2xpbmVfYzEyZjNlY2ZjOTYyNGU3YTg0YzE4OWY0NDI0NWNlNDgpOwogICAgICAgICAgICAKICAgIAoKICAgICAgICAgICAgdmFyIG1hcmtlcl8yMmVmZDZmZmMwMGE0MWJjODIwMmQyODEwMjU1YmZjYyA9IEwubWFya2VyKAogICAgICAgICAgICAgICAgWzQ1LjI0MDE1MTgsNi4wNTg1MDkxXSwKICAgICAgICAgICAgICAgIHsKICAgICAgICAgICAgICAgICAgICBpY29uOiBuZXcgTC5JY29uLkRlZmF1bHQoKQogICAgICAgICAgICAgICAgICAgIH0KICAgICAgICAgICAgICAgICkKICAgICAgICAgICAgICAgIC5hZGRUbyhtYXBfZmM1NWI2Y2ZmMjU2NDYyNGEwZmIxZGQ3NDhiZTE5NTUpOwogICAgICAgICAgICAKICAgIAoKICAgICAgICAgICAgICAgIHZhciBpY29uXzVlNGM2YzBjNTA0NTRkNjk5OTFmYzAyZGFhMjlkZmYyID0gTC5Bd2Vzb21lTWFya2Vycy5pY29uKHsKICAgICAgICAgICAgICAgICAgICBpY29uOiAnZmEtZ2xvYmUnLAogICAgICAgICAgICAgICAgICAgIGljb25Db2xvcjogJ3doaXRlJywKICAgICAgICAgICAgICAgICAgICBtYXJrZXJDb2xvcjogJ2JsdWUnLAogICAgICAgICAgICAgICAgICAgIHByZWZpeDogJ2ZhJywKICAgICAgICAgICAgICAgICAgICBleHRyYUNsYXNzZXM6ICdmYS1yb3RhdGUtMCcKICAgICAgICAgICAgICAgICAgICB9KTsKICAgICAgICAgICAgICAgIG1hcmtlcl8yMmVmZDZmZmMwMGE0MWJjODIwMmQyODEwMjU1YmZjYy5zZXRJY29uKGljb25fNWU0YzZjMGM1MDQ1NGQ2OTk5MWZjMDJkYWEyOWRmZjIpOwogICAgICAgICAgICAKICAgIAogICAgICAgICAgICB2YXIgcG9wdXBfN2E5OGYyODMxOWIzNGZlNDg3YTVmYzE2ZGI0MWEyODAgPSBMLnBvcHVwKHttYXhXaWR0aDogJzMwMCd9KTsKCiAgICAgICAgICAgIAogICAgICAgICAgICAgICAgdmFyIGh0bWxfNDRiOGU0YmVlNGUyNDY0MWJkNzIxY2Q1MGU2OWM0MDggPSAkKCc8ZGl2IGlkPSJodG1sXzQ0YjhlNGJlZTRlMjQ2NDFiZDcyMWNkNTBlNjljNDA4IiBzdHlsZT0id2lkdGg6IDEwMC4wJTsgaGVpZ2h0OiAxMDAuMCU7Ij5QaWMgZGUgbCYjMzk7YXBwYXJlbmNlIC0gSnVwaXRlcjwvZGl2PicpWzBdOwogICAgICAgICAgICAgICAgcG9wdXBfN2E5OGYyODMxOWIzNGZlNDg3YTVmYzE2ZGI0MWEyODAuc2V0Q29udGVudChodG1sXzQ0YjhlNGJlZTRlMjQ2NDFiZDcyMWNkNTBlNjljNDA4KTsKICAgICAgICAgICAgCgogICAgICAgICAgICBtYXJrZXJfMjJlZmQ2ZmZjMDBhNDFiYzgyMDJkMjgxMDI1NWJmY2MuYmluZFBvcHVwKHBvcHVwXzdhOThmMjgzMTliMzRmZTQ4N2E1ZmMxNmRiNDFhMjgwKTsKCiAgICAgICAgICAgIAogICAgICAgIAogICAgCiAgICAgICAgICAgICAgICB2YXIgcG9seV9saW5lXzJlZGQ2YWY5MjE1NTRjYTc5MGU2OTkxZTkyMjlmMjM2ID0gTC5wb2x5bGluZSgKICAgICAgICAgICAgICAgICAgICBbWzQ1LjI1Mjk1MSwgNS43NTc4MDE2XSwgWzQ1LjI0MDE1MTgsIDYuMDU4NTA5MV1dLAogICAgICAgICAgICAgICAgICAgIHsKICAgICAgICAgICAgICAgICAgICAgICAgCiAgICAgICAgICAgICAgICAgICAgICAgIAogICAgICAgICAgICAgICAgICAgICAgICAKICAgICAgICAgICAgICAgICAgICAgICAgfSk7CiAgICAgICAgICAgICAgICBtYXBfZmM1NWI2Y2ZmMjU2NDYyNGEwZmIxZGQ3NDhiZTE5NTUuYWRkTGF5ZXIocG9seV9saW5lXzJlZGQ2YWY5MjE1NTRjYTc5MGU2OTkxZTkyMjlmMjM2KTsKICAgICAgICAgICAgCiAgICAKCiAgICAgICAgICAgIHZhciBtYXJrZXJfYzYwOWVmYmFiZWY1NDI5YWI1ZTEyNGMxYTUzNzc0NDQgPSBMLm1hcmtlcigKICAgICAgICAgICAgICAgIFs0NS42MTM1NTc0LDUuOTY1NTE4M10sCiAgICAgICAgICAgICAgICB7CiAgICAgICAgICAgICAgICAgICAgaWNvbjogbmV3IEwuSWNvbi5EZWZhdWx0KCkKICAgICAgICAgICAgICAgICAgICB9CiAgICAgICAgICAgICAgICApCiAgICAgICAgICAgICAgICAuYWRkVG8obWFwX2ZjNTViNmNmZjI1NjQ2MjRhMGZiMWRkNzQ4YmUxOTU1KTsKICAgICAgICAgICAgCiAgICAKCiAgICAgICAgICAgICAgICB2YXIgaWNvbl83NTAxNGIyMzRlM2U0OGZlOGRmY2E3ZWNmNDU2ZjRhYSA9IEwuQXdlc29tZU1hcmtlcnMuaWNvbih7CiAgICAgICAgICAgICAgICAgICAgaWNvbjogJ2ZhLWdsb2JlJywKICAgICAgICAgICAgICAgICAgICBpY29uQ29sb3I6ICd3aGl0ZScsCiAgICAgICAgICAgICAgICAgICAgbWFya2VyQ29sb3I6ICdibHVlJywKICAgICAgICAgICAgICAgICAgICBwcmVmaXg6ICdmYScsCiAgICAgICAgICAgICAgICAgICAgZXh0cmFDbGFzc2VzOiAnZmEtcm90YXRlLTAnCiAgICAgICAgICAgICAgICAgICAgfSk7CiAgICAgICAgICAgICAgICBtYXJrZXJfYzYwOWVmYmFiZWY1NDI5YWI1ZTEyNGMxYTUzNzc0NDQuc2V0SWNvbihpY29uXzc1MDE0YjIzNGUzZTQ4ZmU4ZGZjYTdlY2Y0NTZmNGFhKTsKICAgICAgICAgICAgCiAgICAKICAgICAgICAgICAgdmFyIHBvcHVwXzdjMjRlNzQyYjdkNDQzYTU5NDMzYTYxNjYwMzIyZjRiID0gTC5wb3B1cCh7bWF4V2lkdGg6ICczMDAnfSk7CgogICAgICAgICAgICAKICAgICAgICAgICAgICAgIHZhciBodG1sXzFhNTM3NTk2NDc2ZjRkNmViMzZjYmEzNjQxNjQzYjk3ID0gJCgnPGRpdiBpZD0iaHRtbF8xYTUzNzU5NjQ3NmY0ZDZlYjM2Y2JhMzY0MTY0M2I5NyIgc3R5bGU9IndpZHRoOiAxMDAuMCU7IGhlaWdodDogMTAwLjAlOyI+Q3JvaXggZHUgTml2b2xldCAtIFNhdHVybmU8L2Rpdj4nKVswXTsKICAgICAgICAgICAgICAgIHBvcHVwXzdjMjRlNzQyYjdkNDQzYTU5NDMzYTYxNjYwMzIyZjRiLnNldENvbnRlbnQoaHRtbF8xYTUzNzU5NjQ3NmY0ZDZlYjM2Y2JhMzY0MTY0M2I5Nyk7CiAgICAgICAgICAgIAoKICAgICAgICAgICAgbWFya2VyX2M2MDllZmJhYmVmNTQyOWFiNWUxMjRjMWE1Mzc3NDQ0LmJpbmRQb3B1cChwb3B1cF83YzI0ZTc0MmI3ZDQ0M2E1OTQzM2E2MTY2MDMyMmY0Yik7CgogICAgICAgICAgICAKICAgICAgICAKICAgIAogICAgICAgICAgICAgICAgdmFyIHBvbHlfbGluZV9mZTdmNzgxOGJhOTU0ZTEwOGEwODM4ZGJiMWRiZjMxYiA9IEwucG9seWxpbmUoCiAgICAgICAgICAgICAgICAgICAgW1s0NS4yNTI5NTEsIDUuNzU3ODAxNl0sIFs0NS42MTM1NTc0LCA1Ljk2NTUxODNdXSwKICAgICAgICAgICAgICAgICAgICB7CiAgICAgICAgICAgICAgICAgICAgICAgIAogICAgICAgICAgICAgICAgICAgICAgICAKICAgICAgICAgICAgICAgICAgICAgICAgCiAgICAgICAgICAgICAgICAgICAgICAgIH0pOwogICAgICAgICAgICAgICAgbWFwX2ZjNTViNmNmZjI1NjQ2MjRhMGZiMWRkNzQ4YmUxOTU1LmFkZExheWVyKHBvbHlfbGluZV9mZTdmNzgxOGJhOTU0ZTEwOGEwODM4ZGJiMWRiZjMxYik7CiAgICAgICAgICAgIAogICAgCgogICAgICAgICAgICB2YXIgbWFya2VyX2Y4NDBjZDhkOGRmNzRiODk4ODI5YmI2YmMxNDJlYzFjID0gTC5tYXJrZXIoCiAgICAgICAgICAgICAgICBbNDUuMTIyNzcwNiw2Ljg1MjQxODVdLAogICAgICAgICAgICAgICAgewogICAgICAgICAgICAgICAgICAgIGljb246IG5ldyBMLkljb24uRGVmYXVsdCgpCiAgICAgICAgICAgICAgICAgICAgfQogICAgICAgICAgICAgICAgKQogICAgICAgICAgICAgICAgLmFkZFRvKG1hcF9mYzU1YjZjZmYyNTY0NjI0YTBmYjFkZDc0OGJlMTk1NSk7CiAgICAgICAgICAgIAogICAgCgogICAgICAgICAgICAgICAgdmFyIGljb25fMGIzN2Q4YWVmOGU4NGQ0ZDliZjBmYjJkN2IzZmNiYmIgPSBMLkF3ZXNvbWVNYXJrZXJzLmljb24oewogICAgICAgICAgICAgICAgICAgIGljb246ICdmYS1nbG9iZScsCiAgICAgICAgICAgICAgICAgICAgaWNvbkNvbG9yOiAnd2hpdGUnLAogICAgICAgICAgICAgICAgICAgIG1hcmtlckNvbG9yOiAnYmx1ZScsCiAgICAgICAgICAgICAgICAgICAgcHJlZml4OiAnZmEnLAogICAgICAgICAgICAgICAgICAgIGV4dHJhQ2xhc3NlczogJ2ZhLXJvdGF0ZS0wJwogICAgICAgICAgICAgICAgICAgIH0pOwogICAgICAgICAgICAgICAgbWFya2VyX2Y4NDBjZDhkOGRmNzRiODk4ODI5YmI2YmMxNDJlYzFjLnNldEljb24oaWNvbl8wYjM3ZDhhZWY4ZTg0ZDRkOWJmMGZiMmQ3YjNmY2JiYik7CiAgICAgICAgICAgIAogICAgCiAgICAgICAgICAgIHZhciBwb3B1cF84MjQ2MThjOWQzNmE0MzkzOTczM2YxMTM1NzljZWZkZiA9IEwucG9wdXAoe21heFdpZHRoOiAnMzAwJ30pOwoKICAgICAgICAgICAgCiAgICAgICAgICAgICAgICB2YXIgaHRtbF9hOThkZTYzYTdhY2E0ZThhOWVkOGY2NWE2YjU0YTY1ZSA9ICQoJzxkaXYgaWQ9Imh0bWxfYTk4ZGU2M2E3YWNhNGU4YTllZDhmNjVhNmI1NGE2NWUiIHN0eWxlPSJ3aWR0aDogMTAwLjAlOyBoZWlnaHQ6IDEwMC4wJTsiPkNpbWEgZGVpIEZvdXJuZWF1eCAtIFVyYW51czwvZGl2PicpWzBdOwogICAgICAgICAgICAgICAgcG9wdXBfODI0NjE4YzlkMzZhNDM5Mzk3MzNmMTEzNTc5Y2VmZGYuc2V0Q29udGVudChodG1sX2E5OGRlNjNhN2FjYTRlOGE5ZWQ4ZjY1YTZiNTRhNjVlKTsKICAgICAgICAgICAgCgogICAgICAgICAgICBtYXJrZXJfZjg0MGNkOGQ4ZGY3NGI4OTg4MjliYjZiYzE0MmVjMWMuYmluZFBvcHVwKHBvcHVwXzgyNDYxOGM5ZDM2YTQzOTM5NzMzZjExMzU3OWNlZmRmKTsKCiAgICAgICAgICAgIAogICAgICAgIAogICAgCiAgICAgICAgICAgICAgICB2YXIgcG9seV9saW5lXzVkMzIwZDUzNDk0OTQ0M2FhNDUyMTcyZDA1YWU1YzQ2ID0gTC5wb2x5bGluZSgKICAgICAgICAgICAgICAgICAgICBbWzQ1LjI1Mjk1MSwgNS43NTc4MDE2XSwgWzQ1LjEyMjc3MDYsIDYuODUyNDE4NV1dLAogICAgICAgICAgICAgICAgICAgIHsKICAgICAgICAgICAgICAgICAgICAgICAgCiAgICAgICAgICAgICAgICAgICAgICAgIAogICAgICAgICAgICAgICAgICAgICAgICAKICAgICAgICAgICAgICAgICAgICAgICAgfSk7CiAgICAgICAgICAgICAgICBtYXBfZmM1NWI2Y2ZmMjU2NDYyNGEwZmIxZGQ3NDhiZTE5NTUuYWRkTGF5ZXIocG9seV9saW5lXzVkMzIwZDUzNDk0OTQ0M2FhNDUyMTcyZDA1YWU1YzQ2KTsKICAgICAgICAgICAgCiAgICAKCiAgICAgICAgICAgIHZhciBtYXJrZXJfMjYzN2U3ODRkMTJiNGE1ZDk0Nzk0MWNmMmU1Y2JhYzYgPSBMLm1hcmtlcigKICAgICAgICAgICAgICAgIFs0NC40MjUwMzk0LDcuMDMzOTg1OF0sCiAgICAgICAgICAgICAgICB7CiAgICAgICAgICAgICAgICAgICAgaWNvbjogbmV3IEwuSWNvbi5EZWZhdWx0KCkKICAgICAgICAgICAgICAgICAgICB9CiAgICAgICAgICAgICAgICApCiAgICAgICAgICAgICAgICAuYWRkVG8obWFwX2ZjNTViNmNmZjI1NjQ2MjRhMGZiMWRkNzQ4YmUxOTU1KTsKICAgICAgICAgICAgCiAgICAKCiAgICAgICAgICAgICAgICB2YXIgaWNvbl83YzYzZTdkNTZmNmM0NzY0OTFmYzUxYzA2MDhkM2RmZCA9IEwuQXdlc29tZU1hcmtlcnMuaWNvbih7CiAgICAgICAgICAgICAgICAgICAgaWNvbjogJ2ZhLWdsb2JlJywKICAgICAgICAgICAgICAgICAgICBpY29uQ29sb3I6ICd3aGl0ZScsCiAgICAgICAgICAgICAgICAgICAgbWFya2VyQ29sb3I6ICdibHVlJywKICAgICAgICAgICAgICAgICAgICBwcmVmaXg6ICdmYScsCiAgICAgICAgICAgICAgICAgICAgZXh0cmFDbGFzc2VzOiAnZmEtcm90YXRlLTAnCiAgICAgICAgICAgICAgICAgICAgfSk7CiAgICAgICAgICAgICAgICBtYXJrZXJfMjYzN2U3ODRkMTJiNGE1ZDk0Nzk0MWNmMmU1Y2JhYzYuc2V0SWNvbihpY29uXzdjNjNlN2Q1NmY2YzQ3NjQ5MWZjNTFjMDYwOGQzZGZkKTsKICAgICAgICAgICAgCiAgICAKICAgICAgICAgICAgdmFyIHBvcHVwXzdlNmY4Y2M0MzEyZjQyYzNhMTllNGRjZGMxNDExOGM2ID0gTC5wb3B1cCh7bWF4V2lkdGg6ICczMDAnfSk7CgogICAgICAgICAgICAKICAgICAgICAgICAgICAgIHZhciBodG1sXzkxOWIwYjBkNWFmYTQ3NmQ5ZjA4YmY1NzkyOGQzMjBhID0gJCgnPGRpdiBpZD0iaHRtbF85MTliMGIwZDVhZmE0NzZkOWYwOGJmNTc5MjhkMzIwYSIgc3R5bGU9IndpZHRoOiAxMDAuMCU7IGhlaWdodDogMTAwLjAlOyI+UHVudGEgQ2lhbG1lIC0gTmVwdHVuZTwvZGl2PicpWzBdOwogICAgICAgICAgICAgICAgcG9wdXBfN2U2ZjhjYzQzMTJmNDJjM2ExOWU0ZGNkYzE0MTE4YzYuc2V0Q29udGVudChodG1sXzkxOWIwYjBkNWFmYTQ3NmQ5ZjA4YmY1NzkyOGQzMjBhKTsKICAgICAgICAgICAgCgogICAgICAgICAgICBtYXJrZXJfMjYzN2U3ODRkMTJiNGE1ZDk0Nzk0MWNmMmU1Y2JhYzYuYmluZFBvcHVwKHBvcHVwXzdlNmY4Y2M0MzEyZjQyYzNhMTllNGRjZGMxNDExOGM2KTsKCiAgICAgICAgICAgIAogICAgICAgIAogICAgCiAgICAgICAgICAgICAgICB2YXIgcG9seV9saW5lXzlkMGUwMmQ4MjczMzRiYzQ4MjkzYjRiM2M3ZmJlODAzID0gTC5wb2x5bGluZSgKICAgICAgICAgICAgICAgICAgICBbWzQ1LjI1Mjk1MSwgNS43NTc4MDE2XSwgWzQ0LjQyNTAzOTQsIDcuMDMzOTg1OF1dLAogICAgICAgICAgICAgICAgICAgIHsKICAgICAgICAgICAgICAgICAgICAgICAgCiAgICAgICAgICAgICAgICAgICAgICAgIAogICAgICAgICAgICAgICAgICAgICAgICAKICAgICAgICAgICAgICAgICAgICAgICAgfSk7CiAgICAgICAgICAgICAgICBtYXBfZmM1NWI2Y2ZmMjU2NDYyNGEwZmIxZGQ3NDhiZTE5NTUuYWRkTGF5ZXIocG9seV9saW5lXzlkMGUwMmQ4MjczMzRiYzQ4MjkzYjRiM2M3ZmJlODAzKTsKICAgICAgICAgICAgCiAgICAKCiAgICAgICAgICAgIHZhciBtYXJrZXJfNWQ4NmI3ZWMwYzFhNGJjN2E4N2UwZWMwMjU3ZmNmZmIgPSBMLm1hcmtlcigKICAgICAgICAgICAgICAgIFs0Ni4xNTA4NzAxLDcuNTg2NjA5OF0sCiAgICAgICAgICAgICAgICB7CiAgICAgICAgICAgICAgICAgICAgaWNvbjogbmV3IEwuSWNvbi5EZWZhdWx0KCkKICAgICAgICAgICAgICAgICAgICB9CiAgICAgICAgICAgICAgICApCiAgICAgICAgICAgICAgICAuYWRkVG8obWFwX2ZjNTViNmNmZjI1NjQ2MjRhMGZiMWRkNzQ4YmUxOTU1KTsKICAgICAgICAgICAgCiAgICAKCiAgICAgICAgICAgICAgICB2YXIgaWNvbl8xOTY2MjYxNTIxMjg0ZDdkYjVkZDA3NjMwNjM5NmQwMyA9IEwuQXdlc29tZU1hcmtlcnMuaWNvbih7CiAgICAgICAgICAgICAgICAgICAgaWNvbjogJ2ZhLWdsb2JlJywKICAgICAgICAgICAgICAgICAgICBpY29uQ29sb3I6ICd3aGl0ZScsCiAgICAgICAgICAgICAgICAgICAgbWFya2VyQ29sb3I6ICdibHVlJywKICAgICAgICAgICAgICAgICAgICBwcmVmaXg6ICdmYScsCiAgICAgICAgICAgICAgICAgICAgZXh0cmFDbGFzc2VzOiAnZmEtcm90YXRlLTAnCiAgICAgICAgICAgICAgICAgICAgfSk7CiAgICAgICAgICAgICAgICBtYXJrZXJfNWQ4NmI3ZWMwYzFhNGJjN2E4N2UwZWMwMjU3ZmNmZmIuc2V0SWNvbihpY29uXzE5NjYyNjE1MjEyODRkN2RiNWRkMDc2MzA2Mzk2ZDAzKTsKICAgICAgICAgICAgCiAgICAKICAgICAgICAgICAgdmFyIHBvcHVwXzhlMjEzZmFhYmFjNjRhMGZhOTQ1YTJjYWUwMTdiMGI0ID0gTC5wb3B1cCh7bWF4V2lkdGg6ICczMDAnfSk7CgogICAgICAgICAgICAKICAgICAgICAgICAgICAgIHZhciBodG1sXzllMWE2ZTk1NThmNzQ1YTM4YjYyMTE4ODdiZTMyMjhhID0gJCgnPGRpdiBpZD0iaHRtbF85ZTFhNmU5NTU4Zjc0NWEzOGI2MjExODg3YmUzMjI4YSIgc3R5bGU9IndpZHRoOiAxMDAuMCU7IGhlaWdodDogMTAwLjAlOyI+Q29ybmUgZGUgU29yZWJvaXMgLSBQbHV0b248L2Rpdj4nKVswXTsKICAgICAgICAgICAgICAgIHBvcHVwXzhlMjEzZmFhYmFjNjRhMGZhOTQ1YTJjYWUwMTdiMGI0LnNldENvbnRlbnQoaHRtbF85ZTFhNmU5NTU4Zjc0NWEzOGI2MjExODg3YmUzMjI4YSk7CiAgICAgICAgICAgIAoKICAgICAgICAgICAgbWFya2VyXzVkODZiN2VjMGMxYTRiYzdhODdlMGVjMDI1N2ZjZmZiLmJpbmRQb3B1cChwb3B1cF84ZTIxM2ZhYWJhYzY0YTBmYTk0NWEyY2FlMDE3YjBiNCk7CgogICAgICAgICAgICAKICAgICAgICAKICAgIAogICAgICAgICAgICAgICAgdmFyIHBvbHlfbGluZV8zOGJmMWQ3MTQwY2U0ZmEyOGM4MmI5ZDY3MGNmY2Q1OCA9IEwucG9seWxpbmUoCiAgICAgICAgICAgICAgICAgICAgW1s0NS4yNTI5NTEsIDUuNzU3ODAxNl0sIFs0Ni4xNTA4NzAxLCA3LjU4NjYwOThdXSwKICAgICAgICAgICAgICAgICAgICB7CiAgICAgICAgICAgICAgICAgICAgICAgIAogICAgICAgICAgICAgICAgICAgICAgICAKICAgICAgICAgICAgICAgICAgICAgICAgCiAgICAgICAgICAgICAgICAgICAgICAgIH0pOwogICAgICAgICAgICAgICAgbWFwX2ZjNTViNmNmZjI1NjQ2MjRhMGZiMWRkNzQ4YmUxOTU1LmFkZExheWVyKHBvbHlfbGluZV8zOGJmMWQ3MTQwY2U0ZmEyOGM4MmI5ZDY3MGNmY2Q1OCk7CiAgICAgICAgICAgIAo8L3NjcmlwdD4=\" style=\"position:absolute;width:100%;height:100%;left:0;top:0;border:none !important;\" allowfullscreen webkitallowfullscreen mozallowfullscreen></iframe></div></div>"
      ],
      "text/plain": [
       "<folium.folium.Map at 0x7f3fcab060f0>"
      ]
     },
     "execution_count": 58,
     "metadata": {},
     "output_type": "execute_result"
    }
   ],
   "source": [
    "solar_map"
   ]
  },
  {
   "cell_type": "code",
   "execution_count": 38,
   "metadata": {},
   "outputs": [
    {
     "data": {
      "text/plain": [
       "<folium.features.PolyLine at 0x7f3fcac64358>"
      ]
     },
     "execution_count": 38,
     "metadata": {},
     "output_type": "execute_result"
    }
   ],
   "source": [
    "lines = [[45.0136, 6.675], [45.0238, 6.66588]]\n",
    "folium.features.PolyLine(lines).add_to(map_osm)"
   ]
  }
 ],
 "metadata": {
  "kernelspec": {
   "display_name": "Python 3",
   "language": "python",
   "name": "python3"
  },
  "language_info": {
   "codemirror_mode": {
    "name": "ipython",
    "version": 3
   },
   "file_extension": ".py",
   "mimetype": "text/x-python",
   "name": "python",
   "nbconvert_exporter": "python",
   "pygments_lexer": "ipython3",
   "version": "3.5.2"
  }
 },
 "nbformat": 4,
 "nbformat_minor": 2
}
