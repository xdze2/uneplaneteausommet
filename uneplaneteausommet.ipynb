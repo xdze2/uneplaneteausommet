{
 "cells": [
  {
   "cell_type": "code",
   "execution_count": 200,
   "metadata": {
    "collapsed": true
   },
   "outputs": [],
   "source": [
    "import matplotlib.pyplot as plt\n",
    "%matplotlib inline"
   ]
  },
  {
   "cell_type": "code",
   "execution_count": 89,
   "metadata": {
    "collapsed": true
   },
   "outputs": [],
   "source": [
    "import json\n",
    "import numpy as np"
   ]
  },
  {
   "cell_type": "markdown",
   "metadata": {},
   "source": [
    "# Une planète au sommet\n",
    "\n",
    "L'idée est de créer un modèle du système solaire en plaçant les planètes aux sommets des montagnes. C'est la même idée que ce projet réalisé dans le désert du Névada, voir la vidéo [To Scale: The Solar System](https://www.youtube.com/watch?v=zR3Igc3Rhfg).\n",
    "\n",
    "**La question**: Peut-on trouver une combinaison de sommets dont les distances à un sommet particulier (le soleil) sont proportionelles aux rayons des orbites des planètes ?"
   ]
  },
  {
   "cell_type": "markdown",
   "metadata": {},
   "source": [
    "## Liste des sommets autour de grenoble\n",
    "\n",
    "Les données sont issus de OpenStreetMap, avec l'outil [overpass](http://overpass-turbo.eu/). Chercher `Peak`.\n",
    "\n",
    "http://overpass-turbo.eu/s/qCF\n",
    "\n",
    "On obtient un _json_ avec les coordonnées GPS, le nom, l'altitude."
   ]
  },
  {
   "cell_type": "code",
   "execution_count": 392,
   "metadata": {},
   "outputs": [
    {
     "data": {
      "text/plain": [
       "3753"
      ]
     },
     "execution_count": 392,
     "metadata": {},
     "output_type": "execute_result"
    }
   ],
   "source": [
    "with open('sommet_gre_large.json') as data_file:    \n",
    "    datasommets = json.load(data_file)\n",
    "\n",
    "datasommets = datasommets['elements']\n",
    "\n",
    "len( datasommets )"
   ]
  },
  {
   "cell_type": "code",
   "execution_count": 396,
   "metadata": {
    "scrolled": false
   },
   "outputs": [],
   "source": [
    "\"\"\" extrait le nom du sommet pour en faire la clé d'un dico\n",
    "    + supprime les doublons et sommet sans nom\n",
    "\"\"\"\n",
    "dicosommets = {}\n",
    "for sommet in datasommets :\n",
    "    if 'name' in sommet['tags']:\n",
    "        name =  sommet['tags']['name']\n",
    "        if name not in dicosommets:\n",
    "            dicosommets[ name ] = sommet"
   ]
  },
  {
   "cell_type": "code",
   "execution_count": 397,
   "metadata": {},
   "outputs": [
    {
     "data": {
      "text/plain": [
       "'Pointe de Vouasson,  Moucherotte,  Roche de la Tome,  Le Grand Châtelard,  Monte Faroma,  Grandes Jorasses/ Pointe Hélèna,  Mont Bortsalet,  Punta Albaron di Sea,  Le Cornillon,  Mont Grapillon,  Punta Fiume,  Rosa dei Banchi,  Le Cardinal,  Roche Rousse (1432),  Aiguille Michel,  Monte Lera Orientale,  Tête de Balacha,  Il Roc,  Les Aiguilles du Mont,  Grande Autane,  Le Pleureur,  Le Galeteau,  Pointe du Génévrier,  Punta Capitola,  Mont Aiguille,  Montagne de Sous-Dîne,  Tête de Favière,  Pas de la Cula,  Pointe Guyard,  La Cialma,  Clocher de Bertol,  Cresta Nera,  Tête de l\\'Essylloun,  Mont Saint-Michel,  Mont Orchez,  Grenier de Villy,  Pigne d\\'Arolla,  Punta Ramière,  Tête des Baumiens,  Croce di Sanfront,  Mont Maudit,  Pointe Nord des Lores,  Monte Calvo,  Serre la Grange,  Punta Leyser,  Monte Lera,  Le Râteau - Antécime Est,  Monte Pian Real,  Dôme de l\\'Arpont,  Clocheret,  Tête de Malacoste,  Le Râteau - Pic Ouest,  La Clochuille,  Brec de Chambeyron,  Pointe Giornivetta,  Aiguille de Rochefort,  Becca di Luseney,  Le Cimon,  Punta Chalanson,  Punta de la Mulattiera,  Punta Croset (o Carlera),  Pic de Céüse,  Petite Aiguille de l\\'Arcelin,  Monte Maurel,  Roche Pertuse,  Tête centrale des Cos,  Dome des Oudis,  Le Grand Piton,  Crêt de Pont,  Le Petit Marchet,  Pointe Duhamel,  Les Aiguillettes de Vaujany,  Mont Fort du Bœuf,  Grand Aget,  Monts Telliers,  Grand Pierron,  Croix de Sécheron,  Point de Combe Bronsin,  Pic Brusalana,  Monte Robinet,  Monte Cervet,  Montagne des Agneaux,  Col des Aurias,  Belle Combe,  Cima di Crosa,  Piccola Torre,  Crey Aigu,  Praz Véchin,  Dent du Chat,  Grandes Buffes,  Le Dôme ou Pié Ferré,  Dome du Tsan - Centrale,  Les Rouies,  Tour du Géant,  Pointe Bravais,  Crest Montu\\',  Colle Teina,  Monte Giulian,  Aiguille de la Grande Sassière,  Pointe des Frères Chamois,  Les Louèrettes,  Mont-Blanc de Peisey,  Croix,  Cima della finestra di Stroppia,  Le Pradou (1388),  Pic de Bouvières,  Levanna Occidentale,  Roche de la Pelle,  Tête de Louis XVI,  La Grande Chalanche,  Pointe de Puvat,  Testa del Ban,  Aiguille de la Charlanon,  Chassoure,  Roc d\\'Argent,  Pointe de la Sandonière,  Cime Blanche,  Gilly,  Aiguille Rouge des Lacs,  Rocca Maritano,  Tour Germaine,  Rocca Turi,  Mont Pellat,  Punta Sili,  Monte Cassorso,  Mont Morion Centr-,  Pointe de Bertol,  Entre Piniers,  Roche Château,  Pointes de Mourti,  Fau Cuchet,  La Massour,  Pic de la Fare,  La Prouveyrat,  Pic E de Combeynot,  Becca Chatelet,  Tête des Crêts,  Le Petit Ferrant,  Pointe du Gleyzin,  Cugn di Goria,  Piccolo Monte Turlo,  Testa Delle Goilles,  Pointe des Rochers Charniers,  Cime de Caron,  Tête de Cuguret,  Dôme de la Tour Sallière,  Pointe de la Golette,  Punta Sciarda,  Pointe de la Réchasse,  Croix de la Lanche,  Pointe de Sales,  Rocca Blancia,  Pic du Cros,  La Petite Moucherolle,  Monte Lera Occidentale,  Pic de Pétarel,  Pointe de l\\'Ovine,  Pic du Vallon Crouzet,  Roche Bernaude,  Tête d\\'Amont,  Monte Forciaz,  Tête de Balme,  Cima Dronero,  Punta del Cavallo,  Bric Content,  Monte Maniglia,  Combin du Meitin,  Pointe de la Sana,  Peyretier,  Rocca la Marchisa,  Le Banc du Peyron,  La Chalanche,  Aiguille des Ciseaux,  La Sure,  Pointe de Vaudaine,  Sur la Biolle,  Mont Flassin,  Dôme des Glaciers,  Pointe du Dérochoir,  Tête du Clot,  Six Blanc,  Monte Bel Tempo,  Pointe Basse de Mary,  Dome du Tsan - Sud,  Le Chantonnet,  Cime de la Valette,  Croix des Enfers,  Pointe des Cerces,  Le Barle,  Mont Céty,  Grand Pic de Belledonne,  Aiguille du Belvédère,  Monte Barifreddo,  Punta Calabre,  Monte Piutas,  Punta Cerisira,  Aiguille du Midi,  Pointe des Auges,  Le Mounioz,  Punta Gias Vej,  Vin Vert,  L\\'Evêque,  Tête d\\'Oréac,  Roche Fleurie,  Uia di Ciamarella,  Pointe Sud des Douves Blanches,  Lanche Close,  Pointe des Pisses,  Roc Lancrenaz,  Testa di Valnontey,  Montagne de l\\'Alpe de Verdun,  Le Grand Séru,  Dent de Jalouvre,  Tresenta,  Bec Costazza,  Monte Belpla,  Mont Chevrier,  Bec de la Montau,  Bec d\\'Arguille,  Corne Rousse,  Aiguille de Crete Sèche,  Rocca Peroni,  Il Forte,  Roche des Prés,  Aiguille Pourrie,  Roc Mazilier,  Aiguilles Rouges du Brouillard,  Monte Cristetto,  Aiguille du Fruit,  Tête du Peyron,  Monte Gran Bernardè,  Bec Raty orientale,  Dents de Maniglia,  Ménil,  Pointe Chaubert,  Rocher Gris,  Aiguille Joseph Gaillard,  Aiguille Savoie,  Les Parrossaz,  Punta Budden,  Tête de Couleau,  Grand Eulier,  Punta Murel,  Gros Crey,  Becca des Arbiere - Sud,  Le Mais,  Tsanteleina,  Le Grand Perron,  Les Trois Hommes,  Grivoletta,  Piccola Ciamarella,  Pic Est de Vaccivier,  Piata di Lazin,  Monte Rascias,  Grands Fats,  Tête de la Cluse,  Rocca di Nonna,  Testa Missirola,  Roche Parnal,  Mont Gioberney,  Punta Nera,  Pic Central de Vaccivier,  Punta Muret,  Pointe du Châtelret,  Le Gros Ane,  Testa della Tribolazione,  Les Pointes Longues,  Aiguille des Saffres,  tête E des Cos,  Rocca Tovo,  Punta Marsè,  Le Tabor 2389 m,  Tête du Pouget,  Mont Collon,  Pointe de la Signora,  Petite Tete de Bella Tsa,  Pointe Jeanne,  Petit Veymont,  Mont Pelvoux Pointe Durand,  Punta Selassa,  Cadreghe di Viso,  Le Ranfolly,  Sommet Rond,  Il Pelvo - cima sud,  La Grande Torchère,  Le Métailler,  Pointe de Merdassier,  Gros Rognon,  Gran Testa di By,  Pointe Sommeiller,  La Breya,  La Salle,  Pic Sud des Cavales,  R. Senghio,  Roche courbe,  Grande Motte,  Grand Hoche,  Grand Chamousset,  Escalinade,  Sommet de Catinat,  Aiguille Pierre André,  Tete de Crevacol,  Punta Violetta,  Roche Aiguë,  Le Pérollier 2183 m,  Dent du Géant,  Mont Brun,  Monte Piegu,  Le Grand Bérard,  Tête du Colonney,  Monte Curt,  Cima Ciarbonet,  Le Ratel,  Chapelle de la Glière,  Punta Lance,  Pic du Rondet,  Tête-de-la-Nouva,  Pointe Lemercier,  Pointe du Grand Vallon,  Tête de Cassoun,  Monte Grosso,  Petite Bosse,  L\\'Auta,  Pointe Claire,  Cul de Pet,  Gran Pelà,  L\\'Étale,  Monte Gruetta,  Pointe de l\\'Ifala,  Pic Vert,  L\\'Isolée,  Torrione Mazzucchini,  Aiguille de la Gandolière,  Croce di San Giuseppe,  La Tour,  Pointe de la Fournache,  Crête de la Pendine,  Le Chaperon,  Monte Platasse,  Punta di Leppe,  Pointe de Queblette,  Sommet des Anges,  Pointe de Tsignana,  Cima del Bouc,  Truc del Vento,  Tête de la Dame,  Aiguille d\\'Estellette,  Croix Léat,  Monte Balmello,  La Pousterle,  Pointe des Chamois,  Monte Bert,  Monte Rosso d\\'Ala,  Pointe Piaget,  Monte Costigliole,  La Grande Balmaz,  Buc Faraut,  Sommet de la Trousse,  Le Vay,  Ailefroide Orientale,  Punta Falconere,  Tête de Plate Longe,  Punta Leysser,  Roccia Castello,  La Sengla,  Aiguille Centrale de la Saussaz,  Tête de Pelvas,  Le Petit Arc,  Pic Traverse,  Chamechaude,  Pic de la Temple,  Petit Mont Blanc,  But Sapiau,  Tête de Clotinaille,  Pointe de L\\'Ouillon,  Pic de l\\'Oeilly,  Pointe des Arangles,  Grand Charvia (Mont Gimont),  La Tête Noire,  Le Janus,  La Coupa,  Cima Nonassa,  Le Quermoz,  Pointe de l\\'Eysinna,  Punte di Peraciaval,  Roc Neir,  Pointe du Corbier,  Mont Grauson,  Pic de Séguret,  Tête de Paneyron,  Monte Ricordone,  Mont Joly,  Pointe de la Saume,  Mollard de la Grande Vache,  Grande Rousse S,  Monte Ciarm,  Cima Dorlier,  Pointe d\\'Orsière,  Cima Longhede,  Aiguille d\\'Aujon,  Pics des Cavales,  Punta Chestassa,  Aiguille de la Combe,  Monte Ruine,  Roche Muraz,  Aiguille de la République,  Cuttarello,  Tête de Lapras,  Cima Ròst,  Rocca Frigerola,  Passage des Vans,  Becca di Salé,  Punta Sulè,  Pointe Fine,  Le Grand Charnier,  Punta di Bioula,  Monte Morefreddo,  Tête du Pas de l\\'Ours,  monte Craviale,  Tsaplana,  Grandes Jorasses/ Pointe Whymper,  Pic Charbonnel,  Monte Pintas,  Mont Sagerou,  Cima di San Michele,  Becca d\\'Invergnaou,  Tete des Maitz,  Rocher de l\\'Aigle,  Petit Dru,  Le Pic Haut,  Crête du Fioc,  Punta Adami,  Bric Arcet,  Mont Ruan,  Pointe du Bacheux,  Monte Peyron,  Punta Lioy,  Faux Sommet,  Cime du Laro,  Punta Malta,  Punta Fiorio,  La Sétaz des Prés,  Punta Gardiora,  Pic de Chabrières,  Punta d\\'Arbella,  Croix de Sainte-Marguerite,  Monte Viraysse,  Punta Mongiovina,  Punta Cirel,  Pointe de la Golèse,  M. Giornalet,  Pic Ombière,  Aiguille d\\'Aout,  Grand Perron des Encombres,  Le Grand Morétan,  Pic Saint-André,  Cime du Petit Sauvage,  Roc des Blanchets,  Pointe de la Ratelière,  Losas,  Dôme des Nants,  Le Trident,  Petite Autane,  Grand Queyron,  Testa Grisa,  Tête de Girbault,  Bric Cassin nord-ovest,  Auguille Des Agroniettes,  Le Gros Têt,  Pic de Pian,  Rocca del Forno,  Bric La Caia,  Le Signal,  Cima del Bosco,  Roc des Boeufs,  Rocher de la Perche,  Mont du Vallon,  Mont Pelvoux Pointe Puiseux,  Monterossino,  Mont de Vorès,  Punta di Arpisson,  Punta della Valletta - Vetta scialpinistica,  Roccia Frace,  Le Clocher de Planpraz,  Monte Roccerè,  Becca di Gay,  Teté Du Curru,  Punta Clotesse,  Tête de Cialancion,  Mont de la Barme,  Pic Traversier,  Roccia Corba,  Pointe des Angelières,  Aiguille de Frères Estiennes,  Mont de L\\'Ane,  Pointe de la Rochette,  Piton de la Viaclose,  Cime Nebbia,  Dent du Caïman,  Rocca Senghi,  Pointe Noire de Pormenaz,  La Rousette,  Rochers du Tru,  Montagne d\\'Aureille,  Monte Garne,  Pointe Yeld,  Croix de la Cochette,  Aiguille qui Remue,  L\\'Ambrevetta,  Le Goraj,  Gran Serin,  Punta Cruvin,  l\\'Aiguille,  Rocca Bianca cima Nord Est,  Roc des Tours,  Torre d\\'Ovarda Centrale,  Mont Jovet,  Truc de Tsanteleina,  Le Peigne,  La Tour Ronde,  Le Péry,  Pointe du Midi,  Mont Colombis,  Tête de plate Lombarde,  Mont Crete Sèche,  Crêt de Beauregard,  Mont Belvédère,  La Coche,  Testa del Grand Etret,  Cima Centrale,  Aiguille Croux,  Cima Lubin,  Bocon Damon,  Monte Riba del Gias,  Rochers de Leschaux,  Mont Rous,  Tête du Seigneur,  Mont Touvet,  Punta Cialme,  Monte Collerin,  Le Grenier de Commune,  Pierre Amion,  Gran Guglia,  Punta Pratta,  La Petite Miaz,  Saulire,  Tête de la Gavie,  L\\'Ange Gardien,  Punta Guardiol,  La Peyrouse,  Aiguilles Crochues/Sommet S,  Punta Cornourin,  Aiguille de Tronchey,  Le Cuchon,  Tête de Villy,  La Chal,  Dent de Moirans,  Monte Tre Denti,  Monte Pelvo,  Sommet de Pierre Blanche,  Becca di Moncorvè,  Monte Tivoli,  Le Gargas 2208 m,  La Croix des Têtes,  Punta Rasciassa,  Tête du Vuargne,  Monte Estelletta,  Trou de l\\'Aiguille,  Tête du Planay,  Montagne de Sulens,  Pointe de la Louïe Blanche,  Tête de Malacombe,  Pelvo d\\'Elva,  Rocher de Lorzier,  Truc Mongrosso,  Punta del Ran,  Pointe Du Drinc,  Mont Buet,  Monte Chenaille - Anticima sud,  Dôme de Bellefont,  Roc Basagne,  Tour Tatra,  Mont de l\\'Étoile,  Monte Cerello,  Mont Vorassay,  Monte Giansana,  Le Grand Armet,  Monte Albergian,  Le Ferret,  Pic Sud de la Buffe d\\'en haut,  Monte Luzera,  Croce di Ferro,  Pointe de Vouilloz,  Charande,  Pic de Jallouvre,  Aiguille du Tacul,  Tête du Collier,  Mont Saron,  Grande Dent de Veisivi,  Tuas Venezia,  Punta Brendel,  Pointe de l\\'Argentière 3053,  P3120,  Teté De La Troche,  L\\'Ouille Noire,  Roche de Méaudre,  Pointe de bornand,  Testa dell\\'Assietta,  Cima del Lupo,  Le Bec Roux,  Grande Bosse,  Pointe de la Lèvrière,  Pointe d\\'Otemma,  Dôme des Sonnailles,  Fraysse,  Pic de Rochelaire,  Tête de la Payanne,  Punta Venezia,  Mollard Rond,  Pointe du Rascrouset,  Mont Fort,  Pointe d\\'Ormelune,  Tête Virante,  Cime de la Planette,  Pointe Pers,  Colle Bellacomba,  Pointe de Chevrière,  Tête du Pré des Saix,  Rocce del Pelvo,  Punta Malanotte,  Pic de Beauduis,  Sommet du Grand Vallon,  Sommet des Clottous,  Pointe de la Haie,  Les Grandes Platières,  Punta Valletta,  Dôme de Puy Salié,  Pointe de la Pallaz,  Chateau des Dames,  Pointe Perfia,  Grande Vanne,  Punta il Villano,  Pic de Lauzin,  L\\'Enclave,  Tête de l\\'Infernet,  Gran Becca Blanchen,  Monte Creya,  Rocca delle Sommette,  Pointe du Sélé,  Pointe de Banc Fleury,  Pointe de la Bajulaz,  Monte Momello,  Aiguille de la Grande Moendaz,  Tours des Crottes,  Pointe Salvador,  Pointe de Jasse Bralard,  Aiguille des 2 Aigles - Secteur du Plan,  Crou de Bleintse,  Couronne de Bréona,  Punta Welzenbach,  Grand Delmas,  Aiguille Brouillard,  Monte Genevris,  Monte San Vittore,  Grande Lauzière,  Rocca dell\\'Aquila,  Puy Bernard,  Aiguille du Grépon,  La Tournette,  Épaule Sud de la Condamine,  Dents de Vessona,  Sommet du Prorel,  Montzard,  Gran Testa,  Mont Falcon,  Tête des Corridors,  Le Tuba,  Tête de Soleil-Bœuf,  Le Fournet,  Punta del Fort,  Mont Kamuniak,  Roc de Viuz,  Le Pinet,  Pointe Médiane,  Pic S des Grandes Lanches,  Le Pouzenc,  Pointe Barnes,  Cime de Février,  Pics du Says,  P3643,  Sommet de la Cavale,  Monte Doravidi Sud,  La Serpentine,  Cresta dei Cugni,  Le Caneton,  Mont Paillasse,  Becco dell\\'Aquila,  Petit Mont Collon,  Le Drouvet,  Monte Roletta,  Pointe d\\'Angolon,  Monte Benetto,  Monte Pezzulano,  Monte Cialmetta,  Aiguille Rousse,  Prégentil,  Briccas,  Monte Pancherot,  Paré de Joux,  Bonverday,  Pointe de Talamarche,  Petit Flambeau,  Tête des Crêtes,  Tête de la Caborne,  Pointe des Aigles,  Cima di Entrelor,  Roc della Niera / Tête des Toillies,  Les Aiguilles Noires,  Bonhomme du Tsapi,  Montagne du Gros Foug,  Frioland,  Quota,  La Pinéa,  Mont Cindre,  Platary,  Tête de la Cabane,  Pointe de Chevran,  But Saint-Genix,  Monte Cros,  Aroletta Superiore,  Le Petit Séru,  Serre le Têtes,  Sasseneire,  Infernet,  Cime de Bard,  Tête de Chéret,  Mont Turia,  Dent de Cons,  La Pendine,  Pic de Chabrière,  Aiguille d\\'Orny,  Monte Castlus,  Tête des vautes,  Punta Nonna,  Mont Oreb,  i Brillet,  Roc des Arces,  Monte Iverta,  Punta di Medzove,  Les Aurus,  Pic d\\'Escreins,  Tête de la Platasse,  Aiguilles Dorées,  Pointe des Rougnous,  Monte Marmottere,  Pointe de Méan-Martin,  La Roche Forée,  Monte Russet,  Grande Roche de la Muzelle,  Pic Sans Nom,  Jenabran,  Tour de Bavon,  La Longeagne,  Pic Silhouraïs,  Tête à Brion,  Aiguille Noire de Peuterey,  Aiguille de l\\'Encrenaz,  Punta del Grillo,  Monte Sociu,  Punta Sea Bianca,  Becca Chardonney,  Montagne d\\'Ambel,  Monte Angiolino,  Punta Foura,  Pointe de Peaumont,  Pic de Tenneverge,  Cima Loit,  Aiguille des Grands Montets,  Tour Ponton,  Savoleyres,  Cime du Col Haut,  Punta Basei,  La Tulle,  Mont-Gele,  Torre d\\'Ovarda Occidentale,  Pic de la Ceinture,  Monte Musinè,  Rocca della Comunetta,  Monte Tibert,  Tete Drumianaz,  Pic de Coste Vieille,  Les 3 Pucelles,  Mont Vélan,  Monte Colombano,  Monte Albrage,  Punta Lausarot,  Tournelon Blanc,  Pain de Sucre,  Gran Roc,  Le Taillefer,  Becca del Merlo o di Chamin,  Aiguille de Roc,  Tours Vallée Étroite,  Le Grand Area,  Signal de Villard,  Dome de Polset,  Tête à l\\'Âne,  L\\'Epée,  Cime Monfret,  Pointe Elisabeteh,  Pointe du Vieux,  Rocher de Bellevarde,  Montagne Pellat,  Pointe de Bellegarde,  Tête de l\\'Adroit,  Sommet Nord de Sarenne,  Le Massour,  Pointe de La Balme,  Pic de Malaure,  Dent de Perroc,  Pic de Gleize,  Pointe de Chaurionde,  Costa delle Manze,  Tête des Ottans,  Signal de l\\'Homme,  Mont Morion Merid-,  Signal des Têtes,  Pointe Blanche,  Punta Salliaousa,  Aiguille des Calvaires,  L\\'Hergues,  Sommet Drouvet,  Monte Giron,  P3614,  Dent du Signal,  Pic de Fond Queyras,  Pointe de la Couennasse,  L\\'Alpet,  Pointe de Frébouze,  Rochers Rouges,  Pic du Sommarel,  Pic de la Sauge,  Tête Sud de la Somme,  Monte Fassolino,  Pic du Gazon,  Punta Rascià,  Rocher de la Petite Tempête,  Aiguille de Tré-la-Tête Centrale Sud-Est,  Punta Fiunira,  La Norma,  Le Buclon,  Punta del Mezzogiorno,  Pointe de la Terrasse,  Monte Serena,  Cima Saler,  Aiguille de l\\'Eboulement,  Aliet,  punta Rognosa,  Becca France,  Pointe Mathews,  Becca de Corbassière,  Grande Tête de l\\'Obiou,  Rocce Rosse,  Pic Couttet,  La Ruinette,  Pointe de Rognier,  La Dotse,  Grandes Jorasses/ Pointe Walker,  Pic du Mas de la Grave,  Pic Ouest de la Côte Belle,  Cairn,  Cornes de Pié Bérarde,  Tête de Viraysse,  La Rochaille,  Le Chapeau,  Punta di Grifone,  Monte Colombo,  Petit Rochebrune,  Mont Mussaillon,  Crêt du Poulet,  la Vierge,  Bas Morand,  Grand Cerf,  Grand Créton,  Pointe de Balafrasse,  Pic de l\\'Herpie,  Roc de l\\'Homme,  Monte Miracolo,  Sex de Marinda,  Becca di Verconey,  La Montagnette,  Belvédère de l\\'Homme de Pierre,  Garde de Bordon,  Pointe de l\\'Armélaz,  Le Piolit,  Le Simous,  quota 2358,  Serre Thibaud,  Tête du Jas des Arres,  Cime des Palets,  Bric la Plata,  Punta Udine,  Auguille D\\'Artanavaz,  Rocca del Col,  Le Grand Bec,  Aiguillette des Houches,  Punta Bassac Nord,  Rocca Bianca,  Pointe de la Grande Sagne,  Grande Aiguille Rousse,  Monte Pelà,  Dappey du Ritord,  Pointe du Vallonet,  La Rama,  L\\'Orionde,  Pointe de la Selle,  Tête de Merlant,  Pic de Parières,  Pointe Richardson,  Pelvo Chiausis,  Punta della Valletta,  Tête de la Sallaz,  Pointe de Valbuche,  Monte Arpon,  Lancebranlette,  Aiguille de Toula,  Mont Fleuri,  Punta Melchiorre,  Cima degli Ortetti,  L\\'Ailefroide Occidentale,  Punta Gorra,  Beauregard,  Monte Chersogno,  La Tour Rouge,  Panettone (Truc Pane\\'),  Le Barrioz,  Montagne de Rachas,  Char de la Turche,  Le Grand Collet,  Petits Perrons,  Le Pierroux,  Punta Prarosso (1497m),  Pointe des Lauses Noires,  Le Chatel,  Pic Innomee,  l\\'Arcanier,  Pointe de Ronce,  Punta Ralfino,  Cima Frappier,  Punta Bessie,  Tete de Miéjour,  Pic de Mal Cros,  La Mamelle,  Roche Paillon,  Cime di Gollien,  Tarsimoure,  Aiguille de Tré-la-Tête Orientale,  La Tèjere,  Torre Lavina Nord,  La Tuile (2294 m),  Aiguille Septentrionale,  Le Grand Queyras,  Pic des Eustaches,  Aiguille de la Cabane,  Roc de Pendet,  Pointe de Bellecombe,  Mont Dolin,  Vieux Chaillol,  Pointe des Vignettes,  Monte Brunello,  Le Rochail,  Punta Tricuspide,  Mont Pelat,  Crêt de Châtillon,  Monte Giassiez,  Punta Feniliaz,  Rocca Renier,  La Roualle,  Cime des Torches,  Les Ourgieres,  Cima Tavorna,  Petite Dent de Veisivi,  Punta Mulatera,  Grapillon des Merles (ou Aiguille du Fond de la Tourne),  Bec de l\\'Homme,  Roccia Agnelliera,  Punta di Ondezana,  Tête de valpelline,  Mont Brouillard,  Col de Viraysse,  Pic de Beauvoisin,  Tête du Petit Jardin,  Tourte-Barreaux,  Le Morgonnet,  Petit Pelvoux,  Le Crêt d\\'Albigny,  l\\'Aiglière,  Punta Cialancia,  Pointe Nord,  Punta de la Crosatie,  Punta Grand Vaudala Nord,  Somme Nord des Bans,  Mont Levatel,  Costa Ruenda,  Piton des Italiens,  Aiguilles Rouges d\\'Arolla,  Croix du Mont Granier,  Punta Pilone,  Mont Saint-Jacques,  Tête du Filon,  Monte Parpaiola,  (Les Otanes),  Pointe Alphonse Favre,  Pointe-de-Peradze,  Pic de Chaudun,  Tête de la Forclaz,  Pointe de l\\'Observatoire,  Punta Bianca,  Bric Boscasso,  Pic de Rochebrune,  Rocca Corna,  Testa Brusà,  Bec d\\'la Ciuleri,  Mont Gelé,  La Pyramide,  Poype de Bernoud,  Becca d\\'Aver,  Tête de l\\'Hivernet,  La Vuarette,  Pointe de la Gorgeat,  Les Clochetons,  Le Môle,  Le Roc Noir,  Le Mollard des Boeufs,  Le Cheval Blanc,  Scolagarda,  Punta Chamoussiere,  Tête de la Courbe,  Pic des Cabottes,  Tête des Etablons,  Tardevant,  La petite Céüse,  Bec Charvet,  Pointe Mieulet,  Roche de Mio,  monte Muretto,  Punta del Mezzodì,  Tete du Rif de l\\'Are,  Pointe Sisyphe,  Les Suets,  Monte Midia Soprano,  Mourelle,  Bric Olivengo,  Grand Galbert,  Tête de la Muraillette,  Tour Real,  Pointe de Balme Rousse,  Monte Sette Confini,  La Croix du Roy,  Aiguille de l\\'Aigle,  Pointe des Mines,  Tête de Ferret,  Rocher de la Garde,  Brèche Poccard,  Punta Manda Ovest,  Mont Mirantin,  Pics de Chamoissière,  Becca di Tei,  Goutaroux,  Pointe d\\'Anterne,  Monts d\\'Ain,  Rocca Ciarva - anticima sud,  Torre del Gran San Pietro,  Becca des Arbiere - Centrale,  Monte Molaras,  Aiguille du Saint-Esprit,  Mont Herban,  Pointe Lépiney,  Pointe du Vallon des Etages,  Pic des Prés les Fonts,  Rocca Due Denti,  Pointe Isabella,  Pied Moutet,  Rocca Rosa,  Uia di Mondrone,  Dent Parrachée,  Bec Raty centrale,  Rocca Praboccia,  Le Veyou,  Sommet des Pluis,  Pointe du Fond Blanc,  Tête de la Gipière,  Cima Nera,  La Selletta,  Sommet de Chateau-Jouant,  Monte Nebin (Cima NO),  La Chailla,  Punta Miserino,  Rocca Perabianca,  Punta Gugliermina,  Brunet,  Le Fierloz,  Petite Aiguille Verte,  Pointe Bayeux,  Pointe Centrale Nord,  Pointe Nord de la Selle,  Cime du Grand Sauvage,  Les Grands Vans,  Bella Comba,  Punta della Luetta o Tzaboc,  Sommet de Meillarot,  Bric de Rubren,  Cime de la Charvie,  Roccio Russo,  La Gardette,  Tête de la Charme,  Serre Cocu,  Pointe de la Muande,  Bec del Fauset,  Tete de Garnesier,  Signal du Lauvitel,  Cima Sebolet,  Pointe des Ratissières,  Pierre Arnoux,  Pointes d\\'Ayères Nord,  Mont de la Blana,  Pointe de Verdonaz,  Grand Dru,  Punta Seras,  Becca di Monciair,  Le Chenaillet,  Tête de La Draye,  Dômes de Miage - Second dôme,  Tête du Grand Mont,  Pointe du Domino,  Punta Garin,  Dent de Cruet,  L\\'Aupillon,  Turge de la Suffie,  Testa del Rutor,  Punta di Ceresole,  Le Sénépi,  La Rouelle,  Cima delle Barre,  Cima delle Liste (Punta Gardetta),  Picco Luigi Amedeo,  Testa dell\\'Autaret,  Monte di Ciabriera,  Château Blanc,  Roche Brune,  Tomba di Matolda,  Il Pelvo,  Tête de Vautisse,  Quigouret,  Roc Rouge / Négresse,  Frête de Penaille,  Morfreid,  Pic Clausis,  Pic Sud du Merlet,  Sommet du Soreiller,  Rocca del Nigro,  Petit Assaly,  Monte Soglio,  Pointe de Malhaubert,  Pointe des Arcas,  Tête Bessone,  Crête de la Mayt,  Monte Taou Blanc,  Pointe d\\'entre les Cols,  Croix de la Coche,  Combin de la Tsessette,  Têtes de Sainte-Marguerite,  Bec Gorgia,  Gros Martel,  Testa Cordellaz,  Tour du Tignet,  Pic de la Grande Valloire,  La Ciarma,  Sommet de l\\'Arête de la Ratelle,  Pointe d\\'Andey,  Monte Doravidi Nord,  Petit Som,  Punta del Leynir,  Monte Murai,  Demoiselle Coiffée,  Il Dente,  Flambeau des Écrins,  Punta Gastaldi,  Monte Doubia,  Aiguille de Boveire,  La Lauze,  L\\'Église de la Tour Sallière,  Pointe Haute de Mary,  Torre Lavina Sud,  Tête Blanche,  Punta delle Ujette,  Le Grand Som,  Tête de Platasse,  Bec pointu,  Alpe Pertus,  Pic Bunard,  Monte Pitre de l\\'Aigle,  Croce del col della Resta,  Rocher de Barrabas,  Légette du Mirantin,  Monte Arpet,  Monte Blina,  Punta Grand Vaudala Sud,  Tête du Jarset,  La Nonne,  Pointe du Rocher Blanc,  Mont Truc,  Petites Jorasses,  Mont de la Coche,  Pic de Coni Borni,  Pointe des Marcelettes,  Punta Raccias,  Pointe du Dzonfié,  Pic du Clocher,  La Tête Dure,  L\\'Homme,  Puy Gris,  Le Suet,  Roc Noir de Combeynot,  Bec de l\\'Echaillon,  Montagnazza,  Monte Meabé,  Serre des Aiguilles,  Pointe Dosia,  Monte Sises,  Roche Méane,  Grande Rochère,  Pointes des Fontanelles - Centrale,  Le Rissiou,  Becca di Chardonney Ovest,  Bric Cassin sud-est,  Pointe de la Turche,  Petite pointe de la Galoppaz,  Pic de la Fourche,  Croce di Rifreddo,  Pic de Neige Cordier,  Tour Salière,  Tête de Longet,  Pointe du Chardonnet,  Saint-Abdon,  Saint-Philippe,  Rocca del Montone,  Rochers Cléry,  Aiguille Noire de Pramecou,  Pointe du Vallon,  Tête de Fouran,  Costabella,  Rocca Nera,  Aiguille du Tour,  Aiguille du Goûter,  Punta Manda Est,  Le Charmet de l\\'Aiguille,  Le Petit Béchard,  La Grimbassa,  AIguille Occidentale de la Saussaz,  Grande Aiguille de la Bérarde,  Vantacul,  Mont Clapier,  Aiguille Méridionale d\\'Arves,  Le Gros Grenier,  La Roche Brune,  Bec Raty occidentale,  Cime de l\\'Encoula,  Le Clocher,  Pics du Casset,  2284 m,  Le Grand Galibier,  Punta Founset,  Monte Jafferau,  Monte Capretto,  Grand Replomb,  Pic Pierroux,  Les Rochères,  Aiguille de Tré-la-Tête Centrale Nord-Ouest,  Mont Rachais,  Crè Pilone,  Le Chaput,  Punta Colomion,  Côte Belle,  Bec de la Sasse,  La Meyna,  Ouillon des Arcellins,  Tête des Bréquets,  Pic de Clapouse,  Testa di Cervetto,  Pointe du Château,  Grand Nomenon,  Cima Piana,  Pic de la Pierre,  Truc Peyron,  Croce di Envie - Cima Bracco,  Pointe Helbronner,  Testa del Gavio,  Rocce di Viso,  Pic Bourcet,  Becco Meridionale della Tribolazione,  La Mortice,  Testa della Sendua,  Punta Fertà,  Rocce Founs,  Sur Cou,  La Belle-Etoile,  Dent de Bedina,  Aiguille de Polset,  Colletto della Lera,  Truc San Martino,  Punta delle Serene,  Arête Fabien,  Becca Motta,  Sex Carro,  Monte Scaletta,  Punta dell\\'Aquila,  Tete des Ormans,  Trois Dents du Pelvoux,  Dômes de Miage,  Pic Wilson,  Pic Eccles,  Clochetons Gunneng,  Pointe du Tougne,  L\\'Arpelin,  Roc du Cornillon,  Mont Rogneux 3084,  Le Petit Perron,  Le Toit,  Tete Entre Deus Sauts,  Becca d\\'Aveille,  Le Petit Argentier,  Chalvet,  Pointe des Autans,  La Grande Casse,  Tête de la Graille,  Dent du Ratier,  Collet,  Monte Rolei,  Becca del Merlo,  Rocher de l’Yret,  Aiguille de Chambeyron,  Monte Bauveè,  Pic duBéal Traversier,  Punta Gianni,  Monte Castelletto,  Pointe Swan,  Dent du Crocodile,  La Mayt,  Mont Tailland,  Grand\\'Uia,  Mont Mallet,  Bec Rouge,  Corne des Chamois,  Monte Boulliagna,  Punta Money,  La Dent du Loup,  Pointe Francesetti,  Le Crachet,  Rocca Jarea,  Roche de Marapa,  Monte Rodzo,  Col du Cruq des Aiguilles,  Petit Perron,  Pointe de Nyon,  Aiguille Occidentale du Soreiller,  Punta Tonini,  Monte Lera Centrale,  Rochers des Mais,  Mont de Turgon,  Punta Cialier,  Monte Pence,  Roc Diolon,  Pointes de Valcorniere - Centrale,  Le Sommet Rouge,  Bec des Etagnes,  Mont de la Balme,  Le Perronnet,  Becca dell\\'Aouille,  Pointe des Lacs Verdet,  Pointe des Montagnya,  Le Rocher Blanc,  Croce Cargnino,  Pointe Ronde,  Le Queyrellet,  Punta Gordan,  Mont Giusalet,  Cima Lusera,  Tete des Prat Arnaud,  Pointe de Lapaz,  Punta Ferrand,  Punta Boulian,  Pic de Panestrel,  quota 2660,  Tours de Notre-Dame,  Le Puy,  Crêt du Miroir,  Monte Plum,  Becca du Lac,  Pan di Zucchero,  Pointe des Plates des Chamois,  Roccia Verde,  Monte Bruiero,  Bec Grenier,  Ouille de Trièves Est,  Grandes Jorasses/ Pointe Croz,  Pointe de Banc Plat,  Monte Pagliano,  Mourre-Froid,  Cima Leitosa,  Arcalod,  Flambeau,  Punta Mait,  Monte Sapei,  Aiguille de Laisse,  Sommet de Prelles,  Le Pommier Blanc,  Monte Genta,  Le Brion,  Le Rouchon,  Pic Queyrel,  Pointe de la Sitre,  Roche des Agneaux,  Le Brévent,  Rocca Ciarva,  Dôme de Neige des Écrins,  Roche Parstire,  Pointe de Marcelly,  Tête de Siguret,  Bec de Lachat,  Dent du Requin,  Sommet Sud des Bans,  Monte Di Vertosan,  Pic de la Grave,  Tête du Serre,  Pic du Vacivier,  Signal du Lamet,  Tête Ronde,  Prachaval,  Punta Fournà,  La Platte,  Aiguille de Chalais,  Punta Bosconero,  Rocca Limburny,  Colle della Bera,  Brèche de l\\'Irelève,  Pointe du Chapeau,  Tête des Annes,  L\\'Aiguille Percée,  Aiguille de Bérard,  Roccia Clostellone,  Triangle de l\\'Herse,  Aiguille de Beaupré,  Monte Orsiera punta sud,  Mont Charvet,  Tête de Ruburent,  Punta di Fiutrusa,  Pointe de la Diablée,  La Grande Sœur - Agathe,  Monte Tournour,  Corbassera,  Croix-d\\'Agy,  Denti del Collerin,  Punta Pousset,  Monte della Tzà - Punta Sud,  Bec de l\\'Aigle,  Becca de Sery,  La Bessanèse,  Roche du Lac,  Monte Pignerol,  Monte Pirchiriano,  Petite Pointe d\\'Orny,  Pic de la Varise,  Monte Teje,  Jumeaux des Écrins,  Pointe de la Grande Combe,  Pointe des Arces,  Punta le Teste,  Punta Razil,  Aiguille d\\'Août,  Rocher du Baconnet,  Roc de Valmeinier,  Punta Curbasiri,  Croix du Cugulet,  Cima delle Rossette,  Rochers de la Bade,  Pointe de Pécé,  Cime de Lancheton,  Punta Laval Nord,  Cime de Clot Châtel,  Aiguille de Capdepon,  Monte Eighier,  Les 3 Croix,  L\\'Aiguille,  Mont Mary,  Aiguille des Chamois,  Cima Chiavesso,  Petit Replomb,  Grand Roc Noir,  Tête Neyron,  Mont Rouge de Peuterey,  Pic de Maloqueste,  Truc le Creste,  Pointe des Neyzets,  Champ du Raz,  Punta Rossa di Sea,  Roc Roux,  Mount Cordine,  Mont Jalla,  Rocca Candelera,  Le Rateau d\\'Aussois,  Punta Maurin,  Punta Uja,  Le Bellachat ou Pointe du Mont du Fût,  Cime de Saurel,  Carra Saettiva,  Monte Reisasso,  Monte Faiè,  Passo del Veilet,  Le Grand Mont,  Cima Mares,  Poggio Tre Croci,  Clocher de l\\'Étret,  Grande Traversière,  La Berthe,  La Grande Roche,  Pic de l\\'Agnelin,  La Mollas,  Auguille De Malatra,  Pointe de l\\'Arbaron,  La Rousse,  Punta Kurz,  Pointe-Rousse,  Bric Rosso,  Madonna,  Pierre Avoi 360,  Pic de Peyre Eyraute,  Dômes de Miage - Pointe Sud-Ouest,  Monte Salza,  Pic des Aupillous,  Pointe des Places,  Monte Spera,  Arête Plate,  Les Oeillasses,  Monte della Ciabra,  plan du col,  Becca Faudery,  Pointes de Valcorniere - Sud,  Triors,  Monte Corno,  Monte Unghiasse,  Puy de la Gagère,  Monte Sautron,  Roche Faurio,  Aiguille du Goléon,  Attelas,  Monte Dondena,  Pic de l\\'Étendard,  Tête de Clos Lapierre,  Rocca la Croce,  Aiguille De Chambave,  Tête Nord des Fours,  Cima di Pienasea,  Pointe des Delevrets,  Aiguille de Leschaux,  Cima di Costarossa,  Monte Pramand,  Tête Noire,  Uja di Bellavarda,  La Cathédrale,  Pointe des Trois Scies,  Aiguille de Praz-Torrent,  Aiguille de Purtscheller,  Dôme du Monètier,  Croce Chabriere,  Praroussin,  Pointe du Fond de Roure,  Aiguille de Talèfre,  Tête de Fonteinte,  Tete Pierre Muret,  Relais du Mont du Chat,  Cima delle Vallette,  Neige de Marie (Punta Maria),  Testa di Liconi,  Puyjovent,  Le Pave,  Grand Darray,  Dôme de Vaugelaz,  Mont Rafrey,  Monte Palonetto,  Pointe Xavier Blanc,  Monte Orsiera punta nord,  Punta Rico,  Le Gros Crey,  Le Penas,  Pic du Glacier Blanc,  Dent du Rocher,  Aiguille d\\'Olan,  Monte Ruetas,  Dents de Coste Rouge,  Pointe de Sosay,  Pic de la Belle Étoile,  quota 2373,  Dent des Sex Vernays,  Monte Ciabert,  Tour Isabelle,  Roc des Charmieux,  Pointe du Fréjus,  Le Signal du Génie,  Pointe Chaligne,  Punta della Paletta Nord,  Rochers de la Fornaise,  Reghetta,  Aiguille de l\\'M,  Pointe du Lingustier,  Le Pevou,  Dos de Chambave,  Petit Grapillon,  Pic de la Moulinière,  Pointe Rasin,  Tour de La Tza,  Aiguille du Plat de la Selle,  Rocca del Passo,  Grand Tavé,  Rocher de Grande Tempête,  Pic Coolidge,  La Scia,  Pic Noir,  Aiguille Pers,  Pic de Chauvet,  Molard de Lavours,  Punta Innominata,  L\\'Albaron,  Le Haut Bouffet,  Pointe de la Balme,  Le Quichat,  Mont Glacier,  Petit Ruan,  Sommet Jacquette,  Ratier,  Bassa Serra Points,  Mont Colmet,  Aiguille de Loriaz,  Tour de Modane,  Pointe du Montet,  Monte Paglietta,  Aiguille des Pèlerins - Secteur du Plan,  Cima Dormillouse,  Levanna Orientale,  Crête de la Charmille,  Tête de Girardin,  Rocher Peyron,  La Grande Chible,  Punta Patrí Sud,  Pointe de Charbonnel,  Pointe des Boeufs Rouges,  Dos Rond,  Anticima Punta d\\'Arbella,  Le Grand Plateau,  Signal de la Grave,  La Tallias,  Punta Bouson,  Pic des Souffles,  Mont Chamoux,  Tête du Salude,  Le Grand Truc,  Gran Rossa,  La Palange,  Rocher de la Grande Balme,  Monte Chenaille,  Soleil Boeuf,  Aiguille Verte,  Grande Eperviere,  Pointe Est du Grand Fond,  Aiguille d\\'Arpette,  Geffriand,  Pointe du Demi,  Roche Ruinée,  Les Quatre Têtes,  La Tête,  Aiguille Chenavier,  Le Cheval Blanc (Sommet S.O.),  Punta delle Cavalle,  Rocca Cernauda,  Sex Quinaudoz,  Mont Roup,  Aiguille de L\\'Amône,  Aiguilles Crochues,  Pointe des Cirques,  Tête Carrée,  Petit-Combin,  Becca de Fontaney,  Pierre Aiguille,  L\\'Aiguille des Etages,  Roc des Pareis,  Sommet Sud-Est de la Roche d\\'Alveau,  Pointe de la Bonne Morte,  Punta Toasso Bianco,  Le Grand Rocher,  Pointes de Rougnoux,  Testa di Garitta Nuova (Gardiola Lunga),  Rocher de Combau,  Mont Percé,  Mont Grelle,  Château Nardent,  Le Petit Capucin,  Les Plagnes,  Aiguille du Croissant,  Punta dell\\'Aggia,  Rocher de l\\'Épiremmont,  Le Pennas - Le Grand,  Becca d\\'Aquelou,  Le Parrain,  Quota 3047,  Mollard Gargot,  Pic du Fond de Peynin,  Monte Salancia,  Viso Mozzo,  Grande Chenalette,  Bric la Costa,  Crete de la Taillante,  Brèche de Puiseux,  Aiguille du Fou,  Le Gicon,  Rocher de l\\'Encoula,  Bec di Nona,  Picco Gamba,  Tête du Grand Pré,  Tête Pelouse,  Sommet du Tisserand,  Gros Peyron,  Mont Tondu,  Pointe du Lamet,  Bric dell\\'Oliveto,  Punta Rognosa,  Pierra Menta,  Grand Combin de Grafeneire,  La Belle Etoile,  Serre Pointu,  Aiguille de la Tsa,  Grande Fourche,  Tête du Rouget,  Tête de Colombe,  Becca di Fos,  Rochers des Enclaves,  Tête du lac Noir,  Croix des Bergers,  Aiguille Dulong de Rosnay,  Cima di Percia S,  Tête du Tronc,  L\\'Esquillère,  Pointe d\\'Areu,  Becco dell\\'Alpetto,  Pointe de Ballanfat,  Monte Ruissas,  La Rossa,  Pic de la Vieille Femme,  Dôme de Chasseforêt,  Mont Blanc du Tacul,  Crêt du Milieu,  Pas de la Tovière,  Grandes Jorasses/ Pointe Young,  Cima Giardonera,  Pic des Ours,  Bric Cuccettone,  l\\'Albaron,  Calotte de Rochefort,  Roche d\\'Etache,  Aiguille Nord de la Glière,  Mont de Rochefort,  Le Fou,  Punta Meleze,  Le Grand Parpaillon,  Monte Pietraborga,  Mont Chaberton,  Pointes des Fontanelles - Sud,  La Grande Ruine,  Monte Ciaslaras,  Costa Chiggia,  Rocher de Belchamp,  Courcousson,  Mont Dragon,  Cima Quattro Denti,  Monte Torretta del Prete,  Cime du Grand Vallon,  Mont Ventefort,  Cima del Blave,  Sommet de la Querlaye,  Tête du Puy,  Cimes de la Barbarate,  Pointe de Conte Faviel,  Pic Turbat,  Monte Charbonel (Bric Murìe),  Aiguille de Blatière,  Pic du Rif,  La Blache,  Monte Gioran,  Sommet de Chatégré,  Monte Fantono,  Pointe des Arsines,  Uja di Corio,  Punta Dante,  Monte Terra Nera,  La Miaz,  Pointe Rousse des Chambres,  Pic du Clapier du Peyron,  Guglia d\\'Arbour,  Grand Van,  Le Petit Brion,  Punta della Croce,  Roche Michel,  Tête de l\\'Étret,  Pointe des Estaris,  L\\'Alpette,  Roc du Four Magnin,  Petite Sambuy,  Mont Grand Pays,  Dent du Pra,  Tête des Raisins,  Punta Lunella,  Petite Fourche,  Mont Allagrogia,  Monte Vandalino,  Pointe Nord des Douves Blanches,  Tsa de l\\'Ano,  La Roche Noire,  Les Perrons,  Mont Morbié,  Cima delle Serre,  Cima della Piccola,  Monte Chirle,  Croix de Fer,  Petit Bouquetin,  Truc del Faro,  Pointe Nérot,  Monte Carlei,  Pic du Dragon,  La Petite Cournouse,  Monte Lera Antecima Est,  La Tête de la Mandallaz,  Testa d\\'Arpy,  Becca Ceré,  La Goenne,  Roche Courbe,  Pointe de la Beccaz,  Sommet de Bataille,  La Golette,  Monte Pui,  Punta Dei Tre Cappuccini,  Monte Cassorso - cima Nord Est,  Punta Tumlet,  Tête de la Cula,  Signal du Petit Mont Cenis,  Le Mourjean,  Pointe du Nant Cruet,  Aiguille de Manigod,  Torre d\\'Ovarda Orientale,  Monte Piutas Nord,  Serre Chevalier,  L\\'Olan,  Mont Veyrier,  La Dent du Corbeau,  Monte Giovetto,  Aiguille de la Tête Plate,  Becca di Viou,  Pointe des Arandelières,  Pointe Rousse,  Pointe du Lavachet,  Saint-Apôtre,  Cima della Roley,  La Cucumelle,  Pointe de Pré de Bar,  Bec di Roci Ruta,  Sommet Nord-Ouest de la Roche d\\'Alvau,  Ouille d\\'Arbéron,  Pointe Chalonge,  Grand-Pomerolle,  La Petite Buffe,  Tete de l\\'Aupet,  Il Turu,  Le Pic,  Tête Sud du Replat,  Pointe Bourdillon,  Testa Paian,  Punta Chermontane,  Boussolenc,  Brêche de Pacave,  Aiguille de Marcieu,  Petit Van,  Rocce Fourioun,  Bric Bouchet,  Grande Lance de Domène,  Tête de la Marsare,  Pic de Charance,  Tête du Coin de l\\'Ours,  Mont Morion,  Aiguille d\\'Argentière,  Monte Cialmassa,  Pointe des Frêtes,  Punta Barant,  Montseuc,  Punta Duc,  Croisse Baulet,  Pic du Rognolet,  Aiguille Doran,  Punta Tormotta,  Becca di Nona,  Monte Meidassa,  Le Coiro,  Pointe de Lanserlia,  Punta Cristalliera,  Vedette,  Tête de Gaulent,  Pointe de l\\'Échelle,  Pointe de Celse Nière,  Roche-colombe,  Mont Valletta,  Tête de l\\'Aulp,  Becca della Pazienza,  Rocher Garaux,  Testa di Malmari,  Mont Barral,  Ouille Allégra,  Pointe de Labby,  Le Palastre,  Petite Lance de Domène,  Aiguilles de Chabrières,  Mont Noir de Peuterey,  Monte Français Pelouxe,  Roc Ujas,  Pointe du Grand Soliet,  Tour de Bonne Pierre,  Portalet,  Rocher Renard,  Punta del Tuf,  Pointe de Bella Cha,  Pointe Dzérat,  Le Testasson,  La Dent,  Monte Freide,  Le Mourre Froid,  Rocca del Gias,  Testa di Pertia,  bric delle Bule,  Becca Pouignenta,  Montagne du Charbon,  Mont Regard,  La Vierge du Vercors,  Le Truc,  Aiguille des Grands Charmoz,  Tours Rouges de l\\'Aiguille Orientale,  Tête des Cibiroles,  Bec de la Lya,  Pala\\' Rusa\\',  Petit-Pomerolle,  Dôme de Pramecou,  Mont de Cordon,  Sommet du Cugulet,  Pic Ouest de Combeynot,  Le Grand Brion,  Cime de la Jasse,  Le Pélard,  Le Grand Ruy,  Pics de la Font Sancte,  Aiguille du Plan,  Monte Camoscere,  Becca Tsambenia,  Pointe Charlet,  Monte Ruvic,  Aiguille d\\'Entre-Pierroux,  Truc Carlevé,  Pointe Gianett,  Punta Pian Spigo,  La Gran Roccia,  Rocciamelone,  Mont Morion Settentr-,  Sommet de Pourtalas,  Cima Fer,  Crêt des Mouches,  Pointe d\\'Émy,  Pointe de Chamossière,  Monte Ferra,  Pointe des Sagnes Longues,  Il Sigaro,  Pic du Génie,  Mont Charvais,  Roche Charniere,  Gran Costa,  Mont du Chat,  La Servelle,  Pointe des Blanchets,  Roc du Grand Renard,  Punta Roma,  Monte Crestas,  Punta Rossa,  Mont Blanc - Monte Bianco,  Fenêtre de la Cassorte,  Le Marteau,  Viso di Vallanta,  Tête de la Toura,  Ale Lunghe,  Monte Rosselli,  Charmant Som,  Pointe de Rasis,  Les Trois Officiers,  Pointe du Sciallet,  Tete d\\'Ere,  Tour de Chillol,  Monte della Tzà - Punta Nord,  Mont Bréquin,  Pic Lory,  Tête de Vermeille,  L\\'Arpette,  Le Grand Arc,  Montagne de Cotagne,  Aiguille de la Brenva,  Turge de Peyron,  Testa del Coin,  Pic des Esparges Fines,  Monts Rosets,  Crêt de l\\'Aigle,  Les Verdets,  Grand Renaud,  Aiguille Rouge de Rochefort,  Dent Nord de Bertol,  Monte Pisonet,  Pierre Plantée,  L\\'Ailefroide Centrale,  Corne du Diable,  Pic de Bure,  Mont-Blanc,  Becca di Roisan,  Punta Cornour,  Montagne d\\'Aujour,  Le Ritord,  Tête de Plate Longue,  La Grande Torche,  Punta Nera della Grivola,  Tête de Bellard,  Pic de l\\'Agrenier,  Bec d\\'épicoune,  Monte Baueria,  Dent de Barme,  Rocca Tovetto,  Pointe de la Portiala,  Pointe Est de la Condamine,  Mont Luisandre,  Rocca Patanua,  Punta Sourela,  Mont de l\\'Arp Vieille,  Aiguille de Bonalex,  Pointe Feuillette,  Pointe d\\'Amont,  Punta De La Liére,  Grande Lance d\\'Allemont,  Punta del Vallone,  Chard du Beurre,  Monte Arpone,  Mont Monchette,  Pyramide du Tacul,  L\\'Aiguillon,  Sommet de Dormillouse,  Mont Bellacha,  Pierre Fillola,  Monte Feuillas,  Mt. Cruzore,  Monte Buch,  Roc Blanc,  Becca di Pré d\\'Amont,  La Crevasse,  La Belle Plinier,  Punta dell\\'Uja,  Bane,  Torrione Giuditta,  Rocher de la Tournette,  La Grande Roche Blanche,  Pointe de la Sambuy,  La Mître,  Montrond,  Montagne de Mielandre,  Le Cheval Noir,  Petite Aiguille des Glaciers,  Pointe de Friolin,  Blanche de Perroc,  Rocher des Lauzes,  Dôme du Goûter,  Grand Colon,  Monte Rognoso,  Six Jeurs,  Monte Bianco di Courmayeur - Mont Blanc de Courmayer,  Pointe des Rousses,  Aiguille Noire,  Tete du Bois de Quart,  Punta della Forcola,  Petit Sulens,  L\\'Arolette,  Aiguille de Bionnassay,  Mont Vuache,  Truc Blanc,  Becca di Tos,  Tête Sud des Fours,  Pic du Coup de Sabre,  Monte la Ciarm,  Mont Dzalou,  Bec d\\'la Rama,  Anticima Punta Leynir,  Les Quatre Seigneurs,  Mont Valezan,  Mont Rond,  Pointe du Four,  Molard Noir,  La Poipe,  Tête de Jacquette,  Les Grands Moulins,  Pic Bayle,  Gran Paradiso,  La Grande Moucherolle,  Becca Dei Quattro Denti,  Bec Barmasse,  Pic de Château Renard,  Pointe Durier,  Punta del Rosset,  Plan de l\\'Aigle,  Mel de la Niva,  Pointe Madeleine,  Punta Rocca Nera,  Punta Tersiva,  Grand Pic de la Meije,  Pointe de l\\'Echelle,  Le Râteau - Pic Est,  L\\'Écoutoux,  Mont Baret,  Petit Mont-Fort,  Punta Caprera,  Grand Veymont,  Bric Castelletto,  Grand Lui,  Punta Bassac Sud,  Cime Noire,  Tougnète 2434,  Monte Birrone,  Montagne d\\'Oule,  Pointe de Haut Fleury,  Dent de Bonavau,  Rocher des amoureux,  Mitre de l\\'Eveque,  Cima Fournier,  Tete De Barasson,  Serre Delègue,  L\\'Ourson,  Petit Môle,  Mont Brûlé,  Mont Blanc de Cheilon,  Sommet Sud de Sarenne,  Mont Baron,  Crête du Lauzet,  Serre de l\\'Horizon,  Crêta Vella,  Rocca d\\'Ambin,  La Pechta,  Monte Redessau - Pointe Sud,  Aiguille de Quaix,  Sommet Nord,  Pointe de la Bornée,  Pointe de l\\'Aup su Pont,  Tête de Lauranoure,  Téte de Fenétre,  Bec du Vallon,  Aiguille du Grand Fond,  Le Petit Agnelin,  Punta Fattiere,  Pic Nord du Merlet,  Combin de Corbassière,  Index de la Glière,  Tête du Château,  Chamousset,  Le Laton ou Pic Gazonné,  Pic du Morgon,  Rognosa d\\'Etiache,  Pointe du Dard,  Pic gardiner,  Grande Rousse N,  Dôme de Rochefort,  Pointe des Avers,  Aiguille Rouge,  Joug de l\\'Aigle,  Revard,  Tête de la Cassille,  Quota 2256,  Aiguille des Arias,  Monte Bernard,  Caïman - Pointe de l\"Épiney,  La Gardiole,  Monte Ambin,  Le Bouton de Cornacu,  Dent d\\'Aurouze,  Punta Dormillouse,  Punta Lusignetto (Punta Karfen),  Pic de la Pyramide,  Aiguille Sans Nom,  Montagne de la Pale,  Berrio Blanc,  Pointe de la Crête du Plan,  Aiguille de Bocheresse,  Pic du Lac de Combeynot,  Becca Chardonney inf.,  Levannetta,  La Rouya,  La Grande Roche du Lauzon,  Pointe d\\'Ayères Sud,  Punta Baldassarre,  Le Conce,  Rocher du Guet 1209 m,  Punta Di Feluma,  Punta Trento,  Monte Uja,  Pointe des Marmottes Noires,  Pointe de Metz,  Sommet Bucher,  Grand Teté,  La Mait d\\'Amunt,  Rocher Badon,  Punta dell\\'Agnello,  Truc dei Prati,  Grand Chat,  Montagne de Jocou,  Mont Bisanne,  Punta Lucellina,  Punta Serena,  Le Teurre,  La Tour des Ébats,  Tavé des Chasseurs,  Aiguille Orientale du Soreiller,  Tête de Adrechenouns,  Punta Galambra,  Bric Poi,  Punta del Lago Sud,  Bec de l\\'Ane,  Casses Blanches,  Punta Autaret,  Signal du Palet,  Cime de Payrassin,  Pointe de la Masse,  Mont Favre,  Mont des Princes,  Col du Pisonet,  Monte Losetta,  Uja di Mombran Punta Orientale,  Aiguille des Marmes,  Méale,  Cima Bardia,  Monte Ciriunda,  Mont Coburne,  Sommet d\\'Assan,  Rocca Anghiovà,  Pointe des Verres,  Serre Piégu,  Col de la boite,  Rochers de Belles Ombres,  Testa del Carolei,  Monte Fraiteve,  Tête Chevalière,  Pic de la Ponsonnière,  Monte Barbeston,  L\\'Âne,  Pointe Muratière,  Tête d\\'Aussois,  Pic de Valsenestre,  La Torretta,  Pointe de Boveire,  Montagne de la Lauze,  Les Suches,  Pic d\\'Asti,  Monte Baron,  Rocher du Charvet,  Dent de Crolles,  Les Croix,  anticima Sud-Est Auto Vallonasso,  M. Presa Vecchia,  Pointe de Platé,  Piano Friera,  Croix de la Cime,  Pointe du Bouchet,  Vanclava,  Pic d\\'Artsinol,  Rocca Morel,  Clochers de l\\'Alpe,  Pointe Thorant,  Le Faraut,  Tête de Chante-Perdrix,  La Roche-Pourrie,  Pointe des Arlicots,  Dome du Tsan - Nord,  Pic du Tourond,  Lance sud de Malissard,  Cima Nord,  Rochers de Plautret,  Monveso di Forzo,  Dent du Salantin,  La Petite Turra,  Les Parias,  Cappello d\\'Envie,  Muzan,  Pointe Carmen,  Truc Monsagnasco,  Bosse de Sialouze,  Mont Beauvoir,  Pic du Lauzon,  Pointe des Grands Becs,  Roche Robert,  Monviso,  Tête de Bunant,  Barre Noire,  Aiguille de Lanchâtra,  Pointe de Bonneval,  Aiguille de Roselette,  Tête Coste Belle,  Six Carro,  Colle Bercia,  Corni del Velan,  Petite Aiguille de la Floria,  Cresta dei Gurgiun,  Truc Mortè,  Aiguille d\\'Entrèves,  Rocher du Corbeley,  Punta Sbaron,  Petite Aiguille,  Dôme des Petites Rousses,  Becca di Montandayné,  San Colombano,  Tête à Turpin,  Monts Rouges,  Punta di Mezzodì,  Truc d\\'Ovarda,  Rochers de l\\'Ours,  La Croix de Cassini,  Rocher de la Petite Balme,  Serre Gros,  Punta d\\'Avernet,  Pointe du Prélet,  Mont de Gébroulaz,  Punta Tessonet,  Crêt du Nû,  Mont de la Gouille,  Crève-Tête,  Tête de l\\'homme,  anticima,  Ouille des Reys,  Grand Assaly,  Grande Sûre,  Auto Vallonasso,  Punta Barale,  Mont Dolent,  Petit Golliat,  Pointe des Lessières,  Mont Gerbier,  Mont Péaiaux,  Pointe Renod,  Pointe Adolphe Rey,  Roc des Verdons,  Tour Noir,  Bec di Mea,  Pic de l\\'Aigle,  Monte Basso,  Pointe de Chauriande,  Roche Gauthier,  Têtes de la Pilatte,  Grande Roche de Thiervoz,  Monte Baret,  Monte Arzola,  Pic de la Farnéiréta,  But de Nève,  Roc de Jany,  Tête Nord de la Somme,  Roc de Garnesier,  Punta Laval Sud,  Pic de Mirebel,  M. Roccenie,  Punta di Galisia,  Aiguille de Barsin,  Pointe de la Grande Arête,  Aiguille du Bouchet,  L\\'Eychauda,  rocher de Manettaz 1080 m,  Le Sirac,  Tour Jaune de Barabbas,  Roche Plane,  Tête de Rissace,  Roc d\\'Alibrandes,  Aiguille d\\'Olle,  Pic de Disdier,  Pic Cascavelier,  Mont Granier,  Mont Froid,  Punta dell\\'Asgelas,  La Rebarme,  Monte Bellagarda,  Aiguille Rouge de Triolet,  Pointe de la Douche,  Aiguilles Marbrées,  Rocher rond,  Colle di Montabone,  La Tour de L\\'Angle Est,  Herbetet,  Le Grand Adret,  Punta Rumella,  Grand Sorbier,  Aiguillette d\\'Argentiere,  Fontanabran,  Corne à Tournier,  Choqué di Margrit,  Dôme de la Cochette,  Pointes de Burlan,  Pic Gény,  Pointe à Corbeaux,  Pic Ségure,  Aiguille Occidentale de l\\'Oronaye,  Pointe de Côte Belle,  Le Petit Roux,  Pointe du Tuet,  Brame Farine,  Pointe des Aravis,  Le Brunet,  Pointe du Fond Vert,  Levanna Centrale,  Aiguille Grive,  Pic du Lac Blanc,  Pointe Sud de la Grande Felouse,  Pic du Grand Doménon,  Mont Delà,  Le Grand Doigt,  Mont Orel,  Roc de Touleau,  Pointes de Valcorniere - Nord,  Punta Monpers,  Tête de Praorzel,  Punta Acuta,  Aiguille de l\\'Épaisseur,  Tête des Verdets,  Le Petit Peygu,  Monte Soubeyran,  Pointe de la Reyna,  Croce di Fana,  Grand Pinier ou Pic Brun,  Punta Girard,  Monte Avic,  Pointe de Pastourlet,  La Vierge,  Monte Rocciasetto,  La Petite Sœur - Sophie,  l\\'Oumbras,  Grand Perron,  Aiguille de la Floria,  Monte Plu,  Pic Central de Belledonne,  Pointe Marie-Louise,  Le Cuchet,  Punta Freura,  Monte Tovo,  Aiguille de la Petite Sassière,  Truc del Cuculo,  Pic des Chalanches,  Le Marcous,  Mont Pillon,  Pointe du Nielard,  Monte Gucia,  l\\'Aouillie,  Le Pécloz,  Pointe de Chardonnière,  Piata di Lazin nord,  Punta Rossa della Grivola,  Tête W des Cos,  Mont De L\\'Arpille,  Aiguille de la Perséverance,  Grand Pilier d\\'Angle,  Monte Arià,  Le Grand Ferrand,  Pic Gaspard,  Becca d\\'Oren E,  Combin de Valsorey,  Croix de Belledonne,  Crêt Luisard,  Clos la Cime,  Grand Gendarme du Rouget,  Monte Rocciavré,  Monte San Bernardo,  Montagne d\\'Outray,  Bec de l\\'Orient,  Monte Aiguillette,  P3460,  Pic du Malrif,  Aiguille de Triolet,  Monte Redessau - Pointe Nord,  Mont Margeriaz,  Le Fort,  Bric Turle,  Tête de Paccaly,  Punta Merciantaira,  Roche Perfia,  Pic du Haut Mouriare,  Gros Muttet,  Vers la Tête,  Punta della Reculaye,  Punta Moucrons,  Pointe Baretti,  Aiguille Centrale d\\'Arves,  Monte Turo,  Beaufort,  Pointe des Verts,  Monte Festa,  Punta della Gardetta,  Grandes Jorasses/ Pointe Marguerita,  Punta Quattro Sorelle,  Punta Fetita,  Aiguille Centrale du Soreiller,  le Pyramides Calcaires,  Truc Bandiera,  Rocca di Cavour,  Ailefroide Pointe Fourastier,  Punta della Gavia,  Sommet de Montsérieux,  Rocca Corna Est,  Punta Novalesa,  Aiguille Saint-Phalle,  Tours de Boverjat,  Corno Bianco,  Anticima del Monte Meabé,  Punta Vergia,  Roc des Hommes,  Sex des Granges,  Les Droites,  Dôme de la Sache,  Tete de Bostan,  Monte Turlo,  Pointe d\\'Archeboc,  Punta Rabuigne,  Croix de Commune,  Pic Blanc du Galibier,  Roc du Fond,  Punta Bassac Deré,  San Giorgio,  Aiguille de l\\'Eveque,  Rocca Moross,  Monte Niblè,  Cima del Vallonetto,  Monte Palon,  La Recula,  Bric di Pian,  Punta Oilletta,  Pointe d\\'Averne,  Montgelas,  Aiguille de Scolette,  Aiguille de May,  Sommet de la Nunda,  L\\'Oreille du Loup 2291 m,  Monte Begino,  Pic de Clouzis,  Monte Civrari,  Punta Marmottere,  L\\'Aiglière,  P3150,  Costone di Mezzodì,  Pointe de la Fougère,  Monte la Buffa,  Truc La Mura,  Pic de l\\'Homme,  Mont Lachat de Châtillon,  Monte Emilius,  Signal du Grand Mont Cenis,  Mont Julioz,  Mont Paramont,  Cima Ciantiplagna,  Monte le Brune,  Torre di Sant\\'Orso,  Pointe de la Vélière,  Punta Croce Rossa,  Rocca del Colle,  Monte Cappel,  Visolotto,  Li Blanche,  Pointe de Pramecou,  Le Moutet,  La Gugliassa,  Le Grand-Coin,  Mont Berrio,  Punta del Crot,  Punta Costan,  Cima di Costa Piana,  Le Moriond,  Cima Varengo,  Pointe Gerboz,  Roc du Preve - Falesia Arrampicata,  Granta Parey,  Roc Cornafion,  Dents Rousses,  Becca Conge,  Pointe du Petit Fond Blanc,  Grand Roc,  Sommet de Saint-Sagier,  Pointes d\\'Aboillon,  Rochers de Chalves,  Ferrouillet - Pointe Sud,  Tête de l\\'Arpentaz,  Monte Ciarmetta,  Becca di Giasson,  Palanche de la Cretta,  Tête du Tissap,  Cougoir,  Sommet des Monts,  L\\'Évêque,  Monte Ciabergia,  Pointe de la Grande Journée,  Le Gros Béchard,  Punta Corna,  Monte Giobert,  Bel Oiseau,  Mont Ros,  Rocca Albert,  La Maya (d\\'Arolla),  Punta Patrí Nord,  Punta d\\'Almiane,  Pointe Valpellina,  Puy de Manse,  Pointe de l\\'Enfourant,  Cima dei Fourneaux,  Sommet du Ranc des Agnelons,  Pointe Lachenal,  Pointe de la Lentille,  Mont Fortin,  Cima Testa Nera,  Testa Bernarda,  Pic Nord de la Buffe d\\'en Haut,  Mont Joigny,  Le Man,  Punta la Piovosa,  Tête des Fétoules,  Cime de la Recoude,  Becca de la Vanette,  Porte de Montmélian,  Bellevue,  Punta Tandues,  Tête du Parc des Manzes,  Roche de la Moutiere,  Aiguille du Moine,  Rocca del Fasan,  Tête de la Garde,  Le Grand Manti,  Tour des Rousses,  Le Touret,  Rocca Lunga,  Monte Servin,  Bric Rutund,  Les Reffes,  Pointe De La Pierre,  Tête du Petit Prarion,  Monte Di Poignon,  Pointe de Longe Côte,  Petit Mont Dragon,  Aiguille de Borderan,  Monte Cornet,  Nodo della Rayette,  Aiguillette des Posettes,  Aiguille des Glaciers,  Monte Cuneo (Moncuni),  Pointe de Rouelletaz,  Monte Gabel,  Pointe de l\\'Aiglière,  Pointe de la Mariande,  Pointe de l\\'Aval,  Becco di Valsoera,  Punta Loson,  Pointe de Penne,  Mont Clergeon,  Roc des Rochettes,  Tête du Parmelan,  Rocca di Cairi,  Crêt des Tervelles,  Pointe de Grande Combe,  Monte Triplex,  Pointe du Griffon,  Tête de Lauzon,  Pointe de la Scia,  Cima Autour,  Arambre,  Raye Chevrere,  Les Plastres,  La Buffe,  Jas des Lièvres,  Le Petit Taillefer,  Mont Charvin,  Le Grand Jarnalet,  Aiguille Inférieure de la Floria,  Tête de la Mazelière,  Pointe de Cupoire,  Monte Ciucrin,  Croix du Nivolet,  La Viste,  Aiguillette de l\\'Étret,  La Gratte,  Pic de l\\'Aiguille,  Le Roignais,  Pointe de la Pissine,  Becca Laugier,  Ferrouillet - Pointe Centrale Sud,  Roche Veyrand,  Le Catogne,  Mont Broillat,  Tete de l\\'Homme,  Croix du Ratier,  Pointe du Creux Noir,  Tête de la Martelat,  Corne au Taureau,  Crêt Lognan,  Tête de Louis-Philippe,  Dent Sud de Bertol,  Punta Michelis,  Monte Bessun,  Court de Bard,  Pointe des Genevois,  Le Grand Serre,  Mont Corquet,  Mont Outheran,  Pointe de Comberousse,  Monte Granè,  Aiguille de Cédéra,  Tete du Couvercle,  Mont Peney,  Mont de la Buffaz,  Mont Avril,  Pic de Crigne,  Tête de la Fontaine,  Becca d\\'Oren W,  Tête de Claudel,  Bec des Rosses,  Pic du Diable,  Saint-Eynard,  Les Trois Aiguilles,  Pointe de la Botte,  Tête du Graou,  Punta del Lago Nord,  Mont Chetif,  Les Têtes,  Pointe de Dran,  Les Blisiers,  Tête de la Petite Part,  Les Dents Rouges,  Tête d\\'Auferrand,  Punta Ceresa,  Serre de Montue,  Le Grand Flambeau,  Ciarm del Prete,  Aiguille du Midi des Andrieux,  Le Plaret,  Monte Seguret,  Mont Belleface,  Monte Bellino,  Tours du Vallon,  Le Neyrard,  Tête des Muets,  Punta delle Sengie,  Pravouta,  Tête de la Lauzière,  Cime du Coin,  Cimes de la Cochette,  Cima delle Manse,  L\\'Uja,  Sommet de Barley,  Roche Mantel,  Mont d\\'Arbois,  Pic Marcel,  Tête de Dormillouse,  Pointe de l\\'Invernet,  La Gardiole de l\\'Alpe,  Pointe du Génépi,  Mollard de Vions,  Monte Nebin (Cima SE),  Punta Bianca della Grivola,  Monte Vallonasso,  La Croix d\\'Aquila,  Le Luisin,  Petite Lance du Crozet,  Uja di Mombran Punta Occidentale,  Punta Lavassey,  Punta Gialin,  Tête de Maralouches,  Monte Tumolera,  Pointe des Sarrasins,  Punta Sibolet,  Pointe du Baounet,  Monte Druina,  Pointe des Fours,  Aiguille de la Glière Sud,  Aiguille de Vénosc,  Rocha Chabert,  Rocca Croce Provenzale,  Mont Blegier,  Bec d\\'Oiseau,  Le Grand Crêt d\\'Eau,  Pointe de la Fenêtre,  Pointe de Pié Bérarde,  Sommet Central,  Aiguilles Rouges de la Toura,  Pic Nord des Cavales,  Grande Aiguille,  Monte Alpette,  Punta della Paletta Sud,  Roche Bernard,  Crey du Quart,  Punta Furchin della Bioula,  Monte Rosso Di Vertosan,  La tour,  Le Fifre,  Pointe Ouest de la Condamine,  Punta Prato di Fiera,  Tsoume des Boucs,  Tête des Filons,  Roche de Fitta,  Punta Valfredda,  Jambe Route,  Petit Clocher du Portalet,  Monte Paletto,  Pic Moore,  Punta Fornetti,  Dents Blanches Occidentales,  Aiguille du Pouce,  Aiguille Foch,  Bric Ghinivert,  Grande Rocheuse,  Roc d\\'Arguille,  Haute-Luce,  La Grande Lanche,  Pointe de l\\'Essort,  Il Coronel,  Rocca Turo,  Mollard de Don,  Pic de Roche Noire,  Monte Bettone,  Pointe Sud de la Vénasque,  Aiguille du Diable,  Monte Rastcias,  Pointe de la Pilatte,  Punta dell\\'Inferno,  Pic du Loup,  Clocher de Mâcle,  Aiguille Repiton-Préneuf,  Pointe de Pémian,  Tour Choisy,  Pointe de Bricolla,  Punta Fortino,  Gros Peyron - cima nordest,  Pelvas de Chabrière,  Pointe du Bandon,  Golette de l\\'Oule,  Pointe Trifide,  Tête de l\\'Ours,  Mont Labiez,  Punta delle Plate,  Aiguille du Vélan,  Monte Crosetta,  Aiguille de Coste Rouge,  Les Jumelles,  Ouille du Midi,  Râz d\\'Arbey,  La Toussière,  Pic du Thabor,  La Plane du Pin,  Piccolo Paradiso,  Dôme de la Lauze,  Monte Ciorneva,  Pointe de Sans-Bet,  Monte Rubbio,  Pyramide de Laurichard,  Aiguille de Salenton,  La Grande Tourne,  Montagne de Laups Duffre,  Becca des Crottes,  Monte Granero,  i Muret,  Le Grand Parra,  Tête de Vallon Claous,  Aiguille de Varan,  Pointe du Tsan,  Pic de la Greysinière,  Punta dell\\'Alp,  Becca de Roisan,  Pointe de Sous-Dine,  Tête d\\'Armancette,  Pointe des Arbennes,  Ciarforon,  Le Grand Coin,  Monte Vaccarezza,  Cima delle Monache,  Piquet de Nantes,  Monte Faraut,  Pic de Pied Brun,  Bric Severino,  La Grande Combe,  Lou Terou,  Tete des Hommes,  Becca Bianca,  Torre di Sant\\'Andrea,  Rochers de l\\'Évèque,  La Torre,  Tré le Mollard,  Le Gros Nol,  La Petite Tête Noire,  Aiguille de Péclet,  Pointe du Tsaté,  Tête de la Gandolière,  Pointe de Chamois,  Tête de Gandin,  Rocca Sella,  Punta Cornet,  Aiguille de Criou,  La Chauvet,  Corne de Sorebois,  L\\'Arche,  La Tiera,  Dent du Villard,  Petit Pinier,  Vizelle,  Gran Serra,  Pointe Gravelotte,  Croix de Feuillet,  Barre des Écrins,  Le Trélod,  Grande Aiguille de l\\'Arcelin,  Pic de Foréant,  Pointe des Couloureuses,  Pic des Scies de Sainte-Anne,  Le grand Caire,  Cugulet,  Le Chapotet,  Pointe de Drône,  Mont Ouliè,  Cugno dell\\'Alpet,  Le Jandri,  Pointe de la Foglietta,  Pointe de Tsalion,  Rochers de la Salla,  Piatta De Grevon,  Roche du Chardonnet,  Punta Fleurie,  Quota 2740,  Pointe Marguerite,  Pic du Frêne,  La Grande Sure,  Bonnet des Cavales,  Becca La Traversière,  Tête de Moëde,  Roche Rousse,  Truc Lausa,  Dent d\\'Arclusaz,  Pointe Coppi,  Montagne d\\'Entrevernes,  Aiguille Dibona,  Mont Arbancié,  Les Ignes,  monte Cauri,  Roc de la Montagnolle,  Pic Lombard,  Cima la Rossa,  Monte Furgon,  Punta della Merla,  Pic des Trois Évêchés,  Pic de Bonvoisin,  Monte Pertusà,  Mont Guillaume,  Punta del Valaisan,  La Blanche,  Doigt de Dieu,  Monte Manzol,  Roche Colombe,  Trident de Faudery,  Pic du Pelvat,  Tête Nord du Replat,  Pointe de Bonne Pierre,  Mont Joux,  Pointe des Pichettes,  Le Prarion,  Tete d\\'Oriol,  Barrouard,  Dent de Verreu,  La Gélinasse,  Le Nid,  Tête noire,  Rubata Bo,  Mont de la Perrière,  La montagnette,  Le Fornelet,  Rancou,  Tête de l\\'écutieux,  Tournelle,  Les Dames Anglaises,  La Mamule,  Pointe Fournas,  L\\'Etoile,  Le Gros Ferrant,  Punta Costafiorita,  Cime de la Condamine,  Le Pieu,  La Luette,  Cîme des Moutières,  Montagne de Chaillol,  Pointe du Trapechet,  Pointes des Fontanelles - Nord,  Le Mont,  Punta Ciatagnera,  Sommet du Guiau,  Mont Follet,  Mont d\\'Armenaz,  Rocca la Verde,  Pointe de la Roche Jaille,  Punta Cargnino,  Truc Giulianera,  Monte Giuep,  Clocher des Écrins,  Champerus,  Parias Coupà,  Cima del Carro,  Pointe de Terre Rouge,  Pointe Percée,  Becca des Arbiere - Nord,  Le Néron,  Aguille Large,  Monte di Bessanetto,  Aiguille de Saussure,  Roccia Viva,  Sommet de Bellecôte,  Roche Noire,  Mont Tournier,  Tête d\\'Albiez-le-Vieux,  Punta Costabruna,  Pointe du Ribon,  Serre Antoine,  Punta Raboi,  Monte Longia,  Pointe de Balanselmo,  Pointe de Moiry,  Le Petit Parpaillon,  Ponte des Volnets,  Pointe Droset,  Monte Muretto,  Monte Chialmo,  Crête d\\'Argentière,  Buc de Nubiera,  Becca des Lacs,  bric Erbules,  Combin de Boveire,  Truc Castellazzo,  Greppon Blanc,  Sommet d\\'Olive,  Pic Jocelme,  Mont de la Guerre,  Le Grand Cordonnier,  Monte Pietralunga,  Monte Freidour,  Le Peissièou,  Rocher d\\'Arclosan,  Tête du Grand Bois,  La Mortice sommet Nord,  Le Sparveyre,  Tête des Chanaux,  Pic Martin Jean,  Le Grand Capucin,  Pic Arnaudet,  Pic des Hts Moulins,  Tête du Loup,  Tour de Prazon,  Cima del Pelvo,  Mont Olivet,  Mont Clocher,  Grand Bargy,  Roc du Sérac,  Tête de la Frema,  Mont Pourri,  Mont Thabor,  Rocher de l\\'Homme,  Bric Arpiol,  Diamant des Flammes de Pierre,  Croix de Chamrousse,  Crête du Chardonnet,  Cima delle Lobbie,  Costa Fenera,  Pointe de la Galoppaz,  Monte Rochisie,  Punta delle Guglie,  Pointe du Sifflet,  Guglia delle Forciolline,  Roccia Frontera,  Tête Blanche de By,  Tête de la Maye,  Punta Fea Nera,  Punta dell\\'Adois,  Torrione Lagoscuro,  Le Merlu,  Le Grand Marchet,  Aiguille Orientale de la Saussaz,  Aouille Tseuque,  Aup de Véran,  Tête des Arpettes,  Monte Gardiulot,  Aiguille du Canard,  Uja di Calcante,  Grivola,  Rocca Turale,  Bric Forcola,  Dent des Portes,  Grand Revers,  Monte Cucetto,  Croix de Cibouit,  Bec de Lièvre,  Le Génépi,  Pointe d\\'Almet,  Pointe de Fresse,  Rocher de Bellevue,  plan du rey tour telecom,  Pointe du Vasevay,  Tête du Fornelet,  Triangle du Tacul,  Les Périades,  Mont Bochor,  Pointe Emma,  Pointe du Capucin,  Monte Freid,  Aiguille de Baroz,  Pointe d\\'Escreins,  Monte Orso,  Montagne de St Maurice,  Monte Chabrière,  Royou,  Sommet Colomb,  Testa Sula,  Le Collu,  Pic Saint-Michel,  Dôme des Platières,  Tête de Charrière,  Brèche du Dérochoir,  Monte Oronaye,  Aiguille de Savine,  Pointe du Vélard,  Tête Moute,  Monte Piagna,  Gran Truc,  Tête des Lauzieres,  Monte Chaz Dura,  La Bourgeoise,  Rocca Rossa,  crête de Baude,  Aiguille du Van,  Pic de l\\'Oullion,  Rocca Pompea,  Punta Tempesta,  Monte Bocciarda,  Costa Piatta Gelata,  Aiguille du Jardin,  Pointe Maximin,  Pointe de Tierce,  Pic d\\'Arsine,  Grand Golliat,  Cima della Crocetta,  Banc Ferrand,  Pic Jean Rostand,  Les Courtes,  Punta Tre Chiosis,  Le Garabrut,  Charajaille,  Tête de l\\'Homme,  Rochebrune,  Dent de Tsalion,  Testa del Paramont,  Pravena,  Roc du Bécoin,  Pic du Glacier Carré,  Colletto di Ruata,  Rocce Meano,  Punta della Battagliola,  Pointe du Frou,  Cresta Moncortil,  Roche de Jabel,  Pointe de Perret,  Punta Corsica,  Rochers de Savine,  Dôme de la Gandolière,  Pointe de Thorens,  Roc du Mulinet,  Monte Arpetta,  Tête de Véret,  Roche Jaille,  La Légette,  Rocher du Vent,  l\\'Eypiol,  Le Peouvou,  Le Parquet,  Tete de Sereina,  Monte di Lor,  Pointe de Chombas,  Pointe Castelnau,  Aiguille Blanche de Peuterey,  Grand Colombier,  Grand Pic de la Lauzière,  Pain de sucre du Mont Tondu,  Santa Croce,  Punta Melmise,  Monte Banchetta,  Aiguille Martin,  Mont Lachat,  Rochers de brise Tourte,  La Petite Vache,  Sommet Nord Ouest des Bans,  Aiguille de la Bérangère,  Le Grand Argentier,  Pointe Innomee,  Pointe des Écandies,  Petit Bargy,  Aiguille Blanche des Lacs,  Dent de Pleuven,  Pointe de la Dent,  Pointe de Chaborgne,  Pra Marin,  Punta Pian Paris,  Pointe Gorret,  Mont Cormet,  Anticima Punta Basei,  Tête de Bouchet,  Tête du Grenairon,  Mont Fourchon,  Aiguillette du Lauzet,  Dent d\\'Emaney,  Cime du Sambuis,  Monte Castello,  Mont Blanc du Créon,  Pointe Sud du Couart Dessus,  Cime du Vallon,  Punta Charrà,  La Main de Dieu,  Pointe Centrale,  Pointe des Cavales,  Rocher d\\'Arguille,  Monte Morion,  Aiguille de la Vanoise,  Punta Ostanetta,  Cima del Vallone,  Pointes de Chavacour,  Pointe d\\'Orny,  Petit Renaud,  Pointe de Cugne,  Monte Appenna,  Tour Pointue,  Rosablanche,  Punta Tsissetta,  Colombier,  Cresta Gastaldi,  Tête de Vachères,  Monte Corbioun,  Punta Golai,  Grande Rochette,  Rocher du Cléton,  Le Voray,  Monte Fallere,  Aiguille Croche,  Aiguille de Chardonnet,  Tête de Frappier,  Truc del Serro,  Bric Mongioia,  Roche Emile Pic,  Pointe Gaspard,  Pic du Beal Céveilhan,  Monte Cervo,  Pic du Jaillon,  Pic de l\\'apparence,  Monte Chandelly,  Guglia del Nivo,  Pointe de la Finive,  Grun de Saint-Maurice,  Épaule Nord Ouest des Bans,  Aiguille de Sialouze'"
      ]
     },
     "execution_count": 397,
     "metadata": {},
     "output_type": "execute_result"
    }
   ],
   "source": [
    "# Liste des sommets \n",
    "',  '.join( dicosommets.keys() )"
   ]
  },
  {
   "cell_type": "code",
   "execution_count": 326,
   "metadata": {},
   "outputs": [
    {
     "name": "stdout",
     "output_type": "stream",
     "text": [
      "['Mont Blanc - Monte Bianco', 'Monte Bianco di Courmayeur - Mont Blanc de Courmayer', 'Rocher de la Tournette', 'Petite Bosse', 'Grande Bosse', 'Mont Maudit', 'Picco Luigi Amedeo', 'Grand Combin de Grafeneire', 'Dôme du Goûter', 'Pointe Mieulet']\n"
     ]
    }
   ],
   "source": [
    "# Trié par altitude\n",
    "import re\n",
    "\n",
    "def get_alt( s ):\n",
    "    if 'ele' in s['tags']:\n",
    "        elevation = s['tags']['ele']\n",
    "        elevation = re.sub(\"m\", \"\", elevation)\n",
    "        elevation = re.sub(\",\", \".\", elevation)\n",
    "        return float( elevation )\n",
    "    else: \n",
    "        return 0\n",
    "\n",
    "sort_alt = sorted( dicosommets.items(), key=lambda x: get_alt( x[1] ), reverse=True )\n",
    "\n",
    "print( [x[0] for x in sort_alt[:10]] )"
   ]
  },
  {
   "cell_type": "markdown",
   "metadata": {},
   "source": [
    "## Calcul des distances sur une sphère"
   ]
  },
  {
   "cell_type": "code",
   "execution_count": 327,
   "metadata": {},
   "outputs": [],
   "source": [
    "import math as m\n",
    "\n",
    "def torad( theta ):\n",
    "    return theta * m.pi / 180.0"
   ]
  },
  {
   "cell_type": "code",
   "execution_count": 568,
   "metadata": {
    "collapsed": true
   },
   "outputs": [],
   "source": [
    "R = 6371.009 # km, rayon moyen de la terre\n",
    "def getdistance_trigo( lat1, lon1, lat2, lon2 ):\n",
    "    lat1, lon1, lat2, lon2 = [ torad(theta) for theta in [lat1, lon1, lat2, lon2] ]\n",
    "    cosTheta =  m.sin( lat1 )*m.sin( lat2 ) + m.cos( lat1 )*m.cos( lat2 )*m.cos( lon2-lon1 )\n",
    "    \n",
    "    if cosTheta > 1: # cas si lat1==lat2 et lon1 == lon2\n",
    "        theta = 0\n",
    "    else:\n",
    "        theta = m.acos( cosTheta )\n",
    "    \n",
    "    return theta*R"
   ]
  },
  {
   "cell_type": "markdown",
   "metadata": {},
   "source": [
    "Rq: On retrouve bien l'ancienne définition du mètre: dix millionème (e-7) du quart du méridien terrestre:"
   ]
  },
  {
   "cell_type": "code",
   "execution_count": 569,
   "metadata": {},
   "outputs": [
    {
     "data": {
      "text/plain": [
       "10007.557535177228"
      ]
     },
     "execution_count": 569,
     "metadata": {},
     "output_type": "execute_result"
    }
   ],
   "source": [
    "getdistance_trigo( 0, 0, 90, 90 )"
   ]
  },
  {
   "cell_type": "code",
   "execution_count": 570,
   "metadata": {},
   "outputs": [
    {
     "data": {
      "text/plain": [
       "6671.705023451485"
      ]
     },
     "execution_count": 570,
     "metadata": {},
     "output_type": "execute_result"
    }
   ],
   "source": [
    "getdistance_trigo( 45, 0, 45, 90 )"
   ]
  },
  {
   "cell_type": "markdown",
   "metadata": {},
   "source": [
    "## Recherche à partir d'un centre (le soleil)\n",
    "\n",
    "- un sommet est défini comme centre, c.a.d. le soleil\n",
    "- Les distances de tout les sommets depuis ce centre sont calculées\n",
    "\n",
    "- \n"
   ]
  },
  {
   "cell_type": "code",
   "execution_count": 571,
   "metadata": {},
   "outputs": [],
   "source": [
    "def get_alldistfromcoords( lat_Sol, lon_Sol  ):\n",
    "    \"\"\" Calcul toutes les distances des sommets par rapport au point indiqué (comme 'soleil')\n",
    "        soleil: str, key du sommet dans dicosommets\n",
    "        return: liste nom des sommets, liste des distances\n",
    "    \"\"\"\n",
    "    distancesAuSoleil = {}\n",
    "    for name, sommet in dicosommets.items():\n",
    "        lat, lon = sommet['lat'], sommet['lon']\n",
    "        distancesAuSoleil[name] = getdistance_trigo( lat_Sol, lon_Sol, lat, lon )\n",
    "        \n",
    "    sorted_data = sorted( distancesAuSoleil.items(), key=lambda x:x[1] )\n",
    "    sorted_name, sorted_dist = zip( *sorted_data )\n",
    "    \n",
    "    return sorted_name, np.array( sorted_dist )\n",
    "\n",
    "def get_alldistfromsun( soleil ):\n",
    "    \"\"\"  La même chose mais avec la clé 'soleil' en entrée\n",
    "    \"\"\"\n",
    "    lat_Sol = dicosommets[soleil]['lat']\n",
    "    lon_Sol = dicosommets[soleil]['lon']\n",
    "\n",
    "    return get_alldistfromcoords( lat_Sol, lon_Sol  )"
   ]
  },
  {
   "cell_type": "code",
   "execution_count": 572,
   "metadata": {},
   "outputs": [],
   "source": [
    "def findnearest( sorted_dist, d ):\n",
    "    \"\"\" fonction qui permet de trouver le sommet le plus proche d'une certain distance d\n",
    "        p/r au sommet 'soleil'\n",
    "    \"\"\"\n",
    "    all_distances  = np.abs( sorted_dist - d ) \n",
    "    return np.argmin( all_distances )\n",
    "\n",
    "\n",
    "def get_error(  sorted_dist, d, i ):\n",
    "    return 100*np.abs( sorted_dist[i] - d ) /( d + sorted_dist[i] )*2\n",
    "\n",
    "def find_and_geterror( sorted_dist, d ):\n",
    "    i = findnearest( sorted_dist, d )\n",
    "    return get_error(  sorted_dist, d, i )\n",
    "\n",
    "def findnearest_disp( sorted_name, sorted_dist, d ):\n",
    "    i = findnearest( sorted_dist, d )\n",
    "    error = get_error(  sorted_dist, d, i )\n",
    "    name = sorted_name[i]\n",
    "    \n",
    "    return name, error, sorted_dist[i]"
   ]
  },
  {
   "cell_type": "code",
   "execution_count": 573,
   "metadata": {},
   "outputs": [],
   "source": [
    "## test \n",
    "soleil = 'Moucherotte' \n",
    "soleil = 'La Rossa'\n",
    "#soleil = 'La Grande Moucherolle' \n",
    "#soleil = 'Grand Veymont'\n"
   ]
  },
  {
   "cell_type": "code",
   "execution_count": 574,
   "metadata": {},
   "outputs": [
    {
     "name": "stdout",
     "output_type": "stream",
     "text": [
      "Punta Uja\n",
      "0.443742125665\n"
     ]
    }
   ],
   "source": [
    "sorted_name, sorted_dist = get_alldistfromsun( soleil )\n",
    "\n",
    "i = findnearest( sorted_dist,  2 )\n",
    "print( sorted_name[ i  ] )\n",
    "\n",
    "print( get_error( sorted_dist, 2, i ) )"
   ]
  },
  {
   "cell_type": "code",
   "execution_count": 575,
   "metadata": {},
   "outputs": [
    {
     "data": {
      "text/plain": [
       "3.0509918081478644"
      ]
     },
     "execution_count": 575,
     "metadata": {},
     "output_type": "execute_result"
    }
   ],
   "source": [
    "find_and_geterror( sorted_dist, 2.3 )"
   ]
  },
  {
   "cell_type": "markdown",
   "metadata": {},
   "source": [
    "# Avec les planètes\n",
    "\n",
    "rayon des orbites (demi-grand axe) en unité astronomique, c.a.d. la distance Terre-Soleil :"
   ]
  },
  {
   "cell_type": "code",
   "execution_count": 576,
   "metadata": {
    "collapsed": true
   },
   "outputs": [],
   "source": [
    "planetes_noms = ['Mercure', 'Vénus', 'Terre', 'Mars', 'Cérès', 'Jupiter', 'Saturne', 'Uranus', 'Neptune', 'Pluton']\n",
    "planetes_UA = [ 0.38710, 0.72333, 1, 1.52366, 2.7665, 5.20336, 9.53707, 19.1913, 30.0690, 39.4817 ]"
   ]
  },
  {
   "cell_type": "markdown",
   "metadata": {},
   "source": [
    "# Recherche systématique"
   ]
  },
  {
   "cell_type": "code",
   "execution_count": 578,
   "metadata": {
    "collapsed": true
   },
   "outputs": [],
   "source": [
    "def get_errorsum( sorted_dist, d_Terre ):\n",
    "    \"\"\" Calcul la somme des erreurs pour toutes les planètes\n",
    "        d_Terre (km) est la distance équivalent à l'orbite terrestre (1UA)\n",
    "    \"\"\"\n",
    "    errors = [ find_and_geterror( sorted_dist, d_UA * d_Terre ) for d_UA in  planetes_UA ]\n",
    "    return sum( errors )"
   ]
  },
  {
   "cell_type": "code",
   "execution_count": 579,
   "metadata": {},
   "outputs": [],
   "source": [
    "soleil = 'La Rossa'\n",
    "\n",
    "sorted_name, sorted_dist = get_alldistfromsun( soleil )\n",
    "\n",
    "d_span = sorted_dist[1:81]\n",
    "error_span = [ get_errorsum( sorted_dist,  d ) for d in d_span ]"
   ]
  },
  {
   "cell_type": "code",
   "execution_count": 580,
   "metadata": {},
   "outputs": [
    {
     "data": {
      "image/png": "[encoded data removed]",
      "text/plain": [
       "<matplotlib.figure.Figure at 0x7f339ddba668>"
      ]
     },
     "metadata": {},
     "output_type": "display_data"
    }
   ],
   "source": [
    "plt.plot( d_span, error_span, '.:'  ); plt.xlabel('d_Terre (km)'); plt.ylabel('somme erreur'); plt.title('%s'%soleil);"
   ]
  },
  {
   "cell_type": "code",
   "execution_count": 581,
   "metadata": {},
   "outputs": [],
   "source": [
    "def get_best_d( soleil ):\n",
    "    sorted_name, sorted_dist = get_alldistfromsun( soleil )\n",
    "\n",
    "    d_span = sorted_dist[1:81]\n",
    "    error_span = np.array([ get_errorsum( sorted_dist,  d ) for d in d_span ])\n",
    "    \n",
    "    i_min =  np.argmin( error_span )\n",
    "    \n",
    "    \n",
    "    return d_span[ i_min ], error_span[ i_min ]"
   ]
  },
  {
   "cell_type": "code",
   "execution_count": 582,
   "metadata": {},
   "outputs": [
    {
     "data": {
      "text/plain": [
       "(4.0773495689651957, 12.975818250606027)"
      ]
     },
     "execution_count": 582,
     "metadata": {},
     "output_type": "execute_result"
    }
   ],
   "source": [
    "get_best_d( soleil )"
   ]
  },
  {
   "cell_type": "markdown",
   "metadata": {},
   "source": [
    "# Recherche systématique du 'soleil'"
   ]
  },
  {
   "cell_type": "markdown",
   "metadata": {},
   "source": [
    "## Sommets les plus proches de Grenoble"
   ]
  },
  {
   "cell_type": "code",
   "execution_count": 583,
   "metadata": {
    "collapsed": true
   },
   "outputs": [],
   "source": [
    "lat_Gre, lon_Gre = 45.166672, 5.71667 "
   ]
  },
  {
   "cell_type": "code",
   "execution_count": 584,
   "metadata": {},
   "outputs": [],
   "source": [
    "name_nearGre, dist_nearGre = get_alldistfromcoords( lat_Gre, lon_Gre  )"
   ]
  },
  {
   "cell_type": "code",
   "execution_count": 585,
   "metadata": {},
   "outputs": [
    {
     "name": "stdout",
     "output_type": "stream",
     "text": [
      "('Mont Jalla', 'Mont Rachais', 'Les 3 Pucelles', 'Mollard Gargot', 'Moucherotte', 'Le Fournet', 'Les Quatre Seigneurs', 'Le Néron', 'Bellevue', 'Saint-Eynard')\n"
     ]
    }
   ],
   "source": [
    "print ( name_nearGre[:10] )"
   ]
  },
  {
   "cell_type": "markdown",
   "metadata": {},
   "source": [
    "## Boucle"
   ]
  },
  {
   "cell_type": "code",
   "execution_count": 614,
   "metadata": {
    "collapsed": true
   },
   "outputs": [],
   "source": [
    "# Calcul :\n",
    "res = [ (soleil, get_best_d( soleil )) for soleil in name_nearGre[:100] ]"
   ]
  },
  {
   "cell_type": "code",
   "execution_count": 615,
   "metadata": {},
   "outputs": [],
   "source": [
    "res = sorted( res, key=lambda x:x[1][1] )"
   ]
  },
  {
   "cell_type": "code",
   "execution_count": 658,
   "metadata": {},
   "outputs": [
    {
     "name": "stdout",
     "output_type": "stream",
     "text": [
      "                        Pic Couttet: 2.95    erreur=    1.4\n",
      "            Grand Pic de Belledonne: 3.40    erreur=    2.3\n",
      "                  Le Grand Charnier: 3.39    erreur=    2.4\n",
      "                 Pointe de Vaudaine: 3.92    erreur=    3.1\n",
      "                      Grand Replomb: 3.96    erreur=    3.4\n",
      "             Petite Lance de Domène: 3.88    erreur=    3.5\n",
      "                       Grand Eulier: 4.08    erreur=    3.5\n",
      "             Grande Lance de Domène: 3.11    erreur=    3.8\n",
      "                  Rocher de l'Homme: 3.64    erreur=    4.1\n",
      "                    Grande Lauzière: 3.99    erreur=    4.3\n",
      "                          Grand Van: 3.66    erreur=    5.0\n",
      "                      Sommet Colomb: 2.97    erreur=    5.0\n",
      "          Pic Central de Belledonne: 2.91    erreur=    5.1\n",
      "             Petite Lance du Crozet: 3.65    erreur=    5.1\n",
      "            Pointe de Jasse Bralard: 3.70    erreur=    5.2\n",
      "                        Le Galeteau: 4.21    erreur=    6.2\n",
      "                Croix de Chamrousse: 4.20    erreur=    6.3\n",
      "                        Pic du Loup: 4.09    erreur=    6.4\n",
      "               Pic du Grand Doménon: 4.00    erreur=    6.8\n",
      "                Les Trois Officiers: 3.51    erreur=    7.0\n",
      "                 Pointe de la Sitre: 3.57    erreur=    7.3\n",
      "                          Petit Van: 3.89    erreur=    7.4\n",
      "                Croix de Belledonne: 3.85    erreur=    7.7\n",
      "                     Pic de Mirebel: 4.15    erreur=    8.0\n",
      "                      Petit Replomb: 3.93    erreur=    8.5\n",
      "                      Grand Sorbier: 2.10    erreur=    8.6\n",
      "                         L'Écoutoux: 4.53    erreur=    8.8\n",
      "                     Pic de la Fare: 4.63    erreur=    9.9\n",
      "            Grande Lance d'Allemont: 3.18    erreur=   11.3\n",
      "                   Pic de la Pierre: 2.54    erreur=   11.4\n"
     ]
    }
   ],
   "source": [
    "# Le top 10 :\n",
    "for soleil, d_and_error in res[:30]:\n",
    "    d_Terre_opti, error = d_and_error\n",
    "    print( '{0:>35}: {1:3.2f}    erreur={2:7.1f}'.format(soleil, d_Terre_opti, error ) )"
   ]
  },
  {
   "cell_type": "code",
   "execution_count": 659,
   "metadata": {},
   "outputs": [
    {
     "name": "stdout",
     "output_type": "stream",
     "text": [
      "   Planète  Sommet                              Erreur(%)   Distance(km)\n",
      "----------------------------------------------------------------\n",
      "   Mercure: Saint-Eynard (1359m)                   2.94        1.8\n",
      "     Vénus: Aiguille de Quaix (1143m)              1.02        3.3\n",
      "     Terre: Chamechaude (2082m)                    0.00        4.5\n",
      "      Mars: Rochers de Chalves (1845m)             0.33        6.9\n",
      "     Cérès: La Sure (1643m)                        1.34       12.7\n",
      "   Jupiter: Pic de l'apparence (2714m)             0.03       23.6\n",
      "   Saturne: Croix du Nivolet (1547m)               0.03       43.2\n",
      "    Uranus: Cima dei Fourneaux (3207m)             0.01       87.0\n",
      "   Neptune: Punta Cialme (2463m)                   0.04      136.4\n",
      "    Pluton: Corne de Sorebois (2895m)              3.06      173.6\n"
     ]
    }
   ],
   "source": [
    "## Vérif : \n",
    "soleil = \"L'Écoutoux\" #\"Grand Pic de Belledonne\"\n",
    "sorted_name, sorted_dist = get_alldistfromsun( soleil )\n",
    "\n",
    "d_Terre, error = get_best_d( soleil )\n",
    "\n",
    "print( '{0:>10}  {1:35} {2}   {3}'.format('Planète', 'Sommet',  'Erreur(%)', 'Distance(km)') )\n",
    "print( '----------------------------------------------------------------' )\n",
    "\n",
    "for i, n in enumerate( planetes_noms ):\n",
    "    d_UA = planetes_UA[i]\n",
    "    pic_proche, erreur, d_reel = findnearest_disp(sorted_name, sorted_dist, d_UA * d_Terre )\n",
    "    \n",
    "    alt = get_alt( dicosommets[pic_proche] )\n",
    "    pic_name = '%s (%im)'%(pic_proche, alt)\n",
    "    print( '{0:>10}: {1:35} {2:7.2f}    {3:7.1f}'.format(n, pic_name,  erreur, d_reel) )"
   ]
  },
  {
   "cell_type": "markdown",
   "metadata": {},
   "source": [
    "## construit un GeoJson pour géoPortail\n",
    "\n",
    "http://geojson.org/\n",
    "\n",
    "https://macwright.org/2015/03/23/geojson-second-bite.html#position"
   ]
  },
  {
   "cell_type": "code",
   "execution_count": 660,
   "metadata": {},
   "outputs": [],
   "source": [
    "def add_point( coords, name ):\n",
    "    template = {\n",
    "      \"type\": \"Feature\",\n",
    "      \"geometry\": {\n",
    "        \"type\": \"Point\",\n",
    "        \"coordinates\": coords\n",
    "      },\n",
    "      \"properties\": {\n",
    "        \"name\": name\n",
    "      }\n",
    "    }\n",
    "    return template"
   ]
  },
  {
   "cell_type": "code",
   "execution_count": 661,
   "metadata": {},
   "outputs": [],
   "source": [
    "data_geo = []\n",
    "for i, n in enumerate( planetes_noms ):\n",
    "    d_UA = planetes_UA[i]\n",
    "    pic_proche, erreur, d_reel = findnearest_disp(sorted_name, sorted_dist, d_UA * d_Terre )\n",
    "    \n",
    "    s = dicosommets[ pic_proche ]\n",
    "    coords = [s['lon'],  s['lat']]\n",
    "    name = '%s - %s' %(pic_proche, n)\n",
    "    data_geo.append(  add_point( coords, name )  )\n",
    "    \n",
    "# add sun\n",
    "s = dicosommets[ soleil ]\n",
    "coords = [  s['lon'], s['lat'] ]\n",
    "name = '%s - %s' %(soleil, 'Soleil')\n",
    "data_geo.append(  add_point( coords, name )  )\n"
   ]
  },
  {
   "cell_type": "code",
   "execution_count": 662,
   "metadata": {},
   "outputs": [
    {
     "data": {
      "text/plain": [
       "[{'geometry': {'coordinates': [5.7606939, 45.2368246], 'type': 'Point'},\n",
       "  'properties': {'name': 'Saint-Eynard - Mercure'},\n",
       "  'type': 'Feature'},\n",
       " {'geometry': {'coordinates': [5.7205577, 45.2671104], 'type': 'Point'},\n",
       "  'properties': {'name': 'Aiguille de Quaix - Vénus'},\n",
       "  'type': 'Feature'},\n",
       " {'geometry': {'coordinates': [5.7881684, 45.2876743], 'type': 'Point'},\n",
       "  'properties': {'name': 'Chamechaude - Terre'},\n",
       "  'type': 'Feature'},\n",
       " {'geometry': {'coordinates': [5.6975877, 45.2981009], 'type': 'Point'},\n",
       "  'properties': {'name': 'Rochers de Chalves - Mars'},\n",
       "  'type': 'Feature'},\n",
       " {'geometry': {'coordinates': [5.5973979, 45.2352344], 'type': 'Point'},\n",
       "  'properties': {'name': 'La Sure - Cérès'},\n",
       "  'type': 'Feature'},\n",
       " {'geometry': {'coordinates': [6.0585091, 45.2401518], 'type': 'Point'},\n",
       "  'properties': {'name': \"Pic de l'apparence - Jupiter\"},\n",
       "  'type': 'Feature'},\n",
       " {'geometry': {'coordinates': [5.9655183, 45.6135574], 'type': 'Point'},\n",
       "  'properties': {'name': 'Croix du Nivolet - Saturne'},\n",
       "  'type': 'Feature'},\n",
       " {'geometry': {'coordinates': [6.8524185, 45.1227706], 'type': 'Point'},\n",
       "  'properties': {'name': 'Cima dei Fourneaux - Uranus'},\n",
       "  'type': 'Feature'},\n",
       " {'geometry': {'coordinates': [7.0339858, 44.4250394], 'type': 'Point'},\n",
       "  'properties': {'name': 'Punta Cialme - Neptune'},\n",
       "  'type': 'Feature'},\n",
       " {'geometry': {'coordinates': [7.5866098, 46.1508701], 'type': 'Point'},\n",
       "  'properties': {'name': 'Corne de Sorebois - Pluton'},\n",
       "  'type': 'Feature'},\n",
       " {'geometry': {'coordinates': [5.7578016, 45.252951], 'type': 'Point'},\n",
       "  'properties': {'name': \"L'Écoutoux - Soleil\"},\n",
       "  'type': 'Feature'}]"
      ]
     },
     "execution_count": 662,
     "metadata": {},
     "output_type": "execute_result"
    }
   ],
   "source": [
    "data_geo"
   ]
  },
  {
   "cell_type": "code",
   "execution_count": 663,
   "metadata": {
    "collapsed": true
   },
   "outputs": [],
   "source": [
    "data_geo_collection = {\"type\":\"FeatureCollection\",  \"features\": data_geo }"
   ]
  },
  {
   "cell_type": "code",
   "execution_count": 664,
   "metadata": {
    "collapsed": true
   },
   "outputs": [],
   "source": [
    "with open('datageo.json', 'w') as outfile:\n",
    "    json.dump(data_geo_collection, outfile)"
   ]
  },
  {
   "cell_type": "markdown",
   "metadata": {},
   "source": [
    "# Pour la suite\n",
    "- taille des planètes et du soleil à l'échelle\n",
    "- Calcul de l'horizon, pour réduire le nombre de candidats\n"
   ]
  },
  {
   "cell_type": "code",
   "execution_count": null,
   "metadata": {
    "collapsed": true
   },
   "outputs": [],
   "source": []
  }
 ],
 "metadata": {
  "kernelspec": {
   "display_name": "Python 3",
   "language": "python",
   "name": "python3"
  },
  "language_info": {
   "codemirror_mode": {
    "name": "ipython",
    "version": 3
   },
   "file_extension": ".py",
   "mimetype": "text/x-python",
   "name": "python",
   "nbconvert_exporter": "python",
   "pygments_lexer": "ipython3",
   "version": "3.5.2"
  }
 },
 "nbformat": 4,
 "nbformat_minor": 2
}
