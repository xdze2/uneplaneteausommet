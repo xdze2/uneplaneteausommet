{
 "cells": [
  {
   "cell_type": "code",
   "execution_count": 1,
   "metadata": {
    "collapsed": true
   },
   "outputs": [],
   "source": [
    "import numpy as np\n",
    "import matplotlib.pyplot as plt\n",
    "%matplotlib inline\n",
    "\n",
    "import json\n",
    "import folium"
   ]
  },
  {
   "cell_type": "markdown",
   "metadata": {},
   "source": [
    "# Une planète au sommet\n",
    "\n",
    "Il est difficile de sentir les dimensions réelles du système solaire. Une façon d'en avoir une idée est de construire un modèle réduit du système solaire en plaçant les planètes à des distances respectant les proportions. \n",
    "\n",
    "Si on veut aussi respecter les proportions des diamètres des planètes et du soleil, ont doit alors avoir un très grand terrain plat et vide...  \n",
    "voir ce projet réalisé dans le désert du Névada: [To Scale: The Solar System](https://www.youtube.com/watch?v=zR3Igc3Rhfg) (vidéo youtube).\n",
    "\n",
    "à Grenoble (et en France ?), il n'y a malheureusement pas d'endroit pour faire cela, mais on a des montagnes!\n",
    "\n",
    "La question est donc:  \n",
    "_Peut-on trouver une montagne depuis laquelle on observe 8 (9, ou 10 ?) autre sommets  dont les distances respectent les proportions des rayons des orbites des planètes ??_\n",
    "\n",
    "C'est un joli problème qu'il est possible de résoudre parce que la liste des coordonnées des sommets est disponible (open street map). "
   ]
  },
  {
   "cell_type": "markdown",
   "metadata": {},
   "source": [
    "## Liste des sommets autour de grenoble\n",
    "\n",
    "Les données sont issus de OpenStreetMap. L'outil [overpass-turbo](http://overpass-turbo.eu/) permet de faire très simplement une requête sur la base de donnée en choissisant une zone de recherche. Le sommets sont référencés comme _Peak_.\n",
    "\n",
    "voir la requête utilisée : http://overpass-turbo.eu/s/qCF\n",
    "\n",
    "On obtient un _json_ avec les coordonnées GPS, le nom, l'altitude."
   ]
  },
  {
   "cell_type": "code",
   "execution_count": 2,
   "metadata": {},
   "outputs": [
    {
     "data": {
      "text/plain": [
       "3753"
      ]
     },
     "execution_count": 2,
     "metadata": {},
     "output_type": "execute_result"
    }
   ],
   "source": [
    "with open('sommet_gre_large.json') as data_file:\n",
    "    datasommets = json.load(data_file)\n",
    "\n",
    "datasommets = datasommets['elements']\n",
    "\n",
    "len( datasommets )"
   ]
  },
  {
   "cell_type": "code",
   "execution_count": 3,
   "metadata": {
    "collapsed": true,
    "scrolled": false
   },
   "outputs": [],
   "source": [
    "\"\"\" extrait le nom du sommet pour en faire la clé d'un dico\n",
    "    + supprime les doublons et sommet sans nom\n",
    "\"\"\"\n",
    "dicosommets = {}\n",
    "for sommet in datasommets :\n",
    "    if 'name' in sommet['tags']:\n",
    "        name =  sommet['tags']['name']\n",
    "        if name not in dicosommets:\n",
    "            dicosommets[ name ] = sommet"
   ]
  },
  {
   "cell_type": "code",
   "execution_count": 4,
   "metadata": {},
   "outputs": [
    {
     "name": "stdout",
     "output_type": "stream",
     "text": [
      "Pointe de l'Enfourant,  Dôme des Platières,  Tavé des Chasseurs,  Monte Balmello,  Croce Cargnino,  Monte Pence,  Tête de Charrière,  Le Métailler,  Brame Farine,  Grand Nomenon,  Monte Platasse,  Monte Bellino,  Punta del Fort,  Pierre Plantée,  Pointe de Chaborgne,  Punta della Luetta o Tzaboc,  Les Trois Aiguilles,  Monte Pian Real,  Les Dents Rouges,  Les Ignes,  Épaule Sud de la Condamine,  Rocca la Verde,  Pointe de Platé,  Mont Outheran,  Mont Guillaume,  Pointe de Conte Faviel,  Roc de Viuz,  Vantacul,  Point de Combe Bronsin,  Cima Dronero,  Le Grand-Coin,  Pic du Morgon,  Pointe de Sous-Dine,  Petite pointe de la Galoppaz,  Monte Pignerol,  Montagne d'Entrevernes,  Bec Costazza,  Monte Angiolino,  La Petite Cournouse,  Visolotto,  La Grande Combe,  Grand Queyron,  Croix du Ratier,  Greppon Blanc,  Pic de l'apparence,  Punta dell'Inferno,  Moucherotte,  Rocciamelone,  Grande Motte,  Rosa dei Banchi,  Tête de la Cluse,  Petit Dru,  Mont de l'Étoile,  Tresenta,  Grand Chamousset,  Pointe de la Selle,  Le Morgonnet,  Truc San Martino,  Rocca Rosa,  Grand Golliat,  Rocher de Grande Tempête,  Tête Nord du Replat,  Punta Croce Rossa,  Monte Cialmassa,  Crêt Luisard,  Punta di Medzove,  Chalvet,  Mont Joly,  Tête Nord des Fours,  Bric Boscasso,  Aiguille Pourrie,  Le Bouton de Cornacu,  Grande Chenalette,  Monte Blina,  Roche Rousse,  Punta del Lago Nord,  La Dotse,  Punta Tre Chiosis,  Aiguillette des Houches,  Pic de Céüse\n"
     ]
    }
   ],
   "source": [
    "# Liste de quelque sommets \n",
    "print( ',  '.join( [x for x in dicosommets.keys()][:80] ) )"
   ]
  },
  {
   "cell_type": "code",
   "execution_count": 5,
   "metadata": {},
   "outputs": [
    {
     "name": "stdout",
     "output_type": "stream",
     "text": [
      "Mont Blanc - Monte Bianco (4808m), Monte Bianco di Courmayeur - Mont Blanc de Courmayer (4765m), Rocher de la Tournette (4677m), Petite Bosse (4547m), Grande Bosse (4513m), Mont Maudit (4465m), Picco Luigi Amedeo (4460m), Grand Combin de Grafeneire (4314m), Dôme du Goûter (4304m), Pointe Mieulet (4287m)\n"
     ]
    }
   ],
   "source": [
    "# Trié par altitude\n",
    "import re\n",
    "\n",
    "def get_alt( s ):\n",
    "    if 'ele' in s['tags']:\n",
    "        elevation = s['tags']['ele']\n",
    "        elevation = re.sub(\"m\", \"\", elevation)\n",
    "        elevation = re.sub(\",\", \".\", elevation)\n",
    "        return float( elevation )\n",
    "    else: \n",
    "        return 0\n",
    "\n",
    "sort_alt = sorted( dicosommets.items(), key=lambda x: get_alt( x[1] ), reverse=True )\n",
    "\n",
    "print( ', '.join( [ '%s (%im)'%(x[0], get_alt( x[1] )) for x in sort_alt[:10]] ) )"
   ]
  },
  {
   "cell_type": "markdown",
   "metadata": {},
   "source": [
    "## Calcul des distances sur une sphère\n",
    "\n",
    "Un peu de trigonomètrie permet de calculer la distance entre deux points (A, B) sur une sphère (de centre O). On cherche l'angle entre les deux rayons, $\\vec {OA}$ et $\\vec {OB}$, avec le produit scalaire de leurs vecteurs. Voir [le schéma](./images/note_calcul_distance_sphere.pdf)."
   ]
  },
  {
   "cell_type": "code",
   "execution_count": 6,
   "metadata": {
    "collapsed": true
   },
   "outputs": [],
   "source": [
    "def torad( theta ):\n",
    "    return theta * np.pi / 180.0"
   ]
  },
  {
   "cell_type": "code",
   "execution_count": 7,
   "metadata": {
    "collapsed": true
   },
   "outputs": [],
   "source": [
    "R = 6371.009 # km, rayon moyen de la terre\n",
    "\n",
    "def getdistance_trigo( lat1, lon1, lat2, lon2 ):\n",
    "    lat1, lon1, lat2, lon2 = [ torad(theta) for theta in [lat1, lon1, lat2, lon2] ]\n",
    "    cosTheta =  np.sin( lat1 )*np.sin( lat2 ) + np.cos( lat1 )*np.cos( lat2 )*np.cos( lon2-lon1 )\n",
    "    \n",
    "    cosTheta = np.array( cosTheta )\n",
    "    cosTheta[ cosTheta> 1 ] = 1  # debug .... cas si lat1==lat2 et lon1 == lon2\n",
    "    \n",
    "    theta = np.arccos( cosTheta )\n",
    "    \n",
    "    return theta*R"
   ]
  },
  {
   "cell_type": "markdown",
   "metadata": {},
   "source": [
    "Rq: On retrouve bien l'ancienne définition du mètre: dix millionème (e-7) du quart du méridien terrestre, (mais pas exactement...?) :"
   ]
  },
  {
   "cell_type": "code",
   "execution_count": 8,
   "metadata": {},
   "outputs": [
    {
     "data": {
      "text/plain": [
       "10007.557535177228"
      ]
     },
     "execution_count": 8,
     "metadata": {},
     "output_type": "execute_result"
    }
   ],
   "source": [
    "getdistance_trigo( 0, 0, 90, 90 )"
   ]
  },
  {
   "cell_type": "markdown",
   "metadata": {},
   "source": [
    "Seconde remarque : il existe une formule standard pour cela : [Haversine formula](https://en.wikipedia.org/wiki/Haversine_formula), qui donne le même résultat, mais historiquement utilisée pour limiter les erreurs d'approximations. "
   ]
  },
  {
   "cell_type": "code",
   "execution_count": 9,
   "metadata": {},
   "outputs": [
    {
     "data": {
      "text/plain": [
       "6096.6333950173703"
      ]
     },
     "execution_count": 9,
     "metadata": {},
     "output_type": "execute_result"
    }
   ],
   "source": [
    "# distance Grenoble - New York\n",
    "getdistance_trigo( 45.166672, 5.71667 , 43.2994285, -74.2179326 )"
   ]
  },
  {
   "cell_type": "markdown",
   "metadata": {},
   "source": [
    "# Recherche systématique"
   ]
  },
  {
   "cell_type": "markdown",
   "metadata": {},
   "source": [
    "![schéma sommet - planète ](./images/sch_distance_planet.png)\n",
    "\n",
    "Les étapes du calculs, dans l'ordre:\n",
    "- Un sommet est défini comme centre, c.a.d. le soleil ( ☉ ).\n",
    "- Les distances de tout les sommets depuis ce centre sont calculées (et triée)\n",
    "- Pour une distance donnée (km), on cherche le sommet le plus proche. \n",
    "- Pour un facteur de proportion donnée ( c.a.d. la distance correspondant à la Terre, 🜨 ), on trouve les sommets les plus proches pour chaque planète. \n",
    "- Donc pour un centre 'soleil' et un facteur de proportion donnés, on calcul la somme des erreurs sur toutes les planètes.\n",
    "- Pour un centre 'soleil' donné, le facteur de proportion donnant l'erreur totale minimale est recherchant (en testant tout les sommets proche)\n",
    "\n",
    "- Les sommets autour de Grenoble donnant les plus petites erreurs comme soleil sont recherchés"
   ]
  },
  {
   "cell_type": "markdown",
   "metadata": {},
   "source": [
    "### Test du test de visibité :\n",
    "\n",
    "voir le notebook [is_visible.ipynb](./is_visible.ipynb) qui détail le fonctionnement de la fonction. "
   ]
  },
  {
   "cell_type": "code",
   "execution_count": 10,
   "metadata": {
    "collapsed": true
   },
   "outputs": [],
   "source": [
    "from is_visible import is_visible"
   ]
  },
  {
   "cell_type": "code",
   "execution_count": 11,
   "metadata": {},
   "outputs": [],
   "source": [
    "A = \"L'Écoutoux\"#'Moucherotte'\n",
    "lonA, latA = dicosommets[A]['lon'], dicosommets[A]['lat']\n",
    "\n",
    "B = \"Aiguille de Quaix\"# \"Pic de l'Étendard\" #\"Saint-Eynard\" #'Mont Rachais'\n",
    "lonB, latB = dicosommets[B]['lon'], dicosommets[B]['lat']"
   ]
  },
  {
   "cell_type": "code",
   "execution_count": 12,
   "metadata": {},
   "outputs": [
    {
     "data": {
      "text/plain": [
       "True"
      ]
     },
     "execution_count": 12,
     "metadata": {},
     "output_type": "execute_result"
    }
   ],
   "source": [
    "is_visible( lonA, latA, lonB, latB )"
   ]
  },
  {
   "cell_type": "code",
   "execution_count": 13,
   "metadata": {},
   "outputs": [
    {
     "name": "stdout",
     "output_type": "stream",
     "text": [
      "5.7578016 45.252951\n"
     ]
    },
    {
     "data": {
      "text/plain": [
       "(5.7205577, 45.2671104)"
      ]
     },
     "execution_count": 13,
     "metadata": {},
     "output_type": "execute_result"
    }
   ],
   "source": [
    "print(lonA, latA)\n",
    "lonB, latB"
   ]
  },
  {
   "cell_type": "markdown",
   "metadata": {},
   "source": [
    "### Recherche à partir d'un centre"
   ]
  },
  {
   "cell_type": "code",
   "execution_count": 14,
   "metadata": {},
   "outputs": [],
   "source": [
    "def get_alldistfromcoords( lat_Sol, lon_Sol  ):\n",
    "    \"\"\" Calcul toutes les distances des sommets par rapport au point indiqué\n",
    "        lat_Sol, lon_Sol : lattitude et longitude (en deg decimal) du point\n",
    "        return: liste nom des sommets, liste des distances - triées\n",
    "    \"\"\"\n",
    "    distancesAuSoleil = {}\n",
    "    for name, sommet in dicosommets.items():\n",
    "        lat, lon = sommet['lat'], sommet['lon']\n",
    "        if is_visible( lon_Sol, lat_Sol, lon, lat ): \n",
    "            distancesAuSoleil[name] = getdistance_trigo( lat_Sol, lon_Sol, lat, lon )\n",
    "        \n",
    "    sorted_data = sorted( distancesAuSoleil.items(), key=lambda x:x[1] )\n",
    "    sorted_name, sorted_dist = zip( *sorted_data )\n",
    "    \n",
    "    return sorted_name, np.array( sorted_dist )\n",
    "\n",
    "def get_alldistfromsun( soleil ):\n",
    "    \"\"\"  même chose mais avec la clé 'soleil' en entrée\n",
    "    \"\"\"\n",
    "    lat_Sol = dicosommets[soleil]['lat']\n",
    "    lon_Sol = dicosommets[soleil]['lon']\n",
    "\n",
    "    return get_alldistfromcoords( lat_Sol, lon_Sol  )"
   ]
  },
  {
   "cell_type": "code",
   "execution_count": 15,
   "metadata": {
    "collapsed": true
   },
   "outputs": [],
   "source": [
    "def findnearest( sorted_dist, d ):\n",
    "    \"\"\" fonction qui permet de trouver le sommet le plus proche d'une certain distance d\n",
    "        p/r au sommet 'soleil'\n",
    "        return : indice dans la liste\n",
    "    \"\"\"\n",
    "    all_distances  = np.abs( sorted_dist - d ) \n",
    "    return np.argmin( all_distances )\n",
    "\n",
    "# Calcul de l'erreur :\n",
    "def get_error(  sorted_dist, d, i ):\n",
    "    return 100*np.abs( sorted_dist[i] - d ) /( d + sorted_dist[i] )*2\n",
    "\n",
    "# Cherche le plus proche, et retourne l'erreur\n",
    "def find_and_geterror( sorted_dist, d ):\n",
    "    i = findnearest( sorted_dist, d )\n",
    "    return get_error(  sorted_dist, d, i )\n",
    "\n",
    "# Cherche le plus proche, et retourne le nom, l'erreur, et la distance du sommet\n",
    "def findnearest_disp( sorted_name, sorted_dist, d ):\n",
    "    i = findnearest( sorted_dist, d )\n",
    "    error = get_error(  sorted_dist, d, i )\n",
    "    name = sorted_name[i]\n",
    "    \n",
    "    return name, error, sorted_dist[i]"
   ]
  },
  {
   "cell_type": "code",
   "execution_count": 16,
   "metadata": {},
   "outputs": [
    {
     "name": "stdout",
     "output_type": "stream",
     "text": [
      "Le sommet à 25.00km du Moucherotte est Petite Lance de Domène avec une erreur de 0.2%\n"
     ]
    }
   ],
   "source": [
    "# - test-\n",
    "soleil = 'Moucherotte' \n",
    "#soleil = 'La Grande Moucherolle' \n",
    "#soleil = 'Grand Veymont'\n",
    "distance_test = 25 # km\n",
    "\n",
    "sorted_name, sorted_dist = get_alldistfromsun( soleil )\n",
    "i = findnearest( sorted_dist,  distance_test )\n",
    "error = get_error( sorted_dist, distance_test, i )\n",
    "\n",
    "print( 'Le sommet à %.2fkm du %s est %s avec une erreur de %.1f%%' % (distance_test, soleil, sorted_name[ i  ], error) )"
   ]
  },
  {
   "cell_type": "code",
   "execution_count": 17,
   "metadata": {},
   "outputs": [
    {
     "data": {
      "text/plain": [
       "0.24062613103580685"
      ]
     },
     "execution_count": 17,
     "metadata": {},
     "output_type": "execute_result"
    }
   ],
   "source": [
    "find_and_geterror( sorted_dist, distance_test )"
   ]
  },
  {
   "cell_type": "code",
   "execution_count": 22,
   "metadata": {},
   "outputs": [
    {
     "name": "stdout",
     "output_type": "stream",
     "text": [
      "201\n"
     ]
    }
   ],
   "source": [
    "print(len(sorted_name ))"
   ]
  },
  {
   "cell_type": "markdown",
   "metadata": {},
   "source": [
    "### Erreur pour toutes les planètes\n",
    "Rayon des orbites (demi-grand axe) en unité astronomique, c.a.d. la distance Terre-Soleil :"
   ]
  },
  {
   "cell_type": "code",
   "execution_count": 19,
   "metadata": {
    "collapsed": true
   },
   "outputs": [],
   "source": [
    "planetes_noms = ['Mercure', 'Vénus', 'Terre', 'Mars', 'Cérès', 'Jupiter', 'Saturne', 'Uranus', 'Neptune', 'Pluton']\n",
    "planetes_UA = [ 0.38710, 0.72333, 1, 1.52366, 2.7665, 5.20336, 9.53707, 19.1913, 30.0690, 39.4817 ]"
   ]
  },
  {
   "cell_type": "code",
   "execution_count": 20,
   "metadata": {
    "collapsed": true
   },
   "outputs": [],
   "source": [
    "def get_errorsum( sorted_dist, d_Terre ):\n",
    "    \"\"\" Calcul la somme des erreurs pour toutes les planètes, avec un facteur de conversion donnee\n",
    "        d_Terre (km) est la distance équivalent à l'orbite terrestre (1UA)\n",
    "    \"\"\"\n",
    "    errors = [ find_and_geterror( sorted_dist, d_UA * d_Terre ) for d_UA in  planetes_UA ]\n",
    "    return sum( errors )"
   ]
  },
  {
   "cell_type": "code",
   "execution_count": 21,
   "metadata": {},
   "outputs": [
    {
     "data": {
      "image/png": "[encoded data removed]",
      "text/plain": [
       "<matplotlib.figure.Figure at 0x7fbbedd16d30>"
      ]
     },
     "metadata": {},
     "output_type": "display_data"
    }
   ],
   "source": [
    "# - test -\n",
    "soleil = 'Grand Veymont'\n",
    "soleil = 'Moucherotte' \n",
    "soleil = \"L'Écoutoux\"\n",
    "\n",
    "sorted_name, sorted_dist = get_alldistfromsun( soleil )\n",
    "\n",
    "d_span = sorted_dist[1:60]\n",
    "error_span = [ get_errorsum( sorted_dist,  d ) for d in d_span ]\n",
    "\n",
    "plt.plot( d_span, error_span, '.:'  );\n",
    "plt.xlabel('d_Terre (km)'); plt.ylabel('somme des erreurs'); plt.title('☉: %s'%soleil);"
   ]
  },
  {
   "cell_type": "code",
   "execution_count": 23,
   "metadata": {
    "collapsed": true
   },
   "outputs": [],
   "source": [
    "def get_best_d( soleil ):\n",
    "    \"\"\" Recherche (brute) du meilleur facteur de proportion pour un soleil donné\n",
    "    \"\"\"\n",
    "    sorted_name, sorted_dist = get_alldistfromsun( soleil )\n",
    "\n",
    "    d_span = sorted_dist[1:81]\n",
    "    error_span = np.array([ get_errorsum( sorted_dist,  d ) for d in d_span ])\n",
    "    \n",
    "    i_min =  np.argmin( error_span )\n",
    "    \n",
    "    return d_span[ i_min ], error_span[ i_min ]"
   ]
  },
  {
   "cell_type": "code",
   "execution_count": 24,
   "metadata": {},
   "outputs": [
    {
     "data": {
      "text/plain": [
       "(4.2827838267894576, 64.298173242231172)"
      ]
     },
     "execution_count": 24,
     "metadata": {},
     "output_type": "execute_result"
    }
   ],
   "source": [
    "get_best_d( soleil )"
   ]
  },
  {
   "cell_type": "markdown",
   "metadata": {},
   "source": [
    "# Recherche du 'soleil'"
   ]
  },
  {
   "cell_type": "markdown",
   "metadata": {},
   "source": [
    "## Sommets les plus proches de Grenoble\n",
    "\n",
    "On cherche un endroit autour de Grenoble. Les sommets sont donc testés, dans l'ordre, en commançant par le plus proche. "
   ]
  },
  {
   "cell_type": "code",
   "execution_count": 25,
   "metadata": {},
   "outputs": [],
   "source": [
    "# position de Grenoble\n",
    "lat_Gre, lon_Gre = 45.166672, 5.71667 \n",
    "\n",
    "# liste ordonnée des distances :\n",
    "name_nearGre, dist_nearGre = get_alldistfromcoords( lat_Gre, lon_Gre  )"
   ]
  },
  {
   "cell_type": "code",
   "execution_count": 26,
   "metadata": {},
   "outputs": [
    {
     "name": "stdout",
     "output_type": "stream",
     "text": [
      "Mont Jalla (4.19 km), Mont Rachais (5.91 km), Les 3 Pucelles (6.03 km), Mollard Gargot (6.30 km), Moucherotte (6.42 km), Le Fournet (6.58 km), Le Néron (7.58 km), Bellevue (8.41 km), Saint-Eynard (8.53 km), Pravena (8.81 km), La Dent du Loup (9.52 km), Charande (9.99 km), Le Cornillon (10.05 km), L'Écoutoux (10.12 km), L'Aiguille (10.45 km), Aiguille de Quaix (11.17 km), Pic Saint-Michel (11.40 km), Montrond (11.98 km), Le Petit Brion (12.71 km), Pic de l'Oeilly (12.96 km)\n"
     ]
    }
   ],
   "source": [
    "print ( ', '.join( [ '%s (%.2f km)'%x for x in zip( name_nearGre, dist_nearGre ) ][:20]) )"
   ]
  },
  {
   "cell_type": "code",
   "execution_count": 27,
   "metadata": {},
   "outputs": [],
   "source": [
    "# Calcul des sommes des erreurs pour les N premiers sommets :\n",
    "N = 5\n",
    "res = [ (soleil, get_best_d( soleil )) for soleil in name_nearGre[:N] ]"
   ]
  },
  {
   "cell_type": "code",
   "execution_count": 28,
   "metadata": {
    "collapsed": true
   },
   "outputs": [],
   "source": [
    "# trie des des sommes des erreurs :\n",
    "res = sorted( res, key=lambda x:x[1][1] )"
   ]
  },
  {
   "cell_type": "code",
   "execution_count": 29,
   "metadata": {},
   "outputs": [
    {
     "name": "stdout",
     "output_type": "stream",
     "text": [
      "                     Les 3 Pucelles: 4.54    erreur cumulée=   47.8%\n",
      "                         Mont Jalla: 4.64    erreur cumulée=   91.7%\n",
      "                        Moucherotte: 5.50    erreur cumulée=  103.7%\n",
      "                       Mont Rachais: 2.56    erreur cumulée=  125.4%\n",
      "                     Mollard Gargot: 4.53    erreur cumulée=  197.7%\n"
     ]
    }
   ],
   "source": [
    "# Le top 40 :\n",
    "for soleil, d_and_error in res[:40]:\n",
    "    d_Terre_opti, error = d_and_error\n",
    "    print( '{0:>35}: {1:3.2f}    erreur cumulée={2:7.1f}%'.format(soleil, d_Terre_opti, error ) )"
   ]
  },
  {
   "cell_type": "markdown",
   "metadata": {},
   "source": [
    "Maintenant, en choisisant un sommet pour le 'soleil', on peut lister les autres sommets correspondant aux planètes :"
   ]
  },
  {
   "cell_type": "code",
   "execution_count": 35,
   "metadata": {},
   "outputs": [
    {
     "name": "stdout",
     "output_type": "stream",
     "text": [
      "soleil : Mont Jalla \n",
      "\n",
      "   Planète  Sommet                              Erreur(%)   Distance(km)\n",
      "----------------------------------------------------------------\n",
      "   Mercure: Mont Rachais (1046m)                   1.71        1.8\n",
      "     Vénus: Le Néron (1298m)                       6.63        3.6\n",
      "     Terre: Saint-Eynard (1359m)                   0.00        4.6\n",
      "      Mars: Aiguille de Quaix (1143m)              0.54        7.0\n",
      "     Cérès: Pravena (737m)                         3.68       12.4\n",
      "   Jupiter: Le Taillefer (2857m)                   0.03       24.1\n",
      "   Saturne: Le Fort (2457m)                        0.14       44.1\n",
      "    Uranus: Le Grand Mont (2686m)                 11.52       79.3\n",
      "   Neptune: Aiguille Blanche de Peuterey (4112m)   20.51      113.4\n",
      "    Pluton: Aiguille Blanche de Peuterey (4112m)   46.93      113.4\n"
     ]
    }
   ],
   "source": [
    "## Vérif : \n",
    "soleil =  \"Saint-Eynard\" \n",
    "soleil = \"Grand Pic de Belledonne\" \n",
    "soleil = \"L'Écoutoux\"\n",
    "soleil = 'Mont Jalla'\n",
    "\n",
    "sorted_name, sorted_dist = get_alldistfromsun( soleil )\n",
    "\n",
    "d_Terre, error = get_best_d( soleil )\n",
    "\n",
    "print('soleil : %s \\n'% soleil )\n",
    "\n",
    "print( '{0:>10}  {1:35} {2}   {3}'.format('Planète', 'Sommet',  'Erreur(%)', 'Distance(km)') )\n",
    "print( '----------------------------------------------------------------' )\n",
    "\n",
    "for i, n in enumerate( planetes_noms ):\n",
    "    d_UA = planetes_UA[i]\n",
    "    pic_proche, erreur, d_reel = findnearest_disp(sorted_name, sorted_dist, d_UA * d_Terre )\n",
    "    \n",
    "    alt = get_alt( dicosommets[pic_proche] )\n",
    "    pic_name = '%s (%im)'%(pic_proche, alt)\n",
    "    print( '{0:>10}: {1:35} {2:7.2f}    {3:7.1f}'.format(n, pic_name,  erreur, d_reel) )"
   ]
  },
  {
   "cell_type": "markdown",
   "metadata": {},
   "source": [
    "### Affichage sur une carte\n",
    "\n",
    "Avec le module python `folium`, qui utilise la librairie javascript `leaflet.js` et _openstreetmap_, il est possible d'afficher une carte dans le notebook.\n",
    "\n",
    "http://python-visualization.github.io/folium/  \n",
    "https://github.com/python-visualization/folium"
   ]
  },
  {
   "cell_type": "code",
   "execution_count": 36,
   "metadata": {
    "collapsed": true
   },
   "outputs": [],
   "source": [
    "# Creation de la carte\n",
    "\n",
    "s = dicosommets[ soleil ]\n",
    "coords_soleil = [   s['lat'], s['lon'] ]\n",
    "\n",
    "\n",
    "solar_map = folium.Map(location=coords_soleil, zoom_start=12 \n",
    "                     , tiles='Stamen Terrain')"
   ]
  },
  {
   "cell_type": "code",
   "execution_count": 37,
   "metadata": {
    "collapsed": true
   },
   "outputs": [],
   "source": [
    "# Ajout des planètes :\n",
    "for i, n in enumerate( planetes_noms ):\n",
    "    d_UA = planetes_UA[i]\n",
    "    pic_proche, erreur, d_reel = findnearest_disp(sorted_name, sorted_dist, d_UA * d_Terre )\n",
    "    \n",
    "    s = dicosommets[ pic_proche ]\n",
    "    coords = [s['lat'], s['lon']]\n",
    "    name = '%s - %s' %(pic_proche, n)\n",
    "    \n",
    "    # marker\n",
    "    folium.map.Marker(location=coords, popup=name, \n",
    "         icon=folium.Icon(color='blue', icon_color='white',icon='fa-globe', prefix='fa') ).add_to(solar_map)\n",
    "    \n",
    "    # ligne soleil - planete\n",
    "    lines = [coords_soleil, coords]\n",
    "    folium.features.PolyLine(lines).add_to(solar_map)"
   ]
  },
  {
   "cell_type": "code",
   "execution_count": 38,
   "metadata": {},
   "outputs": [
    {
     "data": {
      "text/html": [
       "<div style=\"width:100%;\"><div style=\"position:relative;width:100%;height:0;padding-bottom:60%;\"><iframe src=\"data:text/html;charset=utf-8;base64,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\" style=\"position:absolute;width:100%;height:100%;left:0;top:0;border:none !important;\" allowfullscreen webkitallowfullscreen mozallowfullscreen></iframe></div></div>"
      ],
      "text/plain": [
       "<folium.folium.Map at 0x7fbbd1f26cc0>"
      ]
     },
     "execution_count": 38,
     "metadata": {},
     "output_type": "execute_result"
    }
   ],
   "source": [
    "# Affiche la carte\n",
    "solar_map"
   ]
  },
  {
   "cell_type": "code",
   "execution_count": 34,
   "metadata": {
    "collapsed": true
   },
   "outputs": [],
   "source": [
    "# enregistre la carte\n",
    "solar_map.save('solar_map.html')"
   ]
  },
  {
   "cell_type": "markdown",
   "metadata": {},
   "source": [
    "[voir la carte](./solar_map.html)"
   ]
  },
  {
   "cell_type": "markdown",
   "metadata": {},
   "source": [
    "# Pour la suite\n",
    "\n",
    "- Calcul de l'horizon, pour réduire le nombre de candidats\n",
    "- Taille des planètes et du soleil à l'échelle\n",
    "\n",
    "- recherche non systématique, mais intelligente :  le sommet visible plus loin est le Mont-Blanc, donc ce doit être Neptune ...\n",
    "- Rechercher les seconds, 3ième ... etc minimums  qui peuvent être plus remarquable que le premier...\n",
    "\n",
    "- placement des lunes\n",
    "- Carte avec symboles \n"
   ]
  },
  {
   "cell_type": "code",
   "execution_count": null,
   "metadata": {
    "collapsed": true
   },
   "outputs": [],
   "source": []
  }
 ],
 "metadata": {
  "kernelspec": {
   "display_name": "Python 3",
   "language": "python",
   "name": "python3"
  },
  "language_info": {
   "codemirror_mode": {
    "name": "ipython",
    "version": 3
   },
   "file_extension": ".py",
   "mimetype": "text/x-python",
   "name": "python",
   "nbconvert_exporter": "python",
   "pygments_lexer": "ipython3",
   "version": "3.5.2"
  }
 },
 "nbformat": 4,
 "nbformat_minor": 2
}
