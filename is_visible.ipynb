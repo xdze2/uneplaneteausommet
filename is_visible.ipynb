{
 "cells": [
  {
   "cell_type": "code",
   "execution_count": 1,
   "metadata": {
    "collapsed": true
   },
   "outputs": [],
   "source": [
    "import numpy as np\n",
    "import matplotlib.pyplot as plt\n",
    "%matplotlib inline\n",
    "\n",
    "#import json\n",
    "#import folium"
   ]
  },
  {
   "cell_type": "markdown",
   "metadata": {},
   "source": [
    "# Est-ce que le sommet est visible ?\n",
    "\n",
    "### Obtenir les données\n",
    "\n",
    "Le plus simple est d'utiliser les données SRTM: https://earthexplorer.usgs.gov/  \n",
    "Ce site web propose une interface de visualisation et de téléchargement des bonnes tuiles.\n",
    "Mais il y a des trous dans les données, surtout dans la région du Mont-Blanc ... en fait il n'y a pas le Mont-Blanc, ce qui est plutôt gênant ici ...\n",
    "\n",
    "\n",
    "On trouve sur le wiki de OSM une liste des autres sources SRTM existantes: http://wiki.openstreetmap.org/wiki/SRTM\n",
    "\n",
    "J'ai finalement utilisé les données de [VIEWFINDER PANORAMAS](http://www.viewfinderpanoramas.org/dem3.html#alps). Elles sont à priori libre pour un usage libre. \n",
    "\n",
    "La résolution est de 1 arc-sec (30m), et il n'y a pas de trous.\n",
    "\n",
    "Rq: Il existe aussi des données européennes mais les fichiers font 2.8Gb...  [EU-DEM](https://www.eea.europa.eu/data-and-maps/data/eu-dem#tab-european-data)"
   ]
  },
  {
   "cell_type": "markdown",
   "metadata": {},
   "source": [
    "Les tuiles utilisées pour les Alpes sont :  \n",
    "\n",
    "    N44E005.hgt  N44E006.hgt  N45E005.hgt  N45E006.hgt\n",
    "    \n",
    "Elles sont combinées en un fichier unique grâce à la commande suivante :\n",
    "\n",
    "    gdal_merge.py *.hgt -o merged_1arc.hgt"
   ]
  },
  {
   "cell_type": "markdown",
   "metadata": {},
   "source": [
    "On obtient cette image :  (je l'ai enregistrée parce que mon ordi freeze quelques minutes pour l'afficher)\n",
    "![elevation_map_1arc](elevation_map_1arc.png)"
   ]
  },
  {
   "cell_type": "markdown",
   "metadata": {},
   "source": [
    "### Traiter les données avec Python\n",
    "\n",
    "Je pensais utiliser `georaster`:  https://pypi.python.org/pypi/georasters/  ... mais il ne s'installe pas (facilement) en virtual env. du fait de la librairie `gdal`\n",
    "\n",
    "Il y a sur stackoverflow une [solution pour installer GDAL en Virtualenv](https://stackoverflow.com/questions/32066828/install-gdal-in-virtualenvwrapper-environment), qui fonctionne chez moi, en gérant les numéros de versions.\n",
    "\n",
    "    sudo apt-get install libgdal1i libgdal1-dev libgdal-dev\n",
    "    pip install pygdal==2.1.3.3\n",
    "\n",
    "http://sherrytowers.com/2014/04/13/archeoastronomy-calculating-the-horizon-profile-using-online-us-geographic-survey-data/"
   ]
  },
  {
   "cell_type": "code",
   "execution_count": 3,
   "metadata": {
    "collapsed": true
   },
   "outputs": [],
   "source": [
    "from osgeo import gdal"
   ]
  },
  {
   "cell_type": "code",
   "execution_count": 280,
   "metadata": {
    "collapsed": true
   },
   "outputs": [],
   "source": [
    "# Chargement du fichier\n",
    "\n",
    "filename = 'elevation_data/viewfinderdata/merged_1arc.hgt'  # cf http://www.viewfinderpanoramas.org/dem3.html#alps\n",
    "dataset = gdal.Open(filename)"
   ]
  },
  {
   "cell_type": "markdown",
   "metadata": {},
   "source": [
    "# Calcul du profil entre deux points "
   ]
  },
  {
   "cell_type": "code",
   "execution_count": 169,
   "metadata": {
    "collapsed": true
   },
   "outputs": [],
   "source": [
    "R = 6371.009 # km, rayon moyen de la terre"
   ]
  },
  {
   "cell_type": "code",
   "execution_count": 282,
   "metadata": {
    "collapsed": true
   },
   "outputs": [],
   "source": [
    "#coordsA = (5.7103223, 45.1973288) # gre\n",
    "coordsA = ( 5.639419, 45.147507 ) # Moucherotte\n",
    "\n",
    "coordsB = (6.858996564, 45.833496666) # Mont Blanc"
   ]
  },
  {
   "cell_type": "code",
   "execution_count": 283,
   "metadata": {
    "collapsed": true
   },
   "outputs": [],
   "source": [
    "\"\"\" Transformation des coordonnés (lon, lat) en degrée dec.  vers les pixels\n",
    "    et inversement\n",
    "\"\"\" \n",
    "transf = dataset.GetGeoTransform()\n",
    "transfInv = gdal.InvGeoTransform(transf)\n",
    "\n",
    "def to_px( coords ):\n",
    "    px = gdal.ApplyGeoTransform(transfInv, *coords)\n",
    "    return [ int( x ) for x in px ]\n",
    "\n",
    "def to_deg( pxy ):\n",
    "    return gdal.ApplyGeoTransform(transf, *pxy )"
   ]
  },
  {
   "cell_type": "code",
   "execution_count": 287,
   "metadata": {},
   "outputs": [
    {
     "name": "stdout",
     "output_type": "stream",
     "text": [
      "[2302, 3069]\n",
      "[5.639305555555556, 45.14763888888889]\n"
     ]
    }
   ],
   "source": [
    "px = to_px( coordsA )\n",
    "print( px )\n",
    "\n",
    "print( to_deg( px ) )"
   ]
  },
  {
   "cell_type": "markdown",
   "metadata": {},
   "source": [
    "_Remarque:_ Il y a ici un mélange entre des calculs sur les pixels (~cartésien) et sur les coordonnées angulaires (sphère), parce que il est bien plus simple de faire l'interpolation entre A et B de façon linéraire... "
   ]
  },
  {
   "cell_type": "code",
   "execution_count": 291,
   "metadata": {},
   "outputs": [
    {
     "name": "stdout",
     "output_type": "stream",
     "text": [
      "1679\n"
     ]
    }
   ],
   "source": [
    "# Distance entre A et B en pixel\n",
    "\n",
    "pxA, pxB = to_px( coordsA ), to_px( coordsB )\n",
    "L = np.sqrt( (pxA[0]-pxB[0])**2 +  (pxA[1]-pxB[1])**2  )\n",
    "\n",
    "# nombre de points  pour l'interpolation entre A et B\n",
    "N = int( np.floor( L/3 ) )\n",
    "print( N )"
   ]
  },
  {
   "cell_type": "code",
   "execution_count": 290,
   "metadata": {},
   "outputs": [],
   "source": [
    "\"\"\" Permet d'obtenir l'altiude d'un point \n",
    "    xy: tuple coordonnées en pixel\n",
    "\"\"\"\n",
    "\n",
    "band = dataset.GetRasterBand(1)\n",
    "elevation = band.ReadAsArray()\n",
    "\n",
    "def get_ele( xy ):\n",
    "    return elevation[ xy[1] , xy[0] ]"
   ]
  },
  {
   "cell_type": "code",
   "execution_count": 269,
   "metadata": {
    "collapsed": true
   },
   "outputs": [],
   "source": [
    "def torad( theta ):\n",
    "    return theta * np.pi / 180.0"
   ]
  },
  {
   "cell_type": "code",
   "execution_count": 270,
   "metadata": {
    "collapsed": true
   },
   "outputs": [],
   "source": [
    "# angle entre deux positions sur terre\n",
    "def get_theta( lon1, lat1, lon2, lat2 ):\n",
    "    lat1, lon1, lat2, lon2 = [ torad(theta) for theta in [lat1, lon1, lat2, lon2] ]\n",
    "    cosTheta =  np.sin( lat1 )*np.sin( lat2 ) + np.cos( lat1 )*np.cos( lat2 )*np.cos( lon2-lon1 )\n",
    "    \n",
    "    cosTheta = np.array( cosTheta )\n",
    "    cosTheta[ cosTheta> 1 ] = 1  # debug .... cas si lat1==lat2 et lon1 == lon2\n",
    "    \n",
    "    theta = np.arccos( cosTheta )\n",
    "    \n",
    "    return theta # en rad"
   ]
  },
  {
   "cell_type": "code",
   "execution_count": 271,
   "metadata": {
    "collapsed": true
   },
   "outputs": [],
   "source": [
    "def get_dip_angle( eleA, eleB, thetaAB ):\n",
    "    a, b = eleA+R, eleB+R\n",
    "    \n",
    "    cosGamma = b*np.sin( thetaAB )/np.sqrt( a**2 + b**2 * 2*a*b*np.cos(thetaAB) )\n",
    "    \n",
    "    return np.arccos( cosGamma )*180/np.pi\n",
    "\n",
    "def get_dip_angle_flat( eleA, eleB, thetaAB ):\n",
    " \n",
    "    pente = (eleB - eleA)/( thetaAB*R/1e3 )\n",
    "    \n",
    "    return pente*180/np.pi"
   ]
  },
  {
   "cell_type": "code",
   "execution_count": 272,
   "metadata": {
    "collapsed": true
   },
   "outputs": [],
   "source": [
    "x_span = np.linspace( pxA[0], pxB[0], N )\n",
    "y_span = np.linspace( pxA[1], pxB[1], N )\n",
    "\n",
    "pxy_span = [ (int(xy[0]), int(xy[1])) for xy in np.array( [ x_span, y_span ] ).T ]\n",
    "ele_span = [ get_ele( pxy ) for pxy in pxy_span ]\n",
    "deg_span = [ to_deg( pxy ) for pxy in pxy_span ]\n",
    "\n",
    "theta_span = [ get_theta( *coordsA, *deg ) for deg in deg_span ]\n"
   ]
  },
  {
   "cell_type": "code",
   "execution_count": 273,
   "metadata": {},
   "outputs": [
    {
     "data": {
      "text/plain": [
       "[<matplotlib.lines.Line2D at 0x7f0f465990f0>]"
      ]
     },
     "execution_count": 273,
     "metadata": {},
     "output_type": "execute_result"
    },
    {
     "data": {
      "image/png": "[encoded data removed]",
      "text/plain": [
       "<matplotlib.figure.Figure at 0x7f0f4677c550>"
      ]
     },
     "metadata": {},
     "output_type": "display_data"
    }
   ],
   "source": [
    "plt.plot( R*np.array( theta_span), ele_span )"
   ]
  },
  {
   "cell_type": "code",
   "execution_count": 274,
   "metadata": {},
   "outputs": [],
   "source": [
    "# prise en compte courbure de la Terre\n",
    "delta_ele = R*( 1- np.cos(theta_span[-1] / 2)/np.cos(theta_span - theta_span[-1] / 2) )*1e3\n",
    "\n",
    "elevation_vue = np.array( ele_span )  + delta_ele\n",
    "\n",
    "x = R*np.array( theta_span)\n",
    "y = elevation_vue\n",
    "ligne_de_vue = x*(y[-1]-y[0])/(x[-1]-x[0]) + y[0]\n",
    "\n",
    "# test si visible\n",
    "\n",
    "visible = ((ligne_de_vue - elevation_vue) > 0 ).all()"
   ]
  },
  {
   "cell_type": "code",
   "execution_count": 275,
   "metadata": {},
   "outputs": [
    {
     "data": {
      "text/plain": [
       "True"
      ]
     },
     "execution_count": 275,
     "metadata": {},
     "output_type": "execute_result"
    }
   ],
   "source": [
    "visible"
   ]
  },
  {
   "cell_type": "code",
   "execution_count": 276,
   "metadata": {},
   "outputs": [
    {
     "data": {
      "text/plain": [
       "[<matplotlib.lines.Line2D at 0x7f0f465a16d8>]"
      ]
     },
     "execution_count": 276,
     "metadata": {},
     "output_type": "execute_result"
    },
    {
     "data": {
      "image/png": "[encoded data removed]",
      "text/plain": [
       "<matplotlib.figure.Figure at 0x7f0f465a1c50>"
      ]
     },
     "metadata": {},
     "output_type": "display_data"
    }
   ],
   "source": [
    "plt.plot( R*np.array( theta_span), elevation_vue )\n",
    "plt.plot( R*np.array( theta_span), ligne_de_vue )"
   ]
  },
  {
   "cell_type": "code",
   "execution_count": 228,
   "metadata": {},
   "outputs": [
    {
     "data": {
      "text/plain": [
       "784.88561501530535"
      ]
     },
     "execution_count": 228,
     "metadata": {},
     "output_type": "execute_result"
    }
   ],
   "source": [
    "R*( 1/np.cos(theta) - 1 )*1e3"
   ]
  },
  {
   "cell_type": "code",
   "execution_count": null,
   "metadata": {
    "collapsed": true
   },
   "outputs": [],
   "source": []
  }
 ],
 "metadata": {
  "kernelspec": {
   "display_name": "Python 3",
   "language": "python",
   "name": "python3"
  },
  "language_info": {
   "codemirror_mode": {
    "name": "ipython",
    "version": 3
   },
   "file_extension": ".py",
   "mimetype": "text/x-python",
   "name": "python",
   "nbconvert_exporter": "python",
   "pygments_lexer": "ipython3",
   "version": "3.5.2"
  }
 },
 "nbformat": 4,
 "nbformat_minor": 2
}
