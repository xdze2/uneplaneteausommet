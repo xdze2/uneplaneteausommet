{
 "cells": [
  {
   "cell_type": "code",
   "execution_count": 14,
   "metadata": {
    "collapsed": true
   },
   "outputs": [],
   "source": [
    "import numpy as np\n",
    "import matplotlib.pyplot as plt\n",
    "%matplotlib inline"
   ]
  },
  {
   "cell_type": "markdown",
   "metadata": {},
   "source": [
    "# Est-ce que le sommet est visible ?\n",
    "\n",
    "\n",
    "Afin de restreindre la recherche des sommets aux seuls visibles, on a besoin d'une fonction qui évalue la topographie du terrain sur la ligne droite jusqu'au sommet. \n",
    "\n",
    "### Obtenir les données\n",
    "\n",
    "Le plus simple est d'utiliser les données SRTM: https://earthexplorer.usgs.gov/  \n",
    "Ce site web propose une interface de visualisation et de téléchargement des bonnes tuiles.\n",
    "Mais il y a des trous dans les données, surtout dans la région du Mont-Blanc ... en fait il n'y a pas le Mont-Blanc, ce qui est plutôt gênant ici ...\n",
    "\n",
    "\n",
    "On trouve sur le wiki de OSM une liste des autres sources SRTM existantes: http://wiki.openstreetmap.org/wiki/SRTM\n",
    "\n",
    "J'ai finalement utilisé les données de [VIEWFINDER PANORAMAS](http://www.viewfinderpanoramas.org/dem3.html#alps). Elles sont à priori libre pour un usage libre. \n",
    "\n",
    "La résolution est de 1 arc-sec (30m), et il n'y a pas de trous.\n",
    "\n",
    "Rq: Il existe aussi des données européennes mais les fichiers font 2.8Gb...  [EU-DEM](https://www.eea.europa.eu/data-and-maps/data/eu-dem#tab-european-data)"
   ]
  },
  {
   "cell_type": "markdown",
   "metadata": {},
   "source": [
    "Les tuiles utilisées pour les Alpes sont :  \n",
    "\n",
    "    N44E005.hgt  N44E006.hgt  N45E005.hgt  N45E006.hgt\n",
    "    \n",
    "Elles sont combinées en un fichier unique grâce à la commande suivante :\n",
    "\n",
    "    gdal_merge.py *.hgt -o merged_1arc.hgt"
   ]
  },
  {
   "cell_type": "markdown",
   "metadata": {},
   "source": [
    "On obtient cette image :  (je l'ai enregistrée parce que mon ordi freeze quelques minutes pour l'afficher)\n",
    "![elevation_map_1arc](./images/elevation_map_1arc.png)"
   ]
  },
  {
   "cell_type": "markdown",
   "metadata": {},
   "source": [
    "### Traiter les données avec Python\n",
    "\n",
    "Je pensais utiliser `georaster`:  https://pypi.python.org/pypi/georasters/  ... mais il ne s'installe pas (facilement) en virtual env. du fait de la librairie `gdal`\n",
    "\n",
    "Il y a sur stackoverflow une [solution pour installer GDAL en Virtualenv](https://stackoverflow.com/questions/32066828/install-gdal-in-virtualenvwrapper-environment), qui fonctionne chez moi, en gérant les numéros de versions.\n",
    "\n",
    "    sudo apt-get install libgdal1i libgdal1-dev libgdal-dev\n",
    "    pip install pygdal==2.1.3.3\n"
   ]
  },
  {
   "cell_type": "code",
   "execution_count": 15,
   "metadata": {
    "collapsed": true
   },
   "outputs": [],
   "source": [
    "from osgeo import gdal"
   ]
  },
  {
   "cell_type": "code",
   "execution_count": 16,
   "metadata": {
    "collapsed": true
   },
   "outputs": [],
   "source": [
    "# Chargement du fichier\n",
    "\n",
    "filename = 'elevation_data/viewfinderdata/merged_1arc.hgt'  # cf http://www.viewfinderpanoramas.org/dem3.html#alps\n",
    "dataset = gdal.Open(filename)"
   ]
  },
  {
   "cell_type": "markdown",
   "metadata": {},
   "source": [
    "# Calcul du profil entre deux points "
   ]
  },
  {
   "cell_type": "code",
   "execution_count": 17,
   "metadata": {
    "collapsed": true
   },
   "outputs": [],
   "source": [
    "R = 6371.009 # km, rayon moyen de la terre"
   ]
  },
  {
   "cell_type": "code",
   "execution_count": 18,
   "metadata": {
    "collapsed": true
   },
   "outputs": [],
   "source": [
    "#coordsA = (5.7103223, 45.1973288) # gre\n",
    "coordsA = (5.6394189, 45.1475075) # Moucherotte\n",
    "coordsA = (5.7578016, 45.252951) # L'écoutoux\n",
    "\n",
    "#coordsB = (6.858996564, 45.833496666) # Mont Blanc\n",
    "#coordsB = (5.7334702, 45.218456) # Rachais\n",
    "coordsB = (5.7205577, 45.2671104) # aiguille de Quaix"
   ]
  },
  {
   "cell_type": "code",
   "execution_count": 19,
   "metadata": {},
   "outputs": [],
   "source": [
    "\"\"\" Transformation des coordonnés (lon, lat) en degrée decimaux  vers les pixels\n",
    "    et inversement\n",
    "\"\"\" \n",
    "transf = dataset.GetGeoTransform()\n",
    "transfInv = gdal.InvGeoTransform(transf)\n",
    "\n",
    "def to_px( coords ):\n",
    "    px = gdal.ApplyGeoTransform(transfInv, *coords)\n",
    "    return [ int( x ) for x in px ]\n",
    "\n",
    "def to_deg( pxy ):\n",
    "    return gdal.ApplyGeoTransform(transf, *pxy )"
   ]
  },
  {
   "cell_type": "code",
   "execution_count": 20,
   "metadata": {},
   "outputs": [
    {
     "name": "stdout",
     "output_type": "stream",
     "text": [
      "[2728, 2689]\n",
      "[5.75763888888889, 45.253194444444446]\n"
     ]
    }
   ],
   "source": [
    "# - test - \n",
    "px = to_px( coordsA )\n",
    "print( px )\n",
    "\n",
    "print( to_deg( px ) )"
   ]
  },
  {
   "cell_type": "code",
   "execution_count": 21,
   "metadata": {
    "collapsed": true
   },
   "outputs": [],
   "source": [
    "\"\"\" Permet d'obtenir l'altitude d'un point   en mètre\n",
    "    xy: tuple coordonnées en pixel\n",
    "\"\"\"\n",
    "\n",
    "band = dataset.GetRasterBand(1)\n",
    "elevation = band.ReadAsArray()\n",
    "\n",
    "def get_ele( xy ):\n",
    "    return elevation[ xy[1] , xy[0] ]"
   ]
  },
  {
   "cell_type": "code",
   "execution_count": 22,
   "metadata": {
    "collapsed": true
   },
   "outputs": [],
   "source": [
    "def torad( theta ):\n",
    "    return theta * np.pi / 180.0\n",
    "\n",
    "def get_theta( lon1, lat1, lon2, lat2 ):\n",
    "    \"\"\" Calcul l'angle entre deux positions sur terre\n",
    "    \"\"\"\n",
    "    lat1, lon1, lat2, lon2 = [ torad(theta) for theta in [lat1, lon1, lat2, lon2] ]\n",
    "    cosTheta =  np.sin( lat1 )*np.sin( lat2 ) + np.cos( lat1 )*np.cos( lat2 )*np.cos( lon2-lon1 )\n",
    "    \n",
    "    cosTheta = np.array( cosTheta )\n",
    "    cosTheta[ cosTheta> 1 ] = 1  # debug .... cas si lat1==lat2 et lon1 == lon2\n",
    "    \n",
    "    theta = np.arccos( cosTheta )\n",
    "    \n",
    "    return theta # en radian"
   ]
  },
  {
   "cell_type": "code",
   "execution_count": 23,
   "metadata": {
    "collapsed": true
   },
   "outputs": [],
   "source": [
    "# conversion en pixel\n",
    "pxA, pxB = to_px( coordsA ), to_px( coordsB )"
   ]
  },
  {
   "cell_type": "code",
   "execution_count": 24,
   "metadata": {},
   "outputs": [
    {
     "name": "stdout",
     "output_type": "stream",
     "text": [
      "47\n"
     ]
    }
   ],
   "source": [
    "\"\"\" Calcul du nombre de point pour l'interpolation\n",
    "\"\"\"\n",
    "# Distance entre A et B en pixel\n",
    "L = np.sqrt( (pxA[0]-pxB[0])**2 +  (pxA[1]-pxB[1])**2  )\n",
    "\n",
    "# nombre de points  pour l'interpolation entre A et B\n",
    "N = int( np.floor( L/3 ) )  # <- facteur 3: on garde une résolution minimal 3*sqrt(2) x30m ~ 130 m\n",
    "print( N )"
   ]
  },
  {
   "cell_type": "markdown",
   "metadata": {},
   "source": [
    "Le calcul du chemin entre A et B est réalisée de façon linéraire... sans prendre en compte la courbure de la Terre. \n",
    "Idéalement, il faudrait calculer la position des points intermédiaires avec les coordonnées angulaires (sur une sphère)."
   ]
  },
  {
   "cell_type": "code",
   "execution_count": 25,
   "metadata": {
    "collapsed": true
   },
   "outputs": [],
   "source": [
    "# interpolation linéaire entre A et B :\n",
    "x_span = np.linspace( pxA[0], pxB[0], N )\n",
    "y_span = np.linspace( pxA[1], pxB[1], N )\n",
    "\n",
    "pxy_span = [ (int(xy[0]), int(xy[1])) for xy in np.array( [ x_span, y_span ] ).T ]\n",
    "ele_span = [ get_ele( pxy ) for pxy in pxy_span ]\n",
    "deg_span = [ to_deg( pxy ) for pxy in pxy_span ]\n",
    "\n",
    "theta_span = [ get_theta( *coordsA, *deg ) for deg in deg_span ]"
   ]
  },
  {
   "cell_type": "code",
   "execution_count": 27,
   "metadata": {},
   "outputs": [
    {
     "data": {
      "image/png": "[encoded data removed]",
      "text/plain": [
       "<matplotlib.figure.Figure at 0x7f42fbf9b438>"
      ]
     },
     "metadata": {},
     "output_type": "display_data"
    }
   ],
   "source": [
    "# graph\n",
    "plt.figure(figsize=(14, 4))\n",
    "plt.fill_between( R*np.array( theta_span), 0, ele_span );\n",
    "plt.xlabel('distance (km)'); plt.ylabel('altitude (m)');"
   ]
  },
  {
   "cell_type": "markdown",
   "metadata": {},
   "source": [
    "## Prise en compte courbure de la Terre\n",
    "\n",
    "L'astuce est d'ajouter au profil de hauteur, la hauteur du sol par rapport à la corde $\\delta$ entre les deux points A et B:\n",
    "![sch_courbureTerre](./images/sch_courbureTerre.png)"
   ]
  },
  {
   "cell_type": "code",
   "execution_count": 28,
   "metadata": {
    "collapsed": true
   },
   "outputs": [],
   "source": [
    "delta_courbure = R*( 1- np.cos(theta_span[-1]/2 )/np.cos( theta_span - theta_span[-1]/2 ) )*1e3\n",
    "\n",
    "elevation_reel = np.array( ele_span )  + delta_courbure"
   ]
  },
  {
   "cell_type": "code",
   "execution_count": 29,
   "metadata": {},
   "outputs": [
    {
     "data": {
      "image/png": "[encoded data removed]",
      "text/plain": [
       "<matplotlib.figure.Figure at 0x7f43024288d0>"
      ]
     },
     "metadata": {},
     "output_type": "display_data"
    }
   ],
   "source": [
    "# graph\n",
    "plt.figure(figsize=(14, 4))\n",
    "plt.plot( R*np.array(theta_span), delta_courbure );\n",
    "plt.xlabel('distance (km)'); plt.ylabel('courbure de la Terre (m)');"
   ]
  },
  {
   "cell_type": "markdown",
   "metadata": {},
   "source": [
    "**Le sommet est visible si la différence entre la _ligne de vue_ et le profil de hauteur est toujours postive. **"
   ]
  },
  {
   "cell_type": "code",
   "execution_count": 40,
   "metadata": {},
   "outputs": [
    {
     "data": {
      "text/plain": [
       "True"
      ]
     },
     "execution_count": 40,
     "metadata": {},
     "output_type": "execute_result"
    }
   ],
   "source": [
    "# Calcul de la \"ligne de vue\" :\n",
    "x = R*np.array( theta_span )\n",
    "y = elevation_reel\n",
    "ligne_de_vue = x*(y[-1]-y[0])/(x[-1]-x[0]) + y[0]\n",
    "\n",
    "# Test si le sommet est visible ou non :\n",
    "marge = 2 # mètre\n",
    "visible = ((ligne_de_vue - elevation_reel)[1:-1] > -marge ).all()\n",
    "\n",
    "visible"
   ]
  },
  {
   "cell_type": "code",
   "execution_count": 43,
   "metadata": {},
   "outputs": [
    {
     "data": {
      "image/png": "[encoded data removed]",
      "text/plain": [
       "<matplotlib.figure.Figure at 0x7f43021facc0>"
      ]
     },
     "metadata": {},
     "output_type": "display_data"
    }
   ],
   "source": [
    "# graph\n",
    "plt.figure(figsize=(14, 4))\n",
    "plt.fill_between( R*np.array( theta_span), 0, elevation_reel )\n",
    "plt.plot( R*np.array( theta_span), ligne_de_vue, \"--r\" );\n",
    "plt.xlabel('distance (km)'); plt.ylabel('altitude (m)');"
   ]
  },
  {
   "cell_type": "markdown",
   "metadata": {},
   "source": [
    "# pour la suite\n",
    "\n",
    "* faire l'interpolation proprement en coord. sphérique\n",
    "* prendre en compte la refraction de l'air\n",
    "\n",
    "\n",
    "* Calcul de la position de l'horizon et des zones visibles\n",
    "\n",
    "voir aussi [sherrytowers.com -calculating-the-horizon-profile](http://sherrytowers.com/2014/04/13/archeoastronomy-calculating-the-horizon-profile-using-online-us-geographic-survey-data/)"
   ]
  },
  {
   "cell_type": "code",
   "execution_count": null,
   "metadata": {
    "collapsed": true
   },
   "outputs": [],
   "source": []
  }
 ],
 "metadata": {
  "kernelspec": {
   "display_name": "Python 3",
   "language": "python",
   "name": "python3"
  },
  "language_info": {
   "codemirror_mode": {
    "name": "ipython",
    "version": 3
   },
   "file_extension": ".py",
   "mimetype": "text/x-python",
   "name": "python",
   "nbconvert_exporter": "python",
   "pygments_lexer": "ipython3",
   "version": "3.5.2"
  }
 },
 "nbformat": 4,
 "nbformat_minor": 2
}
